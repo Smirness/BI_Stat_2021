{
 "cells": [
  {
   "cell_type": "code",
   "execution_count": 1,
   "outputs": [],
   "source": [
    "from zipfile import ZipFile\n",
    "import pandas as pd\n",
    "\n",
    "\n",
    "def merger(zipfile, file_type, save_type=\"csv\", path_output=\"Default\", name_output=\"Default\"):\n",
    "    \"\"\"\n",
    "    Merging into one data frame several files that are compressed into one zip file.\n",
    "    :param zipfile: path to zip file with table datas\n",
    "    :param file_type: file type of table datas. Accepting csv or excel.\n",
    "    :param save_type: file type for merged table. Default is csv.\n",
    "    :param path_output: path for saving merged table. Default save in folder where is zipfile.\n",
    "    :param name_output: name for saved merged table. Default saving as zipfile name.\n",
    "    :return file: saved merged table.\n",
    "    \"\"\"\n",
    "    # for opening multiple file types\n",
    "    ft_read = dict(csv=pd.read_csv, excel=pd.read_excel)\n",
    "    ft_write = dict(csv=\"to_csv\", excel=\"to_excel\")\n",
    "\n",
    "    pd_file_type = ft_read[file_type]\n",
    "    ft_write_type = ft_write[save_type]\n",
    "\n",
    "    # if path_output is Default, then saving in folder with zipfile\n",
    "    if path_output == \"Default\":\n",
    "        path_output = zipfile.split(sep=\"/\")\n",
    "        path_output = '/'.join(map(str, path_output[:-1]))\n",
    "\n",
    "    # if name_output is Default, then saving as name of zipfile\n",
    "    if name_output == \"Default\":\n",
    "        path_file = zipfile.split(sep=\"/\")\n",
    "        name_output = path_file[-1].split(sep=\".\")[0]\n",
    "\n",
    "    # merging into one data frame several files that are compressed into one zip file\n",
    "    df = pd.concat(\n",
    "        [pd_file_type(ZipFile(zipfile).open(i)) for i in ZipFile(zipfile).namelist()],\n",
    "        ignore_index=True\n",
    "    )\n",
    "    getattr(df, ft_write_type)(path_output + \"/\" + name_output + \".\" + save_type)\n",
    "\n",
    "\n",
    "# Default command for merging tables from zip file\n",
    "merger(\"C:/Users/Viktor/BI_Stat_2022/olimpic_games/data/athlete_events.zip\", \"csv\")"
   ],
   "metadata": {
    "collapsed": false
   }
  },
  {
   "cell_type": "code",
   "execution_count": 3,
   "outputs": [
    {
     "data": {
      "text/plain": "        Unnamed: 0      ID                      Name Sex   Age  Height  \\\n0                0       1                 A Dijiang   M  24.0   180.0   \n1                1       2                  A Lamusi   M  23.0   170.0   \n2                2       3       Gunnar Nielsen Aaby   M  24.0     NaN   \n3                3       4      Edgar Lindenau Aabye   M  34.0     NaN   \n4                4       5  Christine Jacoba Aaftink   F  21.0   185.0   \n...            ...     ...                       ...  ..   ...     ...   \n271110      271110  135569                Andrzej ya   M  29.0   179.0   \n271111      271111  135570                  Piotr ya   M  27.0   176.0   \n271112      271112  135570                  Piotr ya   M  27.0   176.0   \n271113      271113  135571        Tomasz Ireneusz ya   M  30.0   185.0   \n271114      271114  135571        Tomasz Ireneusz ya   M  34.0   185.0   \n\n        Weight            Team  NOC        Games    Year  Season  \\\n0         80.0           China  CHN  1992 Summer  1992.0  Summer   \n1         60.0           China  CHN  2012 Summer  2012.0  Summer   \n2          NaN         Denmark  DEN  1920 Summer  1920.0  Summer   \n3          NaN  Denmark/Sweden  DEN  1900 Summer  1900.0  Summer   \n4         82.0     Netherlands  NED  1988 Winter  1988.0  Winter   \n...        ...             ...  ...          ...     ...     ...   \n271110    89.0        Poland-1  POL  1976 Winter  1976.0  Winter   \n271111    59.0          Poland  POL  2014 Winter  2014.0  Winter   \n271112    59.0          Poland  POL  2014 Winter  2014.0  Winter   \n271113    96.0          Poland  POL  1998 Winter  1998.0  Winter   \n271114    96.0          Poland  POL  2002 Winter  2002.0  Winter   \n\n                  City          Sport  \\\n0            Barcelona     Basketball   \n1               London           Judo   \n2            Antwerpen       Football   \n3                Paris     Tug-Of-War   \n4              Calgary  Speed Skating   \n...                ...            ...   \n271110       Innsbruck           Luge   \n271111           Sochi    Ski Jumping   \n271112           Sochi    Ski Jumping   \n271113          Nagano      Bobsleigh   \n271114  Salt Lake City      Bobsleigh   \n\n                                           Event Medal  \n0                    Basketball Men's Basketball   NaN  \n1                   Judo Men's Extra-Lightweight   NaN  \n2                        Football Men's Football   NaN  \n3                    Tug-Of-War Men's Tug-Of-War  Gold  \n4               Speed Skating Women's 500 metres   NaN  \n...                                          ...   ...  \n271110                Luge Mixed (Men)'s Doubles   NaN  \n271111  Ski Jumping Men's Large Hill, Individual   NaN  \n271112        Ski Jumping Men's Large Hill, Team   NaN  \n271113                      Bobsleigh Men's Four   NaN  \n271114                      Bobsleigh Men's Four   NaN  \n\n[271115 rows x 16 columns]",
      "text/html": "<div>\n<style scoped>\n    .dataframe tbody tr th:only-of-type {\n        vertical-align: middle;\n    }\n\n    .dataframe tbody tr th {\n        vertical-align: top;\n    }\n\n    .dataframe thead th {\n        text-align: right;\n    }\n</style>\n<table border=\"1\" class=\"dataframe\">\n  <thead>\n    <tr style=\"text-align: right;\">\n      <th></th>\n      <th>Unnamed: 0</th>\n      <th>ID</th>\n      <th>Name</th>\n      <th>Sex</th>\n      <th>Age</th>\n      <th>Height</th>\n      <th>Weight</th>\n      <th>Team</th>\n      <th>NOC</th>\n      <th>Games</th>\n      <th>Year</th>\n      <th>Season</th>\n      <th>City</th>\n      <th>Sport</th>\n      <th>Event</th>\n      <th>Medal</th>\n    </tr>\n  </thead>\n  <tbody>\n    <tr>\n      <th>0</th>\n      <td>0</td>\n      <td>1</td>\n      <td>A Dijiang</td>\n      <td>M</td>\n      <td>24.0</td>\n      <td>180.0</td>\n      <td>80.0</td>\n      <td>China</td>\n      <td>CHN</td>\n      <td>1992 Summer</td>\n      <td>1992.0</td>\n      <td>Summer</td>\n      <td>Barcelona</td>\n      <td>Basketball</td>\n      <td>Basketball Men's Basketball</td>\n      <td>NaN</td>\n    </tr>\n    <tr>\n      <th>1</th>\n      <td>1</td>\n      <td>2</td>\n      <td>A Lamusi</td>\n      <td>M</td>\n      <td>23.0</td>\n      <td>170.0</td>\n      <td>60.0</td>\n      <td>China</td>\n      <td>CHN</td>\n      <td>2012 Summer</td>\n      <td>2012.0</td>\n      <td>Summer</td>\n      <td>London</td>\n      <td>Judo</td>\n      <td>Judo Men's Extra-Lightweight</td>\n      <td>NaN</td>\n    </tr>\n    <tr>\n      <th>2</th>\n      <td>2</td>\n      <td>3</td>\n      <td>Gunnar Nielsen Aaby</td>\n      <td>M</td>\n      <td>24.0</td>\n      <td>NaN</td>\n      <td>NaN</td>\n      <td>Denmark</td>\n      <td>DEN</td>\n      <td>1920 Summer</td>\n      <td>1920.0</td>\n      <td>Summer</td>\n      <td>Antwerpen</td>\n      <td>Football</td>\n      <td>Football Men's Football</td>\n      <td>NaN</td>\n    </tr>\n    <tr>\n      <th>3</th>\n      <td>3</td>\n      <td>4</td>\n      <td>Edgar Lindenau Aabye</td>\n      <td>M</td>\n      <td>34.0</td>\n      <td>NaN</td>\n      <td>NaN</td>\n      <td>Denmark/Sweden</td>\n      <td>DEN</td>\n      <td>1900 Summer</td>\n      <td>1900.0</td>\n      <td>Summer</td>\n      <td>Paris</td>\n      <td>Tug-Of-War</td>\n      <td>Tug-Of-War Men's Tug-Of-War</td>\n      <td>Gold</td>\n    </tr>\n    <tr>\n      <th>4</th>\n      <td>4</td>\n      <td>5</td>\n      <td>Christine Jacoba Aaftink</td>\n      <td>F</td>\n      <td>21.0</td>\n      <td>185.0</td>\n      <td>82.0</td>\n      <td>Netherlands</td>\n      <td>NED</td>\n      <td>1988 Winter</td>\n      <td>1988.0</td>\n      <td>Winter</td>\n      <td>Calgary</td>\n      <td>Speed Skating</td>\n      <td>Speed Skating Women's 500 metres</td>\n      <td>NaN</td>\n    </tr>\n    <tr>\n      <th>...</th>\n      <td>...</td>\n      <td>...</td>\n      <td>...</td>\n      <td>...</td>\n      <td>...</td>\n      <td>...</td>\n      <td>...</td>\n      <td>...</td>\n      <td>...</td>\n      <td>...</td>\n      <td>...</td>\n      <td>...</td>\n      <td>...</td>\n      <td>...</td>\n      <td>...</td>\n      <td>...</td>\n    </tr>\n    <tr>\n      <th>271110</th>\n      <td>271110</td>\n      <td>135569</td>\n      <td>Andrzej ya</td>\n      <td>M</td>\n      <td>29.0</td>\n      <td>179.0</td>\n      <td>89.0</td>\n      <td>Poland-1</td>\n      <td>POL</td>\n      <td>1976 Winter</td>\n      <td>1976.0</td>\n      <td>Winter</td>\n      <td>Innsbruck</td>\n      <td>Luge</td>\n      <td>Luge Mixed (Men)'s Doubles</td>\n      <td>NaN</td>\n    </tr>\n    <tr>\n      <th>271111</th>\n      <td>271111</td>\n      <td>135570</td>\n      <td>Piotr ya</td>\n      <td>M</td>\n      <td>27.0</td>\n      <td>176.0</td>\n      <td>59.0</td>\n      <td>Poland</td>\n      <td>POL</td>\n      <td>2014 Winter</td>\n      <td>2014.0</td>\n      <td>Winter</td>\n      <td>Sochi</td>\n      <td>Ski Jumping</td>\n      <td>Ski Jumping Men's Large Hill, Individual</td>\n      <td>NaN</td>\n    </tr>\n    <tr>\n      <th>271112</th>\n      <td>271112</td>\n      <td>135570</td>\n      <td>Piotr ya</td>\n      <td>M</td>\n      <td>27.0</td>\n      <td>176.0</td>\n      <td>59.0</td>\n      <td>Poland</td>\n      <td>POL</td>\n      <td>2014 Winter</td>\n      <td>2014.0</td>\n      <td>Winter</td>\n      <td>Sochi</td>\n      <td>Ski Jumping</td>\n      <td>Ski Jumping Men's Large Hill, Team</td>\n      <td>NaN</td>\n    </tr>\n    <tr>\n      <th>271113</th>\n      <td>271113</td>\n      <td>135571</td>\n      <td>Tomasz Ireneusz ya</td>\n      <td>M</td>\n      <td>30.0</td>\n      <td>185.0</td>\n      <td>96.0</td>\n      <td>Poland</td>\n      <td>POL</td>\n      <td>1998 Winter</td>\n      <td>1998.0</td>\n      <td>Winter</td>\n      <td>Nagano</td>\n      <td>Bobsleigh</td>\n      <td>Bobsleigh Men's Four</td>\n      <td>NaN</td>\n    </tr>\n    <tr>\n      <th>271114</th>\n      <td>271114</td>\n      <td>135571</td>\n      <td>Tomasz Ireneusz ya</td>\n      <td>M</td>\n      <td>34.0</td>\n      <td>185.0</td>\n      <td>96.0</td>\n      <td>Poland</td>\n      <td>POL</td>\n      <td>2002 Winter</td>\n      <td>2002.0</td>\n      <td>Winter</td>\n      <td>Salt Lake City</td>\n      <td>Bobsleigh</td>\n      <td>Bobsleigh Men's Four</td>\n      <td>NaN</td>\n    </tr>\n  </tbody>\n</table>\n<p>271115 rows × 16 columns</p>\n</div>"
     },
     "execution_count": 3,
     "metadata": {},
     "output_type": "execute_result"
    }
   ],
   "source": [
    "df = pd.read_csv(\"C:/Users/Viktor/BI_Stat_2022/olimpic_games/data/athlete_events.csv\")\n",
    "df.shape"
   ],
   "metadata": {
    "collapsed": false
   }
  },
  {
   "cell_type": "code",
   "execution_count": null,
   "outputs": [],
   "source": [],
   "metadata": {
    "collapsed": false
   }
  },
  {
   "cell_type": "code",
   "execution_count": null,
   "outputs": [],
   "source": [],
   "metadata": {
    "collapsed": false
   }
  }
 ],
 "metadata": {
  "kernelspec": {
   "display_name": "Python 3",
   "language": "python",
   "name": "python3"
  },
  "language_info": {
   "codemirror_mode": {
    "name": "ipython",
    "version": 2
   },
   "file_extension": ".py",
   "mimetype": "text/x-python",
   "name": "python",
   "nbconvert_exporter": "python",
   "pygments_lexer": "ipython2",
   "version": "2.7.6"
  }
 },
 "nbformat": 4,
 "nbformat_minor": 0
}
