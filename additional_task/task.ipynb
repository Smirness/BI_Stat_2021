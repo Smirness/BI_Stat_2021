{
 "cells": [
  {
   "cell_type": "markdown",
   "id": "4bc0cb6d",
   "metadata": {},
   "source": [
    "# Задание\n",
    "\n",
    "Вам предстоит поработать с данными о стабильности белков (`tm`). Нужно по последовательности белка и по `pH` предсказывать стабильность. Так как это дополнительное задание, то комментариев и подробного плана не будет, вам нужно максимально показать свои знания и постараться добиться наилучшего качества.\n",
    "\n",
    "Небольшой план для начала:\n",
    "\n",
    "1. Провести небольшой EDA, найти возможные выбросы и понять, в чем может быть дело.\n",
    "2. Придумать, как закодировать аминокислотные последовательности в числовые векторы.\n",
    "3. Разделить данные на `train` и `test` (подумать над правильной стратегией разбиения).\n",
    "4. Используя кросс-вадидацию подобрать наилучшую модель на тренировочных данных.\n",
    "5. Обучить лучшую модель на всех тренировочных данных.\n",
    "5. Протестировать лучшую модель на тестовых данных.\n",
    "\n",
    "Оформить подробный отчет в виде ноутбука. Постарайтесь воспользоваться всеми техниками, которые мы прошли в курсе.\n",
    "\n",
    "*Так как текущее задание в довольно свободной форме, то четких критериев оценки нет. Если минимально проследовать вышеуказанным рекомендациям, то можно получить до **20 баллов**. Максимально за это задание можно получить **40***."
   ]
  },
  {
   "cell_type": "code",
   "execution_count": 1,
   "id": "c2f2e48b",
   "metadata": {
    "ExecuteTime": {
     "end_time": "2023-05-18T01:35:18.007106500Z",
     "start_time": "2023-05-18T01:35:17.991104900Z"
    },
    "tags": []
   },
   "outputs": [],
   "source": [
    "import pandas as pd"
   ]
  },
  {
   "cell_type": "code",
   "execution_count": 2,
   "id": "0d9a3b5e",
   "metadata": {
    "ExecuteTime": {
     "end_time": "2023-05-18T01:35:18.678436Z",
     "start_time": "2023-05-18T01:35:18.658434100Z"
    },
    "tags": []
   },
   "outputs": [],
   "source": [
    "data_filename = \"data.csv\"\n",
    "data_path = data_filename"
   ]
  },
  {
   "cell_type": "code",
   "execution_count": 3,
   "id": "fc2d0696",
   "metadata": {
    "ExecuteTime": {
     "end_time": "2023-05-18T01:35:19.298299Z",
     "start_time": "2023-05-18T01:35:19.114295Z"
    },
    "tags": []
   },
   "outputs": [
    {
     "data": {
      "text/html": [
       "<div>\n",
       "<style scoped>\n",
       "    .dataframe tbody tr th:only-of-type {\n",
       "        vertical-align: middle;\n",
       "    }\n",
       "\n",
       "    .dataframe tbody tr th {\n",
       "        vertical-align: top;\n",
       "    }\n",
       "\n",
       "    .dataframe thead th {\n",
       "        text-align: right;\n",
       "    }\n",
       "</style>\n",
       "<table border=\"1\" class=\"dataframe\">\n",
       "  <thead>\n",
       "    <tr style=\"text-align: right;\">\n",
       "      <th></th>\n",
       "      <th>protein_sequence</th>\n",
       "      <th>pH</th>\n",
       "      <th>data_source</th>\n",
       "      <th>tm</th>\n",
       "    </tr>\n",
       "    <tr>\n",
       "      <th>seq_id</th>\n",
       "      <th></th>\n",
       "      <th></th>\n",
       "      <th></th>\n",
       "      <th></th>\n",
       "    </tr>\n",
       "  </thead>\n",
       "  <tbody>\n",
       "    <tr>\n",
       "      <th>0</th>\n",
       "      <td>AAAAKAAALALLGEAPEVVDIWLPAGWRQPFRVFRLERKGDGVLVG...</td>\n",
       "      <td>7.0</td>\n",
       "      <td>doi.org/10.1038/s41592-020-0801-4</td>\n",
       "      <td>75.7</td>\n",
       "    </tr>\n",
       "    <tr>\n",
       "      <th>1</th>\n",
       "      <td>AAADGEPLHNEEERAGAGQVGRSLPQESEEQRTGSRPRRRRDLGSR...</td>\n",
       "      <td>7.0</td>\n",
       "      <td>doi.org/10.1038/s41592-020-0801-4</td>\n",
       "      <td>50.5</td>\n",
       "    </tr>\n",
       "    <tr>\n",
       "      <th>2</th>\n",
       "      <td>AAAFSTPRATSYRILSSAGSGSTRADAPQVRRLHTTRDLLAKDYYA...</td>\n",
       "      <td>7.0</td>\n",
       "      <td>doi.org/10.1038/s41592-020-0801-4</td>\n",
       "      <td>40.5</td>\n",
       "    </tr>\n",
       "    <tr>\n",
       "      <th>3</th>\n",
       "      <td>AAASGLRTAIPAQPLRHLLQPAPRPCLRPFGLLSVRAGSARRSGLL...</td>\n",
       "      <td>7.0</td>\n",
       "      <td>doi.org/10.1038/s41592-020-0801-4</td>\n",
       "      <td>47.2</td>\n",
       "    </tr>\n",
       "    <tr>\n",
       "      <th>4</th>\n",
       "      <td>AAATKSGPRRQSQGASVRTFTPFYFLVEPVDTLSVRGSSVILNCSA...</td>\n",
       "      <td>7.0</td>\n",
       "      <td>doi.org/10.1038/s41592-020-0801-4</td>\n",
       "      <td>49.5</td>\n",
       "    </tr>\n",
       "  </tbody>\n",
       "</table>\n",
       "</div>"
      ],
      "text/plain": [
       "                                         protein_sequence   pH  \\\n",
       "seq_id                                                           \n",
       "0       AAAAKAAALALLGEAPEVVDIWLPAGWRQPFRVFRLERKGDGVLVG...  7.0   \n",
       "1       AAADGEPLHNEEERAGAGQVGRSLPQESEEQRTGSRPRRRRDLGSR...  7.0   \n",
       "2       AAAFSTPRATSYRILSSAGSGSTRADAPQVRRLHTTRDLLAKDYYA...  7.0   \n",
       "3       AAASGLRTAIPAQPLRHLLQPAPRPCLRPFGLLSVRAGSARRSGLL...  7.0   \n",
       "4       AAATKSGPRRQSQGASVRTFTPFYFLVEPVDTLSVRGSSVILNCSA...  7.0   \n",
       "\n",
       "                              data_source    tm  \n",
       "seq_id                                           \n",
       "0       doi.org/10.1038/s41592-020-0801-4  75.7  \n",
       "1       doi.org/10.1038/s41592-020-0801-4  50.5  \n",
       "2       doi.org/10.1038/s41592-020-0801-4  40.5  \n",
       "3       doi.org/10.1038/s41592-020-0801-4  47.2  \n",
       "4       doi.org/10.1038/s41592-020-0801-4  49.5  "
      ]
     },
     "execution_count": 3,
     "metadata": {},
     "output_type": "execute_result"
    }
   ],
   "source": [
    "data = pd.read_csv(data_path, index_col=0)\n",
    "data.head()"
   ]
  },
  {
   "cell_type": "code",
   "execution_count": 4,
   "id": "56ec978d",
   "metadata": {
    "ExecuteTime": {
     "end_time": "2023-05-18T01:35:19.705224600Z",
     "start_time": "2023-05-18T01:35:19.686223300Z"
    },
    "tags": []
   },
   "outputs": [
    {
     "data": {
      "text/plain": [
       "(31390, 4)"
      ]
     },
     "execution_count": 4,
     "metadata": {},
     "output_type": "execute_result"
    }
   ],
   "source": [
    "data.shape"
   ]
  },
  {
   "cell_type": "code",
   "execution_count": 5,
   "id": "f6b45bd5",
   "metadata": {
    "ExecuteTime": {
     "end_time": "2023-05-18T01:35:20.273224100Z",
     "start_time": "2023-05-18T01:35:20.205226Z"
    },
    "tags": []
   },
   "outputs": [
    {
     "name": "stdout",
     "output_type": "stream",
     "text": [
      "<class 'pandas.core.frame.DataFrame'>\n",
      "Int64Index: 31390 entries, 0 to 31389\n",
      "Data columns (total 4 columns):\n",
      "protein_sequence    31390 non-null object\n",
      "pH                  31104 non-null float64\n",
      "data_source         28043 non-null object\n",
      "tm                  31390 non-null float64\n",
      "dtypes: float64(2), object(2)\n",
      "memory usage: 1.2+ MB\n"
     ]
    }
   ],
   "source": [
    "data.info()"
   ]
  },
  {
   "cell_type": "markdown",
   "id": "2f3af61d",
   "metadata": {},
   "source": [
    "## EDA"
   ]
  },
  {
   "cell_type": "code",
   "execution_count": 6,
   "id": "fcf0241f",
   "metadata": {
    "ExecuteTime": {
     "end_time": "2023-05-18T01:35:21.264404200Z",
     "start_time": "2023-05-18T01:35:21.254405100Z"
    },
    "tags": []
   },
   "outputs": [
    {
     "data": {
      "text/plain": [
       "protein_sequence       0\n",
       "pH                   286\n",
       "data_source         3347\n",
       "tm                     0\n",
       "dtype: int64"
      ]
     },
     "execution_count": 6,
     "metadata": {},
     "output_type": "execute_result"
    }
   ],
   "source": [
    "data.isna().sum()"
   ]
  },
  {
   "cell_type": "markdown",
   "id": "3f3835ba",
   "metadata": {},
   "source": [
    "В данных есть пропущенные значения. Значение pH напрямую влияет на стабильность белка, поэтому возьмем только данные для которых есть значения pH. "
   ]
  },
  {
   "cell_type": "code",
   "execution_count": 7,
   "id": "55dae5c5",
   "metadata": {
    "ExecuteTime": {
     "end_time": "2023-05-18T01:35:22.089629600Z",
     "start_time": "2023-05-18T01:35:22.063630200Z"
    },
    "tags": []
   },
   "outputs": [
    {
     "data": {
      "text/plain": [
       "array([ 7.  ,  5.  ,  7.5 ,   nan,  7.4 , 48.4 , 49.  , 55.6 ,  6.2 ,\n",
       "        5.5 ,  6.3 ,  2.  ,  8.5 ,  3.  ,  6.8 ,  6.4 ,  6.6 ,  6.7 ,\n",
       "        6.5 ,  4.5 ,  8.  ,  7.3 ,  7.2 ,  8.4 ,  8.1 ,  9.6 ,  5.9 ,\n",
       "        6.  ,  4.  ,  3.5 ,  4.2 ,  5.1 ,  3.6 ,  7.1 ,  7.8 ,  9.  ,\n",
       "        3.2 ,  2.5 ,  2.8 ,  5.2 ,  5.4 ,  5.8 ,  7.7 ,  7.6 , 10.  ,\n",
       "        8.2 ,  2.7 ,  2.9 ,  3.1 , 64.9 ,  3.14,  2.53,  2.3 ,  2.2 ,\n",
       "        2.81,  8.25,  9.9 ,  9.5 , 10.4 ,  9.08,  8.7 ,  3.7 , 39.  ,\n",
       "        4.6 ,  4.4 ,  5.35,  5.7 ,  9.2 ,  5.38,  5.28,  6.9 ,  5.42,\n",
       "        5.3 ,  6.1 ,  9.7 ,  8.6 ,  4.8 ,  6.78,  5.31,  3.02,  4.9 ,\n",
       "        4.3 ,  5.45,  3.01,  3.3 ,  3.8 ,  2.4 ,  2.84,  2.34,  4.7 ,\n",
       "        2.1 ,  3.9 ,  2.02,  2.83,  2.03,  2.86,  1.99,  8.3 , 53.4 ,\n",
       "        3.16,  2.94,  9.75,  3.15,  3.07,  3.04,  3.25,  3.21,  2.98,\n",
       "        3.19,  4.1 ,  5.6 ,  3.75,  4.75,  4.25, 11.  , 10.3 ])"
      ]
     },
     "execution_count": 7,
     "metadata": {},
     "output_type": "execute_result"
    }
   ],
   "source": [
    "data.pH.unique()"
   ]
  },
  {
   "cell_type": "code",
   "execution_count": 8,
   "id": "8a96f6b1",
   "metadata": {
    "ExecuteTime": {
     "end_time": "2023-05-18T01:35:22.600625600Z",
     "start_time": "2023-05-18T01:35:22.573627700Z"
    },
    "tags": []
   },
   "outputs": [
    {
     "data": {
      "text/plain": [
       "286"
      ]
     },
     "execution_count": 8,
     "metadata": {},
     "output_type": "execute_result"
    }
   ],
   "source": [
    "data1 = data.dropna(subset=['pH'])\n",
    "data.shape[0] - data1.shape[0]"
   ]
  },
  {
   "cell_type": "code",
   "execution_count": 9,
   "id": "0bccf915",
   "metadata": {
    "ExecuteTime": {
     "end_time": "2023-05-18T01:35:22.653626500Z",
     "start_time": "2023-05-18T01:35:22.622627600Z"
    },
    "tags": []
   },
   "outputs": [
    {
     "name": "stdout",
     "output_type": "stream",
     "text": [
      "                 pH            tm\n",
      "count  31104.000000  31104.000000\n",
      "mean       6.892339     49.150608\n",
      "std        1.612225     14.044705\n",
      "min        1.990000     -1.000000\n",
      "25%        7.000000     42.100000\n",
      "50%        7.000000     48.100000\n",
      "75%        7.000000     53.800000\n",
      "max       64.900000    130.000000\n"
     ]
    }
   ],
   "source": [
    "print(data1.describe())"
   ]
  },
  {
   "cell_type": "markdown",
   "id": "d943c622",
   "metadata": {},
   "source": [
    "Интервал значений pH и Tm вызывает сомнения. \n",
    "* Интервал температуры плавления неожиданный. Не знаю метода исследования, могу предположить, что измерение проводилось в водной среде при нормальном давлении, поэтому отрицательные значения и значения выше 100 град. убираем. \n",
    "* pH может быть более 14, однако врядли в эксперименте с белками использовался настолько щелочной буффер. Поэтому будем учитывать значения pH до 14-ти.\n",
    "Беру на себя ответственность убрать экспериментальные данные с сомнительными параметрами."
   ]
  },
  {
   "cell_type": "code",
   "execution_count": 10,
   "id": "bcfdd34a",
   "metadata": {
    "ExecuteTime": {
     "end_time": "2023-05-18T01:35:22.758630700Z",
     "start_time": "2023-05-18T01:35:22.729625900Z"
    },
    "tags": []
   },
   "outputs": [
    {
     "data": {
      "text/html": [
       "<div>\n",
       "<style scoped>\n",
       "    .dataframe tbody tr th:only-of-type {\n",
       "        vertical-align: middle;\n",
       "    }\n",
       "\n",
       "    .dataframe tbody tr th {\n",
       "        vertical-align: top;\n",
       "    }\n",
       "\n",
       "    .dataframe thead th {\n",
       "        text-align: right;\n",
       "    }\n",
       "</style>\n",
       "<table border=\"1\" class=\"dataframe\">\n",
       "  <thead>\n",
       "    <tr style=\"text-align: right;\">\n",
       "      <th></th>\n",
       "      <th>pH</th>\n",
       "      <th>tm</th>\n",
       "    </tr>\n",
       "  </thead>\n",
       "  <tbody>\n",
       "    <tr>\n",
       "      <th>count</th>\n",
       "      <td>31067.000000</td>\n",
       "      <td>31067.000000</td>\n",
       "    </tr>\n",
       "    <tr>\n",
       "      <th>mean</th>\n",
       "      <td>6.850902</td>\n",
       "      <td>49.179206</td>\n",
       "    </tr>\n",
       "    <tr>\n",
       "      <th>std</th>\n",
       "      <td>0.859405</td>\n",
       "      <td>13.953180</td>\n",
       "    </tr>\n",
       "    <tr>\n",
       "      <th>min</th>\n",
       "      <td>1.990000</td>\n",
       "      <td>0.000000</td>\n",
       "    </tr>\n",
       "    <tr>\n",
       "      <th>25%</th>\n",
       "      <td>7.000000</td>\n",
       "      <td>42.100000</td>\n",
       "    </tr>\n",
       "    <tr>\n",
       "      <th>50%</th>\n",
       "      <td>7.000000</td>\n",
       "      <td>48.100000</td>\n",
       "    </tr>\n",
       "    <tr>\n",
       "      <th>75%</th>\n",
       "      <td>7.000000</td>\n",
       "      <td>53.800000</td>\n",
       "    </tr>\n",
       "    <tr>\n",
       "      <th>max</th>\n",
       "      <td>11.000000</td>\n",
       "      <td>99.000000</td>\n",
       "    </tr>\n",
       "  </tbody>\n",
       "</table>\n",
       "</div>"
      ],
      "text/plain": [
       "                 pH            tm\n",
       "count  31067.000000  31067.000000\n",
       "mean       6.850902     49.179206\n",
       "std        0.859405     13.953180\n",
       "min        1.990000      0.000000\n",
       "25%        7.000000     42.100000\n",
       "50%        7.000000     48.100000\n",
       "75%        7.000000     53.800000\n",
       "max       11.000000     99.000000"
      ]
     },
     "execution_count": 10,
     "metadata": {},
     "output_type": "execute_result"
    }
   ],
   "source": [
    "data2 = data1.drop(data1[(data1.pH > 14) | (data1.tm < 0) | (data1.tm > 100)].index)\n",
    "data2.describe()"
   ]
  },
  {
   "cell_type": "code",
   "execution_count": 11,
   "id": "a5e5178d",
   "metadata": {
    "ExecuteTime": {
     "end_time": "2023-05-18T01:35:24.452630900Z",
     "start_time": "2023-05-18T01:35:22.744631200Z"
    }
   },
   "outputs": [
    {
     "name": "stdout",
     "output_type": "stream",
     "text": [
      "/usr/bin/sh: 1: pip3: not found\r\n"
     ]
    }
   ],
   "source": [
    "! pip3 install matplotlib"
   ]
  },
  {
   "cell_type": "markdown",
   "id": "c8309293",
   "metadata": {},
   "source": [
    "Теперь значения параметров похожи на реальные."
   ]
  },
  {
   "cell_type": "code",
   "execution_count": 12,
   "id": "354128f5",
   "metadata": {
    "ExecuteTime": {
     "end_time": "2023-05-18T01:35:24.828628900Z",
     "start_time": "2023-05-18T01:35:24.455629300Z"
    },
    "tags": []
   },
   "outputs": [
    {
     "data": {
      "text/plain": [
       "<matplotlib.figure.Figure at 0x7f81194cecf8>"
      ]
     },
     "metadata": {},
     "output_type": "display_data"
    }
   ],
   "source": [
    "import matplotlib.pyplot as plt\n",
    "\n",
    "fig, (ax0, ax1, ax2) = plt.subplots(3, 1, figsize=(5,10))\n",
    "ax0.set_title('pH histogramm')\n",
    "ax0.hist(data2.pH, bins=100)\n",
    "ax1.set_title('pH histogram with frequency lower than 700') \n",
    "ax1.hist(data2.pH, bins=100)\n",
    "ax1.set_ylim([0,700])\n",
    "ax2.set_title('Melting temperature histogram')\n",
    "ax2.hist(data2.tm, bins=100)\n",
    "plt.show()"
   ]
  },
  {
   "cell_type": "markdown",
   "id": "d90ae091",
   "metadata": {},
   "source": [
    "По гистограме присутствует большое кол-во результатов при нейтральном pH (~7). Так же есть много наблюдений от 2 до 10. Думаю получится построить модель, которая хорошо сможет предказывать в этом регионе.\n",
    "Для температуры плавления, наблюдается две моды. Попробуем посмотреть на температуру плавления на белках при нейтральном pH."
   ]
  },
  {
   "cell_type": "code",
   "execution_count": 13,
   "id": "81df03da",
   "metadata": {
    "ExecuteTime": {
     "end_time": "2023-05-18T01:35:25.034628300Z",
     "start_time": "2023-05-18T01:35:24.829629100Z"
    },
    "tags": []
   },
   "outputs": [
    {
     "data": {
      "text/html": [
       "<div>\n",
       "<style scoped>\n",
       "    .dataframe tbody tr th:only-of-type {\n",
       "        vertical-align: middle;\n",
       "    }\n",
       "\n",
       "    .dataframe tbody tr th {\n",
       "        vertical-align: top;\n",
       "    }\n",
       "\n",
       "    .dataframe thead th {\n",
       "        text-align: right;\n",
       "    }\n",
       "</style>\n",
       "<table border=\"1\" class=\"dataframe\">\n",
       "  <thead>\n",
       "    <tr style=\"text-align: right;\">\n",
       "      <th></th>\n",
       "      <th>pH</th>\n",
       "      <th>tm</th>\n",
       "    </tr>\n",
       "  </thead>\n",
       "  <tbody>\n",
       "    <tr>\n",
       "      <th>count</th>\n",
       "      <td>27641.000000</td>\n",
       "      <td>27641.000000</td>\n",
       "    </tr>\n",
       "    <tr>\n",
       "      <th>mean</th>\n",
       "      <td>7.011829</td>\n",
       "      <td>49.722463</td>\n",
       "    </tr>\n",
       "    <tr>\n",
       "      <th>std</th>\n",
       "      <td>0.089409</td>\n",
       "      <td>13.149867</td>\n",
       "    </tr>\n",
       "    <tr>\n",
       "      <th>min</th>\n",
       "      <td>6.500000</td>\n",
       "      <td>0.000000</td>\n",
       "    </tr>\n",
       "    <tr>\n",
       "      <th>25%</th>\n",
       "      <td>7.000000</td>\n",
       "      <td>42.700000</td>\n",
       "    </tr>\n",
       "    <tr>\n",
       "      <th>50%</th>\n",
       "      <td>7.000000</td>\n",
       "      <td>48.100000</td>\n",
       "    </tr>\n",
       "    <tr>\n",
       "      <th>75%</th>\n",
       "      <td>7.000000</td>\n",
       "      <td>53.400000</td>\n",
       "    </tr>\n",
       "    <tr>\n",
       "      <th>max</th>\n",
       "      <td>7.500000</td>\n",
       "      <td>99.000000</td>\n",
       "    </tr>\n",
       "  </tbody>\n",
       "</table>\n",
       "</div>"
      ],
      "text/plain": [
       "                 pH            tm\n",
       "count  27641.000000  27641.000000\n",
       "mean       7.011829     49.722463\n",
       "std        0.089409     13.149867\n",
       "min        6.500000      0.000000\n",
       "25%        7.000000     42.700000\n",
       "50%        7.000000     48.100000\n",
       "75%        7.000000     53.400000\n",
       "max        7.500000     99.000000"
      ]
     },
     "execution_count": 13,
     "metadata": {},
     "output_type": "execute_result"
    },
    {
     "data": {
      "image/png": "[encoded data removed]",
      "text/plain": [
       "<matplotlib.figure.Figure at 0x7f81185e0160>"
      ]
     },
     "metadata": {},
     "output_type": "display_data"
    }
   ],
   "source": [
    "data3 = data2.drop(data2[(data2.pH < 6.5) | (data2.pH > 7.5)].index)\n",
    "data3.hist()\n",
    "data3.describe()"
   ]
  },
  {
   "cell_type": "markdown",
   "id": "a0362607",
   "metadata": {},
   "source": [
    "Один пик наблюдается при нейтральном pH. Проверем при каком pH наблюдается второй."
   ]
  },
  {
   "cell_type": "code",
   "execution_count": 14,
   "id": "ed1fdc78",
   "metadata": {
    "ExecuteTime": {
     "end_time": "2023-05-18T01:35:25.238629500Z",
     "start_time": "2023-05-18T01:35:25.035629200Z"
    },
    "tags": []
   },
   "outputs": [
    {
     "data": {
      "text/html": [
       "<div>\n",
       "<style scoped>\n",
       "    .dataframe tbody tr th:only-of-type {\n",
       "        vertical-align: middle;\n",
       "    }\n",
       "\n",
       "    .dataframe tbody tr th {\n",
       "        vertical-align: top;\n",
       "    }\n",
       "\n",
       "    .dataframe thead th {\n",
       "        text-align: right;\n",
       "    }\n",
       "</style>\n",
       "<table border=\"1\" class=\"dataframe\">\n",
       "  <thead>\n",
       "    <tr style=\"text-align: right;\">\n",
       "      <th></th>\n",
       "      <th>pH</th>\n",
       "      <th>tm</th>\n",
       "    </tr>\n",
       "  </thead>\n",
       "  <tbody>\n",
       "    <tr>\n",
       "      <th>count</th>\n",
       "      <td>1523.000000</td>\n",
       "      <td>1523.000000</td>\n",
       "    </tr>\n",
       "    <tr>\n",
       "      <th>mean</th>\n",
       "      <td>6.390164</td>\n",
       "      <td>24.977938</td>\n",
       "    </tr>\n",
       "    <tr>\n",
       "      <th>std</th>\n",
       "      <td>1.573140</td>\n",
       "      <td>0.201503</td>\n",
       "    </tr>\n",
       "    <tr>\n",
       "      <th>min</th>\n",
       "      <td>2.000000</td>\n",
       "      <td>23.000000</td>\n",
       "    </tr>\n",
       "    <tr>\n",
       "      <th>25%</th>\n",
       "      <td>5.500000</td>\n",
       "      <td>25.000000</td>\n",
       "    </tr>\n",
       "    <tr>\n",
       "      <th>50%</th>\n",
       "      <td>7.000000</td>\n",
       "      <td>25.000000</td>\n",
       "    </tr>\n",
       "    <tr>\n",
       "      <th>75%</th>\n",
       "      <td>7.400000</td>\n",
       "      <td>25.000000</td>\n",
       "    </tr>\n",
       "    <tr>\n",
       "      <th>max</th>\n",
       "      <td>9.000000</td>\n",
       "      <td>26.000000</td>\n",
       "    </tr>\n",
       "  </tbody>\n",
       "</table>\n",
       "</div>"
      ],
      "text/plain": [
       "                pH           tm\n",
       "count  1523.000000  1523.000000\n",
       "mean      6.390164    24.977938\n",
       "std       1.573140     0.201503\n",
       "min       2.000000    23.000000\n",
       "25%       5.500000    25.000000\n",
       "50%       7.000000    25.000000\n",
       "75%       7.400000    25.000000\n",
       "max       9.000000    26.000000"
      ]
     },
     "execution_count": 14,
     "metadata": {},
     "output_type": "execute_result"
    },
    {
     "data": {
      "image/png": "[encoded data removed]",
      "text/plain": [
       "<matplotlib.figure.Figure at 0x7f811acfe9b0>"
      ]
     },
     "metadata": {},
     "output_type": "display_data"
    }
   ],
   "source": [
    "data4 = data2.drop(data2[(data2.tm < 23) | (data2.tm > 26)].index)\n",
    "data4.hist()\n",
    "data4.describe()"
   ]
  },
  {
   "cell_type": "markdown",
   "id": "d2bd7220",
   "metadata": {},
   "source": [
    "Я хотел увидеть иное, но ожидаемый результат. второй пик тоже соответсвует нейтральному pH. Вимо дело в самой природе белка. Мб в длине первичной структры."
   ]
  },
  {
   "cell_type": "code",
   "execution_count": 15,
   "id": "f6c41dd4",
   "metadata": {
    "ExecuteTime": {
     "end_time": "2023-05-18T01:35:26.172187200Z",
     "start_time": "2023-05-18T01:35:26.150186400Z"
    },
    "tags": []
   },
   "outputs": [
    {
     "data": {
      "text/plain": [
       "Index(['protein_sequence', 'pH', 'data_source', 'tm'], dtype='object')"
      ]
     },
     "execution_count": 15,
     "metadata": {},
     "output_type": "execute_result"
    }
   ],
   "source": [
    "data3.columns"
   ]
  },
  {
   "cell_type": "code",
   "execution_count": 16,
   "id": "4ad2d06f",
   "metadata": {
    "ExecuteTime": {
     "end_time": "2023-05-18T01:35:26.850273700Z",
     "start_time": "2023-05-18T01:35:26.800188500Z"
    },
    "tags": []
   },
   "outputs": [
    {
     "name": "stdout",
     "output_type": "stream",
     "text": [
      "First peak\n",
      "470.1429760138924\n",
      "666.8817348661364\n",
      "Second peak\n",
      "503.06369008535785\n",
      "2267.1511592722545\n"
     ]
    }
   ],
   "source": [
    "print('First peak')\n",
    "print(data3['protein_sequence'].str.len().mean())\n",
    "print(data3['protein_sequence'].str.len().std())\n",
    "print('Second peak')\n",
    "print(data4['protein_sequence'].str.len().mean())\n",
    "print(data4['protein_sequence'].str.len().std())"
   ]
  },
  {
   "cell_type": "markdown",
   "id": "8d9e4b81",
   "metadata": {},
   "source": [
    "Нет. дело не в длине. Внутри групп они совсем разные встречаются ._. \n",
    "Пропустим этот вопрос, он второстепенный"
   ]
  },
  {
   "cell_type": "code",
   "execution_count": 17,
   "id": "8e66de83",
   "metadata": {},
   "outputs": [],
   "source": [
    "data2.to_csv('data2.csv', sep='\\t')"
   ]
  },
  {
   "cell_type": "code",
   "execution_count": null,
   "id": "c70c7ad5",
   "metadata": {},
   "outputs": [],
   "source": []
  },
  {
   "cell_type": "markdown",
   "id": "219bf5aa",
   "metadata": {},
   "source": [
    "## Representation of amino acids\n",
    "Есть несколько вариантов представить последовательность мномеров в числовом виде.\n",
    " * “one-hot encoding”\n",
    " * the BLOck SUbstitution Matrix (BLOSUM)\n",
    " * the principal components score Vectors of Hydrophobic, Steric, and Electronic properties (VHSE8).\n",
    "И есть много статей по сравнению и новым предложениям. Среди пары пакетов на питон нашел [seqvec](https://pypi.org/project/seqvec/) выглядит убедительно с 94-мя звездами."
   ]
  },
  {
   "cell_type": "markdown",
   "id": "981045ee",
   "metadata": {},
   "source": [
    "Однако не получилось запустить из-за проблемы со скачиванием. Он мне выдал ошибку на уровне установки необходимых модулей. А в одном файле и не нашел функци... Расстроился из-за потраченного вечера. Починить мне не удалось."
   ]
  },
  {
   "cell_type": "code",
   "execution_count": 17,
   "id": "5cf58f92",
   "metadata": {
    "ExecuteTime": {
     "end_time": "2023-05-18T01:35:52.201730600Z",
     "start_time": "2023-05-18T01:35:29.278473800Z"
    }
   },
   "outputs": [
    {
     "name": "stdout",
     "output_type": "stream",
     "text": [
      "Collecting bio-embeddings\n",
      "\u001b[31m  Could not find a version that satisfies the requirement bio-embeddings (from versions: )\u001b[0m\n",
      "\u001b[31mNo matching distribution found for bio-embeddings\u001b[0m\n",
      "\u001b[33mYou are using pip version 9.0.1, however version 23.1.2 is available.\n",
      "You should consider upgrading via the 'pip install --upgrade pip' command.\u001b[0m\n"
     ]
    }
   ],
   "source": [
    "! pip install bio-embeddings"
   ]
  },
  {
   "cell_type": "code",
   "execution_count": 18,
   "id": "e5116c35",
   "metadata": {
    "ExecuteTime": {
     "end_time": "2023-05-18T01:36:11.876417800Z",
     "start_time": "2023-05-18T01:35:52.201730600Z"
    }
   },
   "outputs": [
    {
     "name": "stdout",
     "output_type": "stream",
     "text": [
      "Collecting seqvec\n",
      "\u001b[31m  Could not find a version that satisfies the requirement seqvec (from versions: )\u001b[0m\n",
      "\u001b[31mNo matching distribution found for seqvec\u001b[0m\n",
      "\u001b[33mYou are using pip version 9.0.1, however version 23.1.2 is available.\n",
      "You should consider upgrading via the 'pip install --upgrade pip' command.\u001b[0m\n"
     ]
    }
   ],
   "source": [
    "! pip install seqvec"
   ]
  },
  {
   "cell_type": "markdown",
   "id": "d36acad3",
   "metadata": {},
   "source": [
    "Пробовал из их ноутбука"
   ]
  },
  {
   "cell_type": "code",
   "execution_count": 19,
   "id": "9fa7a76e",
   "metadata": {
    "ExecuteTime": {
     "end_time": "2023-05-18T01:36:11.938431100Z",
     "start_time": "2023-05-18T01:36:11.876417800Z"
    }
   },
   "outputs": [
    {
     "data": {
      "text/plain": [
       "'/mnt/c/Users/Ilya/PycharmProjects/BI_Stat_22-23-main'"
      ]
     },
     "execution_count": 19,
     "metadata": {},
     "output_type": "execute_result"
    }
   ],
   "source": [
    "pwd"
   ]
  },
  {
   "cell_type": "markdown",
   "id": "fa61be31",
   "metadata": {},
   "source": [
    "Работаю с компа Ильи"
   ]
  },
  {
   "cell_type": "code",
   "execution_count": 20,
   "id": "7b1e01fa",
   "metadata": {
    "ExecuteTime": {
     "end_time": "2023-05-18T01:36:59.820716200Z",
     "start_time": "2023-05-18T01:36:59.806715400Z"
    }
   },
   "outputs": [
    {
     "name": "stdout",
     "output_type": "stream",
     "text": [
      "[Errno 2] No such file or directory: 'tool'\n",
      "/mnt/c/Users/Ilya/PycharmProjects/BI_Stat_22-23-main\n"
     ]
    }
   ],
   "source": [
    "cd tool"
   ]
  },
  {
   "cell_type": "code",
   "execution_count": 21,
   "id": "4c9fb0de",
   "metadata": {
    "ExecuteTime": {
     "end_time": "2023-05-18T01:37:15.177908500Z",
     "start_time": "2023-05-18T01:37:15.137911800Z"
    }
   },
   "outputs": [
    {
     "ename": "ImportError",
     "evalue": "No module named 'tool'",
     "output_type": "error",
     "traceback": [
      "\u001b[0;31m---------------------------------------------------------------------------\u001b[0m",
      "\u001b[0;31mImportError\u001b[0m                               Traceback (most recent call last)",
      "\u001b[0;32m<ipython-input-21-3869cff7ca70>\u001b[0m in \u001b[0;36m<module>\u001b[0;34m()\u001b[0m\n\u001b[0;32m----> 1\u001b[0;31m \u001b[0;32mfrom\u001b[0m \u001b[0mtool\u001b[0m\u001b[0;34m.\u001b[0m\u001b[0mbio_embeddings\u001b[0m\u001b[0;34m.\u001b[0m\u001b[0membed\u001b[0m\u001b[0;34m.\u001b[0m\u001b[0mseqvec_embedder\u001b[0m \u001b[0;32mimport\u001b[0m \u001b[0mSeqVecEmbedder\u001b[0m\u001b[0;34m\u001b[0m\u001b[0m\n\u001b[0m\u001b[1;32m      2\u001b[0m \u001b[0membedder\u001b[0m \u001b[0;34m=\u001b[0m \u001b[0mSeqVecEmbedder\u001b[0m\u001b[0;34m(\u001b[0m\u001b[0;34m)\u001b[0m\u001b[0;34m\u001b[0m\u001b[0m\n\u001b[1;32m      3\u001b[0m \u001b[0;34m\u001b[0m\u001b[0m\n\u001b[1;32m      4\u001b[0m \u001b[0mtarget_sequence\u001b[0m \u001b[0;34m=\u001b[0m \u001b[0;34m\"MALLHSARVLSGVASAFHPGLAAAASARASSWWAHVEMGPPDPILGVTEAYKRDTNSKKMNLGVGAYRDDNGKPYVLPSVRKAEAQIAAKGLDKEYLPIGGLAEFCRASAELALGENSEVVKSGRFVTVQTISGTGALRIGASFLQRFFKFSRDVFLPKPSWGNHTPIFRDAGMQLQSYRYYDPKTCGFDFTGALEDISKIPEQSVLLLHACAHNPTGVDPRPEQWKEIATVVKKRNLFAFFDMAYQGFASGDGDKDAWAVRHFIEQGINVCLCQSYAKNMGLYGERVGAFTVICKDADEAKRVESQLKILIRPMYSNPPIHGARIASTILTSPDLRKQWLQEVKGMADRIIGMRTQLVSNLKKEGSTHSWQHITDQIGMFCFTGLKPEQVERLTKEFSIYMTKDGRISVAGVTSGNVGYLAHAIHQVTK\"\u001b[0m\u001b[0;34m\u001b[0m\u001b[0m\n\u001b[1;32m      5\u001b[0m \u001b[0;34m\u001b[0m\u001b[0m\n",
      "\u001b[0;31mImportError\u001b[0m: No module named 'tool'"
     ]
    }
   ],
   "source": [
    "from tool.bio_embeddings.embed.seqvec_embedder import SeqVecEmbedder\n",
    "embedder = SeqVecEmbedder()\n",
    "\n",
    "target_sequence = \"MALLHSARVLSGVASAFHPGLAAAASARASSWWAHVEMGPPDPILGVTEAYKRDTNSKKMNLGVGAYRDDNGKPYVLPSVRKAEAQIAAKGLDKEYLPIGGLAEFCRASAELALGENSEVVKSGRFVTVQTISGTGALRIGASFLQRFFKFSRDVFLPKPSWGNHTPIFRDAGMQLQSYRYYDPKTCGFDFTGALEDISKIPEQSVLLLHACAHNPTGVDPRPEQWKEIATVVKKRNLFAFFDMAYQGFASGDGDKDAWAVRHFIEQGINVCLCQSYAKNMGLYGERVGAFTVICKDADEAKRVESQLKILIRPMYSNPPIHGARIASTILTSPDLRKQWLQEVKGMADRIIGMRTQLVSNLKKEGSTHSWQHITDQIGMFCFTGLKPEQVERLTKEFSIYMTKDGRISVAGVTSGNVGYLAHAIHQVTK\"\n",
    "\n",
    "embedding = embedder.embed(target_sequence)"
   ]
  },
  {
   "cell_type": "markdown",
   "id": "21005116",
   "metadata": {},
   "source": [
    "и в модуле в файле commands я не нашел функции elmo. Решил не разбираться дальше..."
   ]
  },
  {
   "cell_type": "markdown",
   "id": "8a9e6ed7",
   "metadata": {},
   "source": [
    "Зато нашел клевое пособие [тут](https://stephanheijl.com/protein_sequence_ml.html) еще и с теорией. Попробуем его"
   ]
  },
  {
   "cell_type": "code",
   "execution_count": 22,
   "id": "5d30204f",
   "metadata": {
    "ExecuteTime": {
     "end_time": "2023-05-18T01:37:22.061573300Z",
     "start_time": "2023-05-18T01:37:22.054574500Z"
    }
   },
   "outputs": [
    {
     "data": {
      "text/plain": [
       "'/mnt/c/Users/Ilya/PycharmProjects/BI_Stat_22-23-main'"
      ]
     },
     "execution_count": 22,
     "metadata": {},
     "output_type": "execute_result"
    }
   ],
   "source": [
    "pwd"
   ]
  },
  {
   "cell_type": "code",
   "execution_count": 23,
   "id": "cb14034d",
   "metadata": {
    "ExecuteTime": {
     "end_time": "2023-05-18T01:37:22.603928500Z",
     "start_time": "2023-05-18T01:37:22.593930400Z"
    }
   },
   "outputs": [
    {
     "name": "stdout",
     "output_type": "stream",
     "text": [
      "/mnt/c/Users/Ilya/PycharmProjects\n"
     ]
    }
   ],
   "source": [
    "cd .."
   ]
  },
  {
   "cell_type": "code",
   "execution_count": 24,
   "id": "bc3b8afd",
   "metadata": {},
   "outputs": [
    {
     "name": "stdout",
     "output_type": "stream",
     "text": [
      "Cloning into 'protein-sequence-embedding-iclr2019'...\n",
      "remote: Enumerating objects: 54, done.\u001b[K\n",
      "remote: Counting objects: 100% (16/16), done.\u001b[K\n",
      "remote: Compressing objects: 100% (10/10), done.\u001b[K\n",
      "remote: Total 54 (delta 9), reused 6 (delta 6), pack-reused 38\u001b[K\n",
      "Receiving objects: 100% (54/54), 53.57 KiB | 543.00 KiB/s, done.\n",
      "Resolving deltas: 100% (17/17), done.\n"
     ]
    }
   ],
   "source": [
    "! git clone https://github.com/tbepler/protein-sequence-embedding-iclr2019.git"
   ]
  },
  {
   "cell_type": "code",
   "execution_count": 25,
   "id": "ef58c0bc",
   "metadata": {
    "ExecuteTime": {
     "end_time": "2023-05-18T01:37:26.545234500Z",
     "start_time": "2023-05-18T01:37:26.516235400Z"
    }
   },
   "outputs": [],
   "source": [
    "import sys\n",
    "sys.path.append(\"C:\\\\Users\\\\Ilya\\\\PycharmProjects\\\\BI_Stat_22-23-main\\\\additional_task\\\\protein-sequence-embedding-iclr2019\")"
   ]
  },
  {
   "cell_type": "code",
   "execution_count": 26,
   "id": "ed907054",
   "metadata": {
    "ExecuteTime": {
     "end_time": "2023-05-18T01:37:26.997235400Z",
     "start_time": "2023-05-18T01:37:26.983235Z"
    }
   },
   "outputs": [
    {
     "name": "stdout",
     "output_type": "stream",
     "text": [
      "['', '/root/miniconda3/envs/py35/lib/python35.zip', '/root/miniconda3/envs/py35/lib/python3.5', '/root/miniconda3/envs/py35/lib/python3.5/plat-linux', '/root/miniconda3/envs/py35/lib/python3.5/lib-dynload', '/root/miniconda3/envs/py35/lib/python3.5/site-packages', '/root/miniconda3/envs/py35/lib/python3.5/site-packages/IPython/extensions', '/root/.ipython', 'C:\\\\Users\\\\Ilya\\\\PycharmProjects\\\\BI_Stat_22-23-main\\\\additional_task\\\\protein-sequence-embedding-iclr2019', 'C:\\\\Users\\\\Ilya\\\\PycharmProjects\\\\BI_Stat_22-23-main\\\\additional_task\\\\protein-sequence-embedding-iclr2019']\n"
     ]
    }
   ],
   "source": [
    "print(sys.path)"
   ]
  },
  {
   "cell_type": "code",
   "execution_count": 27,
   "id": "e3bdc7fa",
   "metadata": {
    "ExecuteTime": {
     "end_time": "2023-05-18T01:37:27.705235400Z",
     "start_time": "2023-05-18T01:37:27.682236100Z"
    }
   },
   "outputs": [
    {
     "ename": "ImportError",
     "evalue": "No module named 'src'",
     "output_type": "error",
     "traceback": [
      "\u001b[0;31m---------------------------------------------------------------------------\u001b[0m",
      "\u001b[0;31mImportError\u001b[0m                               Traceback (most recent call last)",
      "\u001b[0;32m<ipython-input-27-89c5ba2ac672>\u001b[0m in \u001b[0;36m<module>\u001b[0;34m()\u001b[0m\n\u001b[1;32m      1\u001b[0m \u001b[0;32mimport\u001b[0m \u001b[0mnumpy\u001b[0m \u001b[0;32mas\u001b[0m \u001b[0mnp\u001b[0m\u001b[0;34m\u001b[0m\u001b[0m\n\u001b[1;32m      2\u001b[0m \u001b[0;31m# Import data from protein sequence embedding repository.\u001b[0m\u001b[0;34m\u001b[0m\u001b[0;34m\u001b[0m\u001b[0m\n\u001b[0;32m----> 3\u001b[0;31m \u001b[0;32mfrom\u001b[0m \u001b[0msrc\u001b[0m\u001b[0;34m.\u001b[0m\u001b[0malphabets\u001b[0m \u001b[0;32mimport\u001b[0m \u001b[0mUniprot21\u001b[0m\u001b[0;34m\u001b[0m\u001b[0m\n\u001b[0m\u001b[1;32m      4\u001b[0m \u001b[0;32mfrom\u001b[0m \u001b[0msrc\u001b[0m\u001b[0;34m.\u001b[0m\u001b[0mutils\u001b[0m \u001b[0;32mimport\u001b[0m \u001b[0mpack_sequences\u001b[0m\u001b[0;34m,\u001b[0m \u001b[0munpack_sequences\u001b[0m\u001b[0;34m\u001b[0m\u001b[0m\n\u001b[1;32m      5\u001b[0m \u001b[0;32mfrom\u001b[0m \u001b[0mtorch\u001b[0m\u001b[0;34m.\u001b[0m\u001b[0mnn\u001b[0m\u001b[0;34m.\u001b[0m\u001b[0mutils\u001b[0m\u001b[0;34m.\u001b[0m\u001b[0mrnn\u001b[0m \u001b[0;32mimport\u001b[0m \u001b[0mPackedSequence\u001b[0m\u001b[0;34m\u001b[0m\u001b[0m\n",
      "\u001b[0;31mImportError\u001b[0m: No module named 'src'"
     ]
    }
   ],
   "source": [
    "import numpy as np\n",
    "# Import data from protein sequence embedding repository.\n",
    "from src.alphabets import Uniprot21\n",
    "from src.utils import pack_sequences, unpack_sequences\n",
    "from torch.nn.utils.rnn import PackedSequence\n",
    "import torch"
   ]
  },
  {
   "cell_type": "code",
   "execution_count": 28,
   "id": "8c18b19d",
   "metadata": {
    "ExecuteTime": {
     "end_time": "2023-05-18T01:37:28.576235400Z",
     "start_time": "2023-05-18T01:37:28.568235900Z"
    }
   },
   "outputs": [
    {
     "ename": "NameError",
     "evalue": "name 'Uniprot21' is not defined",
     "output_type": "error",
     "traceback": [
      "\u001b[0;31m---------------------------------------------------------------------------\u001b[0m",
      "\u001b[0;31mNameError\u001b[0m                                 Traceback (most recent call last)",
      "\u001b[0;32m<ipython-input-28-4593f3c9ef91>\u001b[0m in \u001b[0;36m<module>\u001b[0;34m()\u001b[0m\n\u001b[0;32m----> 1\u001b[0;31m \u001b[0mu21\u001b[0m \u001b[0;34m=\u001b[0m \u001b[0mUniprot21\u001b[0m\u001b[0;34m(\u001b[0m\u001b[0;34m)\u001b[0m\u001b[0;34m\u001b[0m\u001b[0m\n\u001b[0m\u001b[1;32m      2\u001b[0m \u001b[0;34m\u001b[0m\u001b[0m\n\u001b[1;32m      3\u001b[0m \u001b[0;32mdef\u001b[0m \u001b[0membed_sequences\u001b[0m\u001b[0;34m(\u001b[0m\u001b[0msequences\u001b[0m\u001b[0;34m,\u001b[0m \u001b[0mlm_embed\u001b[0m\u001b[0;34m)\u001b[0m\u001b[0;34m:\u001b[0m\u001b[0;34m\u001b[0m\u001b[0m\n\u001b[1;32m      4\u001b[0m     \"\"\" Embed sequences\n\u001b[1;32m      5\u001b[0m     \u001b[0;34m:\u001b[0m\u001b[0mparam\u001b[0m \u001b[0msequences\u001b[0m\u001b[0;34m:\u001b[0m \u001b[0mAn\u001b[0m \u001b[0miterable\u001b[0m \u001b[0mcontaining\u001b[0m \u001b[0muppercase\u001b[0m \u001b[0msequences\u001b[0m \u001b[0mstrings\u001b[0m\u001b[0;34m.\u001b[0m\u001b[0;34m\u001b[0m\u001b[0m\n",
      "\u001b[0;31mNameError\u001b[0m: name 'Uniprot21' is not defined"
     ]
    }
   ],
   "source": [
    "u21 = Uniprot21()\n",
    "\n",
    "def embed_sequences(sequences, lm_embed):\n",
    "    \"\"\" Embed sequences\n",
    "    :param sequences: An iterable containing uppercase sequences strings.\n",
    "    :param lm_embed: A pytorch embedding model that accepts encodeded\n",
    "                     and produces matrices of size <seqlen>×<vecsize>.\n",
    "    :param sequences: An iterable containing the position of each variant.\n",
    "    :param sequences: An iterable with position offsets for each variant.\n",
    "    :returns: A dictionary containing the average vector, the last vector and the vector of the variant type.\n",
    "    \"\"\"\n",
    "    enc_sequences = [u21.encode(bytes(seq, \"ascii\")) for seq in sequences]\n",
    "    enc_sequences = [torch.from_numpy(x_).long() for x_ in enc_sequences]\n",
    "    with torch.no_grad():\n",
    "        data, order = pack_sequences(enc_sequences)\n",
    "        z = lm_embed(data)\n",
    "        embedded_sequences = unpack_sequences(z, order)\n",
    "\n",
    "    avg_vec = np.array([seq.mean(0).detach().cpu().numpy() for seq in embedded_sequences])\n",
    "\n",
    "    assert not np.isnan(avg_vec).any()\n",
    "\n",
    "\n",
    "    return {\"avg\": avg_vec}"
   ]
  },
  {
   "cell_type": "code",
   "execution_count": 29,
   "id": "be15a628",
   "metadata": {
    "ExecuteTime": {
     "end_time": "2023-05-18T01:40:22.196315200Z",
     "start_time": "2023-05-18T01:40:22.101315Z"
    }
   },
   "outputs": [
    {
     "ename": "NameError",
     "evalue": "name 'torch' is not defined",
     "output_type": "error",
     "traceback": [
      "\u001b[0;31m---------------------------------------------------------------------------\u001b[0m",
      "\u001b[0;31mNameError\u001b[0m                                 Traceback (most recent call last)",
      "\u001b[0;32m<ipython-input-29-a0bf707a000b>\u001b[0m in \u001b[0;36m<module>\u001b[0;34m()\u001b[0m\n\u001b[1;32m      1\u001b[0m \u001b[0mtarget_sequence\u001b[0m \u001b[0;34m=\u001b[0m \u001b[0;34m\"MALLHSARVLSGVASAFHPGLAAAASARASSWWAHVEMGPPDPILGVTEAYKRDTNSKKMNLGVGAYRDDNGKPYVLPSVRKAEAQIAAKGLDKEYLPIGGLAEFCRASAELALGENSEVVKSGRFVTVQTISGTGALRIGASFLQRFFKFSRDVFLPKPSWGNHTPIFRDAGMQLQSYRYYDPKTCGFDFTGALEDISKIPEQSVLLLHACAHNPTGVDPRPEQWKEIATVVKKRNLFAFFDMAYQGFASGDGDKDAWAVRHFIEQGINVCLCQSYAKNMGLYGERVGAFTVICKDADEAKRVESQLKILIRPMYSNPPIHGARIASTILTSPDLRKQWLQEVKGMADRIIGMRTQLVSNLKKEGSTHSWQHITDQIGMFCFTGLKPEQVERLTKEFSIYMTKDGRISVAGVTSGNVGYLAHAIHQVTK\"\u001b[0m\u001b[0;34m\u001b[0m\u001b[0m\n\u001b[1;32m      2\u001b[0m \u001b[0;34m\u001b[0m\u001b[0m\n\u001b[0;32m----> 3\u001b[0;31m \u001b[0mmodel\u001b[0m \u001b[0;34m=\u001b[0m \u001b[0mtorch\u001b[0m\u001b[0;34m.\u001b[0m\u001b[0mload\u001b[0m\u001b[0;34m(\u001b[0m\u001b[0;34m'C:\\\\Users\\\\Ilya\\\\PycharmProjects\\\\BI_Stat_22-23-main\\\\additional_task\\\\pretrained_models\\\\ssa_L1_100d_lstm3x512_lm_i512_mb64_tau0.5_p0.05_epoch100.sav'\u001b[0m\u001b[0;34m)\u001b[0m\u001b[0;34m\u001b[0m\u001b[0m\n\u001b[0m\u001b[1;32m      4\u001b[0m \u001b[0mmodel\u001b[0m \u001b[0;34m=\u001b[0m \u001b[0mmodel\u001b[0m\u001b[0;34m.\u001b[0m\u001b[0meval\u001b[0m\u001b[0;34m(\u001b[0m\u001b[0;34m)\u001b[0m\u001b[0;34m\u001b[0m\u001b[0m\n\u001b[1;32m      5\u001b[0m \u001b[0mlm_embed\u001b[0m \u001b[0;34m=\u001b[0m \u001b[0mmodel\u001b[0m\u001b[0;34m.\u001b[0m\u001b[0membedding\u001b[0m  \u001b[0;31m# Use the full model\u001b[0m\u001b[0;34m\u001b[0m\u001b[0m\n",
      "\u001b[0;31mNameError\u001b[0m: name 'torch' is not defined"
     ]
    }
   ],
   "source": [
    "target_sequence = \"MALLHSARVLSGVASAFHPGLAAAASARASSWWAHVEMGPPDPILGVTEAYKRDTNSKKMNLGVGAYRDDNGKPYVLPSVRKAEAQIAAKGLDKEYLPIGGLAEFCRASAELALGENSEVVKSGRFVTVQTISGTGALRIGASFLQRFFKFSRDVFLPKPSWGNHTPIFRDAGMQLQSYRYYDPKTCGFDFTGALEDISKIPEQSVLLLHACAHNPTGVDPRPEQWKEIATVVKKRNLFAFFDMAYQGFASGDGDKDAWAVRHFIEQGINVCLCQSYAKNMGLYGERVGAFTVICKDADEAKRVESQLKILIRPMYSNPPIHGARIASTILTSPDLRKQWLQEVKGMADRIIGMRTQLVSNLKKEGSTHSWQHITDQIGMFCFTGLKPEQVERLTKEFSIYMTKDGRISVAGVTSGNVGYLAHAIHQVTK\"\n",
    "\n",
    "model = torch.load('C:\\\\Users\\\\Ilya\\\\PycharmProjects\\\\BI_Stat_22-23-main\\\\additional_task\\\\pretrained_models\\\\ssa_L1_100d_lstm3x512_lm_i512_mb64_tau0.5_p0.05_epoch100.sav')\n",
    "model = model.eval()\n",
    "lm_embed = model.embedding  # Use the full model\n",
    "vec = embed_sequences(target_sequence, lm_embed)\n",
    "print(vec)"
   ]
  },
  {
   "cell_type": "markdown",
   "id": "e5616a6d",
   "metadata": {},
   "source": [
    "Вышла ошибка\n",
    "AttributeError: 'LSTM' object has no attribute '_flat_weights'\n",
    "нужно поставить более раннюю версию torch 1.3.1. А для неё нужна ранняя версия Python 3.5. А эта версия не поддерживается pycharm.\n",
    "\\*крики боли\\*"
   ]
  },
  {
   "cell_type": "markdown",
   "id": "f7c46dd7",
   "metadata": {},
   "source": [
    "Переходим на ubuntu и jupyter notebook"
   ]
  },
  {
   "cell_type": "code",
   "execution_count": 30,
   "id": "283fb45a",
   "metadata": {},
   "outputs": [
    {
     "name": "stdout",
     "output_type": "stream",
     "text": [
      "Python 3.5.4 :: Anaconda, Inc.\r\n"
     ]
    }
   ],
   "source": [
    "! python -V"
   ]
  },
  {
   "cell_type": "code",
   "execution_count": 31,
   "id": "3b3efa7c",
   "metadata": {},
   "outputs": [
    {
     "name": "stdout",
     "output_type": "stream",
     "text": [
      "Requirement already satisfied: torch==1.3.1 in /root/miniconda3/envs/py35/lib/python3.5/site-packages\n",
      "Requirement already satisfied: numpy in /root/miniconda3/envs/py35/lib/python3.5/site-packages (from torch==1.3.1)\n",
      "\u001b[33mYou are using pip version 9.0.1, however version 23.1.2 is available.\n",
      "You should consider upgrading via the 'pip install --upgrade pip' command.\u001b[0m\n"
     ]
    }
   ],
   "source": [
    "! pip install torch==1.3.1"
   ]
  },
  {
   "cell_type": "code",
   "execution_count": 32,
   "id": "e6d0e9bd",
   "metadata": {},
   "outputs": [
    {
     "data": {
      "text/plain": [
       "'/mnt/c/Users/Ilya/PycharmProjects'"
      ]
     },
     "execution_count": 32,
     "metadata": {},
     "output_type": "execute_result"
    }
   ],
   "source": [
    "pwd"
   ]
  },
  {
   "cell_type": "code",
   "execution_count": 2,
   "id": "870504d6",
   "metadata": {},
   "outputs": [],
   "source": [
    "import sys\n",
    "import torch\n",
    "sys.path.append('/mnt/c/Users/Ilya/PycharmProjects/BI_Stat_22-23-main/additional_task/protein-sequence-embedding-iclr2019')"
   ]
  },
  {
   "cell_type": "code",
   "execution_count": 3,
   "id": "0afb6640",
   "metadata": {},
   "outputs": [],
   "source": [
    "import numpy as np\n",
    "# Import data from protein sequence embedding repository.\n",
    "from src.alphabets import Uniprot21\n",
    "from src.utils import pack_sequences, unpack_sequences\n",
    "from torch.nn.utils.rnn import PackedSequence"
   ]
  },
  {
   "cell_type": "code",
   "execution_count": 164,
   "id": "de97f9e3",
   "metadata": {},
   "outputs": [],
   "source": [
    "u21 = Uniprot21()\n",
    "\n",
    "def embed_sequences(sequences, lm_embed):\n",
    "    \"\"\" Embed sequences\n",
    "    :param sequences: An iterable containing uppercase sequences strings.\n",
    "    :param lm_embed: A pytorch embedding model that accepts encodeded\n",
    "                     and produces matrices of size <seqlen>×<vecsize>.\n",
    "    :returns: A numpy containing the average vector.\n",
    "    \"\"\"\n",
    "    if type(sequences) is str:\n",
    "        sequences = [sequences]\n",
    "    enc_sequences = [u21.encode(bytes(seq, \"ascii\")) for seq in sequences]\n",
    "    enc_sequences = [torch.from_numpy(x_).long() for x_ in enc_sequences]\n",
    "    with torch.no_grad():\n",
    "        data, order = pack_sequences(enc_sequences)\n",
    "        z = lm_embed(data)\n",
    "        embedded_sequences = unpack_sequences(z, order)\n",
    "\n",
    "    avg_vec = torch.stack(embedded_sequences).mean(dim=1)\n",
    "    #avg_vec = np.array([seq.mean(0).detach().cpu().numpy() for seq in embedded_sequences])\n",
    "\n",
    "    assert not torch.isnan(avg_vec).any()\n",
    "\n",
    "    return avg_vec\n"
   ]
  },
  {
   "cell_type": "code",
   "execution_count": 168,
   "id": "41b0efd0",
   "metadata": {},
   "outputs": [
    {
     "name": "stderr",
     "output_type": "stream",
     "text": [
      "/root/miniconda3/envs/py35/lib/python3.5/site-packages/torch/serialization.py:493: SourceChangeWarning: source code of class 'torch.nn.modules.sparse.Embedding' has changed. you can retrieve the original source code by accessing the object's source attribute or set `torch.nn.Module.dump_patches = True` and use the patch tool to revert the changes.\n",
      "  warnings.warn(msg, SourceChangeWarning)\n",
      "/root/miniconda3/envs/py35/lib/python3.5/site-packages/torch/serialization.py:493: SourceChangeWarning: source code of class 'src.models.sequence.BiLM' has changed. you can retrieve the original source code by accessing the object's source attribute or set `torch.nn.Module.dump_patches = True` and use the patch tool to revert the changes.\n",
      "  warnings.warn(msg, SourceChangeWarning)\n",
      "/root/miniconda3/envs/py35/lib/python3.5/site-packages/torch/serialization.py:493: SourceChangeWarning: source code of class 'torch.nn.modules.dropout.Dropout' has changed. you can retrieve the original source code by accessing the object's source attribute or set `torch.nn.Module.dump_patches = True` and use the patch tool to revert the changes.\n",
      "  warnings.warn(msg, SourceChangeWarning)\n",
      "/root/miniconda3/envs/py35/lib/python3.5/site-packages/torch/serialization.py:493: SourceChangeWarning: source code of class 'torch.nn.modules.container.ModuleList' has changed. you can retrieve the original source code by accessing the object's source attribute or set `torch.nn.Module.dump_patches = True` and use the patch tool to revert the changes.\n",
      "  warnings.warn(msg, SourceChangeWarning)\n",
      "/root/miniconda3/envs/py35/lib/python3.5/site-packages/torch/serialization.py:493: SourceChangeWarning: source code of class 'torch.nn.modules.rnn.LSTM' has changed. you can retrieve the original source code by accessing the object's source attribute or set `torch.nn.Module.dump_patches = True` and use the patch tool to revert the changes.\n",
      "  warnings.warn(msg, SourceChangeWarning)\n",
      "/root/miniconda3/envs/py35/lib/python3.5/site-packages/torch/serialization.py:493: SourceChangeWarning: source code of class 'torch.nn.modules.linear.Linear' has changed. you can retrieve the original source code by accessing the object's source attribute or set `torch.nn.Module.dump_patches = True` and use the patch tool to revert the changes.\n",
      "  warnings.warn(msg, SourceChangeWarning)\n",
      "/root/miniconda3/envs/py35/lib/python3.5/site-packages/torch/serialization.py:493: SourceChangeWarning: source code of class 'torch.nn.modules.activation.ReLU' has changed. you can retrieve the original source code by accessing the object's source attribute or set `torch.nn.Module.dump_patches = True` and use the patch tool to revert the changes.\n",
      "  warnings.warn(msg, SourceChangeWarning)\n"
     ]
    }
   ],
   "source": [
    "target_sequence = [\"MALLHSARVLSGVASAFHPGLAAAASARASSWWAHVEMGPPDPILGVTEA\",\n",
    "                   \"YKRDTNSKKMNLGVGAYRDDNGKPYVLPSVRKAEAQIAAKGLDKEYLPIGG\"]\n",
    "\n",
    "\n",
    "model = torch.load('/mnt/c/Users/Ilya/PycharmProjects/BI_Stat_22-23-main/additional_task/pretrained_models/ssa_L1_100d_lstm3x512_lm_i512_mb64_tau0.5_p0.05_epoch100.sav');\n",
    "model = model.eval()\n",
    "#model = model.cuda()\n",
    "lm_embed = model.embedding;  # Use the full model"
   ]
  },
  {
   "cell_type": "code",
   "execution_count": 169,
   "id": "00730a52",
   "metadata": {},
   "outputs": [
    {
     "name": "stdout",
     "output_type": "stream",
     "text": [
      "tensor([[-3.2425e+00,  4.5937e+00, -3.8653e+00,  4.6651e+00,  1.6019e+00,\n",
      "          3.8611e+00,  1.2008e+00, -3.8935e+00, -3.9621e+00,  3.3860e+00,\n",
      "          1.2109e+00, -3.3111e+00,  2.2808e+00,  3.2556e+00, -3.6610e+00,\n",
      "          1.7422e+00, -1.7033e+00,  1.1217e+00, -2.6201e+00, -2.9795e+00,\n",
      "         -3.0179e+00,  2.1652e+00,  4.0683e+00, -4.2595e+00,  4.6799e-02,\n",
      "          2.0584e+00,  3.0018e+00, -1.8939e+00,  1.4667e+00,  1.4737e+00,\n",
      "          2.7923e+00, -1.9406e+00,  2.5397e+00,  2.2533e+00, -1.4330e+00,\n",
      "          2.8115e+00,  3.5667e+00,  2.7223e+00,  2.5616e+00, -1.7570e-01,\n",
      "         -3.3873e+00, -7.0736e-01,  4.6578e+00, -4.1627e+00, -1.6303e+00,\n",
      "         -3.8228e+00, -4.6068e-01,  4.0802e-03,  2.4806e+00, -3.5758e+00,\n",
      "          1.2549e+00,  3.4813e+00, -2.5667e+00, -2.2252e+00, -3.2783e+00,\n",
      "          1.9454e+00, -1.9833e+00, -4.2895e+00,  1.2887e+00,  2.1970e+00,\n",
      "         -3.3702e+00, -1.6236e+00,  4.0065e+00, -4.3976e+00, -1.4079e+00,\n",
      "         -1.5099e+00, -2.4780e+00, -1.0442e+00, -9.0749e-01,  7.4513e-02,\n",
      "          4.3608e+00, -2.3642e+00,  2.5086e-01, -8.6892e-01, -2.5406e+00,\n",
      "         -3.7110e+00, -4.4135e+00, -2.4207e+00, -3.2522e+00,  2.0302e+00,\n",
      "          5.1742e+00, -1.2899e+00,  3.3196e+00, -1.7676e+00,  1.4194e+00,\n",
      "          1.5599e+00,  2.3107e+00, -3.8163e+00,  3.5661e+00,  1.7066e+00,\n",
      "          8.7669e-01, -3.0198e+00, -1.8941e+00, -2.9689e+00, -1.9392e+00,\n",
      "          2.0467e+00, -1.1037e+00,  4.5928e+00,  3.2438e+00,  6.4191e-01]])\n"
     ]
    }
   ],
   "source": [
    "vec = embed_sequences(target_sequence[0], lm_embed)\n",
    "print(vec)"
   ]
  },
  {
   "cell_type": "markdown",
   "id": "cdb3cf39",
   "metadata": {},
   "source": [
    "Работает :*)"
   ]
  },
  {
   "cell_type": "code",
   "execution_count": 170,
   "id": "dc9975f8",
   "metadata": {},
   "outputs": [
    {
     "data": {
      "text/html": [
       "<div>\n",
       "<style scoped>\n",
       "    .dataframe tbody tr th:only-of-type {\n",
       "        vertical-align: middle;\n",
       "    }\n",
       "\n",
       "    .dataframe tbody tr th {\n",
       "        vertical-align: top;\n",
       "    }\n",
       "\n",
       "    .dataframe thead th {\n",
       "        text-align: right;\n",
       "    }\n",
       "</style>\n",
       "<table border=\"1\" class=\"dataframe\">\n",
       "  <thead>\n",
       "    <tr style=\"text-align: right;\">\n",
       "      <th></th>\n",
       "      <th>seq_id</th>\n",
       "      <th>protein_sequence</th>\n",
       "      <th>pH</th>\n",
       "      <th>data_source</th>\n",
       "      <th>tm</th>\n",
       "    </tr>\n",
       "  </thead>\n",
       "  <tbody>\n",
       "    <tr>\n",
       "      <th>0</th>\n",
       "      <td>0</td>\n",
       "      <td>AAAAKAAALALLGEAPEVVDIWLPAGWRQPFRVFRLERKGDGVLVG...</td>\n",
       "      <td>7.0</td>\n",
       "      <td>doi.org/10.1038/s41592-020-0801-4</td>\n",
       "      <td>75.7</td>\n",
       "    </tr>\n",
       "    <tr>\n",
       "      <th>1</th>\n",
       "      <td>1</td>\n",
       "      <td>AAADGEPLHNEEERAGAGQVGRSLPQESEEQRTGSRPRRRRDLGSR...</td>\n",
       "      <td>7.0</td>\n",
       "      <td>doi.org/10.1038/s41592-020-0801-4</td>\n",
       "      <td>50.5</td>\n",
       "    </tr>\n",
       "    <tr>\n",
       "      <th>2</th>\n",
       "      <td>2</td>\n",
       "      <td>AAAFSTPRATSYRILSSAGSGSTRADAPQVRRLHTTRDLLAKDYYA...</td>\n",
       "      <td>7.0</td>\n",
       "      <td>doi.org/10.1038/s41592-020-0801-4</td>\n",
       "      <td>40.5</td>\n",
       "    </tr>\n",
       "    <tr>\n",
       "      <th>3</th>\n",
       "      <td>3</td>\n",
       "      <td>AAASGLRTAIPAQPLRHLLQPAPRPCLRPFGLLSVRAGSARRSGLL...</td>\n",
       "      <td>7.0</td>\n",
       "      <td>doi.org/10.1038/s41592-020-0801-4</td>\n",
       "      <td>47.2</td>\n",
       "    </tr>\n",
       "    <tr>\n",
       "      <th>4</th>\n",
       "      <td>4</td>\n",
       "      <td>AAATKSGPRRQSQGASVRTFTPFYFLVEPVDTLSVRGSSVILNCSA...</td>\n",
       "      <td>7.0</td>\n",
       "      <td>doi.org/10.1038/s41592-020-0801-4</td>\n",
       "      <td>49.5</td>\n",
       "    </tr>\n",
       "  </tbody>\n",
       "</table>\n",
       "</div>"
      ],
      "text/plain": [
       "   seq_id                                   protein_sequence   pH  \\\n",
       "0       0  AAAAKAAALALLGEAPEVVDIWLPAGWRQPFRVFRLERKGDGVLVG...  7.0   \n",
       "1       1  AAADGEPLHNEEERAGAGQVGRSLPQESEEQRTGSRPRRRRDLGSR...  7.0   \n",
       "2       2  AAAFSTPRATSYRILSSAGSGSTRADAPQVRRLHTTRDLLAKDYYA...  7.0   \n",
       "3       3  AAASGLRTAIPAQPLRHLLQPAPRPCLRPFGLLSVRAGSARRSGLL...  7.0   \n",
       "4       4  AAATKSGPRRQSQGASVRTFTPFYFLVEPVDTLSVRGSSVILNCSA...  7.0   \n",
       "\n",
       "                         data_source    tm  \n",
       "0  doi.org/10.1038/s41592-020-0801-4  75.7  \n",
       "1  doi.org/10.1038/s41592-020-0801-4  50.5  \n",
       "2  doi.org/10.1038/s41592-020-0801-4  40.5  \n",
       "3  doi.org/10.1038/s41592-020-0801-4  47.2  \n",
       "4  doi.org/10.1038/s41592-020-0801-4  49.5  "
      ]
     },
     "execution_count": 170,
     "metadata": {},
     "output_type": "execute_result"
    }
   ],
   "source": [
    "import pandas as pd\n",
    "\n",
    "data2 = pd.read_csv('data2.csv', sep='\\t')\n",
    "data2.head()"
   ]
  },
  {
   "cell_type": "code",
   "execution_count": 171,
   "id": "cceca5bb",
   "metadata": {},
   "outputs": [
    {
     "name": "stdout",
     "output_type": "stream",
     "text": [
      "Requirement already satisfied: tqdm in /root/miniconda3/envs/py35/lib/python3.5/site-packages\n",
      "Requirement already satisfied: importlib-resources; python_version < \"3.7\" in /root/miniconda3/envs/py35/lib/python3.5/site-packages (from tqdm)\n",
      "Requirement already satisfied: zipp>=0.4; python_version < \"3.8\" in /root/miniconda3/envs/py35/lib/python3.5/site-packages (from importlib-resources; python_version < \"3.7\"->tqdm)\n",
      "\u001b[33mYou are using pip version 9.0.1, however version 23.1.2 is available.\n",
      "You should consider upgrading via the 'pip install --upgrade pip' command.\u001b[0m\n"
     ]
    }
   ],
   "source": [
    "# модуль красиво показывает время выполнения ячейки\n",
    "! pip install tqdm "
   ]
  },
  {
   "cell_type": "markdown",
   "id": "79d31306",
   "metadata": {},
   "source": [
    "загрузим тестовые данные 500 последовательностей."
   ]
  },
  {
   "cell_type": "code",
   "execution_count": 175,
   "id": "6ea59125",
   "metadata": {},
   "outputs": [
    {
     "name": "stderr",
     "output_type": "stream",
     "text": [
      "/root/miniconda3/envs/py35/lib/python3.5/site-packages/torch/serialization.py:493: SourceChangeWarning: source code of class 'torch.nn.modules.sparse.Embedding' has changed. you can retrieve the original source code by accessing the object's source attribute or set `torch.nn.Module.dump_patches = True` and use the patch tool to revert the changes.\n",
      "  warnings.warn(msg, SourceChangeWarning)\n",
      "/root/miniconda3/envs/py35/lib/python3.5/site-packages/torch/serialization.py:493: SourceChangeWarning: source code of class 'src.models.sequence.BiLM' has changed. you can retrieve the original source code by accessing the object's source attribute or set `torch.nn.Module.dump_patches = True` and use the patch tool to revert the changes.\n",
      "  warnings.warn(msg, SourceChangeWarning)\n",
      "/root/miniconda3/envs/py35/lib/python3.5/site-packages/torch/serialization.py:493: SourceChangeWarning: source code of class 'torch.nn.modules.dropout.Dropout' has changed. you can retrieve the original source code by accessing the object's source attribute or set `torch.nn.Module.dump_patches = True` and use the patch tool to revert the changes.\n",
      "  warnings.warn(msg, SourceChangeWarning)\n",
      "/root/miniconda3/envs/py35/lib/python3.5/site-packages/torch/serialization.py:493: SourceChangeWarning: source code of class 'torch.nn.modules.container.ModuleList' has changed. you can retrieve the original source code by accessing the object's source attribute or set `torch.nn.Module.dump_patches = True` and use the patch tool to revert the changes.\n",
      "  warnings.warn(msg, SourceChangeWarning)\n",
      "/root/miniconda3/envs/py35/lib/python3.5/site-packages/torch/serialization.py:493: SourceChangeWarning: source code of class 'torch.nn.modules.rnn.LSTM' has changed. you can retrieve the original source code by accessing the object's source attribute or set `torch.nn.Module.dump_patches = True` and use the patch tool to revert the changes.\n",
      "  warnings.warn(msg, SourceChangeWarning)\n",
      "/root/miniconda3/envs/py35/lib/python3.5/site-packages/torch/serialization.py:493: SourceChangeWarning: source code of class 'torch.nn.modules.linear.Linear' has changed. you can retrieve the original source code by accessing the object's source attribute or set `torch.nn.Module.dump_patches = True` and use the patch tool to revert the changes.\n",
      "  warnings.warn(msg, SourceChangeWarning)\n",
      "/root/miniconda3/envs/py35/lib/python3.5/site-packages/torch/serialization.py:493: SourceChangeWarning: source code of class 'torch.nn.modules.activation.ReLU' has changed. you can retrieve the original source code by accessing the object's source attribute or set `torch.nn.Module.dump_patches = True` and use the patch tool to revert the changes.\n",
      "  warnings.warn(msg, SourceChangeWarning)\n",
      "Total: 100%|######################################################| 500/500 [03:51<00:00,  2.16it/s]\n"
     ]
    }
   ],
   "source": [
    "from tqdm import tqdm\n",
    "\n",
    "#так как она показала себя лучше. Там была задача кластеризации, но думаю подойдет.\n",
    "# вектор состоит из средних значений и этот подход себя тоже лучше показал согласно пособию. (пособие выше после рыданий)\n",
    "\n",
    "model = torch.load('/mnt/c/Users/Ilya/PycharmProjects/BI_Stat_22-23-main/additional_task/pretrained_models/ssa_L1_100d_lstm3x512_lm_i512_mb64_tau0.5_p0.05_epoch100.sav')\n",
    "model = model.eval()\n",
    "lm_embed = model.embedding\n",
    "\n",
    "dict_id_protvec = []\n",
    "\n",
    "for i in tqdm(range(0, 500), ncols=100, ascii=True, desc='Total'):\n",
    "    try:\n",
    "        seq = data2['protein_sequence'][i]\n",
    "    except Exception:\n",
    "        pass\n",
    "    dict_id_protvec.append(embed_sequences(seq, lm_embed))"
   ]
  },
  {
   "cell_type": "code",
   "execution_count": 177,
   "id": "988145da",
   "metadata": {},
   "outputs": [],
   "source": [
    "import torch\n",
    "\n",
    "# Assuming your tensor is named \"tensor_data\"\n",
    "tensor_data = dict_id_protvec  # Replace with your actual tensor\n",
    "\n",
    "# Specify the file path where you want to save the tensor\n",
    "file_path = \"dict_id_protvec_500.pt\"  # Replace with your desired file path and extension\n",
    "\n",
    "# Save the tensor to file\n",
    "torch.save(tensor_data, file_path)"
   ]
  },
  {
   "cell_type": "code",
   "execution_count": null,
   "id": "b8a07f1a",
   "metadata": {},
   "outputs": [],
   "source": [
    "from tqdm import tqdm\n",
    "\n",
    "# я выбрал модель согласно пособию, так как она показала себя лучше. Там была задача кластеризации, но думаю подойдет.\n",
    "# вектор состоит из средних значений и этот подход себя тоже лучше показал согласно пособию. (пособие выше после рыданий)\n",
    "\n",
    "model = torch.load('/mnt/c/Users/Ilya/PycharmProjects/BI_Stat_22-23-main/additional_task/pretrained_models/ssa_L1_100d_lstm3x512_lm_i512_mb64_tau0.5_p0.05_epoch100.sav')\n",
    "model = model.eval()\n",
    "lm_embed = model.embedding\n",
    "\n",
    "dict_id_protvec_2 = {}\n",
    "\n",
    "for i in tqdm(range(data2.shape[0]//2, data2.shape[0]+1), ncols=100, ascii=True, desc='Total'):\n",
    "    try:\n",
    "        seq = data2['protein_sequence'][i]\n",
    "    except Exception:\n",
    "        pass\n",
    "    dict_id_protvec_2[str(data2['seq_id'][i])] = embed_sequences(seq, lm_embed)"
   ]
  },
  {
   "cell_type": "markdown",
   "id": "597d723e",
   "metadata": {},
   "source": [
    "## Загрузка данных"
   ]
  },
  {
   "cell_type": "code",
   "execution_count": 9,
   "id": "90db080d",
   "metadata": {},
   "outputs": [
    {
     "name": "stdout",
     "output_type": "stream",
     "text": [
      "Requirement already satisfied: pandas in /home/codespace/.local/lib/python3.10/site-packages (2.0.1)\n",
      "Requirement already satisfied: python-dateutil>=2.8.2 in /home/codespace/.local/lib/python3.10/site-packages (from pandas) (2.8.2)\n",
      "Requirement already satisfied: pytz>=2020.1 in /home/codespace/.local/lib/python3.10/site-packages (from pandas) (2023.3)\n",
      "Requirement already satisfied: tzdata>=2022.1 in /home/codespace/.local/lib/python3.10/site-packages (from pandas) (2023.3)\n",
      "Requirement already satisfied: numpy>=1.21.0 in /usr/local/python/3.10.4/lib/python3.10/site-packages (from pandas) (1.23.5)\n",
      "Requirement already satisfied: six>=1.5 in /home/codespace/.local/lib/python3.10/site-packages (from python-dateutil>=2.8.2->pandas) (1.16.0)\n",
      "Requirement already satisfied: torch in /home/codespace/.local/lib/python3.10/site-packages (2.0.0)\n",
      "Requirement already satisfied: filelock in /home/codespace/.local/lib/python3.10/site-packages (from torch) (3.12.0)\n",
      "Requirement already satisfied: typing-extensions in /home/codespace/.local/lib/python3.10/site-packages (from torch) (4.5.0)\n",
      "Requirement already satisfied: sympy in /home/codespace/.local/lib/python3.10/site-packages (from torch) (1.11.1)\n",
      "Requirement already satisfied: networkx in /home/codespace/.local/lib/python3.10/site-packages (from torch) (3.1)\n",
      "Requirement already satisfied: jinja2 in /home/codespace/.local/lib/python3.10/site-packages (from torch) (3.1.2)\n",
      "Requirement already satisfied: nvidia-cuda-nvrtc-cu11==11.7.99 in /home/codespace/.local/lib/python3.10/site-packages (from torch) (11.7.99)\n",
      "Requirement already satisfied: nvidia-cuda-runtime-cu11==11.7.99 in /home/codespace/.local/lib/python3.10/site-packages (from torch) (11.7.99)\n",
      "Requirement already satisfied: nvidia-cuda-cupti-cu11==11.7.101 in /home/codespace/.local/lib/python3.10/site-packages (from torch) (11.7.101)\n",
      "Requirement already satisfied: nvidia-cudnn-cu11==8.5.0.96 in /home/codespace/.local/lib/python3.10/site-packages (from torch) (8.5.0.96)\n",
      "Requirement already satisfied: nvidia-cublas-cu11==11.10.3.66 in /home/codespace/.local/lib/python3.10/site-packages (from torch) (11.10.3.66)\n",
      "Requirement already satisfied: nvidia-cufft-cu11==10.9.0.58 in /home/codespace/.local/lib/python3.10/site-packages (from torch) (10.9.0.58)\n",
      "Requirement already satisfied: nvidia-curand-cu11==10.2.10.91 in /home/codespace/.local/lib/python3.10/site-packages (from torch) (10.2.10.91)\n",
      "Requirement already satisfied: nvidia-cusolver-cu11==11.4.0.1 in /home/codespace/.local/lib/python3.10/site-packages (from torch) (11.4.0.1)\n",
      "Requirement already satisfied: nvidia-cusparse-cu11==11.7.4.91 in /home/codespace/.local/lib/python3.10/site-packages (from torch) (11.7.4.91)\n",
      "Requirement already satisfied: nvidia-nccl-cu11==2.14.3 in /home/codespace/.local/lib/python3.10/site-packages (from torch) (2.14.3)\n",
      "Requirement already satisfied: nvidia-nvtx-cu11==11.7.91 in /home/codespace/.local/lib/python3.10/site-packages (from torch) (11.7.91)\n",
      "Requirement already satisfied: triton==2.0.0 in /home/codespace/.local/lib/python3.10/site-packages (from torch) (2.0.0)\n",
      "Requirement already satisfied: setuptools in /home/codespace/.local/lib/python3.10/site-packages (from nvidia-cublas-cu11==11.10.3.66->torch) (67.7.2)\n",
      "Requirement already satisfied: wheel in /home/codespace/.local/lib/python3.10/site-packages (from nvidia-cublas-cu11==11.10.3.66->torch) (0.40.0)\n",
      "Requirement already satisfied: cmake in /home/codespace/.local/lib/python3.10/site-packages (from triton==2.0.0->torch) (3.26.3)\n",
      "Requirement already satisfied: lit in /home/codespace/.local/lib/python3.10/site-packages (from triton==2.0.0->torch) (16.0.2)\n",
      "Requirement already satisfied: MarkupSafe>=2.0 in /home/codespace/.local/lib/python3.10/site-packages (from jinja2->torch) (2.1.2)\n",
      "Requirement already satisfied: mpmath>=0.19 in /home/codespace/.local/lib/python3.10/site-packages (from sympy->torch) (1.3.0)\n",
      "Requirement already satisfied: tensorflow in /usr/local/python/3.10.4/lib/python3.10/site-packages (2.12.0)\n",
      "Requirement already satisfied: absl-py>=1.0.0 in /usr/local/python/3.10.4/lib/python3.10/site-packages (from tensorflow) (1.4.0)\n",
      "Requirement already satisfied: astunparse>=1.6.0 in /usr/local/python/3.10.4/lib/python3.10/site-packages (from tensorflow) (1.6.3)\n",
      "Requirement already satisfied: flatbuffers>=2.0 in /usr/local/python/3.10.4/lib/python3.10/site-packages (from tensorflow) (23.5.9)\n",
      "Requirement already satisfied: gast<=0.4.0,>=0.2.1 in /usr/local/python/3.10.4/lib/python3.10/site-packages (from tensorflow) (0.4.0)\n",
      "Requirement already satisfied: google-pasta>=0.1.1 in /usr/local/python/3.10.4/lib/python3.10/site-packages (from tensorflow) (0.2.0)\n",
      "Requirement already satisfied: grpcio<2.0,>=1.24.3 in /usr/local/python/3.10.4/lib/python3.10/site-packages (from tensorflow) (1.54.2)\n",
      "Requirement already satisfied: h5py>=2.9.0 in /usr/local/python/3.10.4/lib/python3.10/site-packages (from tensorflow) (3.8.0)\n",
      "Requirement already satisfied: jax>=0.3.15 in /usr/local/python/3.10.4/lib/python3.10/site-packages (from tensorflow) (0.4.10)\n",
      "Requirement already satisfied: keras<2.13,>=2.12.0 in /usr/local/python/3.10.4/lib/python3.10/site-packages (from tensorflow) (2.12.0)\n",
      "Requirement already satisfied: libclang>=13.0.0 in /usr/local/python/3.10.4/lib/python3.10/site-packages (from tensorflow) (16.0.0)\n",
      "Requirement already satisfied: numpy<1.24,>=1.22 in /usr/local/python/3.10.4/lib/python3.10/site-packages (from tensorflow) (1.23.5)\n",
      "Requirement already satisfied: opt-einsum>=2.3.2 in /usr/local/python/3.10.4/lib/python3.10/site-packages (from tensorflow) (3.3.0)\n",
      "Requirement already satisfied: packaging in /home/codespace/.local/lib/python3.10/site-packages (from tensorflow) (23.1)\n",
      "Requirement already satisfied: protobuf!=4.21.0,!=4.21.1,!=4.21.2,!=4.21.3,!=4.21.4,!=4.21.5,<5.0.0dev,>=3.20.3 in /usr/local/python/3.10.4/lib/python3.10/site-packages (from tensorflow) (4.23.1)\n",
      "Requirement already satisfied: setuptools in /home/codespace/.local/lib/python3.10/site-packages (from tensorflow) (67.7.2)\n",
      "Requirement already satisfied: six>=1.12.0 in /home/codespace/.local/lib/python3.10/site-packages (from tensorflow) (1.16.0)\n",
      "Requirement already satisfied: tensorboard<2.13,>=2.12 in /usr/local/python/3.10.4/lib/python3.10/site-packages (from tensorflow) (2.12.3)\n",
      "Requirement already satisfied: tensorflow-estimator<2.13,>=2.12.0 in /usr/local/python/3.10.4/lib/python3.10/site-packages (from tensorflow) (2.12.0)\n",
      "Requirement already satisfied: termcolor>=1.1.0 in /usr/local/python/3.10.4/lib/python3.10/site-packages (from tensorflow) (2.3.0)\n",
      "Requirement already satisfied: typing-extensions>=3.6.6 in /home/codespace/.local/lib/python3.10/site-packages (from tensorflow) (4.5.0)\n",
      "Requirement already satisfied: wrapt<1.15,>=1.11.0 in /usr/local/python/3.10.4/lib/python3.10/site-packages (from tensorflow) (1.14.1)\n",
      "Requirement already satisfied: tensorflow-io-gcs-filesystem>=0.23.1 in /usr/local/python/3.10.4/lib/python3.10/site-packages (from tensorflow) (0.32.0)\n",
      "Requirement already satisfied: wheel<1.0,>=0.23.0 in /home/codespace/.local/lib/python3.10/site-packages (from astunparse>=1.6.0->tensorflow) (0.40.0)\n",
      "Requirement already satisfied: ml-dtypes>=0.1.0 in /usr/local/python/3.10.4/lib/python3.10/site-packages (from jax>=0.3.15->tensorflow) (0.1.0)\n",
      "Requirement already satisfied: scipy>=1.7 in /home/codespace/.local/lib/python3.10/site-packages (from jax>=0.3.15->tensorflow) (1.10.1)\n",
      "Requirement already satisfied: google-auth<3,>=1.6.3 in /usr/local/python/3.10.4/lib/python3.10/site-packages (from tensorboard<2.13,>=2.12->tensorflow) (2.18.1)\n",
      "Requirement already satisfied: google-auth-oauthlib<1.1,>=0.5 in /usr/local/python/3.10.4/lib/python3.10/site-packages (from tensorboard<2.13,>=2.12->tensorflow) (1.0.0)\n",
      "Requirement already satisfied: markdown>=2.6.8 in /usr/local/python/3.10.4/lib/python3.10/site-packages (from tensorboard<2.13,>=2.12->tensorflow) (3.4.3)\n",
      "Requirement already satisfied: requests<3,>=2.21.0 in /home/codespace/.local/lib/python3.10/site-packages (from tensorboard<2.13,>=2.12->tensorflow) (2.28.2)\n",
      "Requirement already satisfied: tensorboard-data-server<0.8.0,>=0.7.0 in /usr/local/python/3.10.4/lib/python3.10/site-packages (from tensorboard<2.13,>=2.12->tensorflow) (0.7.0)\n",
      "Requirement already satisfied: werkzeug>=1.0.1 in /usr/local/python/3.10.4/lib/python3.10/site-packages (from tensorboard<2.13,>=2.12->tensorflow) (2.3.4)\n",
      "Requirement already satisfied: cachetools<6.0,>=2.0.0 in /usr/local/python/3.10.4/lib/python3.10/site-packages (from google-auth<3,>=1.6.3->tensorboard<2.13,>=2.12->tensorflow) (5.3.0)\n",
      "Requirement already satisfied: pyasn1-modules>=0.2.1 in /usr/local/python/3.10.4/lib/python3.10/site-packages (from google-auth<3,>=1.6.3->tensorboard<2.13,>=2.12->tensorflow) (0.3.0)\n",
      "Requirement already satisfied: urllib3<2.0 in /home/codespace/.local/lib/python3.10/site-packages (from google-auth<3,>=1.6.3->tensorboard<2.13,>=2.12->tensorflow) (1.26.15)\n",
      "Requirement already satisfied: rsa<5,>=3.1.4 in /usr/local/python/3.10.4/lib/python3.10/site-packages (from google-auth<3,>=1.6.3->tensorboard<2.13,>=2.12->tensorflow) (4.9)\n",
      "Requirement already satisfied: requests-oauthlib>=0.7.0 in /usr/local/python/3.10.4/lib/python3.10/site-packages (from google-auth-oauthlib<1.1,>=0.5->tensorboard<2.13,>=2.12->tensorflow) (1.3.1)\n",
      "Requirement already satisfied: charset-normalizer<4,>=2 in /home/codespace/.local/lib/python3.10/site-packages (from requests<3,>=2.21.0->tensorboard<2.13,>=2.12->tensorflow) (3.1.0)\n",
      "Requirement already satisfied: idna<4,>=2.5 in /home/codespace/.local/lib/python3.10/site-packages (from requests<3,>=2.21.0->tensorboard<2.13,>=2.12->tensorflow) (3.4)\n",
      "Requirement already satisfied: certifi>=2017.4.17 in /home/codespace/.local/lib/python3.10/site-packages (from requests<3,>=2.21.0->tensorboard<2.13,>=2.12->tensorflow) (2022.12.7)\n",
      "Requirement already satisfied: MarkupSafe>=2.1.1 in /home/codespace/.local/lib/python3.10/site-packages (from werkzeug>=1.0.1->tensorboard<2.13,>=2.12->tensorflow) (2.1.2)\n",
      "Requirement already satisfied: pyasn1<0.6.0,>=0.4.6 in /usr/local/python/3.10.4/lib/python3.10/site-packages (from pyasn1-modules>=0.2.1->google-auth<3,>=1.6.3->tensorboard<2.13,>=2.12->tensorflow) (0.5.0)\n",
      "Requirement already satisfied: oauthlib>=3.0.0 in /usr/local/python/3.10.4/lib/python3.10/site-packages (from requests-oauthlib>=0.7.0->google-auth-oauthlib<1.1,>=0.5->tensorboard<2.13,>=2.12->tensorflow) (3.2.2)\n",
      "Requirement already satisfied: scipy in /home/codespace/.local/lib/python3.10/site-packages (1.10.1)\n",
      "Requirement already satisfied: numpy<1.27.0,>=1.19.5 in /usr/local/python/3.10.4/lib/python3.10/site-packages (from scipy) (1.23.5)\n",
      "Collecting numpy==1.18\n",
      "  Downloading numpy-1.18.0.zip (5.4 MB)\n",
      "\u001b[2K     \u001b[90m━━━━━━━━━━━━━━━━━━━━━━━━━━━━━━━━━━━━━━━━\u001b[0m \u001b[32m5.4/5.4 MB\u001b[0m \u001b[31m38.6 MB/s\u001b[0m eta \u001b[36m0:00:00\u001b[0m00:01\u001b[0m:00:01\u001b[0m\n",
      "\u001b[?25h  Installing build dependencies ... \u001b[?25ldone\n",
      "\u001b[?25h  Getting requirements to build wheel ... \u001b[?25ldone\n",
      "\u001b[?25h  Preparing metadata (pyproject.toml) ... \u001b[?25ldone\n",
      "\u001b[?25hBuilding wheels for collected packages: numpy\n",
      "  Building wheel for numpy (pyproject.toml) ... \u001b[?25lerror\n",
      "  \u001b[1;31merror\u001b[0m: \u001b[1msubprocess-exited-with-error\u001b[0m\n",
      "  \n",
      "  \u001b[31m×\u001b[0m \u001b[32mBuilding wheel for numpy \u001b[0m\u001b[1;32m(\u001b[0m\u001b[32mpyproject.toml\u001b[0m\u001b[1;32m)\u001b[0m did not run successfully.\n",
      "  \u001b[31m│\u001b[0m exit code: \u001b[1;36m1\u001b[0m\n",
      "  \u001b[31m╰─>\u001b[0m \u001b[31m[1130 lines of output]\u001b[0m\n",
      "  \u001b[31m   \u001b[0m Running from numpy source directory.\n",
      "  \u001b[31m   \u001b[0m Cythonizing sources\n",
      "  \u001b[31m   \u001b[0m numpy/random/_bounded_integers.pxd.in has not changed\n",
      "  \u001b[31m   \u001b[0m numpy/random/_pcg64.pyx has not changed\n",
      "  \u001b[31m   \u001b[0m numpy/random/_generator.pyx has not changed\n",
      "  \u001b[31m   \u001b[0m numpy/random/_common.pyx has not changed\n",
      "  \u001b[31m   \u001b[0m numpy/random/_philox.pyx has not changed\n",
      "  \u001b[31m   \u001b[0m numpy/random/mtrand.pyx has not changed\n",
      "  \u001b[31m   \u001b[0m numpy/random/_bit_generator.pyx has not changed\n",
      "  \u001b[31m   \u001b[0m numpy/random/_sfc64.pyx has not changed\n",
      "  \u001b[31m   \u001b[0m numpy/random/_bounded_integers.pyx.in has not changed\n",
      "  \u001b[31m   \u001b[0m numpy/random/_mt19937.pyx has not changed\n",
      "  \u001b[31m   \u001b[0m Processing numpy/random/_bounded_integers.pyx\n",
      "  \u001b[31m   \u001b[0m /tmp/pip-install-965e40p4/numpy_b5ce5a1aba6f449ab6ecb29d263a27b4/tools/cythonize.py:75: DeprecationWarning: distutils Version classes are deprecated. Use packaging.version instead.\n",
      "  \u001b[31m   \u001b[0m   required_version = LooseVersion('0.29.13')\n",
      "  \u001b[31m   \u001b[0m /tmp/pip-install-965e40p4/numpy_b5ce5a1aba6f449ab6ecb29d263a27b4/tools/cythonize.py:77: DeprecationWarning: distutils Version classes are deprecated. Use packaging.version instead.\n",
      "  \u001b[31m   \u001b[0m   if LooseVersion(cython_version) < required_version:\n",
      "  \u001b[31m   \u001b[0m blas_opt_info:\n",
      "  \u001b[31m   \u001b[0m blas_mkl_info:\n",
      "  \u001b[31m   \u001b[0m customize UnixCCompiler\n",
      "  \u001b[31m   \u001b[0m   libraries mkl_rt not found in ['/home/codespace/.python/current/lib', '/usr/local/lib', '/usr/lib64', '/usr/lib', '/usr/lib/x86_64-linux-gnu']\n",
      "  \u001b[31m   \u001b[0m   NOT AVAILABLE\n",
      "  \u001b[31m   \u001b[0m \n",
      "  \u001b[31m   \u001b[0m blis_info:\n",
      "  \u001b[31m   \u001b[0m   libraries blis not found in ['/home/codespace/.python/current/lib', '/usr/local/lib', '/usr/lib64', '/usr/lib', '/usr/lib/x86_64-linux-gnu']\n",
      "  \u001b[31m   \u001b[0m   NOT AVAILABLE\n",
      "  \u001b[31m   \u001b[0m \n",
      "  \u001b[31m   \u001b[0m openblas_info:\n",
      "  \u001b[31m   \u001b[0m   libraries openblas not found in ['/home/codespace/.python/current/lib', '/usr/local/lib', '/usr/lib64', '/usr/lib', '/usr/lib/x86_64-linux-gnu']\n",
      "  \u001b[31m   \u001b[0m   NOT AVAILABLE\n",
      "  \u001b[31m   \u001b[0m \n",
      "  \u001b[31m   \u001b[0m atlas_3_10_blas_threads_info:\n",
      "  \u001b[31m   \u001b[0m Setting PTATLAS=ATLAS\n",
      "  \u001b[31m   \u001b[0m   libraries tatlas not found in ['/home/codespace/.python/current/lib', '/usr/local/lib', '/usr/lib64', '/usr/lib', '/usr/lib/x86_64-linux-gnu']\n",
      "  \u001b[31m   \u001b[0m   NOT AVAILABLE\n",
      "  \u001b[31m   \u001b[0m \n",
      "  \u001b[31m   \u001b[0m atlas_3_10_blas_info:\n",
      "  \u001b[31m   \u001b[0m   libraries satlas not found in ['/home/codespace/.python/current/lib', '/usr/local/lib', '/usr/lib64', '/usr/lib', '/usr/lib/x86_64-linux-gnu']\n",
      "  \u001b[31m   \u001b[0m   NOT AVAILABLE\n",
      "  \u001b[31m   \u001b[0m \n",
      "  \u001b[31m   \u001b[0m atlas_blas_threads_info:\n",
      "  \u001b[31m   \u001b[0m Setting PTATLAS=ATLAS\n",
      "  \u001b[31m   \u001b[0m   libraries ptf77blas,ptcblas,atlas not found in ['/home/codespace/.python/current/lib', '/usr/local/lib', '/usr/lib64', '/usr/lib', '/usr/lib/x86_64-linux-gnu']\n",
      "  \u001b[31m   \u001b[0m   NOT AVAILABLE\n",
      "  \u001b[31m   \u001b[0m \n",
      "  \u001b[31m   \u001b[0m atlas_blas_info:\n",
      "  \u001b[31m   \u001b[0m   libraries f77blas,cblas,atlas not found in ['/home/codespace/.python/current/lib', '/usr/local/lib', '/usr/lib64', '/usr/lib', '/usr/lib/x86_64-linux-gnu']\n",
      "  \u001b[31m   \u001b[0m   NOT AVAILABLE\n",
      "  \u001b[31m   \u001b[0m \n",
      "  \u001b[31m   \u001b[0m accelerate_info:\n",
      "  \u001b[31m   \u001b[0m   NOT AVAILABLE\n",
      "  \u001b[31m   \u001b[0m \n",
      "  \u001b[31m   \u001b[0m /tmp/pip-install-965e40p4/numpy_b5ce5a1aba6f449ab6ecb29d263a27b4/numpy/distutils/system_info.py:1896: UserWarning:\n",
      "  \u001b[31m   \u001b[0m     Optimized (vendor) Blas libraries are not found.\n",
      "  \u001b[31m   \u001b[0m     Falls back to netlib Blas library which has worse performance.\n",
      "  \u001b[31m   \u001b[0m     A better performance should be easily gained by switching\n",
      "  \u001b[31m   \u001b[0m     Blas library.\n",
      "  \u001b[31m   \u001b[0m   if self._calc_info(blas):\n",
      "  \u001b[31m   \u001b[0m blas_info:\n",
      "  \u001b[31m   \u001b[0m   libraries blas not found in ['/home/codespace/.python/current/lib', '/usr/local/lib', '/usr/lib64', '/usr/lib', '/usr/lib/x86_64-linux-gnu']\n",
      "  \u001b[31m   \u001b[0m   NOT AVAILABLE\n",
      "  \u001b[31m   \u001b[0m \n",
      "  \u001b[31m   \u001b[0m /tmp/pip-install-965e40p4/numpy_b5ce5a1aba6f449ab6ecb29d263a27b4/numpy/distutils/system_info.py:1896: UserWarning:\n",
      "  \u001b[31m   \u001b[0m     Blas (http://www.netlib.org/blas/) libraries not found.\n",
      "  \u001b[31m   \u001b[0m     Directories to search for the libraries can be specified in the\n",
      "  \u001b[31m   \u001b[0m     numpy/distutils/site.cfg file (section [blas]) or by setting\n",
      "  \u001b[31m   \u001b[0m     the BLAS environment variable.\n",
      "  \u001b[31m   \u001b[0m   if self._calc_info(blas):\n",
      "  \u001b[31m   \u001b[0m blas_src_info:\n",
      "  \u001b[31m   \u001b[0m   NOT AVAILABLE\n",
      "  \u001b[31m   \u001b[0m \n",
      "  \u001b[31m   \u001b[0m /tmp/pip-install-965e40p4/numpy_b5ce5a1aba6f449ab6ecb29d263a27b4/numpy/distutils/system_info.py:1896: UserWarning:\n",
      "  \u001b[31m   \u001b[0m     Blas (http://www.netlib.org/blas/) sources not found.\n",
      "  \u001b[31m   \u001b[0m     Directories to search for the sources can be specified in the\n",
      "  \u001b[31m   \u001b[0m     numpy/distutils/site.cfg file (section [blas_src]) or by setting\n",
      "  \u001b[31m   \u001b[0m     the BLAS_SRC environment variable.\n",
      "  \u001b[31m   \u001b[0m   if self._calc_info(blas):\n",
      "  \u001b[31m   \u001b[0m   NOT AVAILABLE\n",
      "  \u001b[31m   \u001b[0m \n",
      "  \u001b[31m   \u001b[0m /bin/sh: 1: svnversion: not found\n",
      "  \u001b[31m   \u001b[0m non-existing path in 'numpy/distutils': 'site.cfg'\n",
      "  \u001b[31m   \u001b[0m lapack_opt_info:\n",
      "  \u001b[31m   \u001b[0m lapack_mkl_info:\n",
      "  \u001b[31m   \u001b[0m   libraries mkl_rt not found in ['/home/codespace/.python/current/lib', '/usr/local/lib', '/usr/lib64', '/usr/lib', '/usr/lib/x86_64-linux-gnu']\n",
      "  \u001b[31m   \u001b[0m   NOT AVAILABLE\n",
      "  \u001b[31m   \u001b[0m \n",
      "  \u001b[31m   \u001b[0m openblas_lapack_info:\n",
      "  \u001b[31m   \u001b[0m   libraries openblas not found in ['/home/codespace/.python/current/lib', '/usr/local/lib', '/usr/lib64', '/usr/lib', '/usr/lib/x86_64-linux-gnu']\n",
      "  \u001b[31m   \u001b[0m   NOT AVAILABLE\n",
      "  \u001b[31m   \u001b[0m \n",
      "  \u001b[31m   \u001b[0m openblas_clapack_info:\n",
      "  \u001b[31m   \u001b[0m   libraries openblas,lapack not found in ['/home/codespace/.python/current/lib', '/usr/local/lib', '/usr/lib64', '/usr/lib', '/usr/lib/x86_64-linux-gnu']\n",
      "  \u001b[31m   \u001b[0m   NOT AVAILABLE\n",
      "  \u001b[31m   \u001b[0m \n",
      "  \u001b[31m   \u001b[0m flame_info:\n",
      "  \u001b[31m   \u001b[0m   libraries flame not found in ['/home/codespace/.python/current/lib', '/usr/local/lib', '/usr/lib64', '/usr/lib', '/usr/lib/x86_64-linux-gnu']\n",
      "  \u001b[31m   \u001b[0m   NOT AVAILABLE\n",
      "  \u001b[31m   \u001b[0m \n",
      "  \u001b[31m   \u001b[0m atlas_3_10_threads_info:\n",
      "  \u001b[31m   \u001b[0m Setting PTATLAS=ATLAS\n",
      "  \u001b[31m   \u001b[0m   libraries lapack_atlas not found in /home/codespace/.python/current/lib\n",
      "  \u001b[31m   \u001b[0m   libraries tatlas,tatlas not found in /home/codespace/.python/current/lib\n",
      "  \u001b[31m   \u001b[0m   libraries lapack_atlas not found in /usr/local/lib\n",
      "  \u001b[31m   \u001b[0m   libraries tatlas,tatlas not found in /usr/local/lib\n",
      "  \u001b[31m   \u001b[0m   libraries lapack_atlas not found in /usr/lib64\n",
      "  \u001b[31m   \u001b[0m   libraries tatlas,tatlas not found in /usr/lib64\n",
      "  \u001b[31m   \u001b[0m   libraries lapack_atlas not found in /usr/lib\n",
      "  \u001b[31m   \u001b[0m   libraries tatlas,tatlas not found in /usr/lib\n",
      "  \u001b[31m   \u001b[0m   libraries lapack_atlas not found in /usr/lib/x86_64-linux-gnu\n",
      "  \u001b[31m   \u001b[0m   libraries tatlas,tatlas not found in /usr/lib/x86_64-linux-gnu\n",
      "  \u001b[31m   \u001b[0m <class 'numpy.distutils.system_info.atlas_3_10_threads_info'>\n",
      "  \u001b[31m   \u001b[0m   NOT AVAILABLE\n",
      "  \u001b[31m   \u001b[0m \n",
      "  \u001b[31m   \u001b[0m atlas_3_10_info:\n",
      "  \u001b[31m   \u001b[0m   libraries lapack_atlas not found in /home/codespace/.python/current/lib\n",
      "  \u001b[31m   \u001b[0m   libraries satlas,satlas not found in /home/codespace/.python/current/lib\n",
      "  \u001b[31m   \u001b[0m   libraries lapack_atlas not found in /usr/local/lib\n",
      "  \u001b[31m   \u001b[0m   libraries satlas,satlas not found in /usr/local/lib\n",
      "  \u001b[31m   \u001b[0m   libraries lapack_atlas not found in /usr/lib64\n",
      "  \u001b[31m   \u001b[0m   libraries satlas,satlas not found in /usr/lib64\n",
      "  \u001b[31m   \u001b[0m   libraries lapack_atlas not found in /usr/lib\n",
      "  \u001b[31m   \u001b[0m   libraries satlas,satlas not found in /usr/lib\n",
      "  \u001b[31m   \u001b[0m   libraries lapack_atlas not found in /usr/lib/x86_64-linux-gnu\n",
      "  \u001b[31m   \u001b[0m   libraries satlas,satlas not found in /usr/lib/x86_64-linux-gnu\n",
      "  \u001b[31m   \u001b[0m <class 'numpy.distutils.system_info.atlas_3_10_info'>\n",
      "  \u001b[31m   \u001b[0m   NOT AVAILABLE\n",
      "  \u001b[31m   \u001b[0m \n",
      "  \u001b[31m   \u001b[0m atlas_threads_info:\n",
      "  \u001b[31m   \u001b[0m Setting PTATLAS=ATLAS\n",
      "  \u001b[31m   \u001b[0m   libraries lapack_atlas not found in /home/codespace/.python/current/lib\n",
      "  \u001b[31m   \u001b[0m   libraries ptf77blas,ptcblas,atlas not found in /home/codespace/.python/current/lib\n",
      "  \u001b[31m   \u001b[0m   libraries lapack_atlas not found in /usr/local/lib\n",
      "  \u001b[31m   \u001b[0m   libraries ptf77blas,ptcblas,atlas not found in /usr/local/lib\n",
      "  \u001b[31m   \u001b[0m   libraries lapack_atlas not found in /usr/lib64\n",
      "  \u001b[31m   \u001b[0m   libraries ptf77blas,ptcblas,atlas not found in /usr/lib64\n",
      "  \u001b[31m   \u001b[0m   libraries lapack_atlas not found in /usr/lib\n",
      "  \u001b[31m   \u001b[0m   libraries ptf77blas,ptcblas,atlas not found in /usr/lib\n",
      "  \u001b[31m   \u001b[0m   libraries lapack_atlas not found in /usr/lib/x86_64-linux-gnu\n",
      "  \u001b[31m   \u001b[0m   libraries ptf77blas,ptcblas,atlas not found in /usr/lib/x86_64-linux-gnu\n",
      "  \u001b[31m   \u001b[0m <class 'numpy.distutils.system_info.atlas_threads_info'>\n",
      "  \u001b[31m   \u001b[0m   NOT AVAILABLE\n",
      "  \u001b[31m   \u001b[0m \n",
      "  \u001b[31m   \u001b[0m atlas_info:\n",
      "  \u001b[31m   \u001b[0m   libraries lapack_atlas not found in /home/codespace/.python/current/lib\n",
      "  \u001b[31m   \u001b[0m   libraries f77blas,cblas,atlas not found in /home/codespace/.python/current/lib\n",
      "  \u001b[31m   \u001b[0m   libraries lapack_atlas not found in /usr/local/lib\n",
      "  \u001b[31m   \u001b[0m   libraries f77blas,cblas,atlas not found in /usr/local/lib\n",
      "  \u001b[31m   \u001b[0m   libraries lapack_atlas not found in /usr/lib64\n",
      "  \u001b[31m   \u001b[0m   libraries f77blas,cblas,atlas not found in /usr/lib64\n",
      "  \u001b[31m   \u001b[0m   libraries lapack_atlas not found in /usr/lib\n",
      "  \u001b[31m   \u001b[0m   libraries f77blas,cblas,atlas not found in /usr/lib\n",
      "  \u001b[31m   \u001b[0m   libraries lapack_atlas not found in /usr/lib/x86_64-linux-gnu\n",
      "  \u001b[31m   \u001b[0m   libraries f77blas,cblas,atlas not found in /usr/lib/x86_64-linux-gnu\n",
      "  \u001b[31m   \u001b[0m <class 'numpy.distutils.system_info.atlas_info'>\n",
      "  \u001b[31m   \u001b[0m   NOT AVAILABLE\n",
      "  \u001b[31m   \u001b[0m \n",
      "  \u001b[31m   \u001b[0m lapack_info:\n",
      "  \u001b[31m   \u001b[0m   libraries lapack not found in ['/home/codespace/.python/current/lib', '/usr/local/lib', '/usr/lib64', '/usr/lib', '/usr/lib/x86_64-linux-gnu']\n",
      "  \u001b[31m   \u001b[0m   NOT AVAILABLE\n",
      "  \u001b[31m   \u001b[0m \n",
      "  \u001b[31m   \u001b[0m /tmp/pip-install-965e40p4/numpy_b5ce5a1aba6f449ab6ecb29d263a27b4/numpy/distutils/system_info.py:1730: UserWarning:\n",
      "  \u001b[31m   \u001b[0m     Lapack (http://www.netlib.org/lapack/) libraries not found.\n",
      "  \u001b[31m   \u001b[0m     Directories to search for the libraries can be specified in the\n",
      "  \u001b[31m   \u001b[0m     numpy/distutils/site.cfg file (section [lapack]) or by setting\n",
      "  \u001b[31m   \u001b[0m     the LAPACK environment variable.\n",
      "  \u001b[31m   \u001b[0m   return getattr(self, '_calc_info_{}'.format(name))()\n",
      "  \u001b[31m   \u001b[0m lapack_src_info:\n",
      "  \u001b[31m   \u001b[0m   NOT AVAILABLE\n",
      "  \u001b[31m   \u001b[0m \n",
      "  \u001b[31m   \u001b[0m /tmp/pip-install-965e40p4/numpy_b5ce5a1aba6f449ab6ecb29d263a27b4/numpy/distutils/system_info.py:1730: UserWarning:\n",
      "  \u001b[31m   \u001b[0m     Lapack (http://www.netlib.org/lapack/) sources not found.\n",
      "  \u001b[31m   \u001b[0m     Directories to search for the sources can be specified in the\n",
      "  \u001b[31m   \u001b[0m     numpy/distutils/site.cfg file (section [lapack_src]) or by setting\n",
      "  \u001b[31m   \u001b[0m     the LAPACK_SRC environment variable.\n",
      "  \u001b[31m   \u001b[0m   return getattr(self, '_calc_info_{}'.format(name))()\n",
      "  \u001b[31m   \u001b[0m   NOT AVAILABLE\n",
      "  \u001b[31m   \u001b[0m \n",
      "  \u001b[31m   \u001b[0m /tmp/pip-build-env-wq9or6s4/overlay/lib/python3.10/site-packages/setuptools/_distutils/dist.py:265: UserWarning: Unknown distribution option: 'define_macros'\n",
      "  \u001b[31m   \u001b[0m   warnings.warn(msg)\n",
      "  \u001b[31m   \u001b[0m running bdist_wheel\n",
      "  \u001b[31m   \u001b[0m running build\n",
      "  \u001b[31m   \u001b[0m running config_cc\n",
      "  \u001b[31m   \u001b[0m unifing config_cc, config, build_clib, build_ext, build commands --compiler options\n",
      "  \u001b[31m   \u001b[0m running config_fc\n",
      "  \u001b[31m   \u001b[0m unifing config_fc, config, build_clib, build_ext, build commands --fcompiler options\n",
      "  \u001b[31m   \u001b[0m running build_src\n",
      "  \u001b[31m   \u001b[0m build_src\n",
      "  \u001b[31m   \u001b[0m building py_modules sources\n",
      "  \u001b[31m   \u001b[0m building library \"npymath\" sources\n",
      "  \u001b[31m   \u001b[0m Could not locate executable gfortran\n",
      "  \u001b[31m   \u001b[0m Could not locate executable f95\n",
      "  \u001b[31m   \u001b[0m Could not locate executable ifort\n",
      "  \u001b[31m   \u001b[0m Could not locate executable ifc\n",
      "  \u001b[31m   \u001b[0m Could not locate executable lf95\n",
      "  \u001b[31m   \u001b[0m Could not locate executable pgfortran\n",
      "  \u001b[31m   \u001b[0m Could not locate executable f90\n",
      "  \u001b[31m   \u001b[0m Could not locate executable f77\n",
      "  \u001b[31m   \u001b[0m Could not locate executable fort\n",
      "  \u001b[31m   \u001b[0m Could not locate executable efort\n",
      "  \u001b[31m   \u001b[0m Could not locate executable efc\n",
      "  \u001b[31m   \u001b[0m Could not locate executable g77\n",
      "  \u001b[31m   \u001b[0m Could not locate executable g95\n",
      "  \u001b[31m   \u001b[0m Could not locate executable pathf95\n",
      "  \u001b[31m   \u001b[0m Could not locate executable nagfor\n",
      "  \u001b[31m   \u001b[0m don't know how to compile Fortran code on platform 'posix'\n",
      "  \u001b[31m   \u001b[0m   adding 'build/src.linux-x86_64-3.10/numpy/core/src/npymath' to include_dirs.\n",
      "  \u001b[31m   \u001b[0m None - nothing done with h_files = ['build/src.linux-x86_64-3.10/numpy/core/src/npymath/npy_math_internal.h']\n",
      "  \u001b[31m   \u001b[0m building library \"npysort\" sources\n",
      "  \u001b[31m   \u001b[0m   adding 'build/src.linux-x86_64-3.10/numpy/core/src/common' to include_dirs.\n",
      "  \u001b[31m   \u001b[0m None - nothing done with h_files = ['build/src.linux-x86_64-3.10/numpy/core/src/common/npy_sort.h', 'build/src.linux-x86_64-3.10/numpy/core/src/common/npy_partition.h', 'build/src.linux-x86_64-3.10/numpy/core/src/common/npy_binsearch.h']\n",
      "  \u001b[31m   \u001b[0m building extension \"numpy.core._multiarray_tests\" sources\n",
      "  \u001b[31m   \u001b[0m building extension \"numpy.core._multiarray_umath\" sources\n",
      "  \u001b[31m   \u001b[0m   adding 'build/src.linux-x86_64-3.10/numpy/core/src/umath' to include_dirs.\n",
      "  \u001b[31m   \u001b[0m   adding 'build/src.linux-x86_64-3.10/numpy/core/src/npymath' to include_dirs.\n",
      "  \u001b[31m   \u001b[0m   adding 'build/src.linux-x86_64-3.10/numpy/core/src/common' to include_dirs.\n",
      "  \u001b[31m   \u001b[0m numpy.core - nothing done with h_files = ['build/src.linux-x86_64-3.10/numpy/core/src/umath/funcs.inc', 'build/src.linux-x86_64-3.10/numpy/core/src/umath/simd.inc', 'build/src.linux-x86_64-3.10/numpy/core/src/umath/loops.h', 'build/src.linux-x86_64-3.10/numpy/core/src/umath/matmul.h', 'build/src.linux-x86_64-3.10/numpy/core/src/umath/clip.h', 'build/src.linux-x86_64-3.10/numpy/core/src/npymath/npy_math_internal.h', 'build/src.linux-x86_64-3.10/numpy/core/src/common/templ_common.h', 'build/src.linux-x86_64-3.10/numpy/core/include/numpy/config.h', 'build/src.linux-x86_64-3.10/numpy/core/include/numpy/_numpyconfig.h', 'build/src.linux-x86_64-3.10/numpy/core/include/numpy/__multiarray_api.h', 'build/src.linux-x86_64-3.10/numpy/core/include/numpy/__ufunc_api.h']\n",
      "  \u001b[31m   \u001b[0m building extension \"numpy.core._umath_tests\" sources\n",
      "  \u001b[31m   \u001b[0m building extension \"numpy.core._rational_tests\" sources\n",
      "  \u001b[31m   \u001b[0m building extension \"numpy.core._struct_ufunc_tests\" sources\n",
      "  \u001b[31m   \u001b[0m building extension \"numpy.core._operand_flag_tests\" sources\n",
      "  \u001b[31m   \u001b[0m building extension \"numpy.fft._pocketfft_internal\" sources\n",
      "  \u001b[31m   \u001b[0m building extension \"numpy.linalg.lapack_lite\" sources\n",
      "  \u001b[31m   \u001b[0m ### Warning:  Using unoptimized lapack ###\n",
      "  \u001b[31m   \u001b[0m building extension \"numpy.linalg._umath_linalg\" sources\n",
      "  \u001b[31m   \u001b[0m ### Warning:  Using unoptimized lapack ###\n",
      "  \u001b[31m   \u001b[0m building extension \"numpy.random._mt19937\" sources\n",
      "  \u001b[31m   \u001b[0m building extension \"numpy.random._philox\" sources\n",
      "  \u001b[31m   \u001b[0m building extension \"numpy.random._pcg64\" sources\n",
      "  \u001b[31m   \u001b[0m building extension \"numpy.random._sfc64\" sources\n",
      "  \u001b[31m   \u001b[0m building extension \"numpy.random._common\" sources\n",
      "  \u001b[31m   \u001b[0m building extension \"numpy.random._bit_generator\" sources\n",
      "  \u001b[31m   \u001b[0m building extension \"numpy.random._generator\" sources\n",
      "  \u001b[31m   \u001b[0m building extension \"numpy.random._bounded_integers\" sources\n",
      "  \u001b[31m   \u001b[0m building extension \"numpy.random.mtrand\" sources\n",
      "  \u001b[31m   \u001b[0m building data_files sources\n",
      "  \u001b[31m   \u001b[0m build_src: building npy-pkg config files\n",
      "  \u001b[31m   \u001b[0m running build_py\n",
      "  \u001b[31m   \u001b[0m creating build/lib.linux-x86_64-cpython-310\n",
      "  \u001b[31m   \u001b[0m creating build/lib.linux-x86_64-cpython-310/numpy\n",
      "  \u001b[31m   \u001b[0m copying numpy/_distributor_init.py -> build/lib.linux-x86_64-cpython-310/numpy\n",
      "  \u001b[31m   \u001b[0m copying numpy/_pytesttester.py -> build/lib.linux-x86_64-cpython-310/numpy\n",
      "  \u001b[31m   \u001b[0m copying numpy/ctypeslib.py -> build/lib.linux-x86_64-cpython-310/numpy\n",
      "  \u001b[31m   \u001b[0m copying numpy/conftest.py -> build/lib.linux-x86_64-cpython-310/numpy\n",
      "  \u001b[31m   \u001b[0m copying numpy/setup.py -> build/lib.linux-x86_64-cpython-310/numpy\n",
      "  \u001b[31m   \u001b[0m copying numpy/__init__.py -> build/lib.linux-x86_64-cpython-310/numpy\n",
      "  \u001b[31m   \u001b[0m copying numpy/matlib.py -> build/lib.linux-x86_64-cpython-310/numpy\n",
      "  \u001b[31m   \u001b[0m copying numpy/dual.py -> build/lib.linux-x86_64-cpython-310/numpy\n",
      "  \u001b[31m   \u001b[0m copying numpy/version.py -> build/lib.linux-x86_64-cpython-310/numpy\n",
      "  \u001b[31m   \u001b[0m copying numpy/_globals.py -> build/lib.linux-x86_64-cpython-310/numpy\n",
      "  \u001b[31m   \u001b[0m copying build/src.linux-x86_64-3.10/numpy/__config__.py -> build/lib.linux-x86_64-cpython-310/numpy\n",
      "  \u001b[31m   \u001b[0m creating build/lib.linux-x86_64-cpython-310/numpy/compat\n",
      "  \u001b[31m   \u001b[0m copying numpy/compat/_inspect.py -> build/lib.linux-x86_64-cpython-310/numpy/compat\n",
      "  \u001b[31m   \u001b[0m copying numpy/compat/setup.py -> build/lib.linux-x86_64-cpython-310/numpy/compat\n",
      "  \u001b[31m   \u001b[0m copying numpy/compat/__init__.py -> build/lib.linux-x86_64-cpython-310/numpy/compat\n",
      "  \u001b[31m   \u001b[0m copying numpy/compat/py3k.py -> build/lib.linux-x86_64-cpython-310/numpy/compat\n",
      "  \u001b[31m   \u001b[0m creating build/lib.linux-x86_64-cpython-310/numpy/core\n",
      "  \u001b[31m   \u001b[0m copying numpy/core/_dtype_ctypes.py -> build/lib.linux-x86_64-cpython-310/numpy/core\n",
      "  \u001b[31m   \u001b[0m copying numpy/core/_internal.py -> build/lib.linux-x86_64-cpython-310/numpy/core\n",
      "  \u001b[31m   \u001b[0m copying numpy/core/records.py -> build/lib.linux-x86_64-cpython-310/numpy/core\n",
      "  \u001b[31m   \u001b[0m copying numpy/core/machar.py -> build/lib.linux-x86_64-cpython-310/numpy/core\n",
      "  \u001b[31m   \u001b[0m copying numpy/core/_ufunc_config.py -> build/lib.linux-x86_64-cpython-310/numpy/core\n",
      "  \u001b[31m   \u001b[0m copying numpy/core/function_base.py -> build/lib.linux-x86_64-cpython-310/numpy/core\n",
      "  \u001b[31m   \u001b[0m copying numpy/core/multiarray.py -> build/lib.linux-x86_64-cpython-310/numpy/core\n",
      "  \u001b[31m   \u001b[0m copying numpy/core/_exceptions.py -> build/lib.linux-x86_64-cpython-310/numpy/core\n",
      "  \u001b[31m   \u001b[0m copying numpy/core/umath_tests.py -> build/lib.linux-x86_64-cpython-310/numpy/core\n",
      "  \u001b[31m   \u001b[0m copying numpy/core/setup.py -> build/lib.linux-x86_64-cpython-310/numpy/core\n",
      "  \u001b[31m   \u001b[0m copying numpy/core/__init__.py -> build/lib.linux-x86_64-cpython-310/numpy/core\n",
      "  \u001b[31m   \u001b[0m copying numpy/core/getlimits.py -> build/lib.linux-x86_64-cpython-310/numpy/core\n",
      "  \u001b[31m   \u001b[0m copying numpy/core/defchararray.py -> build/lib.linux-x86_64-cpython-310/numpy/core\n",
      "  \u001b[31m   \u001b[0m copying numpy/core/_string_helpers.py -> build/lib.linux-x86_64-cpython-310/numpy/core\n",
      "  \u001b[31m   \u001b[0m copying numpy/core/shape_base.py -> build/lib.linux-x86_64-cpython-310/numpy/core\n",
      "  \u001b[31m   \u001b[0m copying numpy/core/numeric.py -> build/lib.linux-x86_64-cpython-310/numpy/core\n",
      "  \u001b[31m   \u001b[0m copying numpy/core/_methods.py -> build/lib.linux-x86_64-cpython-310/numpy/core\n",
      "  \u001b[31m   \u001b[0m copying numpy/core/overrides.py -> build/lib.linux-x86_64-cpython-310/numpy/core\n",
      "  \u001b[31m   \u001b[0m copying numpy/core/_add_newdocs.py -> build/lib.linux-x86_64-cpython-310/numpy/core\n",
      "  \u001b[31m   \u001b[0m copying numpy/core/memmap.py -> build/lib.linux-x86_64-cpython-310/numpy/core\n",
      "  \u001b[31m   \u001b[0m copying numpy/core/cversions.py -> build/lib.linux-x86_64-cpython-310/numpy/core\n",
      "  \u001b[31m   \u001b[0m copying numpy/core/umath.py -> build/lib.linux-x86_64-cpython-310/numpy/core\n",
      "  \u001b[31m   \u001b[0m copying numpy/core/numerictypes.py -> build/lib.linux-x86_64-cpython-310/numpy/core\n",
      "  \u001b[31m   \u001b[0m copying numpy/core/_dtype.py -> build/lib.linux-x86_64-cpython-310/numpy/core\n",
      "  \u001b[31m   \u001b[0m copying numpy/core/_asarray.py -> build/lib.linux-x86_64-cpython-310/numpy/core\n",
      "  \u001b[31m   \u001b[0m copying numpy/core/arrayprint.py -> build/lib.linux-x86_64-cpython-310/numpy/core\n",
      "  \u001b[31m   \u001b[0m copying numpy/core/setup_common.py -> build/lib.linux-x86_64-cpython-310/numpy/core\n",
      "  \u001b[31m   \u001b[0m copying numpy/core/einsumfunc.py -> build/lib.linux-x86_64-cpython-310/numpy/core\n",
      "  \u001b[31m   \u001b[0m copying numpy/core/_type_aliases.py -> build/lib.linux-x86_64-cpython-310/numpy/core\n",
      "  \u001b[31m   \u001b[0m copying numpy/core/fromnumeric.py -> build/lib.linux-x86_64-cpython-310/numpy/core\n",
      "  \u001b[31m   \u001b[0m copying numpy/core/code_generators/generate_numpy_api.py -> build/lib.linux-x86_64-cpython-310/numpy/core\n",
      "  \u001b[31m   \u001b[0m creating build/lib.linux-x86_64-cpython-310/numpy/distutils\n",
      "  \u001b[31m   \u001b[0m copying numpy/distutils/mingw32ccompiler.py -> build/lib.linux-x86_64-cpython-310/numpy/distutils\n",
      "  \u001b[31m   \u001b[0m copying numpy/distutils/from_template.py -> build/lib.linux-x86_64-cpython-310/numpy/distutils\n",
      "  \u001b[31m   \u001b[0m copying numpy/distutils/core.py -> build/lib.linux-x86_64-cpython-310/numpy/distutils\n",
      "  \u001b[31m   \u001b[0m copying numpy/distutils/misc_util.py -> build/lib.linux-x86_64-cpython-310/numpy/distutils\n",
      "  \u001b[31m   \u001b[0m copying numpy/distutils/msvc9compiler.py -> build/lib.linux-x86_64-cpython-310/numpy/distutils\n",
      "  \u001b[31m   \u001b[0m copying numpy/distutils/extension.py -> build/lib.linux-x86_64-cpython-310/numpy/distutils\n",
      "  \u001b[31m   \u001b[0m copying numpy/distutils/setup.py -> build/lib.linux-x86_64-cpython-310/numpy/distutils\n",
      "  \u001b[31m   \u001b[0m copying numpy/distutils/system_info.py -> build/lib.linux-x86_64-cpython-310/numpy/distutils\n",
      "  \u001b[31m   \u001b[0m copying numpy/distutils/compat.py -> build/lib.linux-x86_64-cpython-310/numpy/distutils\n",
      "  \u001b[31m   \u001b[0m copying numpy/distutils/msvccompiler.py -> build/lib.linux-x86_64-cpython-310/numpy/distutils\n",
      "  \u001b[31m   \u001b[0m copying numpy/distutils/__init__.py -> build/lib.linux-x86_64-cpython-310/numpy/distutils\n",
      "  \u001b[31m   \u001b[0m copying numpy/distutils/npy_pkg_config.py -> build/lib.linux-x86_64-cpython-310/numpy/distutils\n",
      "  \u001b[31m   \u001b[0m copying numpy/distutils/ccompiler.py -> build/lib.linux-x86_64-cpython-310/numpy/distutils\n",
      "  \u001b[31m   \u001b[0m copying numpy/distutils/numpy_distribution.py -> build/lib.linux-x86_64-cpython-310/numpy/distutils\n",
      "  \u001b[31m   \u001b[0m copying numpy/distutils/pathccompiler.py -> build/lib.linux-x86_64-cpython-310/numpy/distutils\n",
      "  \u001b[31m   \u001b[0m copying numpy/distutils/log.py -> build/lib.linux-x86_64-cpython-310/numpy/distutils\n",
      "  \u001b[31m   \u001b[0m copying numpy/distutils/conv_template.py -> build/lib.linux-x86_64-cpython-310/numpy/distutils\n",
      "  \u001b[31m   \u001b[0m copying numpy/distutils/line_endings.py -> build/lib.linux-x86_64-cpython-310/numpy/distutils\n",
      "  \u001b[31m   \u001b[0m copying numpy/distutils/cpuinfo.py -> build/lib.linux-x86_64-cpython-310/numpy/distutils\n",
      "  \u001b[31m   \u001b[0m copying numpy/distutils/intelccompiler.py -> build/lib.linux-x86_64-cpython-310/numpy/distutils\n",
      "  \u001b[31m   \u001b[0m copying numpy/distutils/unixccompiler.py -> build/lib.linux-x86_64-cpython-310/numpy/distutils\n",
      "  \u001b[31m   \u001b[0m copying numpy/distutils/exec_command.py -> build/lib.linux-x86_64-cpython-310/numpy/distutils\n",
      "  \u001b[31m   \u001b[0m copying numpy/distutils/lib2def.py -> build/lib.linux-x86_64-cpython-310/numpy/distutils\n",
      "  \u001b[31m   \u001b[0m copying numpy/distutils/_shell_utils.py -> build/lib.linux-x86_64-cpython-310/numpy/distutils\n",
      "  \u001b[31m   \u001b[0m copying build/src.linux-x86_64-3.10/numpy/distutils/__config__.py -> build/lib.linux-x86_64-cpython-310/numpy/distutils\n",
      "  \u001b[31m   \u001b[0m creating build/lib.linux-x86_64-cpython-310/numpy/distutils/command\n",
      "  \u001b[31m   \u001b[0m copying numpy/distutils/command/config.py -> build/lib.linux-x86_64-cpython-310/numpy/distutils/command\n",
      "  \u001b[31m   \u001b[0m copying numpy/distutils/command/install.py -> build/lib.linux-x86_64-cpython-310/numpy/distutils/command\n",
      "  \u001b[31m   \u001b[0m copying numpy/distutils/command/build_clib.py -> build/lib.linux-x86_64-cpython-310/numpy/distutils/command\n",
      "  \u001b[31m   \u001b[0m copying numpy/distutils/command/build_scripts.py -> build/lib.linux-x86_64-cpython-310/numpy/distutils/command\n",
      "  \u001b[31m   \u001b[0m copying numpy/distutils/command/egg_info.py -> build/lib.linux-x86_64-cpython-310/numpy/distutils/command\n",
      "  \u001b[31m   \u001b[0m copying numpy/distutils/command/config_compiler.py -> build/lib.linux-x86_64-cpython-310/numpy/distutils/command\n",
      "  \u001b[31m   \u001b[0m copying numpy/distutils/command/__init__.py -> build/lib.linux-x86_64-cpython-310/numpy/distutils/command\n",
      "  \u001b[31m   \u001b[0m copying numpy/distutils/command/build.py -> build/lib.linux-x86_64-cpython-310/numpy/distutils/command\n",
      "  \u001b[31m   \u001b[0m copying numpy/distutils/command/install_headers.py -> build/lib.linux-x86_64-cpython-310/numpy/distutils/command\n",
      "  \u001b[31m   \u001b[0m copying numpy/distutils/command/install_data.py -> build/lib.linux-x86_64-cpython-310/numpy/distutils/command\n",
      "  \u001b[31m   \u001b[0m copying numpy/distutils/command/develop.py -> build/lib.linux-x86_64-cpython-310/numpy/distutils/command\n",
      "  \u001b[31m   \u001b[0m copying numpy/distutils/command/install_clib.py -> build/lib.linux-x86_64-cpython-310/numpy/distutils/command\n",
      "  \u001b[31m   \u001b[0m copying numpy/distutils/command/build_ext.py -> build/lib.linux-x86_64-cpython-310/numpy/distutils/command\n",
      "  \u001b[31m   \u001b[0m copying numpy/distutils/command/build_src.py -> build/lib.linux-x86_64-cpython-310/numpy/distutils/command\n",
      "  \u001b[31m   \u001b[0m copying numpy/distutils/command/bdist_rpm.py -> build/lib.linux-x86_64-cpython-310/numpy/distutils/command\n",
      "  \u001b[31m   \u001b[0m copying numpy/distutils/command/build_py.py -> build/lib.linux-x86_64-cpython-310/numpy/distutils/command\n",
      "  \u001b[31m   \u001b[0m copying numpy/distutils/command/autodist.py -> build/lib.linux-x86_64-cpython-310/numpy/distutils/command\n",
      "  \u001b[31m   \u001b[0m copying numpy/distutils/command/sdist.py -> build/lib.linux-x86_64-cpython-310/numpy/distutils/command\n",
      "  \u001b[31m   \u001b[0m creating build/lib.linux-x86_64-cpython-310/numpy/distutils/fcompiler\n",
      "  \u001b[31m   \u001b[0m copying numpy/distutils/fcompiler/ibm.py -> build/lib.linux-x86_64-cpython-310/numpy/distutils/fcompiler\n",
      "  \u001b[31m   \u001b[0m copying numpy/distutils/fcompiler/sun.py -> build/lib.linux-x86_64-cpython-310/numpy/distutils/fcompiler\n",
      "  \u001b[31m   \u001b[0m copying numpy/distutils/fcompiler/lahey.py -> build/lib.linux-x86_64-cpython-310/numpy/distutils/fcompiler\n",
      "  \u001b[31m   \u001b[0m copying numpy/distutils/fcompiler/absoft.py -> build/lib.linux-x86_64-cpython-310/numpy/distutils/fcompiler\n",
      "  \u001b[31m   \u001b[0m copying numpy/distutils/fcompiler/compaq.py -> build/lib.linux-x86_64-cpython-310/numpy/distutils/fcompiler\n",
      "  \u001b[31m   \u001b[0m copying numpy/distutils/fcompiler/environment.py -> build/lib.linux-x86_64-cpython-310/numpy/distutils/fcompiler\n",
      "  \u001b[31m   \u001b[0m copying numpy/distutils/fcompiler/__init__.py -> build/lib.linux-x86_64-cpython-310/numpy/distutils/fcompiler\n",
      "  \u001b[31m   \u001b[0m copying numpy/distutils/fcompiler/nag.py -> build/lib.linux-x86_64-cpython-310/numpy/distutils/fcompiler\n",
      "  \u001b[31m   \u001b[0m copying numpy/distutils/fcompiler/mips.py -> build/lib.linux-x86_64-cpython-310/numpy/distutils/fcompiler\n",
      "  \u001b[31m   \u001b[0m copying numpy/distutils/fcompiler/intel.py -> build/lib.linux-x86_64-cpython-310/numpy/distutils/fcompiler\n",
      "  \u001b[31m   \u001b[0m copying numpy/distutils/fcompiler/hpux.py -> build/lib.linux-x86_64-cpython-310/numpy/distutils/fcompiler\n",
      "  \u001b[31m   \u001b[0m copying numpy/distutils/fcompiler/gnu.py -> build/lib.linux-x86_64-cpython-310/numpy/distutils/fcompiler\n",
      "  \u001b[31m   \u001b[0m copying numpy/distutils/fcompiler/pg.py -> build/lib.linux-x86_64-cpython-310/numpy/distutils/fcompiler\n",
      "  \u001b[31m   \u001b[0m copying numpy/distutils/fcompiler/vast.py -> build/lib.linux-x86_64-cpython-310/numpy/distutils/fcompiler\n",
      "  \u001b[31m   \u001b[0m copying numpy/distutils/fcompiler/pathf95.py -> build/lib.linux-x86_64-cpython-310/numpy/distutils/fcompiler\n",
      "  \u001b[31m   \u001b[0m copying numpy/distutils/fcompiler/g95.py -> build/lib.linux-x86_64-cpython-310/numpy/distutils/fcompiler\n",
      "  \u001b[31m   \u001b[0m copying numpy/distutils/fcompiler/none.py -> build/lib.linux-x86_64-cpython-310/numpy/distutils/fcompiler\n",
      "  \u001b[31m   \u001b[0m creating build/lib.linux-x86_64-cpython-310/numpy/doc\n",
      "  \u001b[31m   \u001b[0m copying numpy/doc/misc.py -> build/lib.linux-x86_64-cpython-310/numpy/doc\n",
      "  \u001b[31m   \u001b[0m copying numpy/doc/constants.py -> build/lib.linux-x86_64-cpython-310/numpy/doc\n",
      "  \u001b[31m   \u001b[0m copying numpy/doc/dispatch.py -> build/lib.linux-x86_64-cpython-310/numpy/doc\n",
      "  \u001b[31m   \u001b[0m copying numpy/doc/broadcasting.py -> build/lib.linux-x86_64-cpython-310/numpy/doc\n",
      "  \u001b[31m   \u001b[0m copying numpy/doc/__init__.py -> build/lib.linux-x86_64-cpython-310/numpy/doc\n",
      "  \u001b[31m   \u001b[0m copying numpy/doc/creation.py -> build/lib.linux-x86_64-cpython-310/numpy/doc\n",
      "  \u001b[31m   \u001b[0m copying numpy/doc/byteswapping.py -> build/lib.linux-x86_64-cpython-310/numpy/doc\n",
      "  \u001b[31m   \u001b[0m copying numpy/doc/basics.py -> build/lib.linux-x86_64-cpython-310/numpy/doc\n",
      "  \u001b[31m   \u001b[0m copying numpy/doc/internals.py -> build/lib.linux-x86_64-cpython-310/numpy/doc\n",
      "  \u001b[31m   \u001b[0m copying numpy/doc/structured_arrays.py -> build/lib.linux-x86_64-cpython-310/numpy/doc\n",
      "  \u001b[31m   \u001b[0m copying numpy/doc/ufuncs.py -> build/lib.linux-x86_64-cpython-310/numpy/doc\n",
      "  \u001b[31m   \u001b[0m copying numpy/doc/glossary.py -> build/lib.linux-x86_64-cpython-310/numpy/doc\n",
      "  \u001b[31m   \u001b[0m copying numpy/doc/indexing.py -> build/lib.linux-x86_64-cpython-310/numpy/doc\n",
      "  \u001b[31m   \u001b[0m copying numpy/doc/subclassing.py -> build/lib.linux-x86_64-cpython-310/numpy/doc\n",
      "  \u001b[31m   \u001b[0m creating build/lib.linux-x86_64-cpython-310/numpy/f2py\n",
      "  \u001b[31m   \u001b[0m copying numpy/f2py/__main__.py -> build/lib.linux-x86_64-cpython-310/numpy/f2py\n",
      "  \u001b[31m   \u001b[0m copying numpy/f2py/cb_rules.py -> build/lib.linux-x86_64-cpython-310/numpy/f2py\n",
      "  \u001b[31m   \u001b[0m copying numpy/f2py/common_rules.py -> build/lib.linux-x86_64-cpython-310/numpy/f2py\n",
      "  \u001b[31m   \u001b[0m copying numpy/f2py/setup.py -> build/lib.linux-x86_64-cpython-310/numpy/f2py\n",
      "  \u001b[31m   \u001b[0m copying numpy/f2py/__init__.py -> build/lib.linux-x86_64-cpython-310/numpy/f2py\n",
      "  \u001b[31m   \u001b[0m copying numpy/f2py/cfuncs.py -> build/lib.linux-x86_64-cpython-310/numpy/f2py\n",
      "  \u001b[31m   \u001b[0m copying numpy/f2py/f2py2e.py -> build/lib.linux-x86_64-cpython-310/numpy/f2py\n",
      "  \u001b[31m   \u001b[0m copying numpy/f2py/__version__.py -> build/lib.linux-x86_64-cpython-310/numpy/f2py\n",
      "  \u001b[31m   \u001b[0m copying numpy/f2py/f90mod_rules.py -> build/lib.linux-x86_64-cpython-310/numpy/f2py\n",
      "  \u001b[31m   \u001b[0m copying numpy/f2py/f2py_testing.py -> build/lib.linux-x86_64-cpython-310/numpy/f2py\n",
      "  \u001b[31m   \u001b[0m copying numpy/f2py/use_rules.py -> build/lib.linux-x86_64-cpython-310/numpy/f2py\n",
      "  \u001b[31m   \u001b[0m copying numpy/f2py/func2subr.py -> build/lib.linux-x86_64-cpython-310/numpy/f2py\n",
      "  \u001b[31m   \u001b[0m copying numpy/f2py/diagnose.py -> build/lib.linux-x86_64-cpython-310/numpy/f2py\n",
      "  \u001b[31m   \u001b[0m copying numpy/f2py/rules.py -> build/lib.linux-x86_64-cpython-310/numpy/f2py\n",
      "  \u001b[31m   \u001b[0m copying numpy/f2py/capi_maps.py -> build/lib.linux-x86_64-cpython-310/numpy/f2py\n",
      "  \u001b[31m   \u001b[0m copying numpy/f2py/auxfuncs.py -> build/lib.linux-x86_64-cpython-310/numpy/f2py\n",
      "  \u001b[31m   \u001b[0m copying numpy/f2py/crackfortran.py -> build/lib.linux-x86_64-cpython-310/numpy/f2py\n",
      "  \u001b[31m   \u001b[0m creating build/lib.linux-x86_64-cpython-310/numpy/fft\n",
      "  \u001b[31m   \u001b[0m copying numpy/fft/setup.py -> build/lib.linux-x86_64-cpython-310/numpy/fft\n",
      "  \u001b[31m   \u001b[0m copying numpy/fft/__init__.py -> build/lib.linux-x86_64-cpython-310/numpy/fft\n",
      "  \u001b[31m   \u001b[0m copying numpy/fft/helper.py -> build/lib.linux-x86_64-cpython-310/numpy/fft\n",
      "  \u001b[31m   \u001b[0m copying numpy/fft/_pocketfft.py -> build/lib.linux-x86_64-cpython-310/numpy/fft\n",
      "  \u001b[31m   \u001b[0m creating build/lib.linux-x86_64-cpython-310/numpy/lib\n",
      "  \u001b[31m   \u001b[0m copying numpy/lib/npyio.py -> build/lib.linux-x86_64-cpython-310/numpy/lib\n",
      "  \u001b[31m   \u001b[0m copying numpy/lib/scimath.py -> build/lib.linux-x86_64-cpython-310/numpy/lib\n",
      "  \u001b[31m   \u001b[0m copying numpy/lib/function_base.py -> build/lib.linux-x86_64-cpython-310/numpy/lib\n",
      "  \u001b[31m   \u001b[0m copying numpy/lib/arraypad.py -> build/lib.linux-x86_64-cpython-310/numpy/lib\n",
      "  \u001b[31m   \u001b[0m copying numpy/lib/stride_tricks.py -> build/lib.linux-x86_64-cpython-310/numpy/lib\n",
      "  \u001b[31m   \u001b[0m copying numpy/lib/nanfunctions.py -> build/lib.linux-x86_64-cpython-310/numpy/lib\n",
      "  \u001b[31m   \u001b[0m copying numpy/lib/arraysetops.py -> build/lib.linux-x86_64-cpython-310/numpy/lib\n",
      "  \u001b[31m   \u001b[0m copying numpy/lib/_datasource.py -> build/lib.linux-x86_64-cpython-310/numpy/lib\n",
      "  \u001b[31m   \u001b[0m copying numpy/lib/setup.py -> build/lib.linux-x86_64-cpython-310/numpy/lib\n",
      "  \u001b[31m   \u001b[0m copying numpy/lib/financial.py -> build/lib.linux-x86_64-cpython-310/numpy/lib\n",
      "  \u001b[31m   \u001b[0m copying numpy/lib/__init__.py -> build/lib.linux-x86_64-cpython-310/numpy/lib\n",
      "  \u001b[31m   \u001b[0m copying numpy/lib/utils.py -> build/lib.linux-x86_64-cpython-310/numpy/lib\n",
      "  \u001b[31m   \u001b[0m copying numpy/lib/twodim_base.py -> build/lib.linux-x86_64-cpython-310/numpy/lib\n",
      "  \u001b[31m   \u001b[0m copying numpy/lib/arrayterator.py -> build/lib.linux-x86_64-cpython-310/numpy/lib\n",
      "  \u001b[31m   \u001b[0m copying numpy/lib/histograms.py -> build/lib.linux-x86_64-cpython-310/numpy/lib\n",
      "  \u001b[31m   \u001b[0m copying numpy/lib/shape_base.py -> build/lib.linux-x86_64-cpython-310/numpy/lib\n",
      "  \u001b[31m   \u001b[0m copying numpy/lib/format.py -> build/lib.linux-x86_64-cpython-310/numpy/lib\n",
      "  \u001b[31m   \u001b[0m copying numpy/lib/index_tricks.py -> build/lib.linux-x86_64-cpython-310/numpy/lib\n",
      "  \u001b[31m   \u001b[0m copying numpy/lib/_version.py -> build/lib.linux-x86_64-cpython-310/numpy/lib\n",
      "  \u001b[31m   \u001b[0m copying numpy/lib/recfunctions.py -> build/lib.linux-x86_64-cpython-310/numpy/lib\n",
      "  \u001b[31m   \u001b[0m copying numpy/lib/ufunclike.py -> build/lib.linux-x86_64-cpython-310/numpy/lib\n",
      "  \u001b[31m   \u001b[0m copying numpy/lib/polynomial.py -> build/lib.linux-x86_64-cpython-310/numpy/lib\n",
      "  \u001b[31m   \u001b[0m copying numpy/lib/mixins.py -> build/lib.linux-x86_64-cpython-310/numpy/lib\n",
      "  \u001b[31m   \u001b[0m copying numpy/lib/user_array.py -> build/lib.linux-x86_64-cpython-310/numpy/lib\n",
      "  \u001b[31m   \u001b[0m copying numpy/lib/_iotools.py -> build/lib.linux-x86_64-cpython-310/numpy/lib\n",
      "  \u001b[31m   \u001b[0m copying numpy/lib/type_check.py -> build/lib.linux-x86_64-cpython-310/numpy/lib\n",
      "  \u001b[31m   \u001b[0m creating build/lib.linux-x86_64-cpython-310/numpy/linalg\n",
      "  \u001b[31m   \u001b[0m copying numpy/linalg/setup.py -> build/lib.linux-x86_64-cpython-310/numpy/linalg\n",
      "  \u001b[31m   \u001b[0m copying numpy/linalg/__init__.py -> build/lib.linux-x86_64-cpython-310/numpy/linalg\n",
      "  \u001b[31m   \u001b[0m copying numpy/linalg/linalg.py -> build/lib.linux-x86_64-cpython-310/numpy/linalg\n",
      "  \u001b[31m   \u001b[0m creating build/lib.linux-x86_64-cpython-310/numpy/ma\n",
      "  \u001b[31m   \u001b[0m copying numpy/ma/extras.py -> build/lib.linux-x86_64-cpython-310/numpy/ma\n",
      "  \u001b[31m   \u001b[0m copying numpy/ma/core.py -> build/lib.linux-x86_64-cpython-310/numpy/ma\n",
      "  \u001b[31m   \u001b[0m copying numpy/ma/setup.py -> build/lib.linux-x86_64-cpython-310/numpy/ma\n",
      "  \u001b[31m   \u001b[0m copying numpy/ma/__init__.py -> build/lib.linux-x86_64-cpython-310/numpy/ma\n",
      "  \u001b[31m   \u001b[0m copying numpy/ma/timer_comparison.py -> build/lib.linux-x86_64-cpython-310/numpy/ma\n",
      "  \u001b[31m   \u001b[0m copying numpy/ma/testutils.py -> build/lib.linux-x86_64-cpython-310/numpy/ma\n",
      "  \u001b[31m   \u001b[0m copying numpy/ma/bench.py -> build/lib.linux-x86_64-cpython-310/numpy/ma\n",
      "  \u001b[31m   \u001b[0m copying numpy/ma/mrecords.py -> build/lib.linux-x86_64-cpython-310/numpy/ma\n",
      "  \u001b[31m   \u001b[0m creating build/lib.linux-x86_64-cpython-310/numpy/matrixlib\n",
      "  \u001b[31m   \u001b[0m copying numpy/matrixlib/defmatrix.py -> build/lib.linux-x86_64-cpython-310/numpy/matrixlib\n",
      "  \u001b[31m   \u001b[0m copying numpy/matrixlib/setup.py -> build/lib.linux-x86_64-cpython-310/numpy/matrixlib\n",
      "  \u001b[31m   \u001b[0m copying numpy/matrixlib/__init__.py -> build/lib.linux-x86_64-cpython-310/numpy/matrixlib\n",
      "  \u001b[31m   \u001b[0m creating build/lib.linux-x86_64-cpython-310/numpy/polynomial\n",
      "  \u001b[31m   \u001b[0m copying numpy/polynomial/legendre.py -> build/lib.linux-x86_64-cpython-310/numpy/polynomial\n",
      "  \u001b[31m   \u001b[0m copying numpy/polynomial/chebyshev.py -> build/lib.linux-x86_64-cpython-310/numpy/polynomial\n",
      "  \u001b[31m   \u001b[0m copying numpy/polynomial/hermite.py -> build/lib.linux-x86_64-cpython-310/numpy/polynomial\n",
      "  \u001b[31m   \u001b[0m copying numpy/polynomial/setup.py -> build/lib.linux-x86_64-cpython-310/numpy/polynomial\n",
      "  \u001b[31m   \u001b[0m copying numpy/polynomial/polyutils.py -> build/lib.linux-x86_64-cpython-310/numpy/polynomial\n",
      "  \u001b[31m   \u001b[0m copying numpy/polynomial/__init__.py -> build/lib.linux-x86_64-cpython-310/numpy/polynomial\n",
      "  \u001b[31m   \u001b[0m copying numpy/polynomial/polynomial.py -> build/lib.linux-x86_64-cpython-310/numpy/polynomial\n",
      "  \u001b[31m   \u001b[0m copying numpy/polynomial/_polybase.py -> build/lib.linux-x86_64-cpython-310/numpy/polynomial\n",
      "  \u001b[31m   \u001b[0m copying numpy/polynomial/hermite_e.py -> build/lib.linux-x86_64-cpython-310/numpy/polynomial\n",
      "  \u001b[31m   \u001b[0m copying numpy/polynomial/laguerre.py -> build/lib.linux-x86_64-cpython-310/numpy/polynomial\n",
      "  \u001b[31m   \u001b[0m creating build/lib.linux-x86_64-cpython-310/numpy/random\n",
      "  \u001b[31m   \u001b[0m copying numpy/random/setup.py -> build/lib.linux-x86_64-cpython-310/numpy/random\n",
      "  \u001b[31m   \u001b[0m copying numpy/random/__init__.py -> build/lib.linux-x86_64-cpython-310/numpy/random\n",
      "  \u001b[31m   \u001b[0m copying numpy/random/_pickle.py -> build/lib.linux-x86_64-cpython-310/numpy/random\n",
      "  \u001b[31m   \u001b[0m creating build/lib.linux-x86_64-cpython-310/numpy/testing\n",
      "  \u001b[31m   \u001b[0m copying numpy/testing/setup.py -> build/lib.linux-x86_64-cpython-310/numpy/testing\n",
      "  \u001b[31m   \u001b[0m copying numpy/testing/__init__.py -> build/lib.linux-x86_64-cpython-310/numpy/testing\n",
      "  \u001b[31m   \u001b[0m copying numpy/testing/utils.py -> build/lib.linux-x86_64-cpython-310/numpy/testing\n",
      "  \u001b[31m   \u001b[0m copying numpy/testing/print_coercion_tables.py -> build/lib.linux-x86_64-cpython-310/numpy/testing\n",
      "  \u001b[31m   \u001b[0m creating build/lib.linux-x86_64-cpython-310/numpy/testing/_private\n",
      "  \u001b[31m   \u001b[0m copying numpy/testing/_private/decorators.py -> build/lib.linux-x86_64-cpython-310/numpy/testing/_private\n",
      "  \u001b[31m   \u001b[0m copying numpy/testing/_private/__init__.py -> build/lib.linux-x86_64-cpython-310/numpy/testing/_private\n",
      "  \u001b[31m   \u001b[0m copying numpy/testing/_private/utils.py -> build/lib.linux-x86_64-cpython-310/numpy/testing/_private\n",
      "  \u001b[31m   \u001b[0m copying numpy/testing/_private/parameterized.py -> build/lib.linux-x86_64-cpython-310/numpy/testing/_private\n",
      "  \u001b[31m   \u001b[0m copying numpy/testing/_private/nosetester.py -> build/lib.linux-x86_64-cpython-310/numpy/testing/_private\n",
      "  \u001b[31m   \u001b[0m copying numpy/testing/_private/noseclasses.py -> build/lib.linux-x86_64-cpython-310/numpy/testing/_private\n",
      "  \u001b[31m   \u001b[0m running build_clib\n",
      "  \u001b[31m   \u001b[0m customize UnixCCompiler\n",
      "  \u001b[31m   \u001b[0m customize UnixCCompiler using build_clib\n",
      "  \u001b[31m   \u001b[0m building 'npymath' library\n",
      "  \u001b[31m   \u001b[0m compiling C sources\n",
      "  \u001b[31m   \u001b[0m C compiler: gcc -pthread -Wno-unused-result -Wsign-compare -DNDEBUG -g -fwrapv -O3 -Wall -fPIC -std=c99\n",
      "  \u001b[31m   \u001b[0m \n",
      "  \u001b[31m   \u001b[0m creating build/temp.linux-x86_64-cpython-310\n",
      "  \u001b[31m   \u001b[0m creating build/temp.linux-x86_64-cpython-310/numpy\n",
      "  \u001b[31m   \u001b[0m creating build/temp.linux-x86_64-cpython-310/numpy/core\n",
      "  \u001b[31m   \u001b[0m creating build/temp.linux-x86_64-cpython-310/numpy/core/src\n",
      "  \u001b[31m   \u001b[0m creating build/temp.linux-x86_64-cpython-310/numpy/core/src/npymath\n",
      "  \u001b[31m   \u001b[0m creating build/temp.linux-x86_64-cpython-310/build\n",
      "  \u001b[31m   \u001b[0m creating build/temp.linux-x86_64-cpython-310/build/src.linux-x86_64-3.10\n",
      "  \u001b[31m   \u001b[0m creating build/temp.linux-x86_64-cpython-310/build/src.linux-x86_64-3.10/numpy\n",
      "  \u001b[31m   \u001b[0m creating build/temp.linux-x86_64-cpython-310/build/src.linux-x86_64-3.10/numpy/core\n",
      "  \u001b[31m   \u001b[0m creating build/temp.linux-x86_64-cpython-310/build/src.linux-x86_64-3.10/numpy/core/src\n",
      "  \u001b[31m   \u001b[0m creating build/temp.linux-x86_64-cpython-310/build/src.linux-x86_64-3.10/numpy/core/src/npymath\n",
      "  \u001b[31m   \u001b[0m compile options: '-Ibuild/src.linux-x86_64-3.10/numpy/core/src/npymath -Inumpy/core/include -Ibuild/src.linux-x86_64-3.10/numpy/core/include/numpy -Inumpy/core/src/common -Inumpy/core/src -Inumpy/core -Inumpy/core/src/npymath -Inumpy/core/src/multiarray -Inumpy/core/src/umath -Inumpy/core/src/npysort -I/usr/local/python/3.10.4/include/python3.10 -Ibuild/src.linux-x86_64-3.10/numpy/core/src/common -Ibuild/src.linux-x86_64-3.10/numpy/core/src/npymath -c'\n",
      "  \u001b[31m   \u001b[0m gcc: numpy/core/src/npymath/npy_math.c\n",
      "  \u001b[31m   \u001b[0m gcc: build/src.linux-x86_64-3.10/numpy/core/src/npymath/ieee754.c\n",
      "  \u001b[31m   \u001b[0m gcc: build/src.linux-x86_64-3.10/numpy/core/src/npymath/npy_math_complex.c\n",
      "  \u001b[31m   \u001b[0m gcc: numpy/core/src/npymath/halffloat.c\n",
      "  \u001b[31m   \u001b[0m ar: adding 4 object files to build/temp.linux-x86_64-cpython-310/libnpymath.a\n",
      "  \u001b[31m   \u001b[0m building 'npysort' library\n",
      "  \u001b[31m   \u001b[0m compiling C sources\n",
      "  \u001b[31m   \u001b[0m C compiler: gcc -pthread -Wno-unused-result -Wsign-compare -DNDEBUG -g -fwrapv -O3 -Wall -fPIC -std=c99\n",
      "  \u001b[31m   \u001b[0m \n",
      "  \u001b[31m   \u001b[0m creating build/temp.linux-x86_64-cpython-310/build/src.linux-x86_64-3.10/numpy/core/src/npysort\n",
      "  \u001b[31m   \u001b[0m compile options: '-Ibuild/src.linux-x86_64-3.10/numpy/core/src/common -Inumpy/core/include -Ibuild/src.linux-x86_64-3.10/numpy/core/include/numpy -Inumpy/core/src/common -Inumpy/core/src -Inumpy/core -Inumpy/core/src/npymath -Inumpy/core/src/multiarray -Inumpy/core/src/umath -Inumpy/core/src/npysort -I/usr/local/python/3.10.4/include/python3.10 -Ibuild/src.linux-x86_64-3.10/numpy/core/src/common -Ibuild/src.linux-x86_64-3.10/numpy/core/src/npymath -c'\n",
      "  \u001b[31m   \u001b[0m gcc: build/src.linux-x86_64-3.10/numpy/core/src/npysort/mergesort.cgcc: build/src.linux-x86_64-3.10/numpy/core/src/npysort/quicksort.c\n",
      "  \u001b[31m   \u001b[0m \n",
      "  \u001b[31m   \u001b[0m gcc: build/src.linux-x86_64-3.10/numpy/core/src/npysort/timsort.c\n",
      "  \u001b[31m   \u001b[0m gcc: build/src.linux-x86_64-3.10/numpy/core/src/npysort/heapsort.c\n",
      "  \u001b[31m   \u001b[0m gcc: build/src.linux-x86_64-3.10/numpy/core/src/npysort/radixsort.c\n",
      "  \u001b[31m   \u001b[0m gcc: build/src.linux-x86_64-3.10/numpy/core/src/npysort/selection.c\n",
      "  \u001b[31m   \u001b[0m gcc: build/src.linux-x86_64-3.10/numpy/core/src/npysort/binsearch.c\n",
      "  \u001b[31m   \u001b[0m ar: adding 7 object files to build/temp.linux-x86_64-cpython-310/libnpysort.a\n",
      "  \u001b[31m   \u001b[0m running build_ext\n",
      "  \u001b[31m   \u001b[0m customize UnixCCompiler\n",
      "  \u001b[31m   \u001b[0m customize UnixCCompiler using build_ext\n",
      "  \u001b[31m   \u001b[0m building 'numpy.core._multiarray_tests' extension\n",
      "  \u001b[31m   \u001b[0m compiling C sources\n",
      "  \u001b[31m   \u001b[0m C compiler: gcc -pthread -Wno-unused-result -Wsign-compare -DNDEBUG -g -fwrapv -O3 -Wall -fPIC -std=c99\n",
      "  \u001b[31m   \u001b[0m \n",
      "  \u001b[31m   \u001b[0m creating build/temp.linux-x86_64-cpython-310/build/src.linux-x86_64-3.10/numpy/core/src/multiarray\n",
      "  \u001b[31m   \u001b[0m creating build/temp.linux-x86_64-cpython-310/numpy/core/src/common\n",
      "  \u001b[31m   \u001b[0m compile options: '-DNPY_INTERNAL_BUILD=1 -DHAVE_NPY_CONFIG_H=1 -D_FILE_OFFSET_BITS=64 -D_LARGEFILE_SOURCE=1 -D_LARGEFILE64_SOURCE=1 -Inumpy/core/include -Ibuild/src.linux-x86_64-3.10/numpy/core/include/numpy -Inumpy/core/src/common -Inumpy/core/src -Inumpy/core -Inumpy/core/src/npymath -Inumpy/core/src/multiarray -Inumpy/core/src/umath -Inumpy/core/src/npysort -I/usr/local/python/3.10.4/include/python3.10 -Ibuild/src.linux-x86_64-3.10/numpy/core/src/common -Ibuild/src.linux-x86_64-3.10/numpy/core/src/npymath -c'\n",
      "  \u001b[31m   \u001b[0m gcc: build/src.linux-x86_64-3.10/numpy/core/src/multiarray/_multiarray_tests.c\n",
      "  \u001b[31m   \u001b[0m gcc: numpy/core/src/common/mem_overlap.c\n",
      "  \u001b[31m   \u001b[0m gcc -pthread -shared build/temp.linux-x86_64-cpython-310/build/src.linux-x86_64-3.10/numpy/core/src/multiarray/_multiarray_tests.o build/temp.linux-x86_64-cpython-310/numpy/core/src/common/mem_overlap.o -Lbuild/temp.linux-x86_64-cpython-310 -lnpymath -o build/lib.linux-x86_64-cpython-310/numpy/core/_multiarray_tests.cpython-310-x86_64-linux-gnu.so\n",
      "  \u001b[31m   \u001b[0m building 'numpy.core._multiarray_umath' extension\n",
      "  \u001b[31m   \u001b[0m compiling C sources\n",
      "  \u001b[31m   \u001b[0m C compiler: gcc -pthread -Wno-unused-result -Wsign-compare -DNDEBUG -g -fwrapv -O3 -Wall -fPIC -std=c99\n",
      "  \u001b[31m   \u001b[0m \n",
      "  \u001b[31m   \u001b[0m creating build/temp.linux-x86_64-cpython-310/numpy/core/src/multiarray\n",
      "  \u001b[31m   \u001b[0m creating build/temp.linux-x86_64-cpython-310/numpy/core/src/umath\n",
      "  \u001b[31m   \u001b[0m creating build/temp.linux-x86_64-cpython-310/build/src.linux-x86_64-3.10/numpy/core/src/umath\n",
      "  \u001b[31m   \u001b[0m compile options: '-DNPY_INTERNAL_BUILD=1 -DHAVE_NPY_CONFIG_H=1 -D_FILE_OFFSET_BITS=64 -D_LARGEFILE_SOURCE=1 -D_LARGEFILE64_SOURCE=1 -Ibuild/src.linux-x86_64-3.10/numpy/core/src/umath -Ibuild/src.linux-x86_64-3.10/numpy/core/src/npymath -Ibuild/src.linux-x86_64-3.10/numpy/core/src/common -Inumpy/core/include -Ibuild/src.linux-x86_64-3.10/numpy/core/include/numpy -Inumpy/core/src/common -Inumpy/core/src -Inumpy/core -Inumpy/core/src/npymath -Inumpy/core/src/multiarray -Inumpy/core/src/umath -Inumpy/core/src/npysort -I/usr/local/python/3.10.4/include/python3.10 -Ibuild/src.linux-x86_64-3.10/numpy/core/src/common -Ibuild/src.linux-x86_64-3.10/numpy/core/src/npymath -c'\n",
      "  \u001b[31m   \u001b[0m gcc: numpy/core/src/multiarray/alloc.c\n",
      "  \u001b[31m   \u001b[0m gcc: numpy/core/src/multiarray/common.c\n",
      "  \u001b[31m   \u001b[0m numpy/core/src/multiarray/common.c: In function ‘PyArray_DTypeFromObjectHelper’:\n",
      "  \u001b[31m   \u001b[0m numpy/core/src/multiarray/common.c:186:17: warning: ‘_PyUnicode_get_wstr_length’ is deprecated [-Wdeprecated-declarations]\n",
      "  \u001b[31m   \u001b[0m   186 |                 itemsize = PyUnicode_GET_DATA_SIZE(temp);\n",
      "  \u001b[31m   \u001b[0m       |                 ^~~~~~~~\n",
      "  \u001b[31m   \u001b[0m In file included from /usr/local/python/3.10.4/include/python3.10/unicodeobject.h:1046,\n",
      "  \u001b[31m   \u001b[0m                  from /usr/local/python/3.10.4/include/python3.10/Python.h:83,\n",
      "  \u001b[31m   \u001b[0m                  from numpy/core/src/multiarray/common.c:2:\n",
      "  \u001b[31m   \u001b[0m /usr/local/python/3.10.4/include/python3.10/cpython/unicodeobject.h:446:26: note: declared here\n",
      "  \u001b[31m   \u001b[0m   446 | static inline Py_ssize_t _PyUnicode_get_wstr_length(PyObject *op) {\n",
      "  \u001b[31m   \u001b[0m       |                          ^~~~~~~~~~~~~~~~~~~~~~~~~~\n",
      "  \u001b[31m   \u001b[0m numpy/core/src/multiarray/common.c:186:17: warning: ‘PyUnicode_AsUnicode’ is deprecated [-Wdeprecated-declarations]\n",
      "  \u001b[31m   \u001b[0m   186 |                 itemsize = PyUnicode_GET_DATA_SIZE(temp);\n",
      "  \u001b[31m   \u001b[0m       |                 ^~~~~~~~\n",
      "  \u001b[31m   \u001b[0m In file included from /usr/local/python/3.10.4/include/python3.10/unicodeobject.h:1046,\n",
      "  \u001b[31m   \u001b[0m                  from /usr/local/python/3.10.4/include/python3.10/Python.h:83,\n",
      "  \u001b[31m   \u001b[0m                  from numpy/core/src/multiarray/common.c:2:\n",
      "  \u001b[31m   \u001b[0m /usr/local/python/3.10.4/include/python3.10/cpython/unicodeobject.h:580:45: note: declared here\n",
      "  \u001b[31m   \u001b[0m   580 | Py_DEPRECATED(3.3) PyAPI_FUNC(Py_UNICODE *) PyUnicode_AsUnicode(\n",
      "  \u001b[31m   \u001b[0m       |                                             ^~~~~~~~~~~~~~~~~~~\n",
      "  \u001b[31m   \u001b[0m numpy/core/src/multiarray/common.c:186:17: warning: ‘_PyUnicode_get_wstr_length’ is deprecated [-Wdeprecated-declarations]\n",
      "  \u001b[31m   \u001b[0m   186 |                 itemsize = PyUnicode_GET_DATA_SIZE(temp);\n",
      "  \u001b[31m   \u001b[0m       |                 ^~~~~~~~\n",
      "  \u001b[31m   \u001b[0m In file included from /usr/local/python/3.10.4/include/python3.10/unicodeobject.h:1046,\n",
      "  \u001b[31m   \u001b[0m                  from /usr/local/python/3.10.4/include/python3.10/Python.h:83,\n",
      "  \u001b[31m   \u001b[0m                  from numpy/core/src/multiarray/common.c:2:\n",
      "  \u001b[31m   \u001b[0m /usr/local/python/3.10.4/include/python3.10/cpython/unicodeobject.h:446:26: note: declared here\n",
      "  \u001b[31m   \u001b[0m   446 | static inline Py_ssize_t _PyUnicode_get_wstr_length(PyObject *op) {\n",
      "  \u001b[31m   \u001b[0m       |                          ^~~~~~~~~~~~~~~~~~~~~~~~~~\n",
      "  \u001b[31m   \u001b[0m numpy/core/src/multiarray/common.c:242:17: warning: ‘_PyUnicode_get_wstr_length’ is deprecated [-Wdeprecated-declarations]\n",
      "  \u001b[31m   \u001b[0m   242 |                 itemsize = PyUnicode_GET_DATA_SIZE(temp);\n",
      "  \u001b[31m   \u001b[0m       |                 ^~~~~~~~\n",
      "  \u001b[31m   \u001b[0m In file included from /usr/local/python/3.10.4/include/python3.10/unicodeobject.h:1046,\n",
      "  \u001b[31m   \u001b[0m                  from /usr/local/python/3.10.4/include/python3.10/Python.h:83,\n",
      "  \u001b[31m   \u001b[0m                  from numpy/core/src/multiarray/common.c:2:\n",
      "  \u001b[31m   \u001b[0m /usr/local/python/3.10.4/include/python3.10/cpython/unicodeobject.h:446:26: note: declared here\n",
      "  \u001b[31m   \u001b[0m   446 | static inline Py_ssize_t _PyUnicode_get_wstr_length(PyObject *op) {\n",
      "  \u001b[31m   \u001b[0m       |                          ^~~~~~~~~~~~~~~~~~~~~~~~~~\n",
      "  \u001b[31m   \u001b[0m numpy/core/src/multiarray/common.c:242:17: warning: ‘PyUnicode_AsUnicode’ is deprecated [-Wdeprecated-declarations]\n",
      "  \u001b[31m   \u001b[0m   242 |                 itemsize = PyUnicode_GET_DATA_SIZE(temp);\n",
      "  \u001b[31m   \u001b[0m       |                 ^~~~~~~~\n",
      "  \u001b[31m   \u001b[0m In file included from /usr/local/python/3.10.4/include/python3.10/unicodeobject.h:1046,\n",
      "  \u001b[31m   \u001b[0m                  from /usr/local/python/3.10.4/include/python3.10/Python.h:83,\n",
      "  \u001b[31m   \u001b[0m                  from numpy/core/src/multiarray/common.c:2:\n",
      "  \u001b[31m   \u001b[0m /usr/local/python/3.10.4/include/python3.10/cpython/unicodeobject.h:580:45: note: declared here\n",
      "  \u001b[31m   \u001b[0m   580 | Py_DEPRECATED(3.3) PyAPI_FUNC(Py_UNICODE *) PyUnicode_AsUnicode(\n",
      "  \u001b[31m   \u001b[0m       |                                             ^~~~~~~~~~~~~~~~~~~\n",
      "  \u001b[31m   \u001b[0m numpy/core/src/multiarray/common.c:242:17: warning: ‘_PyUnicode_get_wstr_length’ is deprecated [-Wdeprecated-declarations]\n",
      "  \u001b[31m   \u001b[0m   242 |                 itemsize = PyUnicode_GET_DATA_SIZE(temp);\n",
      "  \u001b[31m   \u001b[0m       |                 ^~~~~~~~\n",
      "  \u001b[31m   \u001b[0m In file included from /usr/local/python/3.10.4/include/python3.10/unicodeobject.h:1046,\n",
      "  \u001b[31m   \u001b[0m                  from /usr/local/python/3.10.4/include/python3.10/Python.h:83,\n",
      "  \u001b[31m   \u001b[0m                  from numpy/core/src/multiarray/common.c:2:\n",
      "  \u001b[31m   \u001b[0m /usr/local/python/3.10.4/include/python3.10/cpython/unicodeobject.h:446:26: note: declared here\n",
      "  \u001b[31m   \u001b[0m   446 | static inline Py_ssize_t _PyUnicode_get_wstr_length(PyObject *op) {\n",
      "  \u001b[31m   \u001b[0m       |                          ^~~~~~~~~~~~~~~~~~~~~~~~~~\n",
      "  \u001b[31m   \u001b[0m numpy/core/src/multiarray/common.c:285:9: warning: ‘_PyUnicode_get_wstr_length’ is deprecated [-Wdeprecated-declarations]\n",
      "  \u001b[31m   \u001b[0m   285 |         int itemsize = PyUnicode_GET_DATA_SIZE(obj);\n",
      "  \u001b[31m   \u001b[0m       |         ^~~\n",
      "  \u001b[31m   \u001b[0m In file included from /usr/local/python/3.10.4/include/python3.10/unicodeobject.h:1046,\n",
      "  \u001b[31m   \u001b[0m                  from /usr/local/python/3.10.4/include/python3.10/Python.h:83,\n",
      "  \u001b[31m   \u001b[0m                  from numpy/core/src/multiarray/common.c:2:\n",
      "  \u001b[31m   \u001b[0m /usr/local/python/3.10.4/include/python3.10/cpython/unicodeobject.h:446:26: note: declared here\n",
      "  \u001b[31m   \u001b[0m   446 | static inline Py_ssize_t _PyUnicode_get_wstr_length(PyObject *op) {\n",
      "  \u001b[31m   \u001b[0m       |                          ^~~~~~~~~~~~~~~~~~~~~~~~~~\n",
      "  \u001b[31m   \u001b[0m numpy/core/src/multiarray/common.c:285:9: warning: ‘PyUnicode_AsUnicode’ is deprecated [-Wdeprecated-declarations]\n",
      "  \u001b[31m   \u001b[0m   285 |         int itemsize = PyUnicode_GET_DATA_SIZE(obj);\n",
      "  \u001b[31m   \u001b[0m       |         ^~~\n",
      "  \u001b[31m   \u001b[0m In file included from /usr/local/python/3.10.4/include/python3.10/unicodeobject.h:1046,\n",
      "  \u001b[31m   \u001b[0m                  from /usr/local/python/3.10.4/include/python3.10/Python.h:83,\n",
      "  \u001b[31m   \u001b[0m                  from numpy/core/src/multiarray/common.c:2:\n",
      "  \u001b[31m   \u001b[0m /usr/local/python/3.10.4/include/python3.10/cpython/unicodeobject.h:580:45: note: declared here\n",
      "  \u001b[31m   \u001b[0m   580 | Py_DEPRECATED(3.3) PyAPI_FUNC(Py_UNICODE *) PyUnicode_AsUnicode(\n",
      "  \u001b[31m   \u001b[0m       |                                             ^~~~~~~~~~~~~~~~~~~\n",
      "  \u001b[31m   \u001b[0m numpy/core/src/multiarray/common.c:285:9: warning: ‘_PyUnicode_get_wstr_length’ is deprecated [-Wdeprecated-declarations]\n",
      "  \u001b[31m   \u001b[0m   285 |         int itemsize = PyUnicode_GET_DATA_SIZE(obj);\n",
      "  \u001b[31m   \u001b[0m       |         ^~~\n",
      "  \u001b[31m   \u001b[0m In file included from /usr/local/python/3.10.4/include/python3.10/unicodeobject.h:1046,\n",
      "  \u001b[31m   \u001b[0m                  from /usr/local/python/3.10.4/include/python3.10/Python.h:83,\n",
      "  \u001b[31m   \u001b[0m                  from numpy/core/src/multiarray/common.c:2:\n",
      "  \u001b[31m   \u001b[0m /usr/local/python/3.10.4/include/python3.10/cpython/unicodeobject.h:446:26: note: declared here\n",
      "  \u001b[31m   \u001b[0m   446 | static inline Py_ssize_t _PyUnicode_get_wstr_length(PyObject *op) {\n",
      "  \u001b[31m   \u001b[0m       |                          ^~~~~~~~~~~~~~~~~~~~~~~~~~\n",
      "  \u001b[31m   \u001b[0m gcc: numpy/core/src/multiarray/arrayobject.c\n",
      "  \u001b[31m   \u001b[0m gcc: numpy/core/src/multiarray/convert.c\n",
      "  \u001b[31m   \u001b[0m gcc: numpy/core/src/multiarray/convert_datatype.c\n",
      "  \u001b[31m   \u001b[0m gcc: build/src.linux-x86_64-3.10/numpy/core/src/multiarray/arraytypes.c\n",
      "  \u001b[31m   \u001b[0m numpy/core/src/multiarray/arraytypes.c.src: In function ‘UNICODE_setitem’:\n",
      "  \u001b[31m   \u001b[0m numpy/core/src/multiarray/arraytypes.c.src:487:5: warning: ‘PyUnicode_AsUnicode’ is deprecated [-Wdeprecated-declarations]\n",
      "  \u001b[31m   \u001b[0m   487 |     ptr = PyUnicode_AS_UNICODE(temp);\n",
      "  \u001b[31m   \u001b[0m       |     ^~~\n",
      "  \u001b[31m   \u001b[0m In file included from /usr/local/python/3.10.4/include/python3.10/unicodeobject.h:1046,\n",
      "  \u001b[31m   \u001b[0m                  from /usr/local/python/3.10.4/include/python3.10/Python.h:83,\n",
      "  \u001b[31m   \u001b[0m                  from numpy/core/src/multiarray/arraytypes.c.src:3:\n",
      "  \u001b[31m   \u001b[0m /usr/local/python/3.10.4/include/python3.10/cpython/unicodeobject.h:580:45: note: declared here\n",
      "  \u001b[31m   \u001b[0m   580 | Py_DEPRECATED(3.3) PyAPI_FUNC(Py_UNICODE *) PyUnicode_AsUnicode(\n",
      "  \u001b[31m   \u001b[0m       |                                             ^~~~~~~~~~~~~~~~~~~\n",
      "  \u001b[31m   \u001b[0m numpy/core/src/multiarray/arraytypes.c.src:492:5: warning: ‘_PyUnicode_get_wstr_length’ is deprecated [-Wdeprecated-declarations]\n",
      "  \u001b[31m   \u001b[0m   492 |     datalen = PyUnicode_GET_DATA_SIZE(temp);\n",
      "  \u001b[31m   \u001b[0m       |     ^~~~~~~\n",
      "  \u001b[31m   \u001b[0m In file included from /usr/local/python/3.10.4/include/python3.10/unicodeobject.h:1046,\n",
      "  \u001b[31m   \u001b[0m                  from /usr/local/python/3.10.4/include/python3.10/Python.h:83,\n",
      "  \u001b[31m   \u001b[0m                  from numpy/core/src/multiarray/arraytypes.c.src:3:\n",
      "  \u001b[31m   \u001b[0m /usr/local/python/3.10.4/include/python3.10/cpython/unicodeobject.h:446:26: note: declared here\n",
      "  \u001b[31m   \u001b[0m   446 | static inline Py_ssize_t _PyUnicode_get_wstr_length(PyObject *op) {\n",
      "  \u001b[31m   \u001b[0m       |                          ^~~~~~~~~~~~~~~~~~~~~~~~~~\n",
      "  \u001b[31m   \u001b[0m numpy/core/src/multiarray/arraytypes.c.src:492:5: warning: ‘PyUnicode_AsUnicode’ is deprecated [-Wdeprecated-declarations]\n",
      "  \u001b[31m   \u001b[0m   492 |     datalen = PyUnicode_GET_DATA_SIZE(temp);\n",
      "  \u001b[31m   \u001b[0m       |     ^~~~~~~\n",
      "  \u001b[31m   \u001b[0m In file included from /usr/local/python/3.10.4/include/python3.10/unicodeobject.h:1046,\n",
      "  \u001b[31m   \u001b[0m                  from /usr/local/python/3.10.4/include/python3.10/Python.h:83,\n",
      "  \u001b[31m   \u001b[0m                  from numpy/core/src/multiarray/arraytypes.c.src:3:\n",
      "  \u001b[31m   \u001b[0m /usr/local/python/3.10.4/include/python3.10/cpython/unicodeobject.h:580:45: note: declared here\n",
      "  \u001b[31m   \u001b[0m   580 | Py_DEPRECATED(3.3) PyAPI_FUNC(Py_UNICODE *) PyUnicode_AsUnicode(\n",
      "  \u001b[31m   \u001b[0m       |                                             ^~~~~~~~~~~~~~~~~~~\n",
      "  \u001b[31m   \u001b[0m numpy/core/src/multiarray/arraytypes.c.src:492:5: warning: ‘_PyUnicode_get_wstr_length’ is deprecated [-Wdeprecated-declarations]\n",
      "  \u001b[31m   \u001b[0m   492 |     datalen = PyUnicode_GET_DATA_SIZE(temp);\n",
      "  \u001b[31m   \u001b[0m       |     ^~~~~~~\n",
      "  \u001b[31m   \u001b[0m In file included from /usr/local/python/3.10.4/include/python3.10/unicodeobject.h:1046,\n",
      "  \u001b[31m   \u001b[0m                  from /usr/local/python/3.10.4/include/python3.10/Python.h:83,\n",
      "  \u001b[31m   \u001b[0m                  from numpy/core/src/multiarray/arraytypes.c.src:3:\n",
      "  \u001b[31m   \u001b[0m /usr/local/python/3.10.4/include/python3.10/cpython/unicodeobject.h:446:26: note: declared here\n",
      "  \u001b[31m   \u001b[0m   446 | static inline Py_ssize_t _PyUnicode_get_wstr_length(PyObject *op) {\n",
      "  \u001b[31m   \u001b[0m       |                          ^~~~~~~~~~~~~~~~~~~~~~~~~~\n",
      "  \u001b[31m   \u001b[0m gcc: numpy/core/src/multiarray/conversion_utils.c\n",
      "  \u001b[31m   \u001b[0m gcc: numpy/core/src/multiarray/ctors.c\n",
      "  \u001b[31m   \u001b[0m numpy/core/src/multiarray/ctors.c: In function ‘_is_default_descr’:\n",
      "  \u001b[31m   \u001b[0m numpy/core/src/multiarray/ctors.c:2368:5: warning: ‘_PyUnicode_get_wstr_length’ is deprecated [-Wdeprecated-declarations]\n",
      "  \u001b[31m   \u001b[0m  2368 |     if (!(PyUString_Check(name) && PyUString_GET_SIZE(name) == 0)) {\n",
      "  \u001b[31m   \u001b[0m       |     ^~\n",
      "  \u001b[31m   \u001b[0m In file included from /usr/local/python/3.10.4/include/python3.10/unicodeobject.h:1046,\n",
      "  \u001b[31m   \u001b[0m                  from /usr/local/python/3.10.4/include/python3.10/Python.h:83,\n",
      "  \u001b[31m   \u001b[0m                  from numpy/core/src/multiarray/ctors.c:2:\n",
      "  \u001b[31m   \u001b[0m /usr/local/python/3.10.4/include/python3.10/cpython/unicodeobject.h:446:26: note: declared here\n",
      "  \u001b[31m   \u001b[0m   446 | static inline Py_ssize_t _PyUnicode_get_wstr_length(PyObject *op) {\n",
      "  \u001b[31m   \u001b[0m       |                          ^~~~~~~~~~~~~~~~~~~~~~~~~~\n",
      "  \u001b[31m   \u001b[0m numpy/core/src/multiarray/ctors.c:2368:5: warning: ‘PyUnicode_AsUnicode’ is deprecated [-Wdeprecated-declarations]\n",
      "  \u001b[31m   \u001b[0m  2368 |     if (!(PyUString_Check(name) && PyUString_GET_SIZE(name) == 0)) {\n",
      "  \u001b[31m   \u001b[0m       |     ^~\n",
      "  \u001b[31m   \u001b[0m In file included from /usr/local/python/3.10.4/include/python3.10/unicodeobject.h:1046,\n",
      "  \u001b[31m   \u001b[0m                  from /usr/local/python/3.10.4/include/python3.10/Python.h:83,\n",
      "  \u001b[31m   \u001b[0m                  from numpy/core/src/multiarray/ctors.c:2:\n",
      "  \u001b[31m   \u001b[0m /usr/local/python/3.10.4/include/python3.10/cpython/unicodeobject.h:580:45: note: declared here\n",
      "  \u001b[31m   \u001b[0m   580 | Py_DEPRECATED(3.3) PyAPI_FUNC(Py_UNICODE *) PyUnicode_AsUnicode(\n",
      "  \u001b[31m   \u001b[0m       |                                             ^~~~~~~~~~~~~~~~~~~\n",
      "  \u001b[31m   \u001b[0m numpy/core/src/multiarray/ctors.c:2368:5: warning: ‘_PyUnicode_get_wstr_length’ is deprecated [-Wdeprecated-declarations]\n",
      "  \u001b[31m   \u001b[0m  2368 |     if (!(PyUString_Check(name) && PyUString_GET_SIZE(name) == 0)) {\n",
      "  \u001b[31m   \u001b[0m       |     ^~\n",
      "  \u001b[31m   \u001b[0m In file included from /usr/local/python/3.10.4/include/python3.10/unicodeobject.h:1046,\n",
      "  \u001b[31m   \u001b[0m                  from /usr/local/python/3.10.4/include/python3.10/Python.h:83,\n",
      "  \u001b[31m   \u001b[0m                  from numpy/core/src/multiarray/ctors.c:2:\n",
      "  \u001b[31m   \u001b[0m /usr/local/python/3.10.4/include/python3.10/cpython/unicodeobject.h:446:26: note: declared here\n",
      "  \u001b[31m   \u001b[0m   446 | static inline Py_ssize_t _PyUnicode_get_wstr_length(PyObject *op) {\n",
      "  \u001b[31m   \u001b[0m       |                          ^~~~~~~~~~~~~~~~~~~~~~~~~~\n",
      "  \u001b[31m   \u001b[0m gcc: numpy/core/src/multiarray/datetime.c\n",
      "  \u001b[31m   \u001b[0m gcc: numpy/core/src/multiarray/datetime_strings.c\n",
      "  \u001b[31m   \u001b[0m gcc: numpy/core/src/multiarray/datetime_busday.c\n",
      "  \u001b[31m   \u001b[0m gcc: numpy/core/src/multiarray/datetime_busdaycal.c\n",
      "  \u001b[31m   \u001b[0m gcc: numpy/core/src/multiarray/descriptor.c\n",
      "  \u001b[31m   \u001b[0m numpy/core/src/multiarray/descriptor.c: In function ‘_convert_from_array_descr’:\n",
      "  \u001b[31m   \u001b[0m numpy/core/src/multiarray/descriptor.c:468:9: warning: ‘_PyUnicode_get_wstr_length’ is deprecated [-Wdeprecated-declarations]\n",
      "  \u001b[31m   \u001b[0m   468 |         if (PyUString_GET_SIZE(name) == 0) {\n",
      "  \u001b[31m   \u001b[0m       |         ^~\n",
      "  \u001b[31m   \u001b[0m In file included from /usr/local/python/3.10.4/include/python3.10/unicodeobject.h:1046,\n",
      "  \u001b[31m   \u001b[0m                  from /usr/local/python/3.10.4/include/python3.10/Python.h:83,\n",
      "  \u001b[31m   \u001b[0m                  from numpy/core/src/multiarray/descriptor.c:4:\n",
      "  \u001b[31m   \u001b[0m /usr/local/python/3.10.4/include/python3.10/cpython/unicodeobject.h:446:26: note: declared here\n",
      "  \u001b[31m   \u001b[0m   446 | static inline Py_ssize_t _PyUnicode_get_wstr_length(PyObject *op) {\n",
      "  \u001b[31m   \u001b[0m       |                          ^~~~~~~~~~~~~~~~~~~~~~~~~~\n",
      "  \u001b[31m   \u001b[0m numpy/core/src/multiarray/descriptor.c:468:9: warning: ‘PyUnicode_AsUnicode’ is deprecated [-Wdeprecated-declarations]\n",
      "  \u001b[31m   \u001b[0m   468 |         if (PyUString_GET_SIZE(name) == 0) {\n",
      "  \u001b[31m   \u001b[0m       |         ^~\n",
      "  \u001b[31m   \u001b[0m In file included from /usr/local/python/3.10.4/include/python3.10/unicodeobject.h:1046,\n",
      "  \u001b[31m   \u001b[0m                  from /usr/local/python/3.10.4/include/python3.10/Python.h:83,\n",
      "  \u001b[31m   \u001b[0m                  from numpy/core/src/multiarray/descriptor.c:4:\n",
      "  \u001b[31m   \u001b[0m /usr/local/python/3.10.4/include/python3.10/cpython/unicodeobject.h:580:45: note: declared here\n",
      "  \u001b[31m   \u001b[0m   580 | Py_DEPRECATED(3.3) PyAPI_FUNC(Py_UNICODE *) PyUnicode_AsUnicode(\n",
      "  \u001b[31m   \u001b[0m       |                                             ^~~~~~~~~~~~~~~~~~~\n",
      "  \u001b[31m   \u001b[0m numpy/core/src/multiarray/descriptor.c:468:9: warning: ‘_PyUnicode_get_wstr_length’ is deprecated [-Wdeprecated-declarations]\n",
      "  \u001b[31m   \u001b[0m   468 |         if (PyUString_GET_SIZE(name) == 0) {\n",
      "  \u001b[31m   \u001b[0m       |         ^~\n",
      "  \u001b[31m   \u001b[0m In file included from /usr/local/python/3.10.4/include/python3.10/unicodeobject.h:1046,\n",
      "  \u001b[31m   \u001b[0m                  from /usr/local/python/3.10.4/include/python3.10/Python.h:83,\n",
      "  \u001b[31m   \u001b[0m                  from numpy/core/src/multiarray/descriptor.c:4:\n",
      "  \u001b[31m   \u001b[0m /usr/local/python/3.10.4/include/python3.10/cpython/unicodeobject.h:446:26: note: declared here\n",
      "  \u001b[31m   \u001b[0m   446 | static inline Py_ssize_t _PyUnicode_get_wstr_length(PyObject *op) {\n",
      "  \u001b[31m   \u001b[0m       |                          ^~~~~~~~~~~~~~~~~~~~~~~~~~\n",
      "  \u001b[31m   \u001b[0m numpy/core/src/multiarray/descriptor.c:475:13: warning: ‘_PyUnicode_get_wstr_length’ is deprecated [-Wdeprecated-declarations]\n",
      "  \u001b[31m   \u001b[0m   475 |             else if (PyUString_Check(title) && PyUString_GET_SIZE(title) > 0) {\n",
      "  \u001b[31m   \u001b[0m       |             ^~~~\n",
      "  \u001b[31m   \u001b[0m In file included from /usr/local/python/3.10.4/include/python3.10/unicodeobject.h:1046,\n",
      "  \u001b[31m   \u001b[0m                  from /usr/local/python/3.10.4/include/python3.10/Python.h:83,\n",
      "  \u001b[31m   \u001b[0m                  from numpy/core/src/multiarray/descriptor.c:4:\n",
      "  \u001b[31m   \u001b[0m /usr/local/python/3.10.4/include/python3.10/cpython/unicodeobject.h:446:26: note: declared here\n",
      "  \u001b[31m   \u001b[0m   446 | static inline Py_ssize_t _PyUnicode_get_wstr_length(PyObject *op) {\n",
      "  \u001b[31m   \u001b[0m       |                          ^~~~~~~~~~~~~~~~~~~~~~~~~~\n",
      "  \u001b[31m   \u001b[0m numpy/core/src/multiarray/descriptor.c:475:13: warning: ‘PyUnicode_AsUnicode’ is deprecated [-Wdeprecated-declarations]\n",
      "  \u001b[31m   \u001b[0m   475 |             else if (PyUString_Check(title) && PyUString_GET_SIZE(title) > 0) {\n",
      "  \u001b[31m   \u001b[0m       |             ^~~~\n",
      "  \u001b[31m   \u001b[0m In file included from /usr/local/python/3.10.4/include/python3.10/unicodeobject.h:1046,\n",
      "  \u001b[31m   \u001b[0m                  from /usr/local/python/3.10.4/include/python3.10/Python.h:83,\n",
      "  \u001b[31m   \u001b[0m                  from numpy/core/src/multiarray/descriptor.c:4:\n",
      "  \u001b[31m   \u001b[0m /usr/local/python/3.10.4/include/python3.10/cpython/unicodeobject.h:580:45: note: declared here\n",
      "  \u001b[31m   \u001b[0m   580 | Py_DEPRECATED(3.3) PyAPI_FUNC(Py_UNICODE *) PyUnicode_AsUnicode(\n",
      "  \u001b[31m   \u001b[0m       |                                             ^~~~~~~~~~~~~~~~~~~\n",
      "  \u001b[31m   \u001b[0m numpy/core/src/multiarray/descriptor.c:475:13: warning: ‘_PyUnicode_get_wstr_length’ is deprecated [-Wdeprecated-declarations]\n",
      "  \u001b[31m   \u001b[0m   475 |             else if (PyUString_Check(title) && PyUString_GET_SIZE(title) > 0) {\n",
      "  \u001b[31m   \u001b[0m       |             ^~~~\n",
      "  \u001b[31m   \u001b[0m In file included from /usr/local/python/3.10.4/include/python3.10/unicodeobject.h:1046,\n",
      "  \u001b[31m   \u001b[0m                  from /usr/local/python/3.10.4/include/python3.10/Python.h:83,\n",
      "  \u001b[31m   \u001b[0m                  from numpy/core/src/multiarray/descriptor.c:4:\n",
      "  \u001b[31m   \u001b[0m /usr/local/python/3.10.4/include/python3.10/cpython/unicodeobject.h:446:26: note: declared here\n",
      "  \u001b[31m   \u001b[0m   446 | static inline Py_ssize_t _PyUnicode_get_wstr_length(PyObject *op) {\n",
      "  \u001b[31m   \u001b[0m       |                          ^~~~~~~~~~~~~~~~~~~~~~~~~~\n",
      "  \u001b[31m   \u001b[0m gcc: numpy/core/src/multiarray/dragon4.c\n",
      "  \u001b[31m   \u001b[0m gcc: numpy/core/src/multiarray/dtype_transfer.c\n",
      "  \u001b[31m   \u001b[0m gcc: build/src.linux-x86_64-3.10/numpy/core/src/multiarray/einsum.c\n",
      "  \u001b[31m   \u001b[0m gcc: numpy/core/src/multiarray/array_assign_scalar.c\n",
      "  \u001b[31m   \u001b[0m gcc: numpy/core/src/multiarray/array_assign_array.c\n",
      "  \u001b[31m   \u001b[0m gcc: numpy/core/src/multiarray/arrayfunction_override.c\n",
      "  \u001b[31m   \u001b[0m gcc: numpy/core/src/multiarray/buffer.c\n",
      "  \u001b[31m   \u001b[0m gcc: numpy/core/src/multiarray/calculation.c\n",
      "  \u001b[31m   \u001b[0m gcc: numpy/core/src/multiarray/compiled_base.c\n",
      "  \u001b[31m   \u001b[0m gcc: build/src.linux-x86_64-3.10/numpy/core/src/multiarray/lowlevel_strided_loops.c\n",
      "  \u001b[31m   \u001b[0m gcc: numpy/core/src/multiarray/flagsobject.c\n",
      "  \u001b[31m   \u001b[0m gcc: numpy/core/src/multiarray/getset.c\n",
      "  \u001b[31m   \u001b[0m gcc: numpy/core/src/multiarray/hashdescr.c\n",
      "  \u001b[31m   \u001b[0m gcc: numpy/core/src/multiarray/item_selection.c\n",
      "  \u001b[31m   \u001b[0m gcc: numpy/core/src/multiarray/iterators.c\n",
      "  \u001b[31m   \u001b[0m gcc: numpy/core/src/multiarray/refcount.c\n",
      "  \u001b[31m   \u001b[0m gcc: numpy/core/src/multiarray/sequence.c\n",
      "  \u001b[31m   \u001b[0m gcc: numpy/core/src/multiarray/shape.c\n",
      "  \u001b[31m   \u001b[0m gcc: numpy/core/src/multiarray/scalarapi.c\n",
      "  \u001b[31m   \u001b[0m numpy/core/src/multiarray/scalarapi.c: In function ‘scalar_value’:\n",
      "  \u001b[31m   \u001b[0m numpy/core/src/multiarray/scalarapi.c:74:13: warning: ‘PyUnicode_AsUnicode’ is deprecated [-Wdeprecated-declarations]\n",
      "  \u001b[31m   \u001b[0m    74 |             return (void *)PyUnicode_AS_DATA(scalar);\n",
      "  \u001b[31m   \u001b[0m       |             ^~~~~~\n",
      "  \u001b[31m   \u001b[0m In file included from /usr/local/python/3.10.4/include/python3.10/unicodeobject.h:1046,\n",
      "  \u001b[31m   \u001b[0m                  from /usr/local/python/3.10.4/include/python3.10/Python.h:83,\n",
      "  \u001b[31m   \u001b[0m                  from numpy/core/src/multiarray/scalarapi.c:2:\n",
      "  \u001b[31m   \u001b[0m /usr/local/python/3.10.4/include/python3.10/cpython/unicodeobject.h:580:45: note: declared here\n",
      "  \u001b[31m   \u001b[0m   580 | Py_DEPRECATED(3.3) PyAPI_FUNC(Py_UNICODE *) PyUnicode_AsUnicode(\n",
      "  \u001b[31m   \u001b[0m       |                                             ^~~~~~~~~~~~~~~~~~~\n",
      "  \u001b[31m   \u001b[0m numpy/core/src/multiarray/scalarapi.c:135:13: warning: ‘PyUnicode_AsUnicode’ is deprecated [-Wdeprecated-declarations]\n",
      "  \u001b[31m   \u001b[0m   135 |             return (void *)PyUnicode_AS_DATA(scalar);\n",
      "  \u001b[31m   \u001b[0m       |             ^~~~~~\n",
      "  \u001b[31m   \u001b[0m In file included from /usr/local/python/3.10.4/include/python3.10/unicodeobject.h:1046,\n",
      "  \u001b[31m   \u001b[0m                  from /usr/local/python/3.10.4/include/python3.10/Python.h:83,\n",
      "  \u001b[31m   \u001b[0m                  from numpy/core/src/multiarray/scalarapi.c:2:\n",
      "  \u001b[31m   \u001b[0m /usr/local/python/3.10.4/include/python3.10/cpython/unicodeobject.h:580:45: note: declared here\n",
      "  \u001b[31m   \u001b[0m   580 | Py_DEPRECATED(3.3) PyAPI_FUNC(Py_UNICODE *) PyUnicode_AsUnicode(\n",
      "  \u001b[31m   \u001b[0m       |                                             ^~~~~~~~~~~~~~~~~~~\n",
      "  \u001b[31m   \u001b[0m numpy/core/src/multiarray/scalarapi.c: In function ‘PyArray_DescrFromScalar’:\n",
      "  \u001b[31m   \u001b[0m numpy/core/src/multiarray/scalarapi.c:574:13: warning: ‘_PyUnicode_get_wstr_length’ is deprecated [-Wdeprecated-declarations]\n",
      "  \u001b[31m   \u001b[0m   574 |             descr->elsize = PyUnicode_GET_DATA_SIZE(sc);\n",
      "  \u001b[31m   \u001b[0m       |             ^~~~~\n",
      "  \u001b[31m   \u001b[0m In file included from /usr/local/python/3.10.4/include/python3.10/unicodeobject.h:1046,\n",
      "  \u001b[31m   \u001b[0m                  from /usr/local/python/3.10.4/include/python3.10/Python.h:83,\n",
      "  \u001b[31m   \u001b[0m                  from numpy/core/src/multiarray/scalarapi.c:2:\n",
      "  \u001b[31m   \u001b[0m /usr/local/python/3.10.4/include/python3.10/cpython/unicodeobject.h:446:26: note: declared here\n",
      "  \u001b[31m   \u001b[0m   446 | static inline Py_ssize_t _PyUnicode_get_wstr_length(PyObject *op) {\n",
      "  \u001b[31m   \u001b[0m       |                          ^~~~~~~~~~~~~~~~~~~~~~~~~~\n",
      "  \u001b[31m   \u001b[0m numpy/core/src/multiarray/scalarapi.c:574:13: warning: ‘PyUnicode_AsUnicode’ is deprecated [-Wdeprecated-declarations]\n",
      "  \u001b[31m   \u001b[0m   574 |             descr->elsize = PyUnicode_GET_DATA_SIZE(sc);\n",
      "  \u001b[31m   \u001b[0m       |             ^~~~~\n",
      "  \u001b[31m   \u001b[0m In file included from /usr/local/python/3.10.4/include/python3.10/unicodeobject.h:1046,\n",
      "  \u001b[31m   \u001b[0m                  from /usr/local/python/3.10.4/include/python3.10/Python.h:83,\n",
      "  \u001b[31m   \u001b[0m                  from numpy/core/src/multiarray/scalarapi.c:2:\n",
      "  \u001b[31m   \u001b[0m /usr/local/python/3.10.4/include/python3.10/cpython/unicodeobject.h:580:45: note: declared here\n",
      "  \u001b[31m   \u001b[0m   580 | Py_DEPRECATED(3.3) PyAPI_FUNC(Py_UNICODE *) PyUnicode_AsUnicode(\n",
      "  \u001b[31m   \u001b[0m       |                                             ^~~~~~~~~~~~~~~~~~~\n",
      "  \u001b[31m   \u001b[0m numpy/core/src/multiarray/scalarapi.c:574:13: warning: ‘_PyUnicode_get_wstr_length’ is deprecated [-Wdeprecated-declarations]\n",
      "  \u001b[31m   \u001b[0m   574 |             descr->elsize = PyUnicode_GET_DATA_SIZE(sc);\n",
      "  \u001b[31m   \u001b[0m       |             ^~~~~\n",
      "  \u001b[31m   \u001b[0m In file included from /usr/local/python/3.10.4/include/python3.10/unicodeobject.h:1046,\n",
      "  \u001b[31m   \u001b[0m                  from /usr/local/python/3.10.4/include/python3.10/Python.h:83,\n",
      "  \u001b[31m   \u001b[0m                  from numpy/core/src/multiarray/scalarapi.c:2:\n",
      "  \u001b[31m   \u001b[0m /usr/local/python/3.10.4/include/python3.10/cpython/unicodeobject.h:446:26: note: declared here\n",
      "  \u001b[31m   \u001b[0m   446 | static inline Py_ssize_t _PyUnicode_get_wstr_length(PyObject *op) {\n",
      "  \u001b[31m   \u001b[0m       |                          ^~~~~~~~~~~~~~~~~~~~~~~~~~\n",
      "  \u001b[31m   \u001b[0m gcc: build/src.linux-x86_64-3.10/numpy/core/src/multiarray/scalartypes.c\n",
      "  \u001b[31m   \u001b[0m numpy/core/src/multiarray/scalartypes.c.src: In function ‘unicodetype_repr’:\n",
      "  \u001b[31m   \u001b[0m numpy/core/src/multiarray/scalartypes.c.src:475:5: warning: ‘PyUnicode_AsUnicode’ is deprecated [-Wdeprecated-declarations]\n",
      "  \u001b[31m   \u001b[0m   475 |     ip = dptr = Py@Name@_AS_@NAME@(self);\n",
      "  \u001b[31m   \u001b[0m       |     ^~\n",
      "  \u001b[31m   \u001b[0m In file included from /usr/local/python/3.10.4/include/python3.10/unicodeobject.h:1046,\n",
      "  \u001b[31m   \u001b[0m                  from /usr/local/python/3.10.4/include/python3.10/Python.h:83,\n",
      "  \u001b[31m   \u001b[0m                  from numpy/core/src/multiarray/scalartypes.c.src:3:\n",
      "  \u001b[31m   \u001b[0m /usr/local/python/3.10.4/include/python3.10/cpython/unicodeobject.h:580:45: note: declared here\n",
      "  \u001b[31m   \u001b[0m   580 | Py_DEPRECATED(3.3) PyAPI_FUNC(Py_UNICODE *) PyUnicode_AsUnicode(\n",
      "  \u001b[31m   \u001b[0m       |                                             ^~~~~~~~~~~~~~~~~~~\n",
      "  \u001b[31m   \u001b[0m numpy/core/src/multiarray/scalartypes.c.src:476:5: warning: ‘_PyUnicode_get_wstr_length’ is deprecated [-Wdeprecated-declarations]\n",
      "  \u001b[31m   \u001b[0m   476 |     len = Py@Name@_GET_SIZE(self);\n",
      "  \u001b[31m   \u001b[0m       |     ^~~\n",
      "  \u001b[31m   \u001b[0m In file included from /usr/local/python/3.10.4/include/python3.10/unicodeobject.h:1046,\n",
      "  \u001b[31m   \u001b[0m                  from /usr/local/python/3.10.4/include/python3.10/Python.h:83,\n",
      "  \u001b[31m   \u001b[0m                  from numpy/core/src/multiarray/scalartypes.c.src:3:\n",
      "  \u001b[31m   \u001b[0m /usr/local/python/3.10.4/include/python3.10/cpython/unicodeobject.h:446:26: note: declared here\n",
      "  \u001b[31m   \u001b[0m   446 | static inline Py_ssize_t _PyUnicode_get_wstr_length(PyObject *op) {\n",
      "  \u001b[31m   \u001b[0m       |                          ^~~~~~~~~~~~~~~~~~~~~~~~~~\n",
      "  \u001b[31m   \u001b[0m numpy/core/src/multiarray/scalartypes.c.src:476:5: warning: ‘PyUnicode_AsUnicode’ is deprecated [-Wdeprecated-declarations]\n",
      "  \u001b[31m   \u001b[0m   476 |     len = Py@Name@_GET_SIZE(self);\n",
      "  \u001b[31m   \u001b[0m       |     ^~~\n",
      "  \u001b[31m   \u001b[0m In file included from /usr/local/python/3.10.4/include/python3.10/unicodeobject.h:1046,\n",
      "  \u001b[31m   \u001b[0m                  from /usr/local/python/3.10.4/include/python3.10/Python.h:83,\n",
      "  \u001b[31m   \u001b[0m                  from numpy/core/src/multiarray/scalartypes.c.src:3:\n",
      "  \u001b[31m   \u001b[0m /usr/local/python/3.10.4/include/python3.10/cpython/unicodeobject.h:580:45: note: declared here\n",
      "  \u001b[31m   \u001b[0m   580 | Py_DEPRECATED(3.3) PyAPI_FUNC(Py_UNICODE *) PyUnicode_AsUnicode(\n",
      "  \u001b[31m   \u001b[0m       |                                             ^~~~~~~~~~~~~~~~~~~\n",
      "  \u001b[31m   \u001b[0m numpy/core/src/multiarray/scalartypes.c.src:476:5: warning: ‘_PyUnicode_get_wstr_length’ is deprecated [-Wdeprecated-declarations]\n",
      "  \u001b[31m   \u001b[0m   476 |     len = Py@Name@_GET_SIZE(self);\n",
      "  \u001b[31m   \u001b[0m       |     ^~~\n",
      "  \u001b[31m   \u001b[0m In file included from /usr/local/python/3.10.4/include/python3.10/unicodeobject.h:1046,\n",
      "  \u001b[31m   \u001b[0m                  from /usr/local/python/3.10.4/include/python3.10/Python.h:83,\n",
      "  \u001b[31m   \u001b[0m                  from numpy/core/src/multiarray/scalartypes.c.src:3:\n",
      "  \u001b[31m   \u001b[0m /usr/local/python/3.10.4/include/python3.10/cpython/unicodeobject.h:446:26: note: declared here\n",
      "  \u001b[31m   \u001b[0m   446 | static inline Py_ssize_t _PyUnicode_get_wstr_length(PyObject *op) {\n",
      "  \u001b[31m   \u001b[0m       |                          ^~~~~~~~~~~~~~~~~~~~~~~~~~\n",
      "  \u001b[31m   \u001b[0m numpy/core/src/multiarray/scalartypes.c.src:481:5: warning: ‘PyUnicode_FromUnicode’ is deprecated [-Wdeprecated-declarations]\n",
      "  \u001b[31m   \u001b[0m   481 |     new = Py@Name@_From@Name@@extra@(ip, len);\n",
      "  \u001b[31m   \u001b[0m       |     ^~~\n",
      "  \u001b[31m   \u001b[0m In file included from /usr/local/python/3.10.4/include/python3.10/unicodeobject.h:1046,\n",
      "  \u001b[31m   \u001b[0m                  from /usr/local/python/3.10.4/include/python3.10/Python.h:83,\n",
      "  \u001b[31m   \u001b[0m                  from numpy/core/src/multiarray/scalartypes.c.src:3:\n",
      "  \u001b[31m   \u001b[0m /usr/local/python/3.10.4/include/python3.10/cpython/unicodeobject.h:551:42: note: declared here\n",
      "  \u001b[31m   \u001b[0m   551 | Py_DEPRECATED(3.3) PyAPI_FUNC(PyObject*) PyUnicode_FromUnicode(\n",
      "  \u001b[31m   \u001b[0m       |                                          ^~~~~~~~~~~~~~~~~~~~~\n",
      "  \u001b[31m   \u001b[0m numpy/core/src/multiarray/scalartypes.c.src: In function ‘unicodetype_str’:\n",
      "  \u001b[31m   \u001b[0m numpy/core/src/multiarray/scalartypes.c.src:475:5: warning: ‘PyUnicode_AsUnicode’ is deprecated [-Wdeprecated-declarations]\n",
      "  \u001b[31m   \u001b[0m   475 |     ip = dptr = Py@Name@_AS_@NAME@(self);\n",
      "  \u001b[31m   \u001b[0m       |     ^~\n",
      "  \u001b[31m   \u001b[0m In file included from /usr/local/python/3.10.4/include/python3.10/unicodeobject.h:1046,\n",
      "  \u001b[31m   \u001b[0m                  from /usr/local/python/3.10.4/include/python3.10/Python.h:83,\n",
      "  \u001b[31m   \u001b[0m                  from numpy/core/src/multiarray/scalartypes.c.src:3:\n",
      "  \u001b[31m   \u001b[0m /usr/local/python/3.10.4/include/python3.10/cpython/unicodeobject.h:580:45: note: declared here\n",
      "  \u001b[31m   \u001b[0m   580 | Py_DEPRECATED(3.3) PyAPI_FUNC(Py_UNICODE *) PyUnicode_AsUnicode(\n",
      "  \u001b[31m   \u001b[0m       |                                             ^~~~~~~~~~~~~~~~~~~\n",
      "  \u001b[31m   \u001b[0m numpy/core/src/multiarray/scalartypes.c.src:476:5: warning: ‘_PyUnicode_get_wstr_length’ is deprecated [-Wdeprecated-declarations]\n",
      "  \u001b[31m   \u001b[0m   476 |     len = Py@Name@_GET_SIZE(self);\n",
      "  \u001b[31m   \u001b[0m       |     ^~~\n",
      "  \u001b[31m   \u001b[0m In file included from /usr/local/python/3.10.4/include/python3.10/unicodeobject.h:1046,\n",
      "  \u001b[31m   \u001b[0m                  from /usr/local/python/3.10.4/include/python3.10/Python.h:83,\n",
      "  \u001b[31m   \u001b[0m                  from numpy/core/src/multiarray/scalartypes.c.src:3:\n",
      "  \u001b[31m   \u001b[0m /usr/local/python/3.10.4/include/python3.10/cpython/unicodeobject.h:446:26: note: declared here\n",
      "  \u001b[31m   \u001b[0m   446 | static inline Py_ssize_t _PyUnicode_get_wstr_length(PyObject *op) {\n",
      "  \u001b[31m   \u001b[0m       |                          ^~~~~~~~~~~~~~~~~~~~~~~~~~\n",
      "  \u001b[31m   \u001b[0m numpy/core/src/multiarray/scalartypes.c.src:476:5: warning: ‘PyUnicode_AsUnicode’ is deprecated [-Wdeprecated-declarations]\n",
      "  \u001b[31m   \u001b[0m   476 |     len = Py@Name@_GET_SIZE(self);\n",
      "  \u001b[31m   \u001b[0m       |     ^~~\n",
      "  \u001b[31m   \u001b[0m In file included from /usr/local/python/3.10.4/include/python3.10/unicodeobject.h:1046,\n",
      "  \u001b[31m   \u001b[0m                  from /usr/local/python/3.10.4/include/python3.10/Python.h:83,\n",
      "  \u001b[31m   \u001b[0m                  from numpy/core/src/multiarray/scalartypes.c.src:3:\n",
      "  \u001b[31m   \u001b[0m /usr/local/python/3.10.4/include/python3.10/cpython/unicodeobject.h:580:45: note: declared here\n",
      "  \u001b[31m   \u001b[0m   580 | Py_DEPRECATED(3.3) PyAPI_FUNC(Py_UNICODE *) PyUnicode_AsUnicode(\n",
      "  \u001b[31m   \u001b[0m       |                                             ^~~~~~~~~~~~~~~~~~~\n",
      "  \u001b[31m   \u001b[0m numpy/core/src/multiarray/scalartypes.c.src:476:5: warning: ‘_PyUnicode_get_wstr_length’ is deprecated [-Wdeprecated-declarations]\n",
      "  \u001b[31m   \u001b[0m   476 |     len = Py@Name@_GET_SIZE(self);\n",
      "  \u001b[31m   \u001b[0m       |     ^~~\n",
      "  \u001b[31m   \u001b[0m In file included from /usr/local/python/3.10.4/include/python3.10/unicodeobject.h:1046,\n",
      "  \u001b[31m   \u001b[0m                  from /usr/local/python/3.10.4/include/python3.10/Python.h:83,\n",
      "  \u001b[31m   \u001b[0m                  from numpy/core/src/multiarray/scalartypes.c.src:3:\n",
      "  \u001b[31m   \u001b[0m /usr/local/python/3.10.4/include/python3.10/cpython/unicodeobject.h:446:26: note: declared here\n",
      "  \u001b[31m   \u001b[0m   446 | static inline Py_ssize_t _PyUnicode_get_wstr_length(PyObject *op) {\n",
      "  \u001b[31m   \u001b[0m       |                          ^~~~~~~~~~~~~~~~~~~~~~~~~~\n",
      "  \u001b[31m   \u001b[0m numpy/core/src/multiarray/scalartypes.c.src:481:5: warning: ‘PyUnicode_FromUnicode’ is deprecated [-Wdeprecated-declarations]\n",
      "  \u001b[31m   \u001b[0m   481 |     new = Py@Name@_From@Name@@extra@(ip, len);\n",
      "  \u001b[31m   \u001b[0m       |     ^~~\n",
      "  \u001b[31m   \u001b[0m In file included from /usr/local/python/3.10.4/include/python3.10/unicodeobject.h:1046,\n",
      "  \u001b[31m   \u001b[0m                  from /usr/local/python/3.10.4/include/python3.10/Python.h:83,\n",
      "  \u001b[31m   \u001b[0m                  from numpy/core/src/multiarray/scalartypes.c.src:3:\n",
      "  \u001b[31m   \u001b[0m /usr/local/python/3.10.4/include/python3.10/cpython/unicodeobject.h:551:42: note: declared here\n",
      "  \u001b[31m   \u001b[0m   551 | Py_DEPRECATED(3.3) PyAPI_FUNC(PyObject*) PyUnicode_FromUnicode(\n",
      "  \u001b[31m   \u001b[0m       |                                          ^~~~~~~~~~~~~~~~~~~~~\n",
      "  \u001b[31m   \u001b[0m numpy/core/src/multiarray/scalartypes.c.src: In function ‘gentype_reduce’:\n",
      "  \u001b[31m   \u001b[0m numpy/core/src/multiarray/scalartypes.c.src:1849:9: warning: ‘PyUnicode_AsUnicode’ is deprecated [-Wdeprecated-declarations]\n",
      "  \u001b[31m   \u001b[0m  1849 |         buffer = PyUnicode_AS_DATA(self);\n",
      "  \u001b[31m   \u001b[0m       |         ^~~~~~\n",
      "  \u001b[31m   \u001b[0m In file included from /usr/local/python/3.10.4/include/python3.10/unicodeobject.h:1046,\n",
      "  \u001b[31m   \u001b[0m                  from /usr/local/python/3.10.4/include/python3.10/Python.h:83,\n",
      "  \u001b[31m   \u001b[0m                  from numpy/core/src/multiarray/scalartypes.c.src:3:\n",
      "  \u001b[31m   \u001b[0m /usr/local/python/3.10.4/include/python3.10/cpython/unicodeobject.h:580:45: note: declared here\n",
      "  \u001b[31m   \u001b[0m   580 | Py_DEPRECATED(3.3) PyAPI_FUNC(Py_UNICODE *) PyUnicode_AsUnicode(\n",
      "  \u001b[31m   \u001b[0m       |                                             ^~~~~~~~~~~~~~~~~~~\n",
      "  \u001b[31m   \u001b[0m numpy/core/src/multiarray/scalartypes.c.src:1850:9: warning: ‘_PyUnicode_get_wstr_length’ is deprecated [-Wdeprecated-declarations]\n",
      "  \u001b[31m   \u001b[0m  1850 |         buflen = PyUnicode_GET_DATA_SIZE(self);\n",
      "  \u001b[31m   \u001b[0m       |         ^~~~~~\n",
      "  \u001b[31m   \u001b[0m In file included from /usr/local/python/3.10.4/include/python3.10/unicodeobject.h:1046,\n",
      "  \u001b[31m   \u001b[0m                  from /usr/local/python/3.10.4/include/python3.10/Python.h:83,\n",
      "  \u001b[31m   \u001b[0m                  from numpy/core/src/multiarray/scalartypes.c.src:3:\n",
      "  \u001b[31m   \u001b[0m /usr/local/python/3.10.4/include/python3.10/cpython/unicodeobject.h:446:26: note: declared here\n",
      "  \u001b[31m   \u001b[0m   446 | static inline Py_ssize_t _PyUnicode_get_wstr_length(PyObject *op) {\n",
      "  \u001b[31m   \u001b[0m       |                          ^~~~~~~~~~~~~~~~~~~~~~~~~~\n",
      "  \u001b[31m   \u001b[0m numpy/core/src/multiarray/scalartypes.c.src:1850:9: warning: ‘PyUnicode_AsUnicode’ is deprecated [-Wdeprecated-declarations]\n",
      "  \u001b[31m   \u001b[0m  1850 |         buflen = PyUnicode_GET_DATA_SIZE(self);\n",
      "  \u001b[31m   \u001b[0m       |         ^~~~~~\n",
      "  \u001b[31m   \u001b[0m In file included from /usr/local/python/3.10.4/include/python3.10/unicodeobject.h:1046,\n",
      "  \u001b[31m   \u001b[0m                  from /usr/local/python/3.10.4/include/python3.10/Python.h:83,\n",
      "  \u001b[31m   \u001b[0m                  from numpy/core/src/multiarray/scalartypes.c.src:3:\n",
      "  \u001b[31m   \u001b[0m /usr/local/python/3.10.4/include/python3.10/cpython/unicodeobject.h:580:45: note: declared here\n",
      "  \u001b[31m   \u001b[0m   580 | Py_DEPRECATED(3.3) PyAPI_FUNC(Py_UNICODE *) PyUnicode_AsUnicode(\n",
      "  \u001b[31m   \u001b[0m       |                                             ^~~~~~~~~~~~~~~~~~~\n",
      "  \u001b[31m   \u001b[0m numpy/core/src/multiarray/scalartypes.c.src:1850:9: warning: ‘_PyUnicode_get_wstr_length’ is deprecated [-Wdeprecated-declarations]\n",
      "  \u001b[31m   \u001b[0m  1850 |         buflen = PyUnicode_GET_DATA_SIZE(self);\n",
      "  \u001b[31m   \u001b[0m       |         ^~~~~~\n",
      "  \u001b[31m   \u001b[0m In file included from /usr/local/python/3.10.4/include/python3.10/unicodeobject.h:1046,\n",
      "  \u001b[31m   \u001b[0m                  from /usr/local/python/3.10.4/include/python3.10/Python.h:83,\n",
      "  \u001b[31m   \u001b[0m                  from numpy/core/src/multiarray/scalartypes.c.src:3:\n",
      "  \u001b[31m   \u001b[0m /usr/local/python/3.10.4/include/python3.10/cpython/unicodeobject.h:446:26: note: declared here\n",
      "  \u001b[31m   \u001b[0m   446 | static inline Py_ssize_t _PyUnicode_get_wstr_length(PyObject *op) {\n",
      "  \u001b[31m   \u001b[0m       |                          ^~~~~~~~~~~~~~~~~~~~~~~~~~\n",
      "  \u001b[31m   \u001b[0m numpy/core/src/multiarray/scalartypes.c.src: In function ‘float_arrtype_hash’:\n",
      "  \u001b[31m   \u001b[0m numpy/core/src/multiarray/scalartypes.c.src:3311:27: error: incompatible type for argument 1 of ‘_Py_HashDouble’\n",
      "  \u001b[31m   \u001b[0m  3311 |     return _Py_HashDouble((double) ((Py@name@ScalarObject *)obj)->obval);\n",
      "  \u001b[31m   \u001b[0m       |                           ^~~~~~~~~~~~~~~~~~~~~~~~~~~~~~~~~~~~~~~~~~~~\n",
      "  \u001b[31m   \u001b[0m       |                           |\n",
      "  \u001b[31m   \u001b[0m       |                           double\n",
      "  \u001b[31m   \u001b[0m In file included from /usr/local/python/3.10.4/include/python3.10/Python.h:77,\n",
      "  \u001b[31m   \u001b[0m                  from numpy/core/src/multiarray/scalartypes.c.src:3:\n",
      "  \u001b[31m   \u001b[0m /usr/local/python/3.10.4/include/python3.10/pyhash.h:10:38: note: expected ‘PyObject *’ {aka ‘struct _object *’} but argument is of type ‘double’\n",
      "  \u001b[31m   \u001b[0m    10 | PyAPI_FUNC(Py_hash_t) _Py_HashDouble(PyObject *, double);\n",
      "  \u001b[31m   \u001b[0m       |                                      ^~~~~~~~~~\n",
      "  \u001b[31m   \u001b[0m numpy/core/src/multiarray/scalartypes.c.src:3311:12: error: too few arguments to function ‘_Py_HashDouble’\n",
      "  \u001b[31m   \u001b[0m  3311 |     return _Py_HashDouble((double) ((Py@name@ScalarObject *)obj)->obval);\n",
      "  \u001b[31m   \u001b[0m       |            ^~~~~~~~~~~~~~\n",
      "  \u001b[31m   \u001b[0m In file included from /usr/local/python/3.10.4/include/python3.10/Python.h:77,\n",
      "  \u001b[31m   \u001b[0m                  from numpy/core/src/multiarray/scalartypes.c.src:3:\n",
      "  \u001b[31m   \u001b[0m /usr/local/python/3.10.4/include/python3.10/pyhash.h:10:23: note: declared here\n",
      "  \u001b[31m   \u001b[0m    10 | PyAPI_FUNC(Py_hash_t) _Py_HashDouble(PyObject *, double);\n",
      "  \u001b[31m   \u001b[0m       |                       ^~~~~~~~~~~~~~\n",
      "  \u001b[31m   \u001b[0m numpy/core/src/multiarray/scalartypes.c.src: In function ‘cfloat_arrtype_hash’:\n",
      "  \u001b[31m   \u001b[0m numpy/core/src/multiarray/scalartypes.c.src:3319:31: error: incompatible type for argument 1 of ‘_Py_HashDouble’\n",
      "  \u001b[31m   \u001b[0m  3319 |     hashreal = _Py_HashDouble((double)\n",
      "  \u001b[31m   \u001b[0m       |                               ^~~~~~~~\n",
      "  \u001b[31m   \u001b[0m       |                               |\n",
      "  \u001b[31m   \u001b[0m       |                               double\n",
      "  \u001b[31m   \u001b[0m  3320 |             (((PyC@name@ScalarObject *)obj)->obval).real);\n",
      "  \u001b[31m   \u001b[0m       |             ~~~~~~~~~~~~~~~~~~~~~~~~~~~~~~~~~~~~~~~~~~~\n",
      "  \u001b[31m   \u001b[0m In file included from /usr/local/python/3.10.4/include/python3.10/Python.h:77,\n",
      "  \u001b[31m   \u001b[0m                  from numpy/core/src/multiarray/scalartypes.c.src:3:\n",
      "  \u001b[31m   \u001b[0m /usr/local/python/3.10.4/include/python3.10/pyhash.h:10:38: note: expected ‘PyObject *’ {aka ‘struct _object *’} but argument is of type ‘double’\n",
      "  \u001b[31m   \u001b[0m    10 | PyAPI_FUNC(Py_hash_t) _Py_HashDouble(PyObject *, double);\n",
      "  \u001b[31m   \u001b[0m       |                                      ^~~~~~~~~~\n",
      "  \u001b[31m   \u001b[0m numpy/core/src/multiarray/scalartypes.c.src:3319:16: error: too few arguments to function ‘_Py_HashDouble’\n",
      "  \u001b[31m   \u001b[0m  3319 |     hashreal = _Py_HashDouble((double)\n",
      "  \u001b[31m   \u001b[0m       |                ^~~~~~~~~~~~~~\n",
      "  \u001b[31m   \u001b[0m In file included from /usr/local/python/3.10.4/include/python3.10/Python.h:77,\n",
      "  \u001b[31m   \u001b[0m                  from numpy/core/src/multiarray/scalartypes.c.src:3:\n",
      "  \u001b[31m   \u001b[0m /usr/local/python/3.10.4/include/python3.10/pyhash.h:10:23: note: declared here\n",
      "  \u001b[31m   \u001b[0m    10 | PyAPI_FUNC(Py_hash_t) _Py_HashDouble(PyObject *, double);\n",
      "  \u001b[31m   \u001b[0m       |                       ^~~~~~~~~~~~~~\n",
      "  \u001b[31m   \u001b[0m numpy/core/src/multiarray/scalartypes.c.src:3325:31: error: incompatible type for argument 1 of ‘_Py_HashDouble’\n",
      "  \u001b[31m   \u001b[0m  3325 |     hashimag = _Py_HashDouble((double)\n",
      "  \u001b[31m   \u001b[0m       |                               ^~~~~~~~\n",
      "  \u001b[31m   \u001b[0m       |                               |\n",
      "  \u001b[31m   \u001b[0m       |                               double\n",
      "  \u001b[31m   \u001b[0m  3326 |             (((PyC@name@ScalarObject *)obj)->obval).imag);\n",
      "  \u001b[31m   \u001b[0m       |             ~~~~~~~~~~~~~~~~~~~~~~~~~~~~~~~~~~~~~~~~~~~\n",
      "  \u001b[31m   \u001b[0m In file included from /usr/local/python/3.10.4/include/python3.10/Python.h:77,\n",
      "  \u001b[31m   \u001b[0m                  from numpy/core/src/multiarray/scalartypes.c.src:3:\n",
      "  \u001b[31m   \u001b[0m /usr/local/python/3.10.4/include/python3.10/pyhash.h:10:38: note: expected ‘PyObject *’ {aka ‘struct _object *’} but argument is of type ‘double’\n",
      "  \u001b[31m   \u001b[0m    10 | PyAPI_FUNC(Py_hash_t) _Py_HashDouble(PyObject *, double);\n",
      "  \u001b[31m   \u001b[0m       |                                      ^~~~~~~~~~\n",
      "  \u001b[31m   \u001b[0m numpy/core/src/multiarray/scalartypes.c.src:3325:16: error: too few arguments to function ‘_Py_HashDouble’\n",
      "  \u001b[31m   \u001b[0m  3325 |     hashimag = _Py_HashDouble((double)\n",
      "  \u001b[31m   \u001b[0m       |                ^~~~~~~~~~~~~~\n",
      "  \u001b[31m   \u001b[0m In file included from /usr/local/python/3.10.4/include/python3.10/Python.h:77,\n",
      "  \u001b[31m   \u001b[0m                  from numpy/core/src/multiarray/scalartypes.c.src:3:\n",
      "  \u001b[31m   \u001b[0m /usr/local/python/3.10.4/include/python3.10/pyhash.h:10:23: note: declared here\n",
      "  \u001b[31m   \u001b[0m    10 | PyAPI_FUNC(Py_hash_t) _Py_HashDouble(PyObject *, double);\n",
      "  \u001b[31m   \u001b[0m       |                       ^~~~~~~~~~~~~~\n",
      "  \u001b[31m   \u001b[0m numpy/core/src/multiarray/scalartypes.c.src: In function ‘longdouble_arrtype_hash’:\n",
      "  \u001b[31m   \u001b[0m numpy/core/src/multiarray/scalartypes.c.src:3311:27: error: incompatible type for argument 1 of ‘_Py_HashDouble’\n",
      "  \u001b[31m   \u001b[0m  3311 |     return _Py_HashDouble((double) ((Py@name@ScalarObject *)obj)->obval);\n",
      "  \u001b[31m   \u001b[0m       |                           ^~~~~~~~~~~~~~~~~~~~~~~~~~~~~~~~~~~~~~~~~~~~~~~\n",
      "  \u001b[31m   \u001b[0m       |                           |\n",
      "  \u001b[31m   \u001b[0m       |                           double\n",
      "  \u001b[31m   \u001b[0m In file included from /usr/local/python/3.10.4/include/python3.10/Python.h:77,\n",
      "  \u001b[31m   \u001b[0m                  from numpy/core/src/multiarray/scalartypes.c.src:3:\n",
      "  \u001b[31m   \u001b[0m /usr/local/python/3.10.4/include/python3.10/pyhash.h:10:38: note: expected ‘PyObject *’ {aka ‘struct _object *’} but argument is of type ‘double’\n",
      "  \u001b[31m   \u001b[0m    10 | PyAPI_FUNC(Py_hash_t) _Py_HashDouble(PyObject *, double);\n",
      "  \u001b[31m   \u001b[0m       |                                      ^~~~~~~~~~\n",
      "  \u001b[31m   \u001b[0m numpy/core/src/multiarray/scalartypes.c.src:3311:12: error: too few arguments to function ‘_Py_HashDouble’\n",
      "  \u001b[31m   \u001b[0m  3311 |     return _Py_HashDouble((double) ((Py@name@ScalarObject *)obj)->obval);\n",
      "  \u001b[31m   \u001b[0m       |            ^~~~~~~~~~~~~~\n",
      "  \u001b[31m   \u001b[0m In file included from /usr/local/python/3.10.4/include/python3.10/Python.h:77,\n",
      "  \u001b[31m   \u001b[0m                  from numpy/core/src/multiarray/scalartypes.c.src:3:\n",
      "  \u001b[31m   \u001b[0m /usr/local/python/3.10.4/include/python3.10/pyhash.h:10:23: note: declared here\n",
      "  \u001b[31m   \u001b[0m    10 | PyAPI_FUNC(Py_hash_t) _Py_HashDouble(PyObject *, double);\n",
      "  \u001b[31m   \u001b[0m       |                       ^~~~~~~~~~~~~~\n",
      "  \u001b[31m   \u001b[0m numpy/core/src/multiarray/scalartypes.c.src: In function ‘clongdouble_arrtype_hash’:\n",
      "  \u001b[31m   \u001b[0m numpy/core/src/multiarray/scalartypes.c.src:3319:31: error: incompatible type for argument 1 of ‘_Py_HashDouble’\n",
      "  \u001b[31m   \u001b[0m  3319 |     hashreal = _Py_HashDouble((double)\n",
      "  \u001b[31m   \u001b[0m       |                               ^~~~~~~~\n",
      "  \u001b[31m   \u001b[0m       |                               |\n",
      "  \u001b[31m   \u001b[0m       |                               double\n",
      "  \u001b[31m   \u001b[0m  3320 |             (((PyC@name@ScalarObject *)obj)->obval).real);\n",
      "  \u001b[31m   \u001b[0m       |             ~~~~~~~~~~~~~~~~~~~~~~~~~~~~~~~~~~~~~~~~~~~~~~\n",
      "  \u001b[31m   \u001b[0m In file included from /usr/local/python/3.10.4/include/python3.10/Python.h:77,\n",
      "  \u001b[31m   \u001b[0m                  from numpy/core/src/multiarray/scalartypes.c.src:3:\n",
      "  \u001b[31m   \u001b[0m /usr/local/python/3.10.4/include/python3.10/pyhash.h:10:38: note: expected ‘PyObject *’ {aka ‘struct _object *’} but argument is of type ‘double’\n",
      "  \u001b[31m   \u001b[0m    10 | PyAPI_FUNC(Py_hash_t) _Py_HashDouble(PyObject *, double);\n",
      "  \u001b[31m   \u001b[0m       |                                      ^~~~~~~~~~\n",
      "  \u001b[31m   \u001b[0m numpy/core/src/multiarray/scalartypes.c.src:3319:16: error: too few arguments to function ‘_Py_HashDouble’\n",
      "  \u001b[31m   \u001b[0m  3319 |     hashreal = _Py_HashDouble((double)\n",
      "  \u001b[31m   \u001b[0m       |                ^~~~~~~~~~~~~~\n",
      "  \u001b[31m   \u001b[0m In file included from /usr/local/python/3.10.4/include/python3.10/Python.h:77,\n",
      "  \u001b[31m   \u001b[0m                  from numpy/core/src/multiarray/scalartypes.c.src:3:\n",
      "  \u001b[31m   \u001b[0m /usr/local/python/3.10.4/include/python3.10/pyhash.h:10:23: note: declared here\n",
      "  \u001b[31m   \u001b[0m    10 | PyAPI_FUNC(Py_hash_t) _Py_HashDouble(PyObject *, double);\n",
      "  \u001b[31m   \u001b[0m       |                       ^~~~~~~~~~~~~~\n",
      "  \u001b[31m   \u001b[0m numpy/core/src/multiarray/scalartypes.c.src:3325:31: error: incompatible type for argument 1 of ‘_Py_HashDouble’\n",
      "  \u001b[31m   \u001b[0m  3325 |     hashimag = _Py_HashDouble((double)\n",
      "  \u001b[31m   \u001b[0m       |                               ^~~~~~~~\n",
      "  \u001b[31m   \u001b[0m       |                               |\n",
      "  \u001b[31m   \u001b[0m       |                               double\n",
      "  \u001b[31m   \u001b[0m  3326 |             (((PyC@name@ScalarObject *)obj)->obval).imag);\n",
      "  \u001b[31m   \u001b[0m       |             ~~~~~~~~~~~~~~~~~~~~~~~~~~~~~~~~~~~~~~~~~~~~~~\n",
      "  \u001b[31m   \u001b[0m In file included from /usr/local/python/3.10.4/include/python3.10/Python.h:77,\n",
      "  \u001b[31m   \u001b[0m                  from numpy/core/src/multiarray/scalartypes.c.src:3:\n",
      "  \u001b[31m   \u001b[0m /usr/local/python/3.10.4/include/python3.10/pyhash.h:10:38: note: expected ‘PyObject *’ {aka ‘struct _object *’} but argument is of type ‘double’\n",
      "  \u001b[31m   \u001b[0m    10 | PyAPI_FUNC(Py_hash_t) _Py_HashDouble(PyObject *, double);\n",
      "  \u001b[31m   \u001b[0m       |                                      ^~~~~~~~~~\n",
      "  \u001b[31m   \u001b[0m numpy/core/src/multiarray/scalartypes.c.src:3325:16: error: too few arguments to function ‘_Py_HashDouble’\n",
      "  \u001b[31m   \u001b[0m  3325 |     hashimag = _Py_HashDouble((double)\n",
      "  \u001b[31m   \u001b[0m       |                ^~~~~~~~~~~~~~\n",
      "  \u001b[31m   \u001b[0m In file included from /usr/local/python/3.10.4/include/python3.10/Python.h:77,\n",
      "  \u001b[31m   \u001b[0m                  from numpy/core/src/multiarray/scalartypes.c.src:3:\n",
      "  \u001b[31m   \u001b[0m /usr/local/python/3.10.4/include/python3.10/pyhash.h:10:23: note: declared here\n",
      "  \u001b[31m   \u001b[0m    10 | PyAPI_FUNC(Py_hash_t) _Py_HashDouble(PyObject *, double);\n",
      "  \u001b[31m   \u001b[0m       |                       ^~~~~~~~~~~~~~\n",
      "  \u001b[31m   \u001b[0m numpy/core/src/multiarray/scalartypes.c.src: In function ‘half_arrtype_hash’:\n",
      "  \u001b[31m   \u001b[0m numpy/core/src/multiarray/scalartypes.c.src:3341:27: error: incompatible type for argument 1 of ‘_Py_HashDouble’\n",
      "  \u001b[31m   \u001b[0m  3341 |     return _Py_HashDouble(npy_half_to_double(((PyHalfScalarObject *)obj)->obval));\n",
      "  \u001b[31m   \u001b[0m       |                           ^~~~~~~~~~~~~~~~~~~~~~~~~~~~~~~~~~~~~~~~~~~~~~~~~~~~~~\n",
      "  \u001b[31m   \u001b[0m       |                           |\n",
      "  \u001b[31m   \u001b[0m       |                           double\n",
      "  \u001b[31m   \u001b[0m In file included from /usr/local/python/3.10.4/include/python3.10/Python.h:77,\n",
      "  \u001b[31m   \u001b[0m                  from numpy/core/src/multiarray/scalartypes.c.src:3:\n",
      "  \u001b[31m   \u001b[0m /usr/local/python/3.10.4/include/python3.10/pyhash.h:10:38: note: expected ‘PyObject *’ {aka ‘struct _object *’} but argument is of type ‘double’\n",
      "  \u001b[31m   \u001b[0m    10 | PyAPI_FUNC(Py_hash_t) _Py_HashDouble(PyObject *, double);\n",
      "  \u001b[31m   \u001b[0m       |                                      ^~~~~~~~~~\n",
      "  \u001b[31m   \u001b[0m numpy/core/src/multiarray/scalartypes.c.src:3341:12: error: too few arguments to function ‘_Py_HashDouble’\n",
      "  \u001b[31m   \u001b[0m  3341 |     return _Py_HashDouble(npy_half_to_double(((PyHalfScalarObject *)obj)->obval));\n",
      "  \u001b[31m   \u001b[0m       |            ^~~~~~~~~~~~~~\n",
      "  \u001b[31m   \u001b[0m In file included from /usr/local/python/3.10.4/include/python3.10/Python.h:77,\n",
      "  \u001b[31m   \u001b[0m                  from numpy/core/src/multiarray/scalartypes.c.src:3:\n",
      "  \u001b[31m   \u001b[0m /usr/local/python/3.10.4/include/python3.10/pyhash.h:10:23: note: declared here\n",
      "  \u001b[31m   \u001b[0m    10 | PyAPI_FUNC(Py_hash_t) _Py_HashDouble(PyObject *, double);\n",
      "  \u001b[31m   \u001b[0m       |                       ^~~~~~~~~~~~~~\n",
      "  \u001b[31m   \u001b[0m numpy/core/src/multiarray/scalartypes.c.src: In function ‘longdouble_arrtype_hash’:\n",
      "  \u001b[31m   \u001b[0m numpy/core/src/multiarray/scalartypes.c.src:3312:1: warning: control reaches end of non-void function [-Wreturn-type]\n",
      "  \u001b[31m   \u001b[0m  3312 | }\n",
      "  \u001b[31m   \u001b[0m       | ^\n",
      "  \u001b[31m   \u001b[0m numpy/core/src/multiarray/scalartypes.c.src: In function ‘float_arrtype_hash’:\n",
      "  \u001b[31m   \u001b[0m numpy/core/src/multiarray/scalartypes.c.src:3312:1: warning: control reaches end of non-void function [-Wreturn-type]\n",
      "  \u001b[31m   \u001b[0m  3312 | }\n",
      "  \u001b[31m   \u001b[0m       | ^\n",
      "  \u001b[31m   \u001b[0m numpy/core/src/multiarray/scalartypes.c.src: In function ‘half_arrtype_hash’:\n",
      "  \u001b[31m   \u001b[0m numpy/core/src/multiarray/scalartypes.c.src:3342:1: warning: control reaches end of non-void function [-Wreturn-type]\n",
      "  \u001b[31m   \u001b[0m  3342 | }\n",
      "  \u001b[31m   \u001b[0m       | ^\n",
      "  \u001b[31m   \u001b[0m gcc: numpy/core/src/multiarray/vdot.c\n",
      "  \u001b[31m   \u001b[0m gcc: numpy/core/src/umath/umathmodule.c\n",
      "  \u001b[31m   \u001b[0m gcc: numpy/core/src/umath/reduction.c\n",
      "  \u001b[31m   \u001b[0m gcc: build/src.linux-x86_64-3.10/numpy/core/src/umath/loops.c\n",
      "  \u001b[31m   \u001b[0m numpy/core/src/umath/loops.c.src: In function ‘PyUFunc_On_Om’:\n",
      "  \u001b[31m   \u001b[0m numpy/core/src/umath/loops.c.src:363:9: warning: ‘PyEval_CallObjectWithKeywords’ is deprecated [-Wdeprecated-declarations]\n",
      "  \u001b[31m   \u001b[0m   363 |         result = PyEval_CallObject(tocall, arglist);\n",
      "  \u001b[31m   \u001b[0m       |         ^~~~~~\n",
      "  \u001b[31m   \u001b[0m In file included from /usr/local/python/3.10.4/include/python3.10/Python.h:130,\n",
      "  \u001b[31m   \u001b[0m                  from numpy/core/src/umath/loops.c.src:7:\n",
      "  \u001b[31m   \u001b[0m /usr/local/python/3.10.4/include/python3.10/ceval.h:17:43: note: declared here\n",
      "  \u001b[31m   \u001b[0m    17 | Py_DEPRECATED(3.9) PyAPI_FUNC(PyObject *) PyEval_CallObjectWithKeywords(\n",
      "  \u001b[31m   \u001b[0m       |                                           ^~~~~~~~~~~~~~~~~~~~~~~~~~~~~\n",
      "  \u001b[31m   \u001b[0m gcc: numpy/core/src/multiarray/mapping.c\n",
      "  \u001b[31m   \u001b[0m gcc: numpy/core/src/multiarray/methods.c\n",
      "  \u001b[31m   \u001b[0m gcc: numpy/core/src/multiarray/multiarraymodule.c\n",
      "  \u001b[31m   \u001b[0m gcc: build/src.linux-x86_64-3.10/numpy/core/src/multiarray/nditer_templ.c\n",
      "  \u001b[31m   \u001b[0m gcc: numpy/core/src/multiarray/nditer_api.c\n",
      "  \u001b[31m   \u001b[0m gcc: numpy/core/src/multiarray/nditer_constr.c\n",
      "  \u001b[31m   \u001b[0m gcc: numpy/core/src/multiarray/nditer_pywrap.c\n",
      "  \u001b[31m   \u001b[0m gcc: numpy/core/src/multiarray/number.c\n",
      "  \u001b[31m   \u001b[0m gcc: build/src.linux-x86_64-3.10/numpy/core/src/umath/scalarmath.c\n",
      "  \u001b[31m   \u001b[0m gcc: numpy/core/src/umath/ufunc_type_resolution.c\n",
      "  \u001b[31m   \u001b[0m gcc: numpy/core/src/umath/override.c\n",
      "  \u001b[31m   \u001b[0m gcc: numpy/core/src/npymath/npy_math.c\n",
      "  \u001b[31m   \u001b[0m gcc: build/src.linux-x86_64-3.10/numpy/core/src/npymath/ieee754.c\n",
      "  \u001b[31m   \u001b[0m gcc: build/src.linux-x86_64-3.10/numpy/core/src/npymath/npy_math_complex.c\n",
      "  \u001b[31m   \u001b[0m gcc: numpy/core/src/npymath/halffloat.c\n",
      "  \u001b[31m   \u001b[0m gcc: numpy/core/src/common/array_assign.c\n",
      "  \u001b[31m   \u001b[0m gcc: numpy/core/src/common/mem_overlap.c\n",
      "  \u001b[31m   \u001b[0m gcc: numpy/core/src/common/npy_longdouble.c\n",
      "  \u001b[31m   \u001b[0m gcc: numpy/core/src/common/ucsnarrow.c\n",
      "  \u001b[31m   \u001b[0m numpy/core/src/common/ucsnarrow.c: In function ‘PyUnicode_FromUCS4’:\n",
      "  \u001b[31m   \u001b[0m numpy/core/src/common/ucsnarrow.c:139:9: warning: ‘PyUnicode_FromUnicode’ is deprecated [-Wdeprecated-declarations]\n",
      "  \u001b[31m   \u001b[0m   139 |         ret = (PyUnicodeObject *)PyUnicode_FromUnicode((Py_UNICODE*)buf,\n",
      "  \u001b[31m   \u001b[0m       |         ^~~\n",
      "  \u001b[31m   \u001b[0m In file included from /usr/local/python/3.10.4/include/python3.10/unicodeobject.h:1046,\n",
      "  \u001b[31m   \u001b[0m                  from /usr/local/python/3.10.4/include/python3.10/Python.h:83,\n",
      "  \u001b[31m   \u001b[0m                  from numpy/core/src/common/ucsnarrow.c:4:\n",
      "  \u001b[31m   \u001b[0m /usr/local/python/3.10.4/include/python3.10/cpython/unicodeobject.h:551:42: note: declared here\n",
      "  \u001b[31m   \u001b[0m   551 | Py_DEPRECATED(3.3) PyAPI_FUNC(PyObject*) PyUnicode_FromUnicode(\n",
      "  \u001b[31m   \u001b[0m       |                                          ^~~~~~~~~~~~~~~~~~~~~\n",
      "  \u001b[31m   \u001b[0m gcc: numpy/core/src/common/ufunc_override.c\n",
      "  \u001b[31m   \u001b[0m gcc: numpy/core/src/common/numpyos.c\n",
      "  \u001b[31m   \u001b[0m gcc: build/src.linux-x86_64-3.10/numpy/core/src/umath/matmul.c\n",
      "  \u001b[31m   \u001b[0m gcc: build/src.linux-x86_64-3.10/numpy/core/src/umath/clip.c\n",
      "  \u001b[31m   \u001b[0m gcc: numpy/core/src/umath/ufunc_object.c\n",
      "  \u001b[31m   \u001b[0m gcc: numpy/core/src/umath/extobj.c\n",
      "  \u001b[31m   \u001b[0m gcc: numpy/core/src/umath/cpuid.c\n",
      "  \u001b[31m   \u001b[0m error: Command \"gcc -pthread -Wno-unused-result -Wsign-compare -DNDEBUG -g -fwrapv -O3 -Wall -fPIC -std=c99 -DNPY_INTERNAL_BUILD=1 -DHAVE_NPY_CONFIG_H=1 -D_FILE_OFFSET_BITS=64 -D_LARGEFILE_SOURCE=1 -D_LARGEFILE64_SOURCE=1 -Ibuild/src.linux-x86_64-3.10/numpy/core/src/umath -Ibuild/src.linux-x86_64-3.10/numpy/core/src/npymath -Ibuild/src.linux-x86_64-3.10/numpy/core/src/common -Inumpy/core/include -Ibuild/src.linux-x86_64-3.10/numpy/core/include/numpy -Inumpy/core/src/common -Inumpy/core/src -Inumpy/core -Inumpy/core/src/npymath -Inumpy/core/src/multiarray -Inumpy/core/src/umath -Inumpy/core/src/npysort -I/usr/local/python/3.10.4/include/python3.10 -Ibuild/src.linux-x86_64-3.10/numpy/core/src/common -Ibuild/src.linux-x86_64-3.10/numpy/core/src/npymath -c build/src.linux-x86_64-3.10/numpy/core/src/multiarray/scalartypes.c -o build/temp.linux-x86_64-cpython-310/build/src.linux-x86_64-3.10/numpy/core/src/multiarray/scalartypes.o -MMD -MF build/temp.linux-x86_64-cpython-310/build/src.linux-x86_64-3.10/numpy/core/src/multiarray/scalartypes.o.d\" failed with exit status 1\n",
      "  \u001b[31m   \u001b[0m \u001b[31m[end of output]\u001b[0m\n",
      "  \n",
      "  \u001b[1;35mnote\u001b[0m: This error originates from a subprocess, and is likely not a problem with pip.\n",
      "\u001b[?25h\u001b[31m  ERROR: Failed building wheel for numpy\u001b[0m\u001b[31m\n",
      "\u001b[0mFailed to build numpy\n",
      "\u001b[31mERROR: Could not build wheels for numpy, which is required to install pyproject.toml-based projects\u001b[0m\u001b[31m\n",
      "\u001b[0m"
     ]
    }
   ],
   "source": [
    "! pip install pandas\n",
    "! pip install torch\n",
    "! pip install tensorflow\n",
    "! pip install -U scipy\n",
    "! pip install numpy==1.18"
   ]
  },
  {
   "cell_type": "code",
   "execution_count": 8,
   "id": "70b1fb0a",
   "metadata": {},
   "outputs": [
    {
     "ename": "ModuleNotFoundError",
     "evalue": "No module named 'numpy.testing'",
     "output_type": "error",
     "traceback": [
      "\u001b[0;31m---------------------------------------------------------------------------\u001b[0m",
      "\u001b[0;31mModuleNotFoundError\u001b[0m                       Traceback (most recent call last)",
      "Cell \u001b[0;32mIn[8], line 5\u001b[0m\n\u001b[1;32m      3\u001b[0m \u001b[39mimport\u001b[39;00m \u001b[39mnumpy\u001b[39;00m \u001b[39mas\u001b[39;00m \u001b[39mnp\u001b[39;00m\n\u001b[1;32m      4\u001b[0m \u001b[39mimport\u001b[39;00m \u001b[39mtensorflow\u001b[39;00m \u001b[39mas\u001b[39;00m \u001b[39mtf\u001b[39;00m\n\u001b[0;32m----> 5\u001b[0m \u001b[39mfrom\u001b[39;00m \u001b[39msklearn\u001b[39;00m\u001b[39m.\u001b[39;00m\u001b[39mmodel_selection\u001b[39;00m \u001b[39mimport\u001b[39;00m train_test_split\n\u001b[1;32m      6\u001b[0m \u001b[39mfrom\u001b[39;00m \u001b[39msklearn\u001b[39;00m\u001b[39m.\u001b[39;00m\u001b[39mtree\u001b[39;00m \u001b[39mimport\u001b[39;00m DecisionTreeRegressor\n\u001b[1;32m      7\u001b[0m \u001b[39mfrom\u001b[39;00m \u001b[39msklearn\u001b[39;00m\u001b[39m.\u001b[39;00m\u001b[39mensemble\u001b[39;00m \u001b[39mimport\u001b[39;00m RandomForestRegressor\n",
      "File \u001b[0;32m~/.local/lib/python3.10/site-packages/sklearn/__init__.py:82\u001b[0m\n\u001b[1;32m     80\u001b[0m \u001b[39mfrom\u001b[39;00m \u001b[39m.\u001b[39;00m \u001b[39mimport\u001b[39;00m _distributor_init  \u001b[39m# noqa: F401\u001b[39;00m\n\u001b[1;32m     81\u001b[0m \u001b[39mfrom\u001b[39;00m \u001b[39m.\u001b[39;00m \u001b[39mimport\u001b[39;00m __check_build  \u001b[39m# noqa: F401\u001b[39;00m\n\u001b[0;32m---> 82\u001b[0m \u001b[39mfrom\u001b[39;00m \u001b[39m.\u001b[39;00m\u001b[39mbase\u001b[39;00m \u001b[39mimport\u001b[39;00m clone\n\u001b[1;32m     83\u001b[0m \u001b[39mfrom\u001b[39;00m \u001b[39m.\u001b[39;00m\u001b[39mutils\u001b[39;00m\u001b[39m.\u001b[39;00m\u001b[39m_show_versions\u001b[39;00m \u001b[39mimport\u001b[39;00m show_versions\n\u001b[1;32m     85\u001b[0m __all__ \u001b[39m=\u001b[39m [\n\u001b[1;32m     86\u001b[0m     \u001b[39m\"\u001b[39m\u001b[39mcalibration\u001b[39m\u001b[39m\"\u001b[39m,\n\u001b[1;32m     87\u001b[0m     \u001b[39m\"\u001b[39m\u001b[39mcluster\u001b[39m\u001b[39m\"\u001b[39m,\n\u001b[0;32m   (...)\u001b[0m\n\u001b[1;32m    128\u001b[0m     \u001b[39m\"\u001b[39m\u001b[39mshow_versions\u001b[39m\u001b[39m\"\u001b[39m,\n\u001b[1;32m    129\u001b[0m ]\n",
      "File \u001b[0;32m~/.local/lib/python3.10/site-packages/sklearn/base.py:17\u001b[0m\n\u001b[1;32m     15\u001b[0m \u001b[39mfrom\u001b[39;00m \u001b[39m.\u001b[39;00m \u001b[39mimport\u001b[39;00m __version__\n\u001b[1;32m     16\u001b[0m \u001b[39mfrom\u001b[39;00m \u001b[39m.\u001b[39;00m\u001b[39m_config\u001b[39;00m \u001b[39mimport\u001b[39;00m get_config\n\u001b[0;32m---> 17\u001b[0m \u001b[39mfrom\u001b[39;00m \u001b[39m.\u001b[39;00m\u001b[39mutils\u001b[39;00m \u001b[39mimport\u001b[39;00m _IS_32BIT\n\u001b[1;32m     18\u001b[0m \u001b[39mfrom\u001b[39;00m \u001b[39m.\u001b[39;00m\u001b[39mutils\u001b[39;00m\u001b[39m.\u001b[39;00m\u001b[39m_set_output\u001b[39;00m \u001b[39mimport\u001b[39;00m _SetOutputMixin\n\u001b[1;32m     19\u001b[0m \u001b[39mfrom\u001b[39;00m \u001b[39m.\u001b[39;00m\u001b[39mutils\u001b[39;00m\u001b[39m.\u001b[39;00m\u001b[39m_tags\u001b[39;00m \u001b[39mimport\u001b[39;00m (\n\u001b[1;32m     20\u001b[0m     _DEFAULT_TAGS,\n\u001b[1;32m     21\u001b[0m )\n",
      "File \u001b[0;32m~/.local/lib/python3.10/site-packages/sklearn/utils/__init__.py:25\u001b[0m\n\u001b[1;32m     23\u001b[0m \u001b[39mfrom\u001b[39;00m \u001b[39m.\u001b[39;00m\u001b[39mdeprecation\u001b[39;00m \u001b[39mimport\u001b[39;00m deprecated\n\u001b[1;32m     24\u001b[0m \u001b[39mfrom\u001b[39;00m \u001b[39m.\u001b[39;00m\u001b[39mdiscovery\u001b[39;00m \u001b[39mimport\u001b[39;00m all_estimators\n\u001b[0;32m---> 25\u001b[0m \u001b[39mfrom\u001b[39;00m \u001b[39m.\u001b[39;00m\u001b[39mfixes\u001b[39;00m \u001b[39mimport\u001b[39;00m parse_version, threadpool_info\n\u001b[1;32m     26\u001b[0m \u001b[39mfrom\u001b[39;00m \u001b[39m.\u001b[39;00m\u001b[39m_estimator_html_repr\u001b[39;00m \u001b[39mimport\u001b[39;00m estimator_html_repr\n\u001b[1;32m     27\u001b[0m \u001b[39mfrom\u001b[39;00m \u001b[39m.\u001b[39;00m\u001b[39mvalidation\u001b[39;00m \u001b[39mimport\u001b[39;00m (\n\u001b[1;32m     28\u001b[0m     as_float_array,\n\u001b[1;32m     29\u001b[0m     assert_all_finite,\n\u001b[0;32m   (...)\u001b[0m\n\u001b[1;32m     38\u001b[0m     _is_arraylike_not_scalar,\n\u001b[1;32m     39\u001b[0m )\n",
      "File \u001b[0;32m~/.local/lib/python3.10/site-packages/sklearn/utils/fixes.py:19\u001b[0m\n\u001b[1;32m     17\u001b[0m \u001b[39mimport\u001b[39;00m \u001b[39mnumpy\u001b[39;00m \u001b[39mas\u001b[39;00m \u001b[39mnp\u001b[39;00m\n\u001b[1;32m     18\u001b[0m \u001b[39mimport\u001b[39;00m \u001b[39mscipy\u001b[39;00m\n\u001b[0;32m---> 19\u001b[0m \u001b[39mimport\u001b[39;00m \u001b[39mscipy\u001b[39;00m\u001b[39m.\u001b[39;00m\u001b[39mstats\u001b[39;00m\n\u001b[1;32m     20\u001b[0m \u001b[39mimport\u001b[39;00m \u001b[39mthreadpoolctl\u001b[39;00m\n\u001b[1;32m     22\u001b[0m \u001b[39mfrom\u001b[39;00m \u001b[39m.\u001b[39;00m\u001b[39mdeprecation\u001b[39;00m \u001b[39mimport\u001b[39;00m deprecated\n",
      "File \u001b[0;32m~/.local/lib/python3.10/site-packages/scipy/stats/__init__.py:485\u001b[0m\n\u001b[1;32m      1\u001b[0m \u001b[39m\"\"\"\u001b[39;00m\n\u001b[1;32m      2\u001b[0m \u001b[39m.. _statsrefmanual:\u001b[39;00m\n\u001b[1;32m      3\u001b[0m \n\u001b[0;32m   (...)\u001b[0m\n\u001b[1;32m    480\u001b[0m \n\u001b[1;32m    481\u001b[0m \u001b[39m\"\"\"\u001b[39;00m\n\u001b[1;32m    483\u001b[0m \u001b[39mfrom\u001b[39;00m \u001b[39m.\u001b[39;00m\u001b[39m_warnings_errors\u001b[39;00m \u001b[39mimport\u001b[39;00m (ConstantInputWarning, NearConstantInputWarning,\n\u001b[1;32m    484\u001b[0m                                DegenerateDataWarning, FitError)\n\u001b[0;32m--> 485\u001b[0m \u001b[39mfrom\u001b[39;00m \u001b[39m.\u001b[39;00m\u001b[39m_stats_py\u001b[39;00m \u001b[39mimport\u001b[39;00m \u001b[39m*\u001b[39m\n\u001b[1;32m    486\u001b[0m \u001b[39mfrom\u001b[39;00m \u001b[39m.\u001b[39;00m\u001b[39m_variation\u001b[39;00m \u001b[39mimport\u001b[39;00m variation\n\u001b[1;32m    487\u001b[0m \u001b[39mfrom\u001b[39;00m \u001b[39m.\u001b[39;00m\u001b[39mdistributions\u001b[39;00m \u001b[39mimport\u001b[39;00m \u001b[39m*\u001b[39m\n",
      "File \u001b[0;32m~/.local/lib/python3.10/site-packages/scipy/stats/_stats_py.py:37\u001b[0m\n\u001b[1;32m     35\u001b[0m \u001b[39mfrom\u001b[39;00m \u001b[39mnumpy\u001b[39;00m \u001b[39mimport\u001b[39;00m array, asarray, ma\n\u001b[1;32m     36\u001b[0m \u001b[39mfrom\u001b[39;00m \u001b[39mnumpy\u001b[39;00m\u001b[39m.\u001b[39;00m\u001b[39mlib\u001b[39;00m \u001b[39mimport\u001b[39;00m NumpyVersion\n\u001b[0;32m---> 37\u001b[0m \u001b[39mfrom\u001b[39;00m \u001b[39mnumpy\u001b[39;00m\u001b[39m.\u001b[39;00m\u001b[39mtesting\u001b[39;00m \u001b[39mimport\u001b[39;00m suppress_warnings\n\u001b[1;32m     39\u001b[0m \u001b[39mfrom\u001b[39;00m \u001b[39mscipy\u001b[39;00m\u001b[39m.\u001b[39;00m\u001b[39mspatial\u001b[39;00m\u001b[39m.\u001b[39;00m\u001b[39mdistance\u001b[39;00m \u001b[39mimport\u001b[39;00m cdist\n\u001b[1;32m     40\u001b[0m \u001b[39mfrom\u001b[39;00m \u001b[39mscipy\u001b[39;00m\u001b[39m.\u001b[39;00m\u001b[39mndimage\u001b[39;00m \u001b[39mimport\u001b[39;00m _measurements\n",
      "\u001b[0;31mModuleNotFoundError\u001b[0m: No module named 'numpy.testing'"
     ]
    }
   ],
   "source": [
    "import pandas as pd\n",
    "import torch\n",
    "import numpy as np\n",
    "import tensorflow as tf\n",
    "from sklearn.model_selection import train_test_split\n",
    "from sklearn.tree import DecisionTreeRegressor\n",
    "from sklearn.ensemble import RandomForestRegressor\n",
    "from sklearn.svm import SVR\n",
    "from sklearn.metrics import mean_squared_error, r2_score"
   ]
  },
  {
   "cell_type": "code",
   "execution_count": 2,
   "id": "8bcd9c55",
   "metadata": {},
   "outputs": [],
   "source": [
    "data2 = pd.read_csv('data2.csv', sep='\\t')\n",
    "data_seqvec=torch.load(\"dict_id_protvec_500.pt\")"
   ]
  },
  {
   "cell_type": "code",
   "execution_count": 12,
   "id": "31f3869f",
   "metadata": {},
   "outputs": [
    {
     "data": {
      "text/plain": [
       "tensor([-1.7700,  2.4515, -1.6875,  3.6165,  0.6720,  1.8665, -0.5171, -3.2259,\n",
       "        -2.7775,  2.2450,  1.2689, -4.3968,  2.4096,  2.4399, -3.4593, -0.2880,\n",
       "         0.6614,  0.9571, -2.3643, -1.6456, -1.2891,  2.4051,  3.6060, -2.9275,\n",
       "         2.4012,  1.6599,  2.1848, -1.1345,  0.3298, -1.0701,  2.6572, -1.8858,\n",
       "         2.8921,  0.7950, -1.0018,  1.9551,  3.5279,  0.4127,  2.9736,  0.0993,\n",
       "        -3.0007, -0.8243,  2.4667, -2.2320, -0.9414, -3.8365, -0.5141,  0.5437,\n",
       "         2.1421, -3.4800, -0.0501,  2.9294, -2.2002, -0.7553, -3.2968,  2.4083,\n",
       "        -1.3924, -2.1656, -0.0545,  2.9510, -1.3734, -0.6592,  1.3209, -3.4425,\n",
       "        -1.4856, -1.5471, -2.8395, -0.7386, -2.0619,  0.7123,  2.1234, -0.6661,\n",
       "         0.1092, -1.2595, -2.5378, -3.1347, -2.5562, -2.4392, -2.5689,  1.8397,\n",
       "         4.5562, -1.9747,  2.2856, -1.0626,  1.0807,  1.6671,  2.3926, -3.8768,\n",
       "         3.8776,  2.6067, -1.2363, -2.9501, -2.4370, -3.3410, -1.2126,  1.7269,\n",
       "        -1.5267,  3.2561,  2.5006, -2.1483])"
      ]
     },
     "execution_count": 12,
     "metadata": {},
     "output_type": "execute_result"
    }
   ],
   "source": [
    "data_seqvec[0][0]"
   ]
  },
  {
   "cell_type": "code",
   "execution_count": 13,
   "id": "53042c4f",
   "metadata": {},
   "outputs": [],
   "source": [
    "pH_values = data2['pH'][:500]\n",
    "Tm_values = data2['tm'][:500]\n",
    "\n",
    "protein_sequences_encoded = []\n",
    "for seq in data_seqvec:\n",
    "    protein_sequences_encoded.append(seq[0])"
   ]
  },
  {
   "cell_type": "code",
   "execution_count": 211,
   "id": "51f75eb6",
   "metadata": {},
   "outputs": [
    {
     "ename": "ImportError",
     "evalue": "No module named 'tensorflow'",
     "output_type": "error",
     "traceback": [
      "\u001b[0;31m---------------------------------------------------------------------------\u001b[0m",
      "\u001b[0;31mImportError\u001b[0m                               Traceback (most recent call last)",
      "\u001b[0;32m<ipython-input-211-1e1aef49a3cd>\u001b[0m in \u001b[0;36m<module>\u001b[0;34m()\u001b[0m\n\u001b[1;32m      1\u001b[0m \u001b[0;32mimport\u001b[0m \u001b[0mnumpy\u001b[0m \u001b[0;32mas\u001b[0m \u001b[0mnp\u001b[0m\u001b[0;34m\u001b[0m\u001b[0m\n\u001b[0;32m----> 2\u001b[0;31m \u001b[0;32mimport\u001b[0m \u001b[0mtensorflow\u001b[0m \u001b[0;32mas\u001b[0m \u001b[0mtf\u001b[0m\u001b[0;34m\u001b[0m\u001b[0m\n\u001b[0m\u001b[1;32m      3\u001b[0m \u001b[0;32mfrom\u001b[0m \u001b[0msklearn\u001b[0m\u001b[0;34m.\u001b[0m\u001b[0mmodel_selection\u001b[0m \u001b[0;32mimport\u001b[0m \u001b[0mtrain_test_split\u001b[0m\u001b[0;34m\u001b[0m\u001b[0m\n\u001b[1;32m      4\u001b[0m \u001b[0;32mfrom\u001b[0m \u001b[0msklearn\u001b[0m\u001b[0;34m.\u001b[0m\u001b[0mtree\u001b[0m \u001b[0;32mimport\u001b[0m \u001b[0mDecisionTreeRegressor\u001b[0m\u001b[0;34m\u001b[0m\u001b[0m\n\u001b[1;32m      5\u001b[0m \u001b[0;32mfrom\u001b[0m \u001b[0msklearn\u001b[0m\u001b[0;34m.\u001b[0m\u001b[0mensemble\u001b[0m \u001b[0;32mimport\u001b[0m \u001b[0mRandomForestRegressor\u001b[0m\u001b[0;34m\u001b[0m\u001b[0m\n",
      "\u001b[0;31mImportError\u001b[0m: No module named 'tensorflow'"
     ]
    }
   ],
   "source": [
    "# Combine features into a single input matrix\n",
    "X = np.column_stack((protein_sequences_encoded, pH_values))\n",
    "\n",
    "# Convert the target variable to numpy array\n",
    "y = np.array(Tm_values)\n",
    "\n",
    "# Split the dataset into training and testing sets\n",
    "X_train, X_test, y_train, y_test = train_test_split(X, y, test_size=0.2, random_state=42)\n",
    "\n",
    "# Linear Regression with TensorFlow\n",
    "lin_reg_model = tf.keras.Sequential([\n",
    "    tf.keras.layers.Dense(units=1, input_shape=[X_train.shape[1]])\n",
    "])\n",
    "lin_reg_model.compile(optimizer='adam', loss='mean_squared_error')\n",
    "lin_reg_model.fit(X_train, y_train, epochs=100, verbose=0)\n",
    "lin_reg_y_pred = lin_reg_model.predict(X_test).flatten()\n",
    "\n",
    "# Decision Trees\n",
    "tree_model = DecisionTreeRegressor()\n",
    "tree_model.fit(X_train, y_train)\n",
    "tree_y_pred = tree_model.predict(X_test)\n",
    "\n",
    "# Random Forests\n",
    "forest_model = RandomForestRegressor()\n",
    "forest_model.fit(X_train, y_train)\n",
    "forest_y_pred = forest_model.predict(X_test)\n",
    "\n",
    "# Support Vector Machines (SVM)\n",
    "svm_model = SVR()\n",
    "svm_model.fit(X_train, y_train)\n",
    "svm_y_pred = svm_model.predict(X_test)\n",
    "\n",
    "# Neural Networks with TensorFlow\n",
    "nn_model = tf.keras.Sequential([\n",
    "    tf.keras.layers.Dense(units=100, activation='relu', input_shape=[X_train.shape[1]]),\n",
    "    tf.keras.layers.Dense(units=50, activation='relu'),\n",
    "    tf.keras.layers.Dense(units=1)\n",
    "])\n",
    "nn_model.compile(optimizer='adam', loss='mean_squared_error')\n",
    "nn_model.fit(X_train, y_train, epochs=100, verbose=0)\n",
    "nn_y_pred = nn_model.predict(X_test).flatten()\n",
    "\n",
    "# Model evaluation\n",
    "def evaluate_model(y_true, y_pred, model_name):\n",
    "    mse = mean_squared_error(y_true, y_pred)\n",
    "    r2 = r2_score(y_true, y_pred)\n",
    "    print(model_name,\":\")\n",
    "    print(\"Mean Squared Error:\", mse)\n",
    "    print(\"R-squared:\", r2)\n",
    "    print()\n",
    "\n",
    "evaluate_model(y_test, lin_reg_y_pred, \"Linear Regression (TensorFlow)\")\n",
    "evaluate_model(y_test, tree_y_pred, \"Decision Trees\")\n",
    "evaluate_model(y_test, forest_y_pred, \"Random Forests\")\n",
    "evaluate_model(y_test, svm_y_pred, \"Support Vector Machines (SVM)\")\n",
    "evaluate_model(y_test, nn_y_pred, \"Neural Networks (TensorFlow)\")\n"
   ]
  },
  {
   "cell_type": "code",
   "execution_count": null,
   "id": "5bfb62e7",
   "metadata": {},
   "outputs": [],
   "source": []
  },
  {
   "cell_type": "code",
   "execution_count": null,
   "id": "633c15fd",
   "metadata": {},
   "outputs": [],
   "source": []
  }
 ],
 "metadata": {
  "kernelspec": {
   "display_name": "Python 3 (ipykernel)",
   "language": "python",
   "name": "python3"
  },
  "language_info": {
   "codemirror_mode": {
    "name": "ipython",
    "version": 3
   },
   "file_extension": ".py",
   "mimetype": "text/x-python",
   "name": "python",
   "nbconvert_exporter": "python",
   "pygments_lexer": "ipython3",
   "version": "3.10.4"
  }
 },
 "nbformat": 4,
 "nbformat_minor": 5
}
