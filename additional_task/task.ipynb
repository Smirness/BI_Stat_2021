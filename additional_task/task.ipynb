{
 "cells": [
  {
   "cell_type": "markdown",
   "id": "4bc0cb6d",
   "metadata": {},
   "source": [
    "# Задание\n",
    "\n",
    "Вам предстоит поработать с данными о стабильности белков (`tm`). Нужно по последовательности белка и по `pH` предсказывать стабильность. Так как это дополнительное задание, то комментариев и подробного плана не будет, вам нужно максимально показать свои знания и постараться добиться наилучшего качества.\n",
    "\n",
    "Небольшой план для начала:\n",
    "\n",
    "1. Провести небольшой EDA, найти возможные выбросы и понять, в чем может быть дело.\n",
    "2. Придумать, как закодировать аминокислотные последовательности в числовые векторы.\n",
    "3. Разделить данные на `train` и `test` (подумать над правильной стратегией разбиения).\n",
    "4. Используя кросс-вадидацию подобрать наилучшую модель на тренировочных данных.\n",
    "5. Обучить лучшую модель на всех тренировочных данных.\n",
    "5. Протестировать лучшую модель на тестовых данных.\n",
    "\n",
    "Оформить подробный отчет в виде ноутбука. Постарайтесь воспользоваться всеми техниками, которые мы прошли в курсе.\n",
    "\n",
    "*Так как текущее задание в довольно свободной форме, то четких критериев оценки нет. Если минимально проследовать вышеуказанным рекомендациям, то можно получить до **20 баллов**. Максимально за это задание можно получить **40***."
   ]
  },
  {
   "cell_type": "code",
   "execution_count": 1,
   "id": "c2f2e48b",
   "metadata": {
    "ExecuteTime": {
     "end_time": "2023-05-18T01:35:18.007106500Z",
     "start_time": "2023-05-18T01:35:17.991104900Z"
    },
    "tags": []
   },
   "outputs": [],
   "source": [
    "import pandas as pd"
   ]
  },
  {
   "cell_type": "code",
   "execution_count": 2,
   "id": "0d9a3b5e",
   "metadata": {
    "ExecuteTime": {
     "end_time": "2023-05-18T01:35:18.678436Z",
     "start_time": "2023-05-18T01:35:18.658434100Z"
    },
    "tags": []
   },
   "outputs": [],
   "source": [
    "data_filename = \"data.csv\"\n",
    "data_path = data_filename"
   ]
  },
  {
   "cell_type": "code",
   "execution_count": 3,
   "id": "fc2d0696",
   "metadata": {
    "ExecuteTime": {
     "end_time": "2023-05-18T01:35:19.298299Z",
     "start_time": "2023-05-18T01:35:19.114295Z"
    },
    "tags": []
   },
   "outputs": [
    {
     "data": {
      "text/html": [
       "<div>\n",
       "<style scoped>\n",
       "    .dataframe tbody tr th:only-of-type {\n",
       "        vertical-align: middle;\n",
       "    }\n",
       "\n",
       "    .dataframe tbody tr th {\n",
       "        vertical-align: top;\n",
       "    }\n",
       "\n",
       "    .dataframe thead th {\n",
       "        text-align: right;\n",
       "    }\n",
       "</style>\n",
       "<table border=\"1\" class=\"dataframe\">\n",
       "  <thead>\n",
       "    <tr style=\"text-align: right;\">\n",
       "      <th></th>\n",
       "      <th>protein_sequence</th>\n",
       "      <th>pH</th>\n",
       "      <th>data_source</th>\n",
       "      <th>tm</th>\n",
       "    </tr>\n",
       "    <tr>\n",
       "      <th>seq_id</th>\n",
       "      <th></th>\n",
       "      <th></th>\n",
       "      <th></th>\n",
       "      <th></th>\n",
       "    </tr>\n",
       "  </thead>\n",
       "  <tbody>\n",
       "    <tr>\n",
       "      <th>0</th>\n",
       "      <td>AAAAKAAALALLGEAPEVVDIWLPAGWRQPFRVFRLERKGDGVLVG...</td>\n",
       "      <td>7.0</td>\n",
       "      <td>doi.org/10.1038/s41592-020-0801-4</td>\n",
       "      <td>75.7</td>\n",
       "    </tr>\n",
       "    <tr>\n",
       "      <th>1</th>\n",
       "      <td>AAADGEPLHNEEERAGAGQVGRSLPQESEEQRTGSRPRRRRDLGSR...</td>\n",
       "      <td>7.0</td>\n",
       "      <td>doi.org/10.1038/s41592-020-0801-4</td>\n",
       "      <td>50.5</td>\n",
       "    </tr>\n",
       "    <tr>\n",
       "      <th>2</th>\n",
       "      <td>AAAFSTPRATSYRILSSAGSGSTRADAPQVRRLHTTRDLLAKDYYA...</td>\n",
       "      <td>7.0</td>\n",
       "      <td>doi.org/10.1038/s41592-020-0801-4</td>\n",
       "      <td>40.5</td>\n",
       "    </tr>\n",
       "    <tr>\n",
       "      <th>3</th>\n",
       "      <td>AAASGLRTAIPAQPLRHLLQPAPRPCLRPFGLLSVRAGSARRSGLL...</td>\n",
       "      <td>7.0</td>\n",
       "      <td>doi.org/10.1038/s41592-020-0801-4</td>\n",
       "      <td>47.2</td>\n",
       "    </tr>\n",
       "    <tr>\n",
       "      <th>4</th>\n",
       "      <td>AAATKSGPRRQSQGASVRTFTPFYFLVEPVDTLSVRGSSVILNCSA...</td>\n",
       "      <td>7.0</td>\n",
       "      <td>doi.org/10.1038/s41592-020-0801-4</td>\n",
       "      <td>49.5</td>\n",
       "    </tr>\n",
       "  </tbody>\n",
       "</table>\n",
       "</div>"
      ],
      "text/plain": [
       "                                         protein_sequence   pH  \\\n",
       "seq_id                                                           \n",
       "0       AAAAKAAALALLGEAPEVVDIWLPAGWRQPFRVFRLERKGDGVLVG...  7.0   \n",
       "1       AAADGEPLHNEEERAGAGQVGRSLPQESEEQRTGSRPRRRRDLGSR...  7.0   \n",
       "2       AAAFSTPRATSYRILSSAGSGSTRADAPQVRRLHTTRDLLAKDYYA...  7.0   \n",
       "3       AAASGLRTAIPAQPLRHLLQPAPRPCLRPFGLLSVRAGSARRSGLL...  7.0   \n",
       "4       AAATKSGPRRQSQGASVRTFTPFYFLVEPVDTLSVRGSSVILNCSA...  7.0   \n",
       "\n",
       "                              data_source    tm  \n",
       "seq_id                                           \n",
       "0       doi.org/10.1038/s41592-020-0801-4  75.7  \n",
       "1       doi.org/10.1038/s41592-020-0801-4  50.5  \n",
       "2       doi.org/10.1038/s41592-020-0801-4  40.5  \n",
       "3       doi.org/10.1038/s41592-020-0801-4  47.2  \n",
       "4       doi.org/10.1038/s41592-020-0801-4  49.5  "
      ]
     },
     "execution_count": 3,
     "metadata": {},
     "output_type": "execute_result"
    }
   ],
   "source": [
    "data = pd.read_csv(data_path, index_col=0)\n",
    "data.head()"
   ]
  },
  {
   "cell_type": "code",
   "execution_count": 4,
   "id": "56ec978d",
   "metadata": {
    "ExecuteTime": {
     "end_time": "2023-05-18T01:35:19.705224600Z",
     "start_time": "2023-05-18T01:35:19.686223300Z"
    },
    "tags": []
   },
   "outputs": [
    {
     "data": {
      "text/plain": [
       "(31390, 4)"
      ]
     },
     "execution_count": 4,
     "metadata": {},
     "output_type": "execute_result"
    }
   ],
   "source": [
    "data.shape"
   ]
  },
  {
   "cell_type": "code",
   "execution_count": 5,
   "id": "f6b45bd5",
   "metadata": {
    "ExecuteTime": {
     "end_time": "2023-05-18T01:35:20.273224100Z",
     "start_time": "2023-05-18T01:35:20.205226Z"
    },
    "tags": []
   },
   "outputs": [
    {
     "name": "stdout",
     "output_type": "stream",
     "text": [
      "<class 'pandas.core.frame.DataFrame'>\n",
      "Int64Index: 31390 entries, 0 to 31389\n",
      "Data columns (total 4 columns):\n",
      "protein_sequence    31390 non-null object\n",
      "pH                  31104 non-null float64\n",
      "data_source         28043 non-null object\n",
      "tm                  31390 non-null float64\n",
      "dtypes: float64(2), object(2)\n",
      "memory usage: 1.2+ MB\n"
     ]
    }
   ],
   "source": [
    "data.info()"
   ]
  },
  {
   "cell_type": "markdown",
   "id": "2f3af61d",
   "metadata": {},
   "source": [
    "## EDA"
   ]
  },
  {
   "cell_type": "code",
   "execution_count": 6,
   "id": "fcf0241f",
   "metadata": {
    "ExecuteTime": {
     "end_time": "2023-05-18T01:35:21.264404200Z",
     "start_time": "2023-05-18T01:35:21.254405100Z"
    },
    "tags": []
   },
   "outputs": [
    {
     "data": {
      "text/plain": [
       "protein_sequence       0\n",
       "pH                   286\n",
       "data_source         3347\n",
       "tm                     0\n",
       "dtype: int64"
      ]
     },
     "execution_count": 6,
     "metadata": {},
     "output_type": "execute_result"
    }
   ],
   "source": [
    "data.isna().sum()"
   ]
  },
  {
   "cell_type": "markdown",
   "id": "3f3835ba",
   "metadata": {},
   "source": [
    "В данных есть пропущенные значения. Значение pH напрямую влияет на стабильность белка, поэтому возьмем только данные для которых есть значения pH. "
   ]
  },
  {
   "cell_type": "code",
   "execution_count": 7,
   "id": "55dae5c5",
   "metadata": {
    "ExecuteTime": {
     "end_time": "2023-05-18T01:35:22.089629600Z",
     "start_time": "2023-05-18T01:35:22.063630200Z"
    },
    "tags": []
   },
   "outputs": [
    {
     "data": {
      "text/plain": [
       "array([ 7.  ,  5.  ,  7.5 ,   nan,  7.4 , 48.4 , 49.  , 55.6 ,  6.2 ,\n",
       "        5.5 ,  6.3 ,  2.  ,  8.5 ,  3.  ,  6.8 ,  6.4 ,  6.6 ,  6.7 ,\n",
       "        6.5 ,  4.5 ,  8.  ,  7.3 ,  7.2 ,  8.4 ,  8.1 ,  9.6 ,  5.9 ,\n",
       "        6.  ,  4.  ,  3.5 ,  4.2 ,  5.1 ,  3.6 ,  7.1 ,  7.8 ,  9.  ,\n",
       "        3.2 ,  2.5 ,  2.8 ,  5.2 ,  5.4 ,  5.8 ,  7.7 ,  7.6 , 10.  ,\n",
       "        8.2 ,  2.7 ,  2.9 ,  3.1 , 64.9 ,  3.14,  2.53,  2.3 ,  2.2 ,\n",
       "        2.81,  8.25,  9.9 ,  9.5 , 10.4 ,  9.08,  8.7 ,  3.7 , 39.  ,\n",
       "        4.6 ,  4.4 ,  5.35,  5.7 ,  9.2 ,  5.38,  5.28,  6.9 ,  5.42,\n",
       "        5.3 ,  6.1 ,  9.7 ,  8.6 ,  4.8 ,  6.78,  5.31,  3.02,  4.9 ,\n",
       "        4.3 ,  5.45,  3.01,  3.3 ,  3.8 ,  2.4 ,  2.84,  2.34,  4.7 ,\n",
       "        2.1 ,  3.9 ,  2.02,  2.83,  2.03,  2.86,  1.99,  8.3 , 53.4 ,\n",
       "        3.16,  2.94,  9.75,  3.15,  3.07,  3.04,  3.25,  3.21,  2.98,\n",
       "        3.19,  4.1 ,  5.6 ,  3.75,  4.75,  4.25, 11.  , 10.3 ])"
      ]
     },
     "execution_count": 7,
     "metadata": {},
     "output_type": "execute_result"
    }
   ],
   "source": [
    "data.pH.unique()"
   ]
  },
  {
   "cell_type": "code",
   "execution_count": 8,
   "id": "8a96f6b1",
   "metadata": {
    "ExecuteTime": {
     "end_time": "2023-05-18T01:35:22.600625600Z",
     "start_time": "2023-05-18T01:35:22.573627700Z"
    },
    "tags": []
   },
   "outputs": [
    {
     "data": {
      "text/plain": [
       "286"
      ]
     },
     "execution_count": 8,
     "metadata": {},
     "output_type": "execute_result"
    }
   ],
   "source": [
    "data1 = data.dropna(subset=['pH'])\n",
    "data.shape[0] - data1.shape[0]"
   ]
  },
  {
   "cell_type": "code",
   "execution_count": 9,
   "id": "0bccf915",
   "metadata": {
    "ExecuteTime": {
     "end_time": "2023-05-18T01:35:22.653626500Z",
     "start_time": "2023-05-18T01:35:22.622627600Z"
    },
    "tags": []
   },
   "outputs": [
    {
     "name": "stdout",
     "output_type": "stream",
     "text": [
      "                 pH            tm\n",
      "count  31104.000000  31104.000000\n",
      "mean       6.892339     49.150608\n",
      "std        1.612225     14.044705\n",
      "min        1.990000     -1.000000\n",
      "25%        7.000000     42.100000\n",
      "50%        7.000000     48.100000\n",
      "75%        7.000000     53.800000\n",
      "max       64.900000    130.000000\n"
     ]
    }
   ],
   "source": [
    "print(data1.describe())"
   ]
  },
  {
   "cell_type": "markdown",
   "id": "d943c622",
   "metadata": {},
   "source": [
    "Интервал значений pH и Tm вызывает сомнения. \n",
    "* Интервал температуры плавления неожиданный. Не знаю метода исследования, могу предположить, что измерение проводилось в водной среде при нормальном давлении, поэтому отрицательные значения и значения выше 100 град. убираем. \n",
    "* pH может быть более 14, однако врядли в эксперименте с белками использовался настолько щелочной буффер. Поэтому будем учитывать значения pH до 14-ти.\n",
    "Беру на себя ответственность убрать экспериментальные данные с сомнительными параметрами."
   ]
  },
  {
   "cell_type": "code",
   "execution_count": 10,
   "id": "bcfdd34a",
   "metadata": {
    "ExecuteTime": {
     "end_time": "2023-05-18T01:35:22.758630700Z",
     "start_time": "2023-05-18T01:35:22.729625900Z"
    },
    "tags": []
   },
   "outputs": [
    {
     "data": {
      "text/html": [
       "<div>\n",
       "<style scoped>\n",
       "    .dataframe tbody tr th:only-of-type {\n",
       "        vertical-align: middle;\n",
       "    }\n",
       "\n",
       "    .dataframe tbody tr th {\n",
       "        vertical-align: top;\n",
       "    }\n",
       "\n",
       "    .dataframe thead th {\n",
       "        text-align: right;\n",
       "    }\n",
       "</style>\n",
       "<table border=\"1\" class=\"dataframe\">\n",
       "  <thead>\n",
       "    <tr style=\"text-align: right;\">\n",
       "      <th></th>\n",
       "      <th>pH</th>\n",
       "      <th>tm</th>\n",
       "    </tr>\n",
       "  </thead>\n",
       "  <tbody>\n",
       "    <tr>\n",
       "      <th>count</th>\n",
       "      <td>31067.000000</td>\n",
       "      <td>31067.000000</td>\n",
       "    </tr>\n",
       "    <tr>\n",
       "      <th>mean</th>\n",
       "      <td>6.850902</td>\n",
       "      <td>49.179206</td>\n",
       "    </tr>\n",
       "    <tr>\n",
       "      <th>std</th>\n",
       "      <td>0.859405</td>\n",
       "      <td>13.953180</td>\n",
       "    </tr>\n",
       "    <tr>\n",
       "      <th>min</th>\n",
       "      <td>1.990000</td>\n",
       "      <td>0.000000</td>\n",
       "    </tr>\n",
       "    <tr>\n",
       "      <th>25%</th>\n",
       "      <td>7.000000</td>\n",
       "      <td>42.100000</td>\n",
       "    </tr>\n",
       "    <tr>\n",
       "      <th>50%</th>\n",
       "      <td>7.000000</td>\n",
       "      <td>48.100000</td>\n",
       "    </tr>\n",
       "    <tr>\n",
       "      <th>75%</th>\n",
       "      <td>7.000000</td>\n",
       "      <td>53.800000</td>\n",
       "    </tr>\n",
       "    <tr>\n",
       "      <th>max</th>\n",
       "      <td>11.000000</td>\n",
       "      <td>99.000000</td>\n",
       "    </tr>\n",
       "  </tbody>\n",
       "</table>\n",
       "</div>"
      ],
      "text/plain": [
       "                 pH            tm\n",
       "count  31067.000000  31067.000000\n",
       "mean       6.850902     49.179206\n",
       "std        0.859405     13.953180\n",
       "min        1.990000      0.000000\n",
       "25%        7.000000     42.100000\n",
       "50%        7.000000     48.100000\n",
       "75%        7.000000     53.800000\n",
       "max       11.000000     99.000000"
      ]
     },
     "execution_count": 10,
     "metadata": {},
     "output_type": "execute_result"
    }
   ],
   "source": [
    "data2 = data1.drop(data1[(data1.pH > 14) | (data1.tm < 0) | (data1.tm > 100)].index)\n",
    "data2.describe()"
   ]
  },
  {
   "cell_type": "code",
   "execution_count": 11,
   "id": "a5e5178d",
   "metadata": {
    "ExecuteTime": {
     "end_time": "2023-05-18T01:35:24.452630900Z",
     "start_time": "2023-05-18T01:35:22.744631200Z"
    }
   },
   "outputs": [
    {
     "name": "stdout",
     "output_type": "stream",
     "text": [
      "/usr/bin/sh: 1: pip3: not found\r\n"
     ]
    }
   ],
   "source": [
    "! pip3 install matplotlib"
   ]
  },
  {
   "cell_type": "markdown",
   "id": "c8309293",
   "metadata": {},
   "source": [
    "Теперь значения параметров похожи на реальные."
   ]
  },
  {
   "cell_type": "code",
   "execution_count": 12,
   "id": "354128f5",
   "metadata": {
    "ExecuteTime": {
     "end_time": "2023-05-18T01:35:24.828628900Z",
     "start_time": "2023-05-18T01:35:24.455629300Z"
    },
    "tags": []
   },
   "outputs": [
    {
     "data": {
      "text/plain": [
       "<matplotlib.figure.Figure at 0x7f81194cecf8>"
      ]
     },
     "metadata": {},
     "output_type": "display_data"
    }
   ],
   "source": [
    "import matplotlib.pyplot as plt\n",
    "\n",
    "fig, (ax0, ax1, ax2) = plt.subplots(3, 1, figsize=(5,10))\n",
    "ax0.set_title('pH histogramm')\n",
    "ax0.hist(data2.pH, bins=100)\n",
    "ax1.set_title('pH histogram with frequency lower than 700') \n",
    "ax1.hist(data2.pH, bins=100)\n",
    "ax1.set_ylim([0,700])\n",
    "ax2.set_title('Melting temperature histogram')\n",
    "ax2.hist(data2.tm, bins=100)\n",
    "plt.show()"
   ]
  },
  {
   "cell_type": "markdown",
   "id": "d90ae091",
   "metadata": {},
   "source": [
    "По гистограме присутствует большое кол-во результатов при нейтральном pH (~7). Так же есть много наблюдений от 2 до 10. Думаю получится построить модель, которая хорошо сможет предказывать в этом регионе.\n",
    "Для температуры плавления, наблюдается две моды. Попробуем посмотреть на температуру плавления на белках при нейтральном pH."
   ]
  },
  {
   "cell_type": "code",
   "execution_count": 13,
   "id": "81df03da",
   "metadata": {
    "ExecuteTime": {
     "end_time": "2023-05-18T01:35:25.034628300Z",
     "start_time": "2023-05-18T01:35:24.829629100Z"
    },
    "tags": []
   },
   "outputs": [
    {
     "data": {
      "text/html": [
       "<div>\n",
       "<style scoped>\n",
       "    .dataframe tbody tr th:only-of-type {\n",
       "        vertical-align: middle;\n",
       "    }\n",
       "\n",
       "    .dataframe tbody tr th {\n",
       "        vertical-align: top;\n",
       "    }\n",
       "\n",
       "    .dataframe thead th {\n",
       "        text-align: right;\n",
       "    }\n",
       "</style>\n",
       "<table border=\"1\" class=\"dataframe\">\n",
       "  <thead>\n",
       "    <tr style=\"text-align: right;\">\n",
       "      <th></th>\n",
       "      <th>pH</th>\n",
       "      <th>tm</th>\n",
       "    </tr>\n",
       "  </thead>\n",
       "  <tbody>\n",
       "    <tr>\n",
       "      <th>count</th>\n",
       "      <td>27641.000000</td>\n",
       "      <td>27641.000000</td>\n",
       "    </tr>\n",
       "    <tr>\n",
       "      <th>mean</th>\n",
       "      <td>7.011829</td>\n",
       "      <td>49.722463</td>\n",
       "    </tr>\n",
       "    <tr>\n",
       "      <th>std</th>\n",
       "      <td>0.089409</td>\n",
       "      <td>13.149867</td>\n",
       "    </tr>\n",
       "    <tr>\n",
       "      <th>min</th>\n",
       "      <td>6.500000</td>\n",
       "      <td>0.000000</td>\n",
       "    </tr>\n",
       "    <tr>\n",
       "      <th>25%</th>\n",
       "      <td>7.000000</td>\n",
       "      <td>42.700000</td>\n",
       "    </tr>\n",
       "    <tr>\n",
       "      <th>50%</th>\n",
       "      <td>7.000000</td>\n",
       "      <td>48.100000</td>\n",
       "    </tr>\n",
       "    <tr>\n",
       "      <th>75%</th>\n",
       "      <td>7.000000</td>\n",
       "      <td>53.400000</td>\n",
       "    </tr>\n",
       "    <tr>\n",
       "      <th>max</th>\n",
       "      <td>7.500000</td>\n",
       "      <td>99.000000</td>\n",
       "    </tr>\n",
       "  </tbody>\n",
       "</table>\n",
       "</div>"
      ],
      "text/plain": [
       "                 pH            tm\n",
       "count  27641.000000  27641.000000\n",
       "mean       7.011829     49.722463\n",
       "std        0.089409     13.149867\n",
       "min        6.500000      0.000000\n",
       "25%        7.000000     42.700000\n",
       "50%        7.000000     48.100000\n",
       "75%        7.000000     53.400000\n",
       "max        7.500000     99.000000"
      ]
     },
     "execution_count": 13,
     "metadata": {},
     "output_type": "execute_result"
    },
    {
     "data": {
      "image/png": "[encoded data removed]",
      "text/plain": [
       "<matplotlib.figure.Figure at 0x7f81185e0160>"
      ]
     },
     "metadata": {},
     "output_type": "display_data"
    }
   ],
   "source": [
    "data3 = data2.drop(data2[(data2.pH < 6.5) | (data2.pH > 7.5)].index)\n",
    "data3.hist()\n",
    "data3.describe()"
   ]
  },
  {
   "cell_type": "markdown",
   "id": "a0362607",
   "metadata": {},
   "source": [
    "Один пик наблюдается при нейтральном pH. Проверем при каком pH наблюдается второй."
   ]
  },
  {
   "cell_type": "code",
   "execution_count": 14,
   "id": "ed1fdc78",
   "metadata": {
    "ExecuteTime": {
     "end_time": "2023-05-18T01:35:25.238629500Z",
     "start_time": "2023-05-18T01:35:25.035629200Z"
    },
    "tags": []
   },
   "outputs": [
    {
     "data": {
      "text/html": [
       "<div>\n",
       "<style scoped>\n",
       "    .dataframe tbody tr th:only-of-type {\n",
       "        vertical-align: middle;\n",
       "    }\n",
       "\n",
       "    .dataframe tbody tr th {\n",
       "        vertical-align: top;\n",
       "    }\n",
       "\n",
       "    .dataframe thead th {\n",
       "        text-align: right;\n",
       "    }\n",
       "</style>\n",
       "<table border=\"1\" class=\"dataframe\">\n",
       "  <thead>\n",
       "    <tr style=\"text-align: right;\">\n",
       "      <th></th>\n",
       "      <th>pH</th>\n",
       "      <th>tm</th>\n",
       "    </tr>\n",
       "  </thead>\n",
       "  <tbody>\n",
       "    <tr>\n",
       "      <th>count</th>\n",
       "      <td>1523.000000</td>\n",
       "      <td>1523.000000</td>\n",
       "    </tr>\n",
       "    <tr>\n",
       "      <th>mean</th>\n",
       "      <td>6.390164</td>\n",
       "      <td>24.977938</td>\n",
       "    </tr>\n",
       "    <tr>\n",
       "      <th>std</th>\n",
       "      <td>1.573140</td>\n",
       "      <td>0.201503</td>\n",
       "    </tr>\n",
       "    <tr>\n",
       "      <th>min</th>\n",
       "      <td>2.000000</td>\n",
       "      <td>23.000000</td>\n",
       "    </tr>\n",
       "    <tr>\n",
       "      <th>25%</th>\n",
       "      <td>5.500000</td>\n",
       "      <td>25.000000</td>\n",
       "    </tr>\n",
       "    <tr>\n",
       "      <th>50%</th>\n",
       "      <td>7.000000</td>\n",
       "      <td>25.000000</td>\n",
       "    </tr>\n",
       "    <tr>\n",
       "      <th>75%</th>\n",
       "      <td>7.400000</td>\n",
       "      <td>25.000000</td>\n",
       "    </tr>\n",
       "    <tr>\n",
       "      <th>max</th>\n",
       "      <td>9.000000</td>\n",
       "      <td>26.000000</td>\n",
       "    </tr>\n",
       "  </tbody>\n",
       "</table>\n",
       "</div>"
      ],
      "text/plain": [
       "                pH           tm\n",
       "count  1523.000000  1523.000000\n",
       "mean      6.390164    24.977938\n",
       "std       1.573140     0.201503\n",
       "min       2.000000    23.000000\n",
       "25%       5.500000    25.000000\n",
       "50%       7.000000    25.000000\n",
       "75%       7.400000    25.000000\n",
       "max       9.000000    26.000000"
      ]
     },
     "execution_count": 14,
     "metadata": {},
     "output_type": "execute_result"
    },
    {
     "data": {
      "image/png": "[encoded data removed]",
      "text/plain": [
       "<matplotlib.figure.Figure at 0x7f811acfe9b0>"
      ]
     },
     "metadata": {},
     "output_type": "display_data"
    }
   ],
   "source": [
    "data4 = data2.drop(data2[(data2.tm < 23) | (data2.tm > 26)].index)\n",
    "data4.hist()\n",
    "data4.describe()"
   ]
  },
  {
   "cell_type": "markdown",
   "id": "d2bd7220",
   "metadata": {},
   "source": [
    "Я хотел увидеть иное, но ожидаемый результат. второй пик тоже соответсвует нейтральному pH. Вимо дело в самой природе белка. Мб в длине первичной структры."
   ]
  },
  {
   "cell_type": "code",
   "execution_count": 15,
   "id": "f6c41dd4",
   "metadata": {
    "ExecuteTime": {
     "end_time": "2023-05-18T01:35:26.172187200Z",
     "start_time": "2023-05-18T01:35:26.150186400Z"
    },
    "tags": []
   },
   "outputs": [
    {
     "data": {
      "text/plain": [
       "Index(['protein_sequence', 'pH', 'data_source', 'tm'], dtype='object')"
      ]
     },
     "execution_count": 15,
     "metadata": {},
     "output_type": "execute_result"
    }
   ],
   "source": [
    "data3.columns"
   ]
  },
  {
   "cell_type": "code",
   "execution_count": 16,
   "id": "4ad2d06f",
   "metadata": {
    "ExecuteTime": {
     "end_time": "2023-05-18T01:35:26.850273700Z",
     "start_time": "2023-05-18T01:35:26.800188500Z"
    },
    "tags": []
   },
   "outputs": [
    {
     "name": "stdout",
     "output_type": "stream",
     "text": [
      "First peak\n",
      "470.1429760138924\n",
      "666.8817348661364\n",
      "Second peak\n",
      "503.06369008535785\n",
      "2267.1511592722545\n"
     ]
    }
   ],
   "source": [
    "print('First peak')\n",
    "print(data3['protein_sequence'].str.len().mean())\n",
    "print(data3['protein_sequence'].str.len().std())\n",
    "print('Second peak')\n",
    "print(data4['protein_sequence'].str.len().mean())\n",
    "print(data4['protein_sequence'].str.len().std())"
   ]
  },
  {
   "cell_type": "markdown",
   "id": "8d9e4b81",
   "metadata": {},
   "source": [
    "Нет. дело не в длине. Внутри групп они совсем разные встречаются ._. \n",
    "Пропустим этот вопрос, он второстепенный"
   ]
  },
  {
   "cell_type": "code",
   "execution_count": 17,
   "id": "8e66de83",
   "metadata": {},
   "outputs": [],
   "source": [
    "data2.to_csv('data2.csv', sep='\\t')"
   ]
  },
  {
   "cell_type": "code",
   "execution_count": null,
   "id": "c70c7ad5",
   "metadata": {},
   "outputs": [],
   "source": []
  },
  {
   "cell_type": "markdown",
   "id": "219bf5aa",
   "metadata": {},
   "source": [
    "## Representation of amino acids\n",
    "Есть несколько вариантов представить последовательность мномеров в числовом виде.\n",
    " * “one-hot encoding”\n",
    " * the BLOck SUbstitution Matrix (BLOSUM)\n",
    " * the principal components score Vectors of Hydrophobic, Steric, and Electronic properties (VHSE8).\n",
    "И есть много статей по сравнению и новым предложениям. Среди пары пакетов на питон нашел [seqvec](https://pypi.org/project/seqvec/) выглядит убедительно с 94-мя звездами."
   ]
  },
  {
   "cell_type": "markdown",
   "id": "981045ee",
   "metadata": {},
   "source": [
    "Однако не получилось запустить из-за проблемы со скачиванием. Он мне выдал ошибку на уровне установки необходимых модулей. А в одном файле и не нашел функци... Расстроился из-за потраченного вечера. Починить мне не удалось."
   ]
  },
  {
   "cell_type": "markdown",
   "id": "21005116",
   "metadata": {},
   "source": [
    "и в модуле в файле commands я не нашел функции elmo. Решил не разбираться дальше..."
   ]
  },
  {
   "cell_type": "markdown",
   "id": "8a9e6ed7",
   "metadata": {},
   "source": [
    "Зато нашел клевое пособие [тут](https://stephanheijl.com/protein_sequence_ml.html) еще и с теорией. Попробуем его"
   ]
  },
  {
   "cell_type": "code",
   "execution_count": 24,
   "id": "bc3b8afd",
   "metadata": {},
   "outputs": [
    {
     "name": "stdout",
     "output_type": "stream",
     "text": [
      "Cloning into 'protein-sequence-embedding-iclr2019'...\n",
      "remote: Enumerating objects: 54, done.\u001b[K\n",
      "remote: Counting objects: 100% (16/16), done.\u001b[K\n",
      "remote: Compressing objects: 100% (10/10), done.\u001b[K\n",
      "remote: Total 54 (delta 9), reused 6 (delta 6), pack-reused 38\u001b[K\n",
      "Receiving objects: 100% (54/54), 53.57 KiB | 543.00 KiB/s, done.\n",
      "Resolving deltas: 100% (17/17), done.\n"
     ]
    }
   ],
   "source": [
    "! git clone https://github.com/tbepler/protein-sequence-embedding-iclr2019.git"
   ]
  },
  {
   "cell_type": "code",
   "execution_count": 25,
   "id": "ef58c0bc",
   "metadata": {
    "ExecuteTime": {
     "end_time": "2023-05-18T01:37:26.545234500Z",
     "start_time": "2023-05-18T01:37:26.516235400Z"
    }
   },
   "outputs": [],
   "source": [
    "import sys\n",
    "sys.path.append(\"C:\\\\Users\\\\Ilya\\\\PycharmProjects\\\\BI_Stat_22-23-main\\\\additional_task\\\\protein-sequence-embedding-iclr2019\")"
   ]
  },
  {
   "cell_type": "markdown",
   "id": "e5616a6d",
   "metadata": {},
   "source": [
    "Вышла ошибка\n",
    "AttributeError: 'LSTM' object has no attribute '_flat_weights'\n",
    "нужно поставить более раннюю версию torch 1.3.1. А для неё нужна ранняя версия Python 3.5. А эта версия не поддерживается pycharm.\n",
    "\\*крики боли\\*"
   ]
  },
  {
   "cell_type": "markdown",
   "id": "f7c46dd7",
   "metadata": {},
   "source": [
    "Переходим на ubuntu и jupyter notebook"
   ]
  },
  {
   "cell_type": "code",
   "execution_count": 30,
   "id": "283fb45a",
   "metadata": {},
   "outputs": [
    {
     "name": "stdout",
     "output_type": "stream",
     "text": [
      "Python 3.5.4 :: Anaconda, Inc.\r\n"
     ]
    }
   ],
   "source": [
    "! python -V"
   ]
  },
  {
   "cell_type": "code",
   "execution_count": 31,
   "id": "3b3efa7c",
   "metadata": {},
   "outputs": [
    {
     "name": "stdout",
     "output_type": "stream",
     "text": [
      "Requirement already satisfied: torch==1.3.1 in /root/miniconda3/envs/py35/lib/python3.5/site-packages\n",
      "Requirement already satisfied: numpy in /root/miniconda3/envs/py35/lib/python3.5/site-packages (from torch==1.3.1)\n",
      "\u001b[33mYou are using pip version 9.0.1, however version 23.1.2 is available.\n",
      "You should consider upgrading via the 'pip install --upgrade pip' command.\u001b[0m\n"
     ]
    }
   ],
   "source": [
    "! pip install torch==1.3.1"
   ]
  },
  {
   "cell_type": "code",
   "execution_count": 2,
   "id": "870504d6",
   "metadata": {},
   "outputs": [],
   "source": [
    "import sys\n",
    "import torch\n",
    "sys.path.append('/mnt/c/Users/Ilya/PycharmProjects/BI_Stat_22-23-main/additional_task/protein-sequence-embedding-iclr2019')"
   ]
  },
  {
   "cell_type": "code",
   "execution_count": 3,
   "id": "0afb6640",
   "metadata": {},
   "outputs": [],
   "source": [
    "import numpy as np\n",
    "# Import data from protein sequence embedding repository.\n",
    "from src.alphabets import Uniprot21\n",
    "from src.utils import pack_sequences, unpack_sequences\n",
    "from torch.nn.utils.rnn import PackedSequence"
   ]
  },
  {
   "cell_type": "code",
   "execution_count": 164,
   "id": "de97f9e3",
   "metadata": {},
   "outputs": [],
   "source": [
    "u21 = Uniprot21()\n",
    "\n",
    "def embed_sequences(sequences, lm_embed):\n",
    "    \"\"\" Embed sequences\n",
    "    :param sequences: An iterable containing uppercase sequences strings.\n",
    "    :param lm_embed: A pytorch embedding model that accepts encodeded\n",
    "                     and produces matrices of size <seqlen>×<vecsize>.\n",
    "    :returns: A numpy containing the average vector.\n",
    "    \"\"\"\n",
    "    if type(sequences) is str:\n",
    "        sequences = [sequences]\n",
    "    enc_sequences = [u21.encode(bytes(seq, \"ascii\")) for seq in sequences]\n",
    "    enc_sequences = [torch.from_numpy(x_).long() for x_ in enc_sequences]\n",
    "    with torch.no_grad():\n",
    "        data, order = pack_sequences(enc_sequences)\n",
    "        z = lm_embed(data)\n",
    "        embedded_sequences = unpack_sequences(z, order)\n",
    "\n",
    "    avg_vec = torch.stack(embedded_sequences).mean(dim=1)\n",
    "    #avg_vec = np.array([seq.mean(0).detach().cpu().numpy() for seq in embedded_sequences])\n",
    "\n",
    "    assert not torch.isnan(avg_vec).any()\n",
    "\n",
    "    return avg_vec\n"
   ]
  },
  {
   "cell_type": "code",
   "execution_count": 168,
   "id": "41b0efd0",
   "metadata": {},
   "outputs": [
    {
     "name": "stderr",
     "output_type": "stream",
     "text": [
      "/root/miniconda3/envs/py35/lib/python3.5/site-packages/torch/serialization.py:493: SourceChangeWarning: source code of class 'torch.nn.modules.sparse.Embedding' has changed. you can retrieve the original source code by accessing the object's source attribute or set `torch.nn.Module.dump_patches = True` and use the patch tool to revert the changes.\n",
      "  warnings.warn(msg, SourceChangeWarning)\n",
      "/root/miniconda3/envs/py35/lib/python3.5/site-packages/torch/serialization.py:493: SourceChangeWarning: source code of class 'src.models.sequence.BiLM' has changed. you can retrieve the original source code by accessing the object's source attribute or set `torch.nn.Module.dump_patches = True` and use the patch tool to revert the changes.\n",
      "  warnings.warn(msg, SourceChangeWarning)\n",
      "/root/miniconda3/envs/py35/lib/python3.5/site-packages/torch/serialization.py:493: SourceChangeWarning: source code of class 'torch.nn.modules.dropout.Dropout' has changed. you can retrieve the original source code by accessing the object's source attribute or set `torch.nn.Module.dump_patches = True` and use the patch tool to revert the changes.\n",
      "  warnings.warn(msg, SourceChangeWarning)\n",
      "/root/miniconda3/envs/py35/lib/python3.5/site-packages/torch/serialization.py:493: SourceChangeWarning: source code of class 'torch.nn.modules.container.ModuleList' has changed. you can retrieve the original source code by accessing the object's source attribute or set `torch.nn.Module.dump_patches = True` and use the patch tool to revert the changes.\n",
      "  warnings.warn(msg, SourceChangeWarning)\n",
      "/root/miniconda3/envs/py35/lib/python3.5/site-packages/torch/serialization.py:493: SourceChangeWarning: source code of class 'torch.nn.modules.rnn.LSTM' has changed. you can retrieve the original source code by accessing the object's source attribute or set `torch.nn.Module.dump_patches = True` and use the patch tool to revert the changes.\n",
      "  warnings.warn(msg, SourceChangeWarning)\n",
      "/root/miniconda3/envs/py35/lib/python3.5/site-packages/torch/serialization.py:493: SourceChangeWarning: source code of class 'torch.nn.modules.linear.Linear' has changed. you can retrieve the original source code by accessing the object's source attribute or set `torch.nn.Module.dump_patches = True` and use the patch tool to revert the changes.\n",
      "  warnings.warn(msg, SourceChangeWarning)\n",
      "/root/miniconda3/envs/py35/lib/python3.5/site-packages/torch/serialization.py:493: SourceChangeWarning: source code of class 'torch.nn.modules.activation.ReLU' has changed. you can retrieve the original source code by accessing the object's source attribute or set `torch.nn.Module.dump_patches = True` and use the patch tool to revert the changes.\n",
      "  warnings.warn(msg, SourceChangeWarning)\n"
     ]
    }
   ],
   "source": [
    "target_sequence = [\"MALLHSARVLSGVASAFHPGLAAAASARASSWWAHVEMGPPDPILGVTEA\",\n",
    "                   \"YKRDTNSKKMNLGVGAYRDDNGKPYVLPSVRKAEAQIAAKGLDKEYLPIGG\"]\n",
    "\n",
    "\n",
    "model = torch.load('/mnt/c/Users/Ilya/PycharmProjects/BI_Stat_22-23-main/additional_task/pretrained_models/ssa_L1_100d_lstm3x512_lm_i512_mb64_tau0.5_p0.05_epoch100.sav');\n",
    "model = model.eval()\n",
    "lm_embed = model.embedding;  # Use the full model"
   ]
  },
  {
   "cell_type": "code",
   "execution_count": 169,
   "id": "00730a52",
   "metadata": {},
   "outputs": [
    {
     "name": "stdout",
     "output_type": "stream",
     "text": [
      "tensor([[-3.2425e+00,  4.5937e+00, -3.8653e+00,  4.6651e+00,  1.6019e+00,\n",
      "          3.8611e+00,  1.2008e+00, -3.8935e+00, -3.9621e+00,  3.3860e+00,\n",
      "          1.2109e+00, -3.3111e+00,  2.2808e+00,  3.2556e+00, -3.6610e+00,\n",
      "          1.7422e+00, -1.7033e+00,  1.1217e+00, -2.6201e+00, -2.9795e+00,\n",
      "         -3.0179e+00,  2.1652e+00,  4.0683e+00, -4.2595e+00,  4.6799e-02,\n",
      "          2.0584e+00,  3.0018e+00, -1.8939e+00,  1.4667e+00,  1.4737e+00,\n",
      "          2.7923e+00, -1.9406e+00,  2.5397e+00,  2.2533e+00, -1.4330e+00,\n",
      "          2.8115e+00,  3.5667e+00,  2.7223e+00,  2.5616e+00, -1.7570e-01,\n",
      "         -3.3873e+00, -7.0736e-01,  4.6578e+00, -4.1627e+00, -1.6303e+00,\n",
      "         -3.8228e+00, -4.6068e-01,  4.0802e-03,  2.4806e+00, -3.5758e+00,\n",
      "          1.2549e+00,  3.4813e+00, -2.5667e+00, -2.2252e+00, -3.2783e+00,\n",
      "          1.9454e+00, -1.9833e+00, -4.2895e+00,  1.2887e+00,  2.1970e+00,\n",
      "         -3.3702e+00, -1.6236e+00,  4.0065e+00, -4.3976e+00, -1.4079e+00,\n",
      "         -1.5099e+00, -2.4780e+00, -1.0442e+00, -9.0749e-01,  7.4513e-02,\n",
      "          4.3608e+00, -2.3642e+00,  2.5086e-01, -8.6892e-01, -2.5406e+00,\n",
      "         -3.7110e+00, -4.4135e+00, -2.4207e+00, -3.2522e+00,  2.0302e+00,\n",
      "          5.1742e+00, -1.2899e+00,  3.3196e+00, -1.7676e+00,  1.4194e+00,\n",
      "          1.5599e+00,  2.3107e+00, -3.8163e+00,  3.5661e+00,  1.7066e+00,\n",
      "          8.7669e-01, -3.0198e+00, -1.8941e+00, -2.9689e+00, -1.9392e+00,\n",
      "          2.0467e+00, -1.1037e+00,  4.5928e+00,  3.2438e+00,  6.4191e-01]])\n"
     ]
    }
   ],
   "source": [
    "vec = embed_sequences(target_sequence[0], lm_embed)\n",
    "print(vec)"
   ]
  },
  {
   "cell_type": "markdown",
   "id": "cdb3cf39",
   "metadata": {},
   "source": [
    "Работает :*)"
   ]
  },
  {
   "cell_type": "code",
   "execution_count": 170,
   "id": "dc9975f8",
   "metadata": {},
   "outputs": [
    {
     "data": {
      "text/html": [
       "<div>\n",
       "<style scoped>\n",
       "    .dataframe tbody tr th:only-of-type {\n",
       "        vertical-align: middle;\n",
       "    }\n",
       "\n",
       "    .dataframe tbody tr th {\n",
       "        vertical-align: top;\n",
       "    }\n",
       "\n",
       "    .dataframe thead th {\n",
       "        text-align: right;\n",
       "    }\n",
       "</style>\n",
       "<table border=\"1\" class=\"dataframe\">\n",
       "  <thead>\n",
       "    <tr style=\"text-align: right;\">\n",
       "      <th></th>\n",
       "      <th>seq_id</th>\n",
       "      <th>protein_sequence</th>\n",
       "      <th>pH</th>\n",
       "      <th>data_source</th>\n",
       "      <th>tm</th>\n",
       "    </tr>\n",
       "  </thead>\n",
       "  <tbody>\n",
       "    <tr>\n",
       "      <th>0</th>\n",
       "      <td>0</td>\n",
       "      <td>AAAAKAAALALLGEAPEVVDIWLPAGWRQPFRVFRLERKGDGVLVG...</td>\n",
       "      <td>7.0</td>\n",
       "      <td>doi.org/10.1038/s41592-020-0801-4</td>\n",
       "      <td>75.7</td>\n",
       "    </tr>\n",
       "    <tr>\n",
       "      <th>1</th>\n",
       "      <td>1</td>\n",
       "      <td>AAADGEPLHNEEERAGAGQVGRSLPQESEEQRTGSRPRRRRDLGSR...</td>\n",
       "      <td>7.0</td>\n",
       "      <td>doi.org/10.1038/s41592-020-0801-4</td>\n",
       "      <td>50.5</td>\n",
       "    </tr>\n",
       "    <tr>\n",
       "      <th>2</th>\n",
       "      <td>2</td>\n",
       "      <td>AAAFSTPRATSYRILSSAGSGSTRADAPQVRRLHTTRDLLAKDYYA...</td>\n",
       "      <td>7.0</td>\n",
       "      <td>doi.org/10.1038/s41592-020-0801-4</td>\n",
       "      <td>40.5</td>\n",
       "    </tr>\n",
       "    <tr>\n",
       "      <th>3</th>\n",
       "      <td>3</td>\n",
       "      <td>AAASGLRTAIPAQPLRHLLQPAPRPCLRPFGLLSVRAGSARRSGLL...</td>\n",
       "      <td>7.0</td>\n",
       "      <td>doi.org/10.1038/s41592-020-0801-4</td>\n",
       "      <td>47.2</td>\n",
       "    </tr>\n",
       "    <tr>\n",
       "      <th>4</th>\n",
       "      <td>4</td>\n",
       "      <td>AAATKSGPRRQSQGASVRTFTPFYFLVEPVDTLSVRGSSVILNCSA...</td>\n",
       "      <td>7.0</td>\n",
       "      <td>doi.org/10.1038/s41592-020-0801-4</td>\n",
       "      <td>49.5</td>\n",
       "    </tr>\n",
       "  </tbody>\n",
       "</table>\n",
       "</div>"
      ],
      "text/plain": [
       "   seq_id                                   protein_sequence   pH  \\\n",
       "0       0  AAAAKAAALALLGEAPEVVDIWLPAGWRQPFRVFRLERKGDGVLVG...  7.0   \n",
       "1       1  AAADGEPLHNEEERAGAGQVGRSLPQESEEQRTGSRPRRRRDLGSR...  7.0   \n",
       "2       2  AAAFSTPRATSYRILSSAGSGSTRADAPQVRRLHTTRDLLAKDYYA...  7.0   \n",
       "3       3  AAASGLRTAIPAQPLRHLLQPAPRPCLRPFGLLSVRAGSARRSGLL...  7.0   \n",
       "4       4  AAATKSGPRRQSQGASVRTFTPFYFLVEPVDTLSVRGSSVILNCSA...  7.0   \n",
       "\n",
       "                         data_source    tm  \n",
       "0  doi.org/10.1038/s41592-020-0801-4  75.7  \n",
       "1  doi.org/10.1038/s41592-020-0801-4  50.5  \n",
       "2  doi.org/10.1038/s41592-020-0801-4  40.5  \n",
       "3  doi.org/10.1038/s41592-020-0801-4  47.2  \n",
       "4  doi.org/10.1038/s41592-020-0801-4  49.5  "
      ]
     },
     "execution_count": 170,
     "metadata": {},
     "output_type": "execute_result"
    }
   ],
   "source": [
    "import pandas as pd\n",
    "\n",
    "data2 = pd.read_csv('data2.csv', sep='\\t')\n",
    "data2.head()"
   ]
  },
  {
   "cell_type": "code",
   "execution_count": 171,
   "id": "cceca5bb",
   "metadata": {},
   "outputs": [
    {
     "name": "stdout",
     "output_type": "stream",
     "text": [
      "Requirement already satisfied: tqdm in /root/miniconda3/envs/py35/lib/python3.5/site-packages\n",
      "Requirement already satisfied: importlib-resources; python_version < \"3.7\" in /root/miniconda3/envs/py35/lib/python3.5/site-packages (from tqdm)\n",
      "Requirement already satisfied: zipp>=0.4; python_version < \"3.8\" in /root/miniconda3/envs/py35/lib/python3.5/site-packages (from importlib-resources; python_version < \"3.7\"->tqdm)\n",
      "\u001b[33mYou are using pip version 9.0.1, however version 23.1.2 is available.\n",
      "You should consider upgrading via the 'pip install --upgrade pip' command.\u001b[0m\n"
     ]
    }
   ],
   "source": [
    "# модуль красиво показывает время выполнения ячейки\n",
    "! pip install tqdm "
   ]
  },
  {
   "attachments": {},
   "cell_type": "markdown",
   "id": "79d31306",
   "metadata": {},
   "source": [
    "загрузим тестовые данные 500 последовательностей. Я работал с планшета, поэтому смог обработать только малую чать данных."
   ]
  },
  {
   "cell_type": "code",
   "execution_count": 175,
   "id": "6ea59125",
   "metadata": {},
   "outputs": [
    {
     "name": "stderr",
     "output_type": "stream",
     "text": [
      "/root/miniconda3/envs/py35/lib/python3.5/site-packages/torch/serialization.py:493: SourceChangeWarning: source code of class 'torch.nn.modules.sparse.Embedding' has changed. you can retrieve the original source code by accessing the object's source attribute or set `torch.nn.Module.dump_patches = True` and use the patch tool to revert the changes.\n",
      "  warnings.warn(msg, SourceChangeWarning)\n",
      "/root/miniconda3/envs/py35/lib/python3.5/site-packages/torch/serialization.py:493: SourceChangeWarning: source code of class 'src.models.sequence.BiLM' has changed. you can retrieve the original source code by accessing the object's source attribute or set `torch.nn.Module.dump_patches = True` and use the patch tool to revert the changes.\n",
      "  warnings.warn(msg, SourceChangeWarning)\n",
      "/root/miniconda3/envs/py35/lib/python3.5/site-packages/torch/serialization.py:493: SourceChangeWarning: source code of class 'torch.nn.modules.dropout.Dropout' has changed. you can retrieve the original source code by accessing the object's source attribute or set `torch.nn.Module.dump_patches = True` and use the patch tool to revert the changes.\n",
      "  warnings.warn(msg, SourceChangeWarning)\n",
      "/root/miniconda3/envs/py35/lib/python3.5/site-packages/torch/serialization.py:493: SourceChangeWarning: source code of class 'torch.nn.modules.container.ModuleList' has changed. you can retrieve the original source code by accessing the object's source attribute or set `torch.nn.Module.dump_patches = True` and use the patch tool to revert the changes.\n",
      "  warnings.warn(msg, SourceChangeWarning)\n",
      "/root/miniconda3/envs/py35/lib/python3.5/site-packages/torch/serialization.py:493: SourceChangeWarning: source code of class 'torch.nn.modules.rnn.LSTM' has changed. you can retrieve the original source code by accessing the object's source attribute or set `torch.nn.Module.dump_patches = True` and use the patch tool to revert the changes.\n",
      "  warnings.warn(msg, SourceChangeWarning)\n",
      "/root/miniconda3/envs/py35/lib/python3.5/site-packages/torch/serialization.py:493: SourceChangeWarning: source code of class 'torch.nn.modules.linear.Linear' has changed. you can retrieve the original source code by accessing the object's source attribute or set `torch.nn.Module.dump_patches = True` and use the patch tool to revert the changes.\n",
      "  warnings.warn(msg, SourceChangeWarning)\n",
      "/root/miniconda3/envs/py35/lib/python3.5/site-packages/torch/serialization.py:493: SourceChangeWarning: source code of class 'torch.nn.modules.activation.ReLU' has changed. you can retrieve the original source code by accessing the object's source attribute or set `torch.nn.Module.dump_patches = True` and use the patch tool to revert the changes.\n",
      "  warnings.warn(msg, SourceChangeWarning)\n",
      "Total: 100%|######################################################| 500/500 [03:51<00:00,  2.16it/s]\n"
     ]
    }
   ],
   "source": [
    "from tqdm import tqdm\n",
    "\n",
    "#так как она показала себя лучше. Там была задача кластеризации, но думаю подойдет.\n",
    "# вектор состоит из средних значений и этот подход себя тоже лучше показал согласно пособию. (пособие выше после рыданий)\n",
    "\n",
    "model = torch.load('/mnt/c/Users/Ilya/PycharmProjects/BI_Stat_22-23-main/additional_task/pretrained_models/ssa_L1_100d_lstm3x512_lm_i512_mb64_tau0.5_p0.05_epoch100.sav')\n",
    "model = model.eval()\n",
    "lm_embed = model.embedding\n",
    "\n",
    "dict_id_protvec = []\n",
    "\n",
    "for i in tqdm(range(0, 500), ncols=100, ascii=True, desc='Total'):\n",
    "    try:\n",
    "        seq = data2['protein_sequence'][i]\n",
    "    except Exception:\n",
    "        pass\n",
    "    dict_id_protvec.append(embed_sequences(seq, lm_embed))"
   ]
  },
  {
   "cell_type": "code",
   "execution_count": 177,
   "id": "988145da",
   "metadata": {},
   "outputs": [],
   "source": [
    "import torch\n",
    "\n",
    "tensor_data = dict_id_protvec \n",
    "\n",
    "file_path = \"dict_id_protvec_500.pt\"  \n",
    "\n",
    "# Save the tensor to file\n",
    "torch.save(tensor_data, file_path)"
   ]
  },
  {
   "cell_type": "markdown",
   "id": "597d723e",
   "metadata": {},
   "source": [
    "## Загрузка данных"
   ]
  },
  {
   "cell_type": "code",
   "execution_count": 9,
   "id": "90db080d",
   "metadata": {},
   "outputs": [
    {
     "name": "stdout",
     "output_type": "stream",
     "text": [
      "Requirement already satisfied: pip in /usr/local/python/3.10.4/lib/python3.10/site-packages (23.1.2)\n",
      "Requirement already satisfied: pandas in /home/codespace/.local/lib/python3.10/site-packages (2.0.1)\n",
      "Requirement already satisfied: python-dateutil>=2.8.2 in /home/codespace/.local/lib/python3.10/site-packages (from pandas) (2.8.2)\n",
      "Requirement already satisfied: pytz>=2020.1 in /home/codespace/.local/lib/python3.10/site-packages (from pandas) (2023.3)\n",
      "Requirement already satisfied: tzdata>=2022.1 in /home/codespace/.local/lib/python3.10/site-packages (from pandas) (2023.3)\n",
      "Requirement already satisfied: numpy>=1.21.0 in /usr/local/python/3.10.4/lib/python3.10/site-packages (from pandas) (1.23.5)\n",
      "Requirement already satisfied: six>=1.5 in /home/codespace/.local/lib/python3.10/site-packages (from python-dateutil>=2.8.2->pandas) (1.16.0)\n",
      "Requirement already satisfied: torch in /home/codespace/.local/lib/python3.10/site-packages (2.0.0)\n",
      "Requirement already satisfied: filelock in /home/codespace/.local/lib/python3.10/site-packages (from torch) (3.12.0)\n",
      "Requirement already satisfied: typing-extensions in /home/codespace/.local/lib/python3.10/site-packages (from torch) (4.5.0)\n",
      "Requirement already satisfied: sympy in /home/codespace/.local/lib/python3.10/site-packages (from torch) (1.11.1)\n",
      "Requirement already satisfied: networkx in /home/codespace/.local/lib/python3.10/site-packages (from torch) (3.1)\n",
      "Requirement already satisfied: jinja2 in /home/codespace/.local/lib/python3.10/site-packages (from torch) (3.1.2)\n",
      "Requirement already satisfied: nvidia-cuda-nvrtc-cu11==11.7.99 in /home/codespace/.local/lib/python3.10/site-packages (from torch) (11.7.99)\n",
      "Requirement already satisfied: nvidia-cuda-runtime-cu11==11.7.99 in /home/codespace/.local/lib/python3.10/site-packages (from torch) (11.7.99)\n",
      "Requirement already satisfied: nvidia-cuda-cupti-cu11==11.7.101 in /home/codespace/.local/lib/python3.10/site-packages (from torch) (11.7.101)\n",
      "Requirement already satisfied: nvidia-cudnn-cu11==8.5.0.96 in /home/codespace/.local/lib/python3.10/site-packages (from torch) (8.5.0.96)\n",
      "Requirement already satisfied: nvidia-cublas-cu11==11.10.3.66 in /home/codespace/.local/lib/python3.10/site-packages (from torch) (11.10.3.66)\n",
      "Requirement already satisfied: nvidia-cufft-cu11==10.9.0.58 in /home/codespace/.local/lib/python3.10/site-packages (from torch) (10.9.0.58)\n",
      "Requirement already satisfied: nvidia-curand-cu11==10.2.10.91 in /home/codespace/.local/lib/python3.10/site-packages (from torch) (10.2.10.91)\n",
      "Requirement already satisfied: nvidia-cusolver-cu11==11.4.0.1 in /home/codespace/.local/lib/python3.10/site-packages (from torch) (11.4.0.1)\n",
      "Requirement already satisfied: nvidia-cusparse-cu11==11.7.4.91 in /home/codespace/.local/lib/python3.10/site-packages (from torch) (11.7.4.91)\n",
      "Requirement already satisfied: nvidia-nccl-cu11==2.14.3 in /home/codespace/.local/lib/python3.10/site-packages (from torch) (2.14.3)\n",
      "Requirement already satisfied: nvidia-nvtx-cu11==11.7.91 in /home/codespace/.local/lib/python3.10/site-packages (from torch) (11.7.91)\n",
      "Requirement already satisfied: triton==2.0.0 in /home/codespace/.local/lib/python3.10/site-packages (from torch) (2.0.0)\n",
      "Requirement already satisfied: setuptools in /home/codespace/.local/lib/python3.10/site-packages (from nvidia-cublas-cu11==11.10.3.66->torch) (67.7.2)\n",
      "Requirement already satisfied: wheel in /home/codespace/.local/lib/python3.10/site-packages (from nvidia-cublas-cu11==11.10.3.66->torch) (0.40.0)\n",
      "Requirement already satisfied: cmake in /home/codespace/.local/lib/python3.10/site-packages (from triton==2.0.0->torch) (3.26.3)\n",
      "Requirement already satisfied: lit in /home/codespace/.local/lib/python3.10/site-packages (from triton==2.0.0->torch) (16.0.2)\n",
      "Requirement already satisfied: MarkupSafe>=2.0 in /home/codespace/.local/lib/python3.10/site-packages (from jinja2->torch) (2.1.2)\n",
      "Requirement already satisfied: mpmath>=0.19 in /home/codespace/.local/lib/python3.10/site-packages (from sympy->torch) (1.3.0)\n",
      "Requirement already satisfied: tensorflow in /usr/local/python/3.10.4/lib/python3.10/site-packages (2.12.0)\n",
      "Requirement already satisfied: absl-py>=1.0.0 in /usr/local/python/3.10.4/lib/python3.10/site-packages (from tensorflow) (1.4.0)\n",
      "Requirement already satisfied: astunparse>=1.6.0 in /usr/local/python/3.10.4/lib/python3.10/site-packages (from tensorflow) (1.6.3)\n",
      "Requirement already satisfied: flatbuffers>=2.0 in /usr/local/python/3.10.4/lib/python3.10/site-packages (from tensorflow) (23.5.9)\n",
      "Requirement already satisfied: gast<=0.4.0,>=0.2.1 in /usr/local/python/3.10.4/lib/python3.10/site-packages (from tensorflow) (0.4.0)\n",
      "Requirement already satisfied: google-pasta>=0.1.1 in /usr/local/python/3.10.4/lib/python3.10/site-packages (from tensorflow) (0.2.0)\n",
      "Requirement already satisfied: grpcio<2.0,>=1.24.3 in /usr/local/python/3.10.4/lib/python3.10/site-packages (from tensorflow) (1.54.2)\n",
      "Requirement already satisfied: h5py>=2.9.0 in /usr/local/python/3.10.4/lib/python3.10/site-packages (from tensorflow) (3.8.0)\n",
      "Requirement already satisfied: jax>=0.3.15 in /usr/local/python/3.10.4/lib/python3.10/site-packages (from tensorflow) (0.4.10)\n",
      "Requirement already satisfied: keras<2.13,>=2.12.0 in /usr/local/python/3.10.4/lib/python3.10/site-packages (from tensorflow) (2.12.0)\n",
      "Requirement already satisfied: libclang>=13.0.0 in /usr/local/python/3.10.4/lib/python3.10/site-packages (from tensorflow) (16.0.0)\n",
      "Requirement already satisfied: numpy<1.24,>=1.22 in /usr/local/python/3.10.4/lib/python3.10/site-packages (from tensorflow) (1.23.5)\n",
      "Requirement already satisfied: opt-einsum>=2.3.2 in /usr/local/python/3.10.4/lib/python3.10/site-packages (from tensorflow) (3.3.0)\n",
      "Requirement already satisfied: packaging in /home/codespace/.local/lib/python3.10/site-packages (from tensorflow) (23.1)\n",
      "Requirement already satisfied: protobuf!=4.21.0,!=4.21.1,!=4.21.2,!=4.21.3,!=4.21.4,!=4.21.5,<5.0.0dev,>=3.20.3 in /usr/local/python/3.10.4/lib/python3.10/site-packages (from tensorflow) (4.23.1)\n",
      "Requirement already satisfied: setuptools in /home/codespace/.local/lib/python3.10/site-packages (from tensorflow) (67.7.2)\n",
      "Requirement already satisfied: six>=1.12.0 in /home/codespace/.local/lib/python3.10/site-packages (from tensorflow) (1.16.0)\n",
      "Requirement already satisfied: tensorboard<2.13,>=2.12 in /usr/local/python/3.10.4/lib/python3.10/site-packages (from tensorflow) (2.12.3)\n",
      "Requirement already satisfied: tensorflow-estimator<2.13,>=2.12.0 in /usr/local/python/3.10.4/lib/python3.10/site-packages (from tensorflow) (2.12.0)\n",
      "Requirement already satisfied: termcolor>=1.1.0 in /usr/local/python/3.10.4/lib/python3.10/site-packages (from tensorflow) (2.3.0)\n",
      "Requirement already satisfied: typing-extensions>=3.6.6 in /home/codespace/.local/lib/python3.10/site-packages (from tensorflow) (4.5.0)\n",
      "Requirement already satisfied: wrapt<1.15,>=1.11.0 in /usr/local/python/3.10.4/lib/python3.10/site-packages (from tensorflow) (1.14.1)\n",
      "Requirement already satisfied: tensorflow-io-gcs-filesystem>=0.23.1 in /usr/local/python/3.10.4/lib/python3.10/site-packages (from tensorflow) (0.32.0)\n",
      "Requirement already satisfied: wheel<1.0,>=0.23.0 in /home/codespace/.local/lib/python3.10/site-packages (from astunparse>=1.6.0->tensorflow) (0.40.0)\n",
      "Requirement already satisfied: ml-dtypes>=0.1.0 in /usr/local/python/3.10.4/lib/python3.10/site-packages (from jax>=0.3.15->tensorflow) (0.1.0)\n",
      "Requirement already satisfied: scipy>=1.7 in /home/codespace/.local/lib/python3.10/site-packages (from jax>=0.3.15->tensorflow) (1.10.1)\n",
      "Requirement already satisfied: google-auth<3,>=1.6.3 in /usr/local/python/3.10.4/lib/python3.10/site-packages (from tensorboard<2.13,>=2.12->tensorflow) (2.18.1)\n",
      "Requirement already satisfied: google-auth-oauthlib<1.1,>=0.5 in /usr/local/python/3.10.4/lib/python3.10/site-packages (from tensorboard<2.13,>=2.12->tensorflow) (1.0.0)\n",
      "Requirement already satisfied: markdown>=2.6.8 in /usr/local/python/3.10.4/lib/python3.10/site-packages (from tensorboard<2.13,>=2.12->tensorflow) (3.4.3)\n",
      "Requirement already satisfied: requests<3,>=2.21.0 in /home/codespace/.local/lib/python3.10/site-packages (from tensorboard<2.13,>=2.12->tensorflow) (2.28.2)\n",
      "Requirement already satisfied: tensorboard-data-server<0.8.0,>=0.7.0 in /usr/local/python/3.10.4/lib/python3.10/site-packages (from tensorboard<2.13,>=2.12->tensorflow) (0.7.0)\n",
      "Requirement already satisfied: werkzeug>=1.0.1 in /usr/local/python/3.10.4/lib/python3.10/site-packages (from tensorboard<2.13,>=2.12->tensorflow) (2.3.4)\n",
      "Requirement already satisfied: cachetools<6.0,>=2.0.0 in /usr/local/python/3.10.4/lib/python3.10/site-packages (from google-auth<3,>=1.6.3->tensorboard<2.13,>=2.12->tensorflow) (5.3.0)\n",
      "Requirement already satisfied: pyasn1-modules>=0.2.1 in /usr/local/python/3.10.4/lib/python3.10/site-packages (from google-auth<3,>=1.6.3->tensorboard<2.13,>=2.12->tensorflow) (0.3.0)\n",
      "Requirement already satisfied: urllib3<2.0 in /home/codespace/.local/lib/python3.10/site-packages (from google-auth<3,>=1.6.3->tensorboard<2.13,>=2.12->tensorflow) (1.26.15)\n",
      "Requirement already satisfied: rsa<5,>=3.1.4 in /usr/local/python/3.10.4/lib/python3.10/site-packages (from google-auth<3,>=1.6.3->tensorboard<2.13,>=2.12->tensorflow) (4.9)\n",
      "Requirement already satisfied: requests-oauthlib>=0.7.0 in /usr/local/python/3.10.4/lib/python3.10/site-packages (from google-auth-oauthlib<1.1,>=0.5->tensorboard<2.13,>=2.12->tensorflow) (1.3.1)\n",
      "Requirement already satisfied: charset-normalizer<4,>=2 in /home/codespace/.local/lib/python3.10/site-packages (from requests<3,>=2.21.0->tensorboard<2.13,>=2.12->tensorflow) (3.1.0)\n",
      "Requirement already satisfied: idna<4,>=2.5 in /home/codespace/.local/lib/python3.10/site-packages (from requests<3,>=2.21.0->tensorboard<2.13,>=2.12->tensorflow) (3.4)\n",
      "Requirement already satisfied: certifi>=2017.4.17 in /home/codespace/.local/lib/python3.10/site-packages (from requests<3,>=2.21.0->tensorboard<2.13,>=2.12->tensorflow) (2022.12.7)\n",
      "Requirement already satisfied: MarkupSafe>=2.1.1 in /home/codespace/.local/lib/python3.10/site-packages (from werkzeug>=1.0.1->tensorboard<2.13,>=2.12->tensorflow) (2.1.2)\n",
      "Requirement already satisfied: pyasn1<0.6.0,>=0.4.6 in /usr/local/python/3.10.4/lib/python3.10/site-packages (from pyasn1-modules>=0.2.1->google-auth<3,>=1.6.3->tensorboard<2.13,>=2.12->tensorflow) (0.5.0)\n",
      "Requirement already satisfied: oauthlib>=3.0.0 in /usr/local/python/3.10.4/lib/python3.10/site-packages (from requests-oauthlib>=0.7.0->google-auth-oauthlib<1.1,>=0.5->tensorboard<2.13,>=2.12->tensorflow) (3.2.2)\n",
      "Requirement already satisfied: scipy in /home/codespace/.local/lib/python3.10/site-packages (1.10.1)\n",
      "Requirement already satisfied: numpy<1.27.0,>=1.19.5 in /usr/local/python/3.10.4/lib/python3.10/site-packages (from scipy) (1.23.5)\n",
      "Requirement already satisfied: numpy in /usr/local/python/3.10.4/lib/python3.10/site-packages (1.23.5)\n",
      "Collecting statsmodels\n",
      "  Downloading statsmodels-0.14.0-cp310-cp310-manylinux_2_17_x86_64.manylinux2014_x86_64.whl (10.1 MB)\n",
      "\u001b[2K     \u001b[90m━━━━━━━━━━━━━━━━━━━━━━━━━━━━━━━━━━━━━━━━\u001b[0m \u001b[32m10.1/10.1 MB\u001b[0m \u001b[31m54.4 MB/s\u001b[0m eta \u001b[36m0:00:00\u001b[0m00:01\u001b[0m00:01\u001b[0m\n",
      "\u001b[?25hRequirement already satisfied: numpy>=1.18 in /usr/local/python/3.10.4/lib/python3.10/site-packages (from statsmodels) (1.23.5)\n",
      "Requirement already satisfied: scipy!=1.9.2,>=1.4 in /home/codespace/.local/lib/python3.10/site-packages (from statsmodels) (1.10.1)\n",
      "Requirement already satisfied: pandas>=1.0 in /home/codespace/.local/lib/python3.10/site-packages (from statsmodels) (2.0.1)\n",
      "Collecting patsy>=0.5.2 (from statsmodels)\n",
      "  Downloading patsy-0.5.3-py2.py3-none-any.whl (233 kB)\n",
      "\u001b[2K     \u001b[90m━━━━━━━━━━━━━━━━━━━━━━━━━━━━━━━━━━━━━━━\u001b[0m \u001b[32m233.8/233.8 kB\u001b[0m \u001b[31m8.1 MB/s\u001b[0m eta \u001b[36m0:00:00\u001b[0m\n",
      "\u001b[?25hRequirement already satisfied: packaging>=21.3 in /home/codespace/.local/lib/python3.10/site-packages (from statsmodels) (23.1)\n",
      "Requirement already satisfied: python-dateutil>=2.8.2 in /home/codespace/.local/lib/python3.10/site-packages (from pandas>=1.0->statsmodels) (2.8.2)\n",
      "Requirement already satisfied: pytz>=2020.1 in /home/codespace/.local/lib/python3.10/site-packages (from pandas>=1.0->statsmodels) (2023.3)\n",
      "Requirement already satisfied: tzdata>=2022.1 in /home/codespace/.local/lib/python3.10/site-packages (from pandas>=1.0->statsmodels) (2023.3)\n",
      "Requirement already satisfied: six in /home/codespace/.local/lib/python3.10/site-packages (from patsy>=0.5.2->statsmodels) (1.16.0)\n",
      "Installing collected packages: patsy, statsmodels\n",
      "Successfully installed patsy-0.5.3 statsmodels-0.14.0\n"
     ]
    }
   ],
   "source": [
    "! pip install --upgrade pip\n",
    "! pip install pandas\n",
    "! pip install torch\n",
    "! pip install tensorflow\n",
    "! pip install -U scipy\n",
    "! pip install numpy\n",
    "! pip install statsmodels"
   ]
  },
  {
   "cell_type": "code",
   "execution_count": 4,
   "id": "70b1fb0a",
   "metadata": {},
   "outputs": [],
   "source": [
    "import pandas as pd\n",
    "import torch\n",
    "import numpy as np\n",
    "import statsmodels.api as sm \n",
    "from sklearn.model_selection import train_test_split\n",
    "import matplotlib.pyplot as plt"
   ]
  },
  {
   "cell_type": "code",
   "execution_count": 5,
   "id": "8bcd9c55",
   "metadata": {},
   "outputs": [],
   "source": [
    "data2 = pd.read_csv('data2.csv', sep='\\t')\n",
    "data_seqvec=torch.load(\"dict_id_protvec_500.pt\")"
   ]
  },
  {
   "cell_type": "code",
   "execution_count": 6,
   "id": "53042c4f",
   "metadata": {},
   "outputs": [
    {
     "data": {
      "text/plain": [
       "0    [-1.770027, 2.4515376, -1.6874524, 3.6165235, ...\n",
       "1    [-3.0262146, 3.3290658, -2.245681, 3.8760529, ...\n",
       "2    [-2.7621388, 3.7913828, -3.6494763, 4.333453, ...\n",
       "3    [-2.4381936, 2.659414, -1.8064506, 3.5594456, ...\n",
       "4    [-3.6693807, 4.273285, -3.747515, 4.2047725, 1...\n",
       "Name: protvec, dtype: object"
      ]
     },
     "execution_count": 6,
     "metadata": {},
     "output_type": "execute_result"
    }
   ],
   "source": [
    "ph = data2['pH'][:500]\n",
    "tm = data2['tm'][:500]\n",
    "\n",
    "protvec = []\n",
    "for seq in data_seqvec:\n",
    "    protvec.append(seq[0].numpy())\n",
    "\n",
    "protvec = pd.Series(protvec, name='protvec')\n",
    "\n",
    "protvec.head()"
   ]
  },
  {
   "attachments": {},
   "cell_type": "markdown",
   "id": "ec806da7",
   "metadata": {},
   "source": [
    "Начнем с линейной модели. Параметр protvec представлен вектором длиной 100, поэтому разделим его на колонки датафрейма."
   ]
  },
  {
   "cell_type": "code",
   "execution_count": 7,
   "id": "2977eb51",
   "metadata": {},
   "outputs": [
    {
     "data": {
      "text/html": [
       "<div>\n",
       "<style scoped>\n",
       "    .dataframe tbody tr th:only-of-type {\n",
       "        vertical-align: middle;\n",
       "    }\n",
       "\n",
       "    .dataframe tbody tr th {\n",
       "        vertical-align: top;\n",
       "    }\n",
       "\n",
       "    .dataframe thead th {\n",
       "        text-align: right;\n",
       "    }\n",
       "</style>\n",
       "<table border=\"1\" class=\"dataframe\">\n",
       "  <thead>\n",
       "    <tr style=\"text-align: right;\">\n",
       "      <th></th>\n",
       "      <th>pH</th>\n",
       "    </tr>\n",
       "  </thead>\n",
       "  <tbody>\n",
       "    <tr>\n",
       "      <th>0</th>\n",
       "      <td>0.166062</td>\n",
       "    </tr>\n",
       "    <tr>\n",
       "      <th>1</th>\n",
       "      <td>0.166062</td>\n",
       "    </tr>\n",
       "    <tr>\n",
       "      <th>2</th>\n",
       "      <td>0.166062</td>\n",
       "    </tr>\n",
       "    <tr>\n",
       "      <th>3</th>\n",
       "      <td>0.166062</td>\n",
       "    </tr>\n",
       "    <tr>\n",
       "      <th>4</th>\n",
       "      <td>0.166062</td>\n",
       "    </tr>\n",
       "  </tbody>\n",
       "</table>\n",
       "</div>"
      ],
      "text/plain": [
       "         pH\n",
       "0  0.166062\n",
       "1  0.166062\n",
       "2  0.166062\n",
       "3  0.166062\n",
       "4  0.166062"
      ]
     },
     "execution_count": 7,
     "metadata": {},
     "output_type": "execute_result"
    }
   ],
   "source": [
    "features = pd.DataFrame(ph)\n",
    "means = features.mean(axis=0)\n",
    "stds = features.std(axis=0)\n",
    "features = (features - means) / stds\n",
    "features.head()"
   ]
  },
  {
   "cell_type": "code",
   "execution_count": 8,
   "id": "707cb76c",
   "metadata": {},
   "outputs": [
    {
     "data": {
      "text/html": [
       "<div>\n",
       "<style scoped>\n",
       "    .dataframe tbody tr th:only-of-type {\n",
       "        vertical-align: middle;\n",
       "    }\n",
       "\n",
       "    .dataframe tbody tr th {\n",
       "        vertical-align: top;\n",
       "    }\n",
       "\n",
       "    .dataframe thead th {\n",
       "        text-align: right;\n",
       "    }\n",
       "</style>\n",
       "<table border=\"1\" class=\"dataframe\">\n",
       "  <thead>\n",
       "    <tr style=\"text-align: right;\">\n",
       "      <th></th>\n",
       "      <th>0</th>\n",
       "      <th>1</th>\n",
       "      <th>2</th>\n",
       "      <th>3</th>\n",
       "      <th>4</th>\n",
       "      <th>5</th>\n",
       "      <th>6</th>\n",
       "      <th>7</th>\n",
       "      <th>8</th>\n",
       "      <th>9</th>\n",
       "      <th>...</th>\n",
       "      <th>90</th>\n",
       "      <th>91</th>\n",
       "      <th>92</th>\n",
       "      <th>93</th>\n",
       "      <th>94</th>\n",
       "      <th>95</th>\n",
       "      <th>96</th>\n",
       "      <th>97</th>\n",
       "      <th>98</th>\n",
       "      <th>99</th>\n",
       "    </tr>\n",
       "  </thead>\n",
       "  <tbody>\n",
       "    <tr>\n",
       "      <th>0</th>\n",
       "      <td>-1.770027</td>\n",
       "      <td>2.451538</td>\n",
       "      <td>-1.687452</td>\n",
       "      <td>3.616524</td>\n",
       "      <td>0.671952</td>\n",
       "      <td>1.866495</td>\n",
       "      <td>-0.517149</td>\n",
       "      <td>-3.225906</td>\n",
       "      <td>-2.777514</td>\n",
       "      <td>2.245008</td>\n",
       "      <td>...</td>\n",
       "      <td>-1.236252</td>\n",
       "      <td>-2.950074</td>\n",
       "      <td>-2.437028</td>\n",
       "      <td>-3.341035</td>\n",
       "      <td>-1.212610</td>\n",
       "      <td>1.726865</td>\n",
       "      <td>-1.526711</td>\n",
       "      <td>3.256115</td>\n",
       "      <td>2.500595</td>\n",
       "      <td>-2.148301</td>\n",
       "    </tr>\n",
       "    <tr>\n",
       "      <th>1</th>\n",
       "      <td>-3.026215</td>\n",
       "      <td>3.329066</td>\n",
       "      <td>-2.245681</td>\n",
       "      <td>3.876053</td>\n",
       "      <td>1.405968</td>\n",
       "      <td>2.986384</td>\n",
       "      <td>-0.287915</td>\n",
       "      <td>-3.368535</td>\n",
       "      <td>-2.909355</td>\n",
       "      <td>2.616583</td>\n",
       "      <td>...</td>\n",
       "      <td>-0.290124</td>\n",
       "      <td>-3.468650</td>\n",
       "      <td>-1.564771</td>\n",
       "      <td>-4.520796</td>\n",
       "      <td>-0.990816</td>\n",
       "      <td>0.928152</td>\n",
       "      <td>-2.680341</td>\n",
       "      <td>3.439668</td>\n",
       "      <td>1.754520</td>\n",
       "      <td>-1.498451</td>\n",
       "    </tr>\n",
       "    <tr>\n",
       "      <th>2</th>\n",
       "      <td>-2.762139</td>\n",
       "      <td>3.791383</td>\n",
       "      <td>-3.649476</td>\n",
       "      <td>4.333453</td>\n",
       "      <td>1.372062</td>\n",
       "      <td>2.576458</td>\n",
       "      <td>0.693908</td>\n",
       "      <td>-3.928359</td>\n",
       "      <td>-3.704039</td>\n",
       "      <td>2.161565</td>\n",
       "      <td>...</td>\n",
       "      <td>0.978236</td>\n",
       "      <td>-2.510495</td>\n",
       "      <td>-1.763300</td>\n",
       "      <td>-4.212434</td>\n",
       "      <td>-1.672777</td>\n",
       "      <td>3.060937</td>\n",
       "      <td>0.024455</td>\n",
       "      <td>3.594381</td>\n",
       "      <td>4.413432</td>\n",
       "      <td>0.637434</td>\n",
       "    </tr>\n",
       "    <tr>\n",
       "      <th>3</th>\n",
       "      <td>-2.438194</td>\n",
       "      <td>2.659414</td>\n",
       "      <td>-1.806451</td>\n",
       "      <td>3.559446</td>\n",
       "      <td>1.422077</td>\n",
       "      <td>2.472777</td>\n",
       "      <td>-0.351289</td>\n",
       "      <td>-4.097697</td>\n",
       "      <td>-3.082694</td>\n",
       "      <td>2.289831</td>\n",
       "      <td>...</td>\n",
       "      <td>-0.578877</td>\n",
       "      <td>-3.605629</td>\n",
       "      <td>-1.950626</td>\n",
       "      <td>-3.616889</td>\n",
       "      <td>-1.389075</td>\n",
       "      <td>2.071715</td>\n",
       "      <td>-1.127643</td>\n",
       "      <td>3.250048</td>\n",
       "      <td>3.640568</td>\n",
       "      <td>-2.186899</td>\n",
       "    </tr>\n",
       "    <tr>\n",
       "      <th>4</th>\n",
       "      <td>-3.669381</td>\n",
       "      <td>4.273285</td>\n",
       "      <td>-3.747515</td>\n",
       "      <td>4.204772</td>\n",
       "      <td>1.995254</td>\n",
       "      <td>3.204241</td>\n",
       "      <td>1.100874</td>\n",
       "      <td>-4.601164</td>\n",
       "      <td>-3.066736</td>\n",
       "      <td>1.538021</td>\n",
       "      <td>...</td>\n",
       "      <td>1.336951</td>\n",
       "      <td>-2.050793</td>\n",
       "      <td>-2.388301</td>\n",
       "      <td>-3.462346</td>\n",
       "      <td>-1.528717</td>\n",
       "      <td>3.837492</td>\n",
       "      <td>-0.058121</td>\n",
       "      <td>3.779824</td>\n",
       "      <td>5.000897</td>\n",
       "      <td>0.274160</td>\n",
       "    </tr>\n",
       "  </tbody>\n",
       "</table>\n",
       "<p>5 rows × 100 columns</p>\n",
       "</div>"
      ],
      "text/plain": [
       "         0         1         2         3         4         5         6    \n",
       "0 -1.770027  2.451538 -1.687452  3.616524  0.671952  1.866495 -0.517149  \\\n",
       "1 -3.026215  3.329066 -2.245681  3.876053  1.405968  2.986384 -0.287915   \n",
       "2 -2.762139  3.791383 -3.649476  4.333453  1.372062  2.576458  0.693908   \n",
       "3 -2.438194  2.659414 -1.806451  3.559446  1.422077  2.472777 -0.351289   \n",
       "4 -3.669381  4.273285 -3.747515  4.204772  1.995254  3.204241  1.100874   \n",
       "\n",
       "         7         8         9   ...        90        91        92        93   \n",
       "0 -3.225906 -2.777514  2.245008  ... -1.236252 -2.950074 -2.437028 -3.341035  \\\n",
       "1 -3.368535 -2.909355  2.616583  ... -0.290124 -3.468650 -1.564771 -4.520796   \n",
       "2 -3.928359 -3.704039  2.161565  ...  0.978236 -2.510495 -1.763300 -4.212434   \n",
       "3 -4.097697 -3.082694  2.289831  ... -0.578877 -3.605629 -1.950626 -3.616889   \n",
       "4 -4.601164 -3.066736  1.538021  ...  1.336951 -2.050793 -2.388301 -3.462346   \n",
       "\n",
       "         94        95        96        97        98        99  \n",
       "0 -1.212610  1.726865 -1.526711  3.256115  2.500595 -2.148301  \n",
       "1 -0.990816  0.928152 -2.680341  3.439668  1.754520 -1.498451  \n",
       "2 -1.672777  3.060937  0.024455  3.594381  4.413432  0.637434  \n",
       "3 -1.389075  2.071715 -1.127643  3.250048  3.640568 -2.186899  \n",
       "4 -1.528717  3.837492 -0.058121  3.779824  5.000897  0.274160  \n",
       "\n",
       "[5 rows x 100 columns]"
      ]
     },
     "execution_count": 8,
     "metadata": {},
     "output_type": "execute_result"
    }
   ],
   "source": [
    "df_list = []\n",
    "for i in range(len(protvec)):\n",
    "    l = protvec[i]\n",
    "    l = np.array(l)\n",
    "    df_list.append(pd.DataFrame(l.reshape(-1,len(l))))\n",
    "\n",
    "df_protvec = pd.concat(df_list).reset_index(drop=True)\n",
    "df_protvec.head()"
   ]
  },
  {
   "cell_type": "code",
   "execution_count": 9,
   "id": "18ac250d",
   "metadata": {},
   "outputs": [
    {
     "data": {
      "text/html": [
       "<div>\n",
       "<style scoped>\n",
       "    .dataframe tbody tr th:only-of-type {\n",
       "        vertical-align: middle;\n",
       "    }\n",
       "\n",
       "    .dataframe tbody tr th {\n",
       "        vertical-align: top;\n",
       "    }\n",
       "\n",
       "    .dataframe thead th {\n",
       "        text-align: right;\n",
       "    }\n",
       "</style>\n",
       "<table border=\"1\" class=\"dataframe\">\n",
       "  <thead>\n",
       "    <tr style=\"text-align: right;\">\n",
       "      <th></th>\n",
       "      <th>0</th>\n",
       "      <th>1</th>\n",
       "      <th>2</th>\n",
       "      <th>3</th>\n",
       "      <th>4</th>\n",
       "      <th>5</th>\n",
       "      <th>6</th>\n",
       "      <th>7</th>\n",
       "      <th>8</th>\n",
       "      <th>9</th>\n",
       "      <th>...</th>\n",
       "      <th>91</th>\n",
       "      <th>92</th>\n",
       "      <th>93</th>\n",
       "      <th>94</th>\n",
       "      <th>95</th>\n",
       "      <th>96</th>\n",
       "      <th>97</th>\n",
       "      <th>98</th>\n",
       "      <th>99</th>\n",
       "      <th>100</th>\n",
       "    </tr>\n",
       "  </thead>\n",
       "  <tbody>\n",
       "    <tr>\n",
       "      <th>0</th>\n",
       "      <td>0.166062</td>\n",
       "      <td>-1.770027</td>\n",
       "      <td>2.451538</td>\n",
       "      <td>-1.687452</td>\n",
       "      <td>3.616524</td>\n",
       "      <td>0.671952</td>\n",
       "      <td>1.866495</td>\n",
       "      <td>-0.517149</td>\n",
       "      <td>-3.225906</td>\n",
       "      <td>-2.777514</td>\n",
       "      <td>...</td>\n",
       "      <td>-1.236252</td>\n",
       "      <td>-2.950074</td>\n",
       "      <td>-2.437028</td>\n",
       "      <td>-3.341035</td>\n",
       "      <td>-1.212610</td>\n",
       "      <td>1.726865</td>\n",
       "      <td>-1.526711</td>\n",
       "      <td>3.256115</td>\n",
       "      <td>2.500595</td>\n",
       "      <td>-2.148301</td>\n",
       "    </tr>\n",
       "    <tr>\n",
       "      <th>1</th>\n",
       "      <td>0.166062</td>\n",
       "      <td>-3.026215</td>\n",
       "      <td>3.329066</td>\n",
       "      <td>-2.245681</td>\n",
       "      <td>3.876053</td>\n",
       "      <td>1.405968</td>\n",
       "      <td>2.986384</td>\n",
       "      <td>-0.287915</td>\n",
       "      <td>-3.368535</td>\n",
       "      <td>-2.909355</td>\n",
       "      <td>...</td>\n",
       "      <td>-0.290124</td>\n",
       "      <td>-3.468650</td>\n",
       "      <td>-1.564771</td>\n",
       "      <td>-4.520796</td>\n",
       "      <td>-0.990816</td>\n",
       "      <td>0.928152</td>\n",
       "      <td>-2.680341</td>\n",
       "      <td>3.439668</td>\n",
       "      <td>1.754520</td>\n",
       "      <td>-1.498451</td>\n",
       "    </tr>\n",
       "    <tr>\n",
       "      <th>2</th>\n",
       "      <td>0.166062</td>\n",
       "      <td>-2.762139</td>\n",
       "      <td>3.791383</td>\n",
       "      <td>-3.649476</td>\n",
       "      <td>4.333453</td>\n",
       "      <td>1.372062</td>\n",
       "      <td>2.576458</td>\n",
       "      <td>0.693908</td>\n",
       "      <td>-3.928359</td>\n",
       "      <td>-3.704039</td>\n",
       "      <td>...</td>\n",
       "      <td>0.978236</td>\n",
       "      <td>-2.510495</td>\n",
       "      <td>-1.763300</td>\n",
       "      <td>-4.212434</td>\n",
       "      <td>-1.672777</td>\n",
       "      <td>3.060937</td>\n",
       "      <td>0.024455</td>\n",
       "      <td>3.594381</td>\n",
       "      <td>4.413432</td>\n",
       "      <td>0.637434</td>\n",
       "    </tr>\n",
       "    <tr>\n",
       "      <th>3</th>\n",
       "      <td>0.166062</td>\n",
       "      <td>-2.438194</td>\n",
       "      <td>2.659414</td>\n",
       "      <td>-1.806451</td>\n",
       "      <td>3.559446</td>\n",
       "      <td>1.422077</td>\n",
       "      <td>2.472777</td>\n",
       "      <td>-0.351289</td>\n",
       "      <td>-4.097697</td>\n",
       "      <td>-3.082694</td>\n",
       "      <td>...</td>\n",
       "      <td>-0.578877</td>\n",
       "      <td>-3.605629</td>\n",
       "      <td>-1.950626</td>\n",
       "      <td>-3.616889</td>\n",
       "      <td>-1.389075</td>\n",
       "      <td>2.071715</td>\n",
       "      <td>-1.127643</td>\n",
       "      <td>3.250048</td>\n",
       "      <td>3.640568</td>\n",
       "      <td>-2.186899</td>\n",
       "    </tr>\n",
       "    <tr>\n",
       "      <th>4</th>\n",
       "      <td>0.166062</td>\n",
       "      <td>-3.669381</td>\n",
       "      <td>4.273285</td>\n",
       "      <td>-3.747515</td>\n",
       "      <td>4.204772</td>\n",
       "      <td>1.995254</td>\n",
       "      <td>3.204241</td>\n",
       "      <td>1.100874</td>\n",
       "      <td>-4.601164</td>\n",
       "      <td>-3.066736</td>\n",
       "      <td>...</td>\n",
       "      <td>1.336951</td>\n",
       "      <td>-2.050793</td>\n",
       "      <td>-2.388301</td>\n",
       "      <td>-3.462346</td>\n",
       "      <td>-1.528717</td>\n",
       "      <td>3.837492</td>\n",
       "      <td>-0.058121</td>\n",
       "      <td>3.779824</td>\n",
       "      <td>5.000897</td>\n",
       "      <td>0.274160</td>\n",
       "    </tr>\n",
       "  </tbody>\n",
       "</table>\n",
       "<p>5 rows × 101 columns</p>\n",
       "</div>"
      ],
      "text/plain": [
       "        0         1         2         3         4         5         6     \n",
       "0  0.166062 -1.770027  2.451538 -1.687452  3.616524  0.671952  1.866495  \\\n",
       "1  0.166062 -3.026215  3.329066 -2.245681  3.876053  1.405968  2.986384   \n",
       "2  0.166062 -2.762139  3.791383 -3.649476  4.333453  1.372062  2.576458   \n",
       "3  0.166062 -2.438194  2.659414 -1.806451  3.559446  1.422077  2.472777   \n",
       "4  0.166062 -3.669381  4.273285 -3.747515  4.204772  1.995254  3.204241   \n",
       "\n",
       "        7         8         9    ...       91        92        93        94    \n",
       "0 -0.517149 -3.225906 -2.777514  ... -1.236252 -2.950074 -2.437028 -3.341035  \\\n",
       "1 -0.287915 -3.368535 -2.909355  ... -0.290124 -3.468650 -1.564771 -4.520796   \n",
       "2  0.693908 -3.928359 -3.704039  ...  0.978236 -2.510495 -1.763300 -4.212434   \n",
       "3 -0.351289 -4.097697 -3.082694  ... -0.578877 -3.605629 -1.950626 -3.616889   \n",
       "4  1.100874 -4.601164 -3.066736  ...  1.336951 -2.050793 -2.388301 -3.462346   \n",
       "\n",
       "        95        96        97        98        99        100  \n",
       "0 -1.212610  1.726865 -1.526711  3.256115  2.500595 -2.148301  \n",
       "1 -0.990816  0.928152 -2.680341  3.439668  1.754520 -1.498451  \n",
       "2 -1.672777  3.060937  0.024455  3.594381  4.413432  0.637434  \n",
       "3 -1.389075  2.071715 -1.127643  3.250048  3.640568 -2.186899  \n",
       "4 -1.528717  3.837492 -0.058121  3.779824  5.000897  0.274160  \n",
       "\n",
       "[5 rows x 101 columns]"
      ]
     },
     "execution_count": 9,
     "metadata": {},
     "output_type": "execute_result"
    }
   ],
   "source": [
    "all_features = pd.concat([features, df_protvec], axis=1, ignore_index=True)\n",
    "all_features.head()"
   ]
  },
  {
   "cell_type": "code",
   "execution_count": 14,
   "id": "6e2f3863",
   "metadata": {},
   "outputs": [],
   "source": [
    "df_protvec = pd.concat([all_features, tm], axis=1, ignore_index=True)\n",
    "df_protvec.to_csv('protvec_500.csv', sep=';')"
   ]
  },
  {
   "cell_type": "code",
   "execution_count": 23,
   "id": "51f75eb6",
   "metadata": {},
   "outputs": [
    {
     "data": {
      "text/html": [
       "<div>\n",
       "<style scoped>\n",
       "    .dataframe tbody tr th:only-of-type {\n",
       "        vertical-align: middle;\n",
       "    }\n",
       "\n",
       "    .dataframe tbody tr th {\n",
       "        vertical-align: top;\n",
       "    }\n",
       "\n",
       "    .dataframe thead th {\n",
       "        text-align: right;\n",
       "    }\n",
       "</style>\n",
       "<table border=\"1\" class=\"dataframe\">\n",
       "  <thead>\n",
       "    <tr style=\"text-align: right;\">\n",
       "      <th></th>\n",
       "      <th>0</th>\n",
       "      <th>1</th>\n",
       "      <th>2</th>\n",
       "      <th>3</th>\n",
       "      <th>4</th>\n",
       "      <th>5</th>\n",
       "      <th>6</th>\n",
       "      <th>7</th>\n",
       "      <th>8</th>\n",
       "      <th>9</th>\n",
       "      <th>...</th>\n",
       "      <th>91</th>\n",
       "      <th>92</th>\n",
       "      <th>93</th>\n",
       "      <th>94</th>\n",
       "      <th>95</th>\n",
       "      <th>96</th>\n",
       "      <th>97</th>\n",
       "      <th>98</th>\n",
       "      <th>99</th>\n",
       "      <th>100</th>\n",
       "    </tr>\n",
       "  </thead>\n",
       "  <tbody>\n",
       "    <tr>\n",
       "      <th>249</th>\n",
       "      <td>0.166062</td>\n",
       "      <td>-1.955521</td>\n",
       "      <td>1.980818</td>\n",
       "      <td>-1.692644</td>\n",
       "      <td>3.530790</td>\n",
       "      <td>-0.468703</td>\n",
       "      <td>2.103383</td>\n",
       "      <td>-0.473587</td>\n",
       "      <td>-3.231770</td>\n",
       "      <td>-2.934083</td>\n",
       "      <td>...</td>\n",
       "      <td>-0.598397</td>\n",
       "      <td>-1.887601</td>\n",
       "      <td>-1.229858</td>\n",
       "      <td>-2.765120</td>\n",
       "      <td>-0.190271</td>\n",
       "      <td>1.405771</td>\n",
       "      <td>-1.011680</td>\n",
       "      <td>2.827641</td>\n",
       "      <td>2.392039</td>\n",
       "      <td>-1.906253</td>\n",
       "    </tr>\n",
       "    <tr>\n",
       "      <th>433</th>\n",
       "      <td>0.166062</td>\n",
       "      <td>-2.623287</td>\n",
       "      <td>3.155644</td>\n",
       "      <td>-2.263342</td>\n",
       "      <td>3.952992</td>\n",
       "      <td>0.380108</td>\n",
       "      <td>2.578228</td>\n",
       "      <td>-0.037079</td>\n",
       "      <td>-3.762863</td>\n",
       "      <td>-2.551483</td>\n",
       "      <td>...</td>\n",
       "      <td>-0.380895</td>\n",
       "      <td>-2.743888</td>\n",
       "      <td>-1.799927</td>\n",
       "      <td>-2.699869</td>\n",
       "      <td>-0.304260</td>\n",
       "      <td>2.115695</td>\n",
       "      <td>-1.162491</td>\n",
       "      <td>3.303124</td>\n",
       "      <td>3.660043</td>\n",
       "      <td>-2.095461</td>\n",
       "    </tr>\n",
       "    <tr>\n",
       "      <th>19</th>\n",
       "      <td>0.166062</td>\n",
       "      <td>-2.257396</td>\n",
       "      <td>2.209843</td>\n",
       "      <td>-1.905095</td>\n",
       "      <td>3.947902</td>\n",
       "      <td>-0.770687</td>\n",
       "      <td>2.140114</td>\n",
       "      <td>-0.180957</td>\n",
       "      <td>-2.426960</td>\n",
       "      <td>-2.787513</td>\n",
       "      <td>...</td>\n",
       "      <td>-1.115832</td>\n",
       "      <td>-2.893162</td>\n",
       "      <td>-0.835367</td>\n",
       "      <td>-2.743588</td>\n",
       "      <td>0.074952</td>\n",
       "      <td>1.145447</td>\n",
       "      <td>-1.641452</td>\n",
       "      <td>3.189325</td>\n",
       "      <td>2.282829</td>\n",
       "      <td>-2.739735</td>\n",
       "    </tr>\n",
       "    <tr>\n",
       "      <th>322</th>\n",
       "      <td>0.166062</td>\n",
       "      <td>-3.308273</td>\n",
       "      <td>3.249474</td>\n",
       "      <td>-2.113333</td>\n",
       "      <td>3.799110</td>\n",
       "      <td>0.530758</td>\n",
       "      <td>3.570764</td>\n",
       "      <td>0.310039</td>\n",
       "      <td>-3.489764</td>\n",
       "      <td>-2.845174</td>\n",
       "      <td>...</td>\n",
       "      <td>0.427208</td>\n",
       "      <td>-3.765435</td>\n",
       "      <td>-1.031944</td>\n",
       "      <td>-4.039499</td>\n",
       "      <td>-0.391722</td>\n",
       "      <td>0.695664</td>\n",
       "      <td>-3.400780</td>\n",
       "      <td>3.750440</td>\n",
       "      <td>1.553520</td>\n",
       "      <td>-1.533125</td>\n",
       "    </tr>\n",
       "    <tr>\n",
       "      <th>332</th>\n",
       "      <td>0.166062</td>\n",
       "      <td>-2.180665</td>\n",
       "      <td>3.251519</td>\n",
       "      <td>-2.640568</td>\n",
       "      <td>3.373183</td>\n",
       "      <td>-0.297852</td>\n",
       "      <td>3.216797</td>\n",
       "      <td>0.308134</td>\n",
       "      <td>-2.662451</td>\n",
       "      <td>-2.776222</td>\n",
       "      <td>...</td>\n",
       "      <td>0.295364</td>\n",
       "      <td>-2.046930</td>\n",
       "      <td>-1.222627</td>\n",
       "      <td>-2.456884</td>\n",
       "      <td>-0.486068</td>\n",
       "      <td>1.029647</td>\n",
       "      <td>-1.536350</td>\n",
       "      <td>3.794664</td>\n",
       "      <td>1.709927</td>\n",
       "      <td>-1.041035</td>\n",
       "    </tr>\n",
       "  </tbody>\n",
       "</table>\n",
       "<p>5 rows × 101 columns</p>\n",
       "</div>"
      ],
      "text/plain": [
       "          0         1         2         3         4         5         6     \n",
       "249  0.166062 -1.955521  1.980818 -1.692644  3.530790 -0.468703  2.103383  \\\n",
       "433  0.166062 -2.623287  3.155644 -2.263342  3.952992  0.380108  2.578228   \n",
       "19   0.166062 -2.257396  2.209843 -1.905095  3.947902 -0.770687  2.140114   \n",
       "322  0.166062 -3.308273  3.249474 -2.113333  3.799110  0.530758  3.570764   \n",
       "332  0.166062 -2.180665  3.251519 -2.640568  3.373183 -0.297852  3.216797   \n",
       "\n",
       "          7         8         9    ...       91        92        93    \n",
       "249 -0.473587 -3.231770 -2.934083  ... -0.598397 -1.887601 -1.229858  \\\n",
       "433 -0.037079 -3.762863 -2.551483  ... -0.380895 -2.743888 -1.799927   \n",
       "19  -0.180957 -2.426960 -2.787513  ... -1.115832 -2.893162 -0.835367   \n",
       "322  0.310039 -3.489764 -2.845174  ...  0.427208 -3.765435 -1.031944   \n",
       "332  0.308134 -2.662451 -2.776222  ...  0.295364 -2.046930 -1.222627   \n",
       "\n",
       "          94        95        96        97        98        99        100  \n",
       "249 -2.765120 -0.190271  1.405771 -1.011680  2.827641  2.392039 -1.906253  \n",
       "433 -2.699869 -0.304260  2.115695 -1.162491  3.303124  3.660043 -2.095461  \n",
       "19  -2.743588  0.074952  1.145447 -1.641452  3.189325  2.282829 -2.739735  \n",
       "322 -4.039499 -0.391722  0.695664 -3.400780  3.750440  1.553520 -1.533125  \n",
       "332 -2.456884 -0.486068  1.029647 -1.536350  3.794664  1.709927 -1.041035  \n",
       "\n",
       "[5 rows x 101 columns]"
      ]
     },
     "execution_count": 23,
     "metadata": {},
     "output_type": "execute_result"
    }
   ],
   "source": [
    "X, X_true, y, y_true = train_test_split(all_features, tm, test_size=0.2, random_state=42)\n",
    "X.head()\n"
   ]
  },
  {
   "attachments": {},
   "cell_type": "markdown",
   "id": "a38a391b",
   "metadata": {},
   "source": [
    "## Линейная модель"
   ]
  },
  {
   "cell_type": "code",
   "execution_count": 17,
   "id": "5bfb62e7",
   "metadata": {},
   "outputs": [
    {
     "name": "stdout",
     "output_type": "stream",
     "text": [
      "                            OLS Regression Results                            \n",
      "==============================================================================\n",
      "Dep. Variable:                     tm   R-squared:                       0.416\n",
      "Model:                            OLS   Adj. R-squared:                  0.218\n",
      "Method:                 Least Squares   F-statistic:                     2.103\n",
      "Date:                Sun, 21 May 2023   Prob (F-statistic):           6.70e-07\n",
      "Time:                        04:24:00   Log-Likelihood:                -1392.5\n",
      "No. Observations:                 400   AIC:                             2989.\n",
      "Df Residuals:                     298   BIC:                             3396.\n",
      "Df Model:                         101                                         \n",
      "Covariance Type:            nonrobust                                         \n",
      "==============================================================================\n",
      "                 coef    std err          t      P>|t|      [0.025      0.975]\n",
      "------------------------------------------------------------------------------\n",
      "const         16.2516    163.982      0.099      0.921    -306.457     338.961\n",
      "0              4.7066      1.391      3.383      0.001       1.969       7.444\n",
      "1            -13.8656     24.428     -0.568      0.571     -61.939      34.208\n",
      "2             70.3840     23.286      3.023      0.003      24.557     116.211\n",
      "3             22.7189     22.466      1.011      0.313     -21.493      66.931\n",
      "4            -24.5064     22.917     -1.069      0.286     -69.606      20.593\n",
      "5             76.9790     25.437      3.026      0.003      26.920     127.038\n",
      "6            -20.3560     21.701     -0.938      0.349     -63.062      22.350\n",
      "7             -0.1647     20.576     -0.008      0.994     -40.658      40.329\n",
      "8             18.0367     19.742      0.914      0.362     -20.815      56.889\n",
      "9            -72.5032     23.109     -3.137      0.002    -117.981     -27.025\n",
      "10            36.4959     18.939      1.927      0.055      -0.775      73.767\n",
      "11           -53.6731     27.109     -1.980      0.049    -107.022      -0.324\n",
      "12            18.4489     19.337      0.954      0.341     -19.605      56.503\n",
      "13            -2.8822     20.116     -0.143      0.886     -42.471      36.706\n",
      "14            21.3605     21.822      0.979      0.328     -21.584      64.305\n",
      "15             5.0154     20.727      0.242      0.809     -35.775      45.806\n",
      "16           -31.0637     21.951     -1.415      0.158     -74.262      12.135\n",
      "17           -65.4301     21.713     -3.013      0.003    -108.161     -22.699\n",
      "18             9.8915     19.190      0.515      0.607     -27.873      47.656\n",
      "19            -6.0872     20.422     -0.298      0.766     -46.278      34.103\n",
      "20           -46.7308     24.409     -1.915      0.057     -94.766       1.304\n",
      "21            -7.2743     28.512     -0.255      0.799     -63.384      48.836\n",
      "22           -56.4847     26.835     -2.105      0.036    -109.294      -3.675\n",
      "23             5.7727     25.118      0.230      0.818     -43.659      55.205\n",
      "24           -31.5000     21.679     -1.453      0.147     -74.163      11.163\n",
      "25           -31.1777     24.594     -1.268      0.206     -79.577      17.222\n",
      "26            17.2897     24.501      0.706      0.481     -30.928      65.507\n",
      "27           -47.3608     22.274     -2.126      0.034     -91.196      -3.526\n",
      "28            -4.9835     22.005     -0.226      0.821     -48.288      38.321\n",
      "29           -14.2842     22.873     -0.624      0.533     -59.297      30.729\n",
      "30            13.2260     22.861      0.579      0.563     -31.763      58.215\n",
      "31            19.7334     26.178      0.754      0.452     -31.783      71.250\n",
      "32           -26.1460     22.299     -1.173      0.242     -70.029      17.737\n",
      "33            47.6541     21.549      2.211      0.028       5.246      90.062\n",
      "34             2.7484     24.842      0.111      0.912     -46.139      51.636\n",
      "35            16.0445     22.112      0.726      0.469     -27.470      59.559\n",
      "36           -48.5064     22.110     -2.194      0.029     -92.018      -4.995\n",
      "37            29.5019     22.608      1.305      0.193     -14.989      73.993\n",
      "38           -41.0913     24.233     -1.696      0.091     -88.782       6.599\n",
      "39           -35.5582     26.491     -1.342      0.181     -87.690      16.574\n",
      "40            11.5864     16.334      0.709      0.479     -20.559      43.732\n",
      "41           -26.8562     20.387     -1.317      0.189     -66.978      13.265\n",
      "42           -13.7313     21.817     -0.629      0.530     -56.666      29.203\n",
      "43            30.8196     22.061      1.397      0.163     -12.595      74.234\n",
      "44           -26.2372     21.449     -1.223      0.222     -68.448      15.974\n",
      "45           -21.9964     26.636     -0.826      0.410     -74.415      30.423\n",
      "46             8.3790     18.286      0.458      0.647     -27.607      44.365\n",
      "47             7.6109     23.323      0.326      0.744     -38.288      53.510\n",
      "48             5.1066     17.986      0.284      0.777     -30.288      40.501\n",
      "49            61.1566     24.823      2.464      0.014      12.305     110.008\n",
      "50            11.6210     22.680      0.512      0.609     -33.012      56.254\n",
      "51             1.2787     18.601      0.069      0.945     -35.328      37.885\n",
      "52            -2.5206     25.102     -0.100      0.920     -51.921      46.879\n",
      "53           -16.9779     17.390     -0.976      0.330     -51.200      17.244\n",
      "54            51.3326     24.226      2.119      0.035       3.656      99.009\n",
      "55            26.5796     17.429      1.525      0.128      -7.720      60.879\n",
      "56            10.0725     24.662      0.408      0.683     -38.461      58.606\n",
      "57           -10.3045     23.098     -0.446      0.656     -55.761      35.152\n",
      "58             1.7406     22.433      0.078      0.938     -42.406      45.887\n",
      "59            27.7889     24.570      1.131      0.259     -20.564      76.142\n",
      "60            -5.5109     22.858     -0.241      0.810     -50.495      39.473\n",
      "61            47.2465     25.529      1.851      0.065      -2.994      97.487\n",
      "62           -59.0403     19.325     -3.055      0.002     -97.071     -21.010\n",
      "63           -13.4750     21.579     -0.624      0.533     -55.942      28.992\n",
      "64            44.4561     24.688      1.801      0.073      -4.129      93.041\n",
      "65            42.8948     24.627      1.742      0.083      -5.571      91.360\n",
      "66            -7.2774     23.122     -0.315      0.753     -52.780      38.225\n",
      "67           -34.6866     21.138     -1.641      0.102     -76.286       6.913\n",
      "68            49.9181     25.522      1.956      0.051      -0.309     100.145\n",
      "69           -19.2830     21.773     -0.886      0.377     -62.132      23.566\n",
      "70           -32.2117     22.635     -1.423      0.156     -76.757      12.334\n",
      "71            13.3397     18.298      0.729      0.467     -22.669      49.349\n",
      "72            54.9452     24.103      2.280      0.023       7.512     102.379\n",
      "73           -22.5702     27.754     -0.813      0.417     -77.189      32.049\n",
      "74             9.7245     24.817      0.392      0.695     -39.114      58.563\n",
      "75           -26.9415     23.433     -1.150      0.251     -73.057      19.174\n",
      "76             1.6290     23.521      0.069      0.945     -44.659      47.917\n",
      "77            78.0438     23.085      3.381      0.001      32.614     123.474\n",
      "78           -39.0213     17.105     -2.281      0.023     -72.684      -5.359\n",
      "79           -16.6276     24.888     -0.668      0.505     -65.606      32.350\n",
      "80            45.5429     18.238      2.497      0.013       9.651      81.435\n",
      "81           -30.0793     23.717     -1.268      0.206     -76.753      16.594\n",
      "82             0.1671     18.709      0.009      0.993     -36.652      36.986\n",
      "83            11.0482     19.614      0.563      0.574     -27.551      49.648\n",
      "84            11.6870     21.910      0.533      0.594     -31.431      54.805\n",
      "85            59.1541     26.494      2.233      0.026       7.015     111.294\n",
      "86           -10.2860     22.775     -0.452      0.652     -55.107      34.535\n",
      "87            -2.0400     17.654     -0.116      0.908     -36.782      32.702\n",
      "88            13.6968     26.916      0.509      0.611     -39.273      66.667\n",
      "89           -46.1555     22.630     -2.040      0.042     -90.689      -1.622\n",
      "90           -23.0099     21.696     -1.061      0.290     -65.708      19.688\n",
      "91            -7.6043     19.083     -0.398      0.691     -45.159      29.950\n",
      "92            26.6199     18.403      1.447      0.149      -9.596      62.836\n",
      "93             2.0222     22.254      0.091      0.928     -41.772      45.816\n",
      "94           -15.2991     22.801     -0.671      0.503     -60.171      29.572\n",
      "95             1.4704     24.864      0.059      0.953     -47.460      50.401\n",
      "96           -27.3571     22.087     -1.239      0.216     -70.824      16.109\n",
      "97           -44.8348     25.843     -1.735      0.084     -95.692       6.022\n",
      "98             0.2939     25.099      0.012      0.991     -49.100      49.688\n",
      "99           -23.3935     20.978     -1.115      0.266     -64.677      17.890\n",
      "100          -78.9200     26.025     -3.032      0.003    -130.136     -27.704\n",
      "==============================================================================\n",
      "Omnibus:                       93.858   Durbin-Watson:                   1.851\n",
      "Prob(Omnibus):                  0.000   Jarque-Bera (JB):              221.110\n",
      "Skew:                           1.172   Prob(JB):                     9.69e-49\n",
      "Kurtosis:                       5.788   Cond. No.                     8.84e+03\n",
      "==============================================================================\n",
      "\n",
      "Notes:\n",
      "[1] Standard Errors assume that the covariance matrix of the errors is correctly specified.\n",
      "[2] The condition number is large, 8.84e+03. This might indicate that there are\n",
      "strong multicollinearity or other numerical problems.\n"
     ]
    }
   ],
   "source": [
    "X = sm.add_constant(X)\n",
    "model = sm.OLS(y, X)\n",
    "results = model.fit()\n",
    "\n",
    "print(results.summary());"
   ]
  },
  {
   "attachments": {},
   "cell_type": "markdown",
   "id": "4f516301",
   "metadata": {},
   "source": [
    "Результат и обсуждение.\n",
    "Модель объсняет лишь 42% дисперсии зависимой переменной (R2 = 0.42). Полученная модель на мой взгляд не пригодна.\n",
    "Так как время поджимает я перехожу на нейронку."
   ]
  },
  {
   "attachments": {},
   "cell_type": "markdown",
   "id": "9b441e7f",
   "metadata": {},
   "source": [
    "##  MLPRegressor\n",
    "Был выбрана модель многослойного перцептрона (MLP) для регрессии. MLPRegressor это нейронная сеть прямого распространения, состоящей из одного или нескольких скрытых слоев с нелинейными активационными функциями"
   ]
  },
  {
   "cell_type": "code",
   "execution_count": 9,
   "id": "39bbe945",
   "metadata": {},
   "outputs": [],
   "source": [
    "from sklearn.neural_network import MLPRegressor\n",
    "from sklearn.model_selection import train_test_split, KFold, \\\n",
    "    GroupKFold\n",
    "from scipy.stats import pearsonr, mode"
   ]
  },
  {
   "cell_type": "code",
   "execution_count": 10,
   "id": "f3d77550",
   "metadata": {},
   "outputs": [
    {
     "name": "stderr",
     "output_type": "stream",
     "text": [
      "/home/codespace/.local/lib/python3.10/site-packages/sklearn/neural_network/_multilayer_perceptron.py:686: ConvergenceWarning: Stochastic Optimizer: Maximum iterations (200) reached and the optimization hasn't converged yet.\n",
      "  warnings.warn(\n",
      "/home/codespace/.local/lib/python3.10/site-packages/sklearn/neural_network/_multilayer_perceptron.py:686: ConvergenceWarning: Stochastic Optimizer: Maximum iterations (200) reached and the optimization hasn't converged yet.\n",
      "  warnings.warn(\n",
      "/home/codespace/.local/lib/python3.10/site-packages/sklearn/neural_network/_multilayer_perceptron.py:686: ConvergenceWarning: Stochastic Optimizer: Maximum iterations (200) reached and the optimization hasn't converged yet.\n",
      "  warnings.warn(\n",
      "/home/codespace/.local/lib/python3.10/site-packages/sklearn/neural_network/_multilayer_perceptron.py:686: ConvergenceWarning: Stochastic Optimizer: Maximum iterations (200) reached and the optimization hasn't converged yet.\n",
      "  warnings.warn(\n",
      "/home/codespace/.local/lib/python3.10/site-packages/sklearn/neural_network/_multilayer_perceptron.py:686: ConvergenceWarning: Stochastic Optimizer: Maximum iterations (200) reached and the optimization hasn't converged yet.\n",
      "  warnings.warn(\n",
      "/home/codespace/.local/lib/python3.10/site-packages/sklearn/neural_network/_multilayer_perceptron.py:686: ConvergenceWarning: Stochastic Optimizer: Maximum iterations (200) reached and the optimization hasn't converged yet.\n",
      "  warnings.warn(\n",
      "/home/codespace/.local/lib/python3.10/site-packages/sklearn/neural_network/_multilayer_perceptron.py:686: ConvergenceWarning: Stochastic Optimizer: Maximum iterations (200) reached and the optimization hasn't converged yet.\n",
      "  warnings.warn(\n",
      "/home/codespace/.local/lib/python3.10/site-packages/sklearn/neural_network/_multilayer_perceptron.py:686: ConvergenceWarning: Stochastic Optimizer: Maximum iterations (200) reached and the optimization hasn't converged yet.\n",
      "  warnings.warn(\n",
      "/home/codespace/.local/lib/python3.10/site-packages/sklearn/neural_network/_multilayer_perceptron.py:686: ConvergenceWarning: Stochastic Optimizer: Maximum iterations (200) reached and the optimization hasn't converged yet.\n",
      "  warnings.warn(\n",
      "/home/codespace/.local/lib/python3.10/site-packages/sklearn/neural_network/_multilayer_perceptron.py:686: ConvergenceWarning: Stochastic Optimizer: Maximum iterations (200) reached and the optimization hasn't converged yet.\n",
      "  warnings.warn(\n"
     ]
    }
   ],
   "source": [
    "predictions, truths = [], []\n",
    "seed=42\n",
    "for train_index, test_index in KFold(10).split(X, y):\n",
    "    X_train, X_test, y_train, y_test = X.iloc[train_index], X.iloc[test_index], y.iloc[train_index], y.iloc[test_index]\n",
    "\n",
    "    reg = MLPRegressor(hidden_layer_sizes=100, activation='relu', solver='adam', random_state=42)\n",
    "    reg.fit(X_train, y_train)\n",
    "    predictions += reg.predict(X_test).tolist()\n",
    "    truths += y_test.tolist()\n",
    "    \n"
   ]
  },
  {
   "cell_type": "code",
   "execution_count": 11,
   "id": "4c5d4ab3",
   "metadata": {},
   "outputs": [
    {
     "name": "stdout",
     "output_type": "stream",
     "text": [
      "Test correlation:  0.19165603772208112\n"
     ]
    }
   ],
   "source": [
    "print(\"Test correlation: \", pearsonr(truths, predictions)[0])"
   ]
  },
  {
   "cell_type": "code",
   "execution_count": 24,
   "id": "06c0a3db",
   "metadata": {},
   "outputs": [
    {
     "data": {
      "text/plain": [
       "<matplotlib.collections.PathCollection at 0x7f3eb9e3d780>"
      ]
     },
     "execution_count": 24,
     "metadata": {},
     "output_type": "execute_result"
    },
    {
     "data": {
      "image/png": "[encoded data removed]",
      "text/plain": [
       "<Figure size 640x480 with 1 Axes>"
      ]
     },
     "metadata": {},
     "output_type": "display_data"
    }
   ],
   "source": [
    "y_pred = reg.predict(X).tolist()\n",
    "x = list(range(len(y_pred)))\n",
    "\n",
    "plt.scatter(x, y_pred, color='blue')\n",
    "plt.scatter(x, y.to_list(), color='green')"
   ]
  },
  {
   "attachments": {},
   "cell_type": "markdown",
   "id": "be6aa202",
   "metadata": {},
   "source": [
    "Предсказанные значения находятся в пределах 40 и 70 градусов. Модель плохо предсказывает значения выше 60. Модель совсем плоха..."
   ]
  },
  {
   "attachments": {},
   "cell_type": "markdown",
   "id": "066102f0",
   "metadata": {},
   "source": [
    "## Попробуем с помощью Tensorflow построить\n",
    "Попробуем нормально сделать, чтобы было нормально и по красоте"
   ]
  },
  {
   "cell_type": "code",
   "execution_count": 167,
   "id": "22dc6a3f",
   "metadata": {},
   "outputs": [],
   "source": [
    "import torch\n",
    "import pandas as pd\n",
    "import numpy as np\n",
    "import matplotlib.pyplot as plt\n",
    "from torch import nn\n",
    "from sklearn.preprocessing import StandardScaler\n",
    "from sklearn.model_selection import train_test_split\n",
    "import torch.nn.functional as F\n",
    "import tensorflow as tf"
   ]
  },
  {
   "cell_type": "code",
   "execution_count": 168,
   "id": "40d9692b",
   "metadata": {},
   "outputs": [],
   "source": [
    "class Proteins(torch.utils.data.Dataset):\n",
    "  '''\n",
    "  Prepare the Proteins dataset for regression\n",
    "  '''\n",
    "\n",
    "  def __init__(self, X, y, scale_data=False):\n",
    "    if not torch.is_tensor(X) and not torch.is_tensor(y):\n",
    "      # Apply scaling if necessary\n",
    "      if scale_data:\n",
    "          X = StandardScaler().fit_transform(X)\n",
    "      self.X = torch.from_numpy(X)\n",
    "      self.y = torch.from_numpy(y)\n",
    "      \n",
    "\n",
    "  def __len__(self):\n",
    "      return len(self.X)\n",
    "  \n",
    "  def xncol(self):\n",
    "     return len(self[0][0])\n",
    "\n",
    "  def __getitem__(self, i):\n",
    "      return self.X[i], self.y[i]"
   ]
  },
  {
   "cell_type": "code",
   "execution_count": 179,
   "id": "6930e88f",
   "metadata": {},
   "outputs": [],
   "source": [
    "class MLP(nn.Module):\n",
    "  '''\n",
    "    Multilayer Perceptron for regression.\n",
    "  '''\n",
    "  def __init__(self):\n",
    "    super().__init__()\n",
    "    self.layers = nn.Sequential(\n",
    "      nn.Linear(101, 500),\n",
    "      nn.ReLU(),\n",
    "      nn.Linear(500, 250),\n",
    "      nn.ReLU(),\n",
    "      nn.Linear(250, 125),\n",
    "      nn.ReLU(),\n",
    "      nn.Linear(125, 64),\n",
    "      nn.ReLU(),\n",
    "      nn.Linear(64, 32),\n",
    "      nn.ReLU(),\n",
    "      nn.Linear(32, 1)\n",
    "    )\n",
    "\n",
    "\n",
    "  def forward(self, x):\n",
    "    '''\n",
    "      Forward pass\n",
    "    '''\n",
    "    return self.layers(x)"
   ]
  },
  {
   "cell_type": "code",
   "execution_count": 180,
   "id": "0784daec",
   "metadata": {},
   "outputs": [],
   "source": [
    "torch.manual_seed(42);"
   ]
  },
  {
   "cell_type": "code",
   "execution_count": 181,
   "id": "c910c2cc",
   "metadata": {},
   "outputs": [
    {
     "name": "stdout",
     "output_type": "stream",
     "text": [
      "400 100 400 100\n"
     ]
    }
   ],
   "source": [
    "df_protvec = pd.read_csv('protvec_500.csv', sep=\";\", index_col=0)\n",
    "X_train, X_test, y_train, y_test = train_test_split(np.array(df_protvec.iloc[:,:-1]),\n",
    "                                                    np.array(df_protvec.iloc[:,-1]), \n",
    "                                                    test_size=0.2, random_state=42)\n",
    "\n",
    "df_protvec_train = Proteins(X_train, y_train)\n",
    "df_protvec_test = Proteins(X_test, y_test)\n",
    "print(len(X_train), len(X_test), len(y_train), len(y_test))"
   ]
  },
  {
   "cell_type": "code",
   "execution_count": 182,
   "id": "046a93d3",
   "metadata": {},
   "outputs": [],
   "source": [
    "from torch.utils.data import DataLoader \n",
    "\n",
    "trainloader = DataLoader(df_protvec_train, batch_size=10, shuffle=True, num_workers=1)\n",
    "testloader = DataLoader(df_protvec_test, batch_size=10, shuffle=True, num_workers=1)"
   ]
  },
  {
   "cell_type": "code",
   "execution_count": 183,
   "id": "135e5e0b",
   "metadata": {},
   "outputs": [],
   "source": [
    "lr = 1e-4\n",
    "\n",
    "mlp = MLP()\n",
    "loss_function = nn.L1Loss()\n",
    "optimizer = torch.optim.Adam(mlp.parameters(), lr=lr)"
   ]
  },
  {
   "cell_type": "code",
   "execution_count": 184,
   "id": "2a1067bb",
   "metadata": {},
   "outputs": [
    {
     "name": "stderr",
     "output_type": "stream",
     "text": [
      "/home/codespace/.local/lib/python3.10/site-packages/torch/nn/modules/loss.py:101: UserWarning: Using a target size (torch.Size([10])) that is different to the input size (torch.Size([10, 1])). This will likely lead to incorrect results due to broadcasting. Please ensure they have the same size.\n",
      "  return F.l1_loss(input, target, reduction=self.reduction)\n"
     ]
    },
    {
     "name": "stdout",
     "output_type": "stream",
     "text": [
      "Epoch=20 loss=7.7943\n"
     ]
    }
   ],
   "source": [
    "n_epochs = 20\n",
    "loss_history = []\n",
    "mae_history = []\n",
    "\n",
    "for epoch in range(n_epochs):\n",
    "    epoch_loss = 0\n",
    "    for inputs, targets in trainloader:\n",
    "        inputs, targets = inputs.float(), targets.float()\n",
    "        optimizer.zero_grad() \n",
    "        outputs = mlp(inputs) \n",
    "        loss = loss_function(outputs, targets) \n",
    "        loss.backward()\n",
    "        optimizer.step() \n",
    "\n",
    "        epoch_loss += loss.item()\n",
    "\n",
    "    loss_history.append(epoch_loss/len(trainloader))\n",
    "\n",
    "\n",
    "print(f\"Epoch={epoch+1} loss={loss_history[epoch]:.4f}\")"
   ]
  },
  {
   "cell_type": "code",
   "execution_count": 185,
   "id": "7eea05ae",
   "metadata": {},
   "outputs": [
    {
     "data": {
      "image/png": "[encoded data removed]",
      "text/plain": [
       "<Figure size 640x480 with 1 Axes>"
      ]
     },
     "metadata": {},
     "output_type": "display_data"
    }
   ],
   "source": [
    "plt.plot(list(range(1,epoch+2)), loss_history)\n",
    "plt.show()"
   ]
  },
  {
   "cell_type": "code",
   "execution_count": null,
   "metadata": {},
   "outputs": [],
   "source": []
  },
  {
   "cell_type": "code",
   "execution_count": null,
   "id": "d8db69d8",
   "metadata": {},
   "outputs": [],
   "source": []
  },
  {
   "cell_type": "code",
   "execution_count": null,
   "id": "428a1362",
   "metadata": {},
   "outputs": [],
   "source": []
  }
 ],
 "metadata": {
  "kernelspec": {
   "display_name": "Python 3 (ipykernel)",
   "language": "python",
   "name": "python3"
  },
  "language_info": {
   "codemirror_mode": {
    "name": "ipython",
    "version": 3
   },
   "file_extension": ".py",
   "mimetype": "text/x-python",
   "name": "python",
   "nbconvert_exporter": "python",
   "pygments_lexer": "ipython3",
   "version": "3.10.4"
  }
 },
 "nbformat": 4,
 "nbformat_minor": 5
}
