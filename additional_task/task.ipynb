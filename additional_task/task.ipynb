{
 "cells": [
  {
   "attachments": {},
   "cell_type": "markdown",
   "id": "ae249cda-8598-421c-afd6-0443f2264511",
   "metadata": {},
   "source": [
    "# Задание\n",
    "\n",
    "Вам предстоит поработать с данными о стабильности белков (`tm`). Нужно по последовательности белка и по `pH` предсказывать стабильность. Так как это дополнительное задание, то комментариев и подробного плана не будет, вам нужно максимально показать свои знания и постараться добиться наилучшего качества.\n",
    "\n",
    "Небольшой план для начала:\n",
    "\n",
    "1. Провести небольшой EDA, найти возможные выбросы и понять, в чем может быть дело.\n",
    "2. Придумать, как закодировать аминокислотные последовательности в числовые векторы.\n",
    "3. Разделить данные на `train` и `test` (подумать над правильной стратегией разбиения).\n",
    "4. Используя кросс-вадидацию подобрать наилучшую модель на тренировочных данных.\n",
    "5. Обучить лучшую модель на всех тренировочных данных.\n",
    "5. Протестировать лучшую модель на тестовых данных.\n",
    "\n",
    "Оформить подробный отчет в виде ноутбука. Постарайтесь воспользоваться всеми техниками, которые мы прошли в курсе.\n",
    "\n",
    "*Так как текущее задание в довольно свободной форме, то четких критериев оценки нет. Если минимально проследовать вышеуказанным рекомендациям, то можно получить до **20 баллов**. Максимально за это задание можно получить **40***."
   ]
  },
  {
   "cell_type": "code",
   "execution_count": null,
   "id": "e5cebea5-2fce-4894-a4c0-f52e76a76fd2",
   "metadata": {
    "tags": []
   },
   "outputs": [],
   "source": [
    "import pandas as pd"
   ]
  },
  {
   "cell_type": "code",
   "execution_count": null,
   "id": "dceea717-649f-4bea-9317-0b0410e90e61",
   "metadata": {
    "tags": []
   },
   "outputs": [],
   "source": [
    "data_filename = \"data.csv\"\n",
    "data_path = data_filename"
   ]
  },
  {
   "cell_type": "code",
   "execution_count": null,
   "id": "5af9a82b-8df1-4dd6-b7c9-759b85dad89a",
   "metadata": {
    "tags": []
   },
   "outputs": [
    {
     "data": {
      "text/html": [
       "<div>\n",
       "<style scoped>\n",
       "    .dataframe tbody tr th:only-of-type {\n",
       "        vertical-align: middle;\n",
       "    }\n",
       "\n",
       "    .dataframe tbody tr th {\n",
       "        vertical-align: top;\n",
       "    }\n",
       "\n",
       "    .dataframe thead th {\n",
       "        text-align: right;\n",
       "    }\n",
       "</style>\n",
       "<table border=\"1\" class=\"dataframe\">\n",
       "  <thead>\n",
       "    <tr style=\"text-align: right;\">\n",
       "      <th></th>\n",
       "      <th>protein_sequence</th>\n",
       "      <th>pH</th>\n",
       "      <th>data_source</th>\n",
       "      <th>tm</th>\n",
       "    </tr>\n",
       "    <tr>\n",
       "      <th>seq_id</th>\n",
       "      <th></th>\n",
       "      <th></th>\n",
       "      <th></th>\n",
       "      <th></th>\n",
       "    </tr>\n",
       "  </thead>\n",
       "  <tbody>\n",
       "    <tr>\n",
       "      <th>0</th>\n",
       "      <td>AAAAKAAALALLGEAPEVVDIWLPAGWRQPFRVFRLERKGDGVLVG...</td>\n",
       "      <td>7.0</td>\n",
       "      <td>doi.org/10.1038/s41592-020-0801-4</td>\n",
       "      <td>75.7</td>\n",
       "    </tr>\n",
       "    <tr>\n",
       "      <th>1</th>\n",
       "      <td>AAADGEPLHNEEERAGAGQVGRSLPQESEEQRTGSRPRRRRDLGSR...</td>\n",
       "      <td>7.0</td>\n",
       "      <td>doi.org/10.1038/s41592-020-0801-4</td>\n",
       "      <td>50.5</td>\n",
       "    </tr>\n",
       "    <tr>\n",
       "      <th>2</th>\n",
       "      <td>AAAFSTPRATSYRILSSAGSGSTRADAPQVRRLHTTRDLLAKDYYA...</td>\n",
       "      <td>7.0</td>\n",
       "      <td>doi.org/10.1038/s41592-020-0801-4</td>\n",
       "      <td>40.5</td>\n",
       "    </tr>\n",
       "    <tr>\n",
       "      <th>3</th>\n",
       "      <td>AAASGLRTAIPAQPLRHLLQPAPRPCLRPFGLLSVRAGSARRSGLL...</td>\n",
       "      <td>7.0</td>\n",
       "      <td>doi.org/10.1038/s41592-020-0801-4</td>\n",
       "      <td>47.2</td>\n",
       "    </tr>\n",
       "    <tr>\n",
       "      <th>4</th>\n",
       "      <td>AAATKSGPRRQSQGASVRTFTPFYFLVEPVDTLSVRGSSVILNCSA...</td>\n",
       "      <td>7.0</td>\n",
       "      <td>doi.org/10.1038/s41592-020-0801-4</td>\n",
       "      <td>49.5</td>\n",
       "    </tr>\n",
       "  </tbody>\n",
       "</table>\n",
       "</div>"
      ],
      "text/plain": [
       "                                         protein_sequence   pH   \n",
       "seq_id                                                           \n",
       "0       AAAAKAAALALLGEAPEVVDIWLPAGWRQPFRVFRLERKGDGVLVG...  7.0  \\\n",
       "1       AAADGEPLHNEEERAGAGQVGRSLPQESEEQRTGSRPRRRRDLGSR...  7.0   \n",
       "2       AAAFSTPRATSYRILSSAGSGSTRADAPQVRRLHTTRDLLAKDYYA...  7.0   \n",
       "3       AAASGLRTAIPAQPLRHLLQPAPRPCLRPFGLLSVRAGSARRSGLL...  7.0   \n",
       "4       AAATKSGPRRQSQGASVRTFTPFYFLVEPVDTLSVRGSSVILNCSA...  7.0   \n",
       "\n",
       "                              data_source    tm  \n",
       "seq_id                                           \n",
       "0       doi.org/10.1038/s41592-020-0801-4  75.7  \n",
       "1       doi.org/10.1038/s41592-020-0801-4  50.5  \n",
       "2       doi.org/10.1038/s41592-020-0801-4  40.5  \n",
       "3       doi.org/10.1038/s41592-020-0801-4  47.2  \n",
       "4       doi.org/10.1038/s41592-020-0801-4  49.5  "
      ]
     },
     "execution_count": 23,
     "metadata": {},
     "output_type": "execute_result"
    }
   ],
   "source": [
    "data = pd.read_csv(data_path, index_col=0)\n",
    "data.head()"
   ]
  },
  {
   "cell_type": "code",
   "execution_count": null,
   "id": "22d13e09-6dce-4e8d-ac57-61e4c667b0f0",
   "metadata": {
    "tags": []
   },
   "outputs": [
    {
     "data": {
      "text/plain": [
       "(31390, 4)"
      ]
     },
     "execution_count": 24,
     "metadata": {},
     "output_type": "execute_result"
    }
   ],
   "source": [
    "data.shape"
   ]
  },
  {
   "cell_type": "code",
   "execution_count": null,
   "id": "240d295b-cd62-4a2e-bc9e-f88d7e38cbf6",
   "metadata": {
    "tags": []
   },
   "outputs": [
    {
     "name": "stdout",
     "output_type": "stream",
     "text": [
      "<class 'pandas.core.frame.DataFrame'>\n",
      "Index: 31390 entries, 0 to 31389\n",
      "Data columns (total 4 columns):\n",
      " #   Column            Non-Null Count  Dtype  \n",
      "---  ------            --------------  -----  \n",
      " 0   protein_sequence  31390 non-null  object \n",
      " 1   pH                31104 non-null  float64\n",
      " 2   data_source       28043 non-null  object \n",
      " 3   tm                31390 non-null  float64\n",
      "dtypes: float64(2), object(2)\n",
      "memory usage: 1.2+ MB\n"
     ]
    }
   ],
   "source": [
    "data.info()\n"
   ]
  },
  {
   "attachments": {},
   "cell_type": "markdown",
   "id": "9ae4f649",
   "metadata": {},
   "source": [
    "## EDA"
   ]
  },
  {
   "cell_type": "code",
   "execution_count": null,
   "id": "d91de2be",
   "metadata": {
    "tags": []
   },
   "outputs": [
    {
     "data": {
      "text/plain": [
       "protein_sequence       0\n",
       "pH                   286\n",
       "data_source         3347\n",
       "tm                     0\n",
       "dtype: int64"
      ]
     },
     "execution_count": 26,
     "metadata": {},
     "output_type": "execute_result"
    }
   ],
   "source": [
    "data.isna().sum()"
   ]
  },
  {
   "attachments": {},
   "cell_type": "markdown",
   "id": "ee19dbf9",
   "metadata": {},
   "source": [
    "В данных есть пропущенные значения. Значение pH напрямую влияет на стабильность белка, поэтому возьмем только данные для которых есть значения pH. "
   ]
  },
  {
   "cell_type": "code",
   "execution_count": null,
   "id": "0352638d",
   "metadata": {
    "tags": []
   },
   "outputs": [
    {
     "data": {
      "text/plain": [
       "array([ 7.  ,  5.  ,  7.5 ,   nan,  7.4 , 48.4 , 49.  , 55.6 ,  6.2 ,\n",
       "        5.5 ,  6.3 ,  2.  ,  8.5 ,  3.  ,  6.8 ,  6.4 ,  6.6 ,  6.7 ,\n",
       "        6.5 ,  4.5 ,  8.  ,  7.3 ,  7.2 ,  8.4 ,  8.1 ,  9.6 ,  5.9 ,\n",
       "        6.  ,  4.  ,  3.5 ,  4.2 ,  5.1 ,  3.6 ,  7.1 ,  7.8 ,  9.  ,\n",
       "        3.2 ,  2.5 ,  2.8 ,  5.2 ,  5.4 ,  5.8 ,  7.7 ,  7.6 , 10.  ,\n",
       "        8.2 ,  2.7 ,  2.9 ,  3.1 , 64.9 ,  3.14,  2.53,  2.3 ,  2.2 ,\n",
       "        2.81,  8.25,  9.9 ,  9.5 , 10.4 ,  9.08,  8.7 ,  3.7 , 39.  ,\n",
       "        4.6 ,  4.4 ,  5.35,  5.7 ,  9.2 ,  5.38,  5.28,  6.9 ,  5.42,\n",
       "        5.3 ,  6.1 ,  9.7 ,  8.6 ,  4.8 ,  6.78,  5.31,  3.02,  4.9 ,\n",
       "        4.3 ,  5.45,  3.01,  3.3 ,  3.8 ,  2.4 ,  2.84,  2.34,  4.7 ,\n",
       "        2.1 ,  3.9 ,  2.02,  2.83,  2.03,  2.86,  1.99,  8.3 , 53.4 ,\n",
       "        3.16,  2.94,  9.75,  3.15,  3.07,  3.04,  3.25,  3.21,  2.98,\n",
       "        3.19,  4.1 ,  5.6 ,  3.75,  4.75,  4.25, 11.  , 10.3 ])"
      ]
     },
     "execution_count": 27,
     "metadata": {},
     "output_type": "execute_result"
    }
   ],
   "source": [
    "data.pH.unique()"
   ]
  },
  {
   "cell_type": "code",
   "execution_count": null,
   "id": "027862bb",
   "metadata": {
    "tags": []
   },
   "outputs": [
    {
     "data": {
      "text/plain": [
       "286"
      ]
     },
     "execution_count": 28,
     "metadata": {},
     "output_type": "execute_result"
    }
   ],
   "source": [
    "data1 = data.dropna(subset=['pH'])\n",
    "data.shape[0] - data1.shape[0]"
   ]
  },
  {
   "cell_type": "code",
   "execution_count": null,
   "id": "81530ce1",
   "metadata": {
    "tags": []
   },
   "outputs": [
    {
     "name": "stdout",
     "output_type": "stream",
     "text": [
      "                 pH            tm\n",
      "count  31104.000000  31104.000000\n",
      "mean       6.892339     49.150608\n",
      "std        1.612225     14.044705\n",
      "min        1.990000     -1.000000\n",
      "25%        7.000000     42.100000\n",
      "50%        7.000000     48.100000\n",
      "75%        7.000000     53.800000\n",
      "max       64.900000    130.000000\n"
     ]
    }
   ],
   "source": [
    "print(data1.describe())"
   ]
  },
  {
   "attachments": {},
   "cell_type": "markdown",
   "id": "fbc155ec",
   "metadata": {},
   "source": [
    "Интервал значений pH и Tm вызывает сомнения. \n",
    "* Интервал температуры плавления неожиданный. Не знаю метода исследования, могу предположить, что измерение проводилось в водной среде при нормальном давлении, поэтому отрицательные значения и значения выше 100 град. убираем. \n",
    "* pH может быть более 14, однако врядли в эксперименте с белками использовался настолько щелочной буффер. Поэтому будем учитывать значения pH до 14-ти.\n",
    "Беру на себя ответственность убрать экспериментальные данные с сомнительными параметрами."
   ]
  },
  {
   "cell_type": "code",
   "execution_count": null,
   "id": "cb808d7b",
   "metadata": {
    "tags": []
   },
   "outputs": [
    {
     "data": {
      "text/html": [
       "<div>\n",
       "<style scoped>\n",
       "    .dataframe tbody tr th:only-of-type {\n",
       "        vertical-align: middle;\n",
       "    }\n",
       "\n",
       "    .dataframe tbody tr th {\n",
       "        vertical-align: top;\n",
       "    }\n",
       "\n",
       "    .dataframe thead th {\n",
       "        text-align: right;\n",
       "    }\n",
       "</style>\n",
       "<table border=\"1\" class=\"dataframe\">\n",
       "  <thead>\n",
       "    <tr style=\"text-align: right;\">\n",
       "      <th></th>\n",
       "      <th>pH</th>\n",
       "      <th>tm</th>\n",
       "    </tr>\n",
       "  </thead>\n",
       "  <tbody>\n",
       "    <tr>\n",
       "      <th>count</th>\n",
       "      <td>31067.000000</td>\n",
       "      <td>31067.000000</td>\n",
       "    </tr>\n",
       "    <tr>\n",
       "      <th>mean</th>\n",
       "      <td>6.850902</td>\n",
       "      <td>49.179206</td>\n",
       "    </tr>\n",
       "    <tr>\n",
       "      <th>std</th>\n",
       "      <td>0.859405</td>\n",
       "      <td>13.953180</td>\n",
       "    </tr>\n",
       "    <tr>\n",
       "      <th>min</th>\n",
       "      <td>1.990000</td>\n",
       "      <td>0.000000</td>\n",
       "    </tr>\n",
       "    <tr>\n",
       "      <th>25%</th>\n",
       "      <td>7.000000</td>\n",
       "      <td>42.100000</td>\n",
       "    </tr>\n",
       "    <tr>\n",
       "      <th>50%</th>\n",
       "      <td>7.000000</td>\n",
       "      <td>48.100000</td>\n",
       "    </tr>\n",
       "    <tr>\n",
       "      <th>75%</th>\n",
       "      <td>7.000000</td>\n",
       "      <td>53.800000</td>\n",
       "    </tr>\n",
       "    <tr>\n",
       "      <th>max</th>\n",
       "      <td>11.000000</td>\n",
       "      <td>99.000000</td>\n",
       "    </tr>\n",
       "  </tbody>\n",
       "</table>\n",
       "</div>"
      ],
      "text/plain": [
       "                 pH            tm\n",
       "count  31067.000000  31067.000000\n",
       "mean       6.850902     49.179206\n",
       "std        0.859405     13.953180\n",
       "min        1.990000      0.000000\n",
       "25%        7.000000     42.100000\n",
       "50%        7.000000     48.100000\n",
       "75%        7.000000     53.800000\n",
       "max       11.000000     99.000000"
      ]
     },
     "execution_count": 30,
     "metadata": {},
     "output_type": "execute_result"
    }
   ],
   "source": [
    "data2 = data1.drop(data1[(data1.pH > 14) | (data1.tm < 0) | (data1.tm > 100)].index)\n",
    "data2.describe()"
   ]
  },
  {
   "attachments": {},
   "cell_type": "markdown",
   "id": "99638fcb",
   "metadata": {},
   "source": [
    "Теперь значения параметров похожи на реальные."
   ]
  },
  {
   "cell_type": "code",
   "execution_count": null,
   "id": "0de7f863",
   "metadata": {
    "tags": []
   },
   "outputs": [
    {
     "data": {
      "image/png": "[encoded data removed]",
      "text/plain": [
       "<Figure size 500x1000 with 3 Axes>"
      ]
     },
     "metadata": {},
     "output_type": "display_data"
    }
   ],
   "source": [
    "import matplotlib.pyplot as plt\n",
    "\n",
    "fig, (ax0, ax1, ax2) = plt.subplots(3, 1, figsize=(5,10))\n",
    "ax0.set_title('pH histogramm')\n",
    "ax0.hist(data2.pH, bins=100)\n",
    "ax1.set_title('pH histogram with frequency lower than 700') \n",
    "ax1.hist(data2.pH, bins=100)\n",
    "ax1.set_ylim([0,700])\n",
    "ax2.set_title('Melting temperature histogram')\n",
    "ax2.hist(data2.tm, bins=100)\n",
    "plt.show()"
   ]
  },
  {
   "attachments": {},
   "cell_type": "markdown",
   "id": "074498cc",
   "metadata": {},
   "source": [
    "По гистограме видно что присутствует большое кол-во результатов при нейтральном pH (~7). Так же есть много наблюдений от 2 до 10. Думаю получится построить модель, которая хорошо сможет предказывать в этом регионе.\n",
    "Для температуры плавления, наблюдается две моды. Попробуем посмотреть на температуру плавления на белках при нейтральном pH."
   ]
  },
  {
   "cell_type": "code",
   "execution_count": null,
   "id": "4e1c63f9-e0b5-479c-b668-9da936731b56",
   "metadata": {
    "tags": []
   },
   "outputs": [
    {
     "data": {
      "text/html": [
       "<div>\n",
       "<style scoped>\n",
       "    .dataframe tbody tr th:only-of-type {\n",
       "        vertical-align: middle;\n",
       "    }\n",
       "\n",
       "    .dataframe tbody tr th {\n",
       "        vertical-align: top;\n",
       "    }\n",
       "\n",
       "    .dataframe thead th {\n",
       "        text-align: right;\n",
       "    }\n",
       "</style>\n",
       "<table border=\"1\" class=\"dataframe\">\n",
       "  <thead>\n",
       "    <tr style=\"text-align: right;\">\n",
       "      <th></th>\n",
       "      <th>pH</th>\n",
       "      <th>tm</th>\n",
       "    </tr>\n",
       "  </thead>\n",
       "  <tbody>\n",
       "    <tr>\n",
       "      <th>count</th>\n",
       "      <td>27641.000000</td>\n",
       "      <td>27641.000000</td>\n",
       "    </tr>\n",
       "    <tr>\n",
       "      <th>mean</th>\n",
       "      <td>7.011829</td>\n",
       "      <td>49.722463</td>\n",
       "    </tr>\n",
       "    <tr>\n",
       "      <th>std</th>\n",
       "      <td>0.089409</td>\n",
       "      <td>13.149867</td>\n",
       "    </tr>\n",
       "    <tr>\n",
       "      <th>min</th>\n",
       "      <td>6.500000</td>\n",
       "      <td>0.000000</td>\n",
       "    </tr>\n",
       "    <tr>\n",
       "      <th>25%</th>\n",
       "      <td>7.000000</td>\n",
       "      <td>42.700000</td>\n",
       "    </tr>\n",
       "    <tr>\n",
       "      <th>50%</th>\n",
       "      <td>7.000000</td>\n",
       "      <td>48.100000</td>\n",
       "    </tr>\n",
       "    <tr>\n",
       "      <th>75%</th>\n",
       "      <td>7.000000</td>\n",
       "      <td>53.400000</td>\n",
       "    </tr>\n",
       "    <tr>\n",
       "      <th>max</th>\n",
       "      <td>7.500000</td>\n",
       "      <td>99.000000</td>\n",
       "    </tr>\n",
       "  </tbody>\n",
       "</table>\n",
       "</div>"
      ],
      "text/plain": [
       "                 pH            tm\n",
       "count  27641.000000  27641.000000\n",
       "mean       7.011829     49.722463\n",
       "std        0.089409     13.149867\n",
       "min        6.500000      0.000000\n",
       "25%        7.000000     42.700000\n",
       "50%        7.000000     48.100000\n",
       "75%        7.000000     53.400000\n",
       "max        7.500000     99.000000"
      ]
     },
     "execution_count": 32,
     "metadata": {},
     "output_type": "execute_result"
    },
    {
     "data": {
      "image/png": "[encoded data removed]",
      "text/plain": [
       "<Figure size 640x480 with 2 Axes>"
      ]
     },
     "metadata": {},
     "output_type": "display_data"
    }
   ],
   "source": [
    "data3 = data2.drop(data2[(data2.pH < 6.5) | (data2.pH > 7.5)].index)\n",
    "data3.hist()\n",
    "data3.describe()"
   ]
  },
  {
   "attachments": {},
   "cell_type": "markdown",
   "id": "145920c5",
   "metadata": {},
   "source": [
    "Один пик наблюдается при нейтральном pH. Проверем при каком pH наблюдается второй."
   ]
  },
  {
   "cell_type": "code",
   "execution_count": null,
   "id": "2b9235cd",
   "metadata": {
    "tags": []
   },
   "outputs": [
    {
     "data": {
      "text/html": [
       "<div>\n",
       "<style scoped>\n",
       "    .dataframe tbody tr th:only-of-type {\n",
       "        vertical-align: middle;\n",
       "    }\n",
       "\n",
       "    .dataframe tbody tr th {\n",
       "        vertical-align: top;\n",
       "    }\n",
       "\n",
       "    .dataframe thead th {\n",
       "        text-align: right;\n",
       "    }\n",
       "</style>\n",
       "<table border=\"1\" class=\"dataframe\">\n",
       "  <thead>\n",
       "    <tr style=\"text-align: right;\">\n",
       "      <th></th>\n",
       "      <th>pH</th>\n",
       "      <th>tm</th>\n",
       "    </tr>\n",
       "  </thead>\n",
       "  <tbody>\n",
       "    <tr>\n",
       "      <th>count</th>\n",
       "      <td>1523.000000</td>\n",
       "      <td>1523.000000</td>\n",
       "    </tr>\n",
       "    <tr>\n",
       "      <th>mean</th>\n",
       "      <td>6.390164</td>\n",
       "      <td>24.977938</td>\n",
       "    </tr>\n",
       "    <tr>\n",
       "      <th>std</th>\n",
       "      <td>1.573140</td>\n",
       "      <td>0.201503</td>\n",
       "    </tr>\n",
       "    <tr>\n",
       "      <th>min</th>\n",
       "      <td>2.000000</td>\n",
       "      <td>23.000000</td>\n",
       "    </tr>\n",
       "    <tr>\n",
       "      <th>25%</th>\n",
       "      <td>5.500000</td>\n",
       "      <td>25.000000</td>\n",
       "    </tr>\n",
       "    <tr>\n",
       "      <th>50%</th>\n",
       "      <td>7.000000</td>\n",
       "      <td>25.000000</td>\n",
       "    </tr>\n",
       "    <tr>\n",
       "      <th>75%</th>\n",
       "      <td>7.400000</td>\n",
       "      <td>25.000000</td>\n",
       "    </tr>\n",
       "    <tr>\n",
       "      <th>max</th>\n",
       "      <td>9.000000</td>\n",
       "      <td>26.000000</td>\n",
       "    </tr>\n",
       "  </tbody>\n",
       "</table>\n",
       "</div>"
      ],
      "text/plain": [
       "                pH           tm\n",
       "count  1523.000000  1523.000000\n",
       "mean      6.390164    24.977938\n",
       "std       1.573140     0.201503\n",
       "min       2.000000    23.000000\n",
       "25%       5.500000    25.000000\n",
       "50%       7.000000    25.000000\n",
       "75%       7.400000    25.000000\n",
       "max       9.000000    26.000000"
      ]
     },
     "execution_count": 33,
     "metadata": {},
     "output_type": "execute_result"
    },
    {
     "data": {
      "image/png": "[encoded data removed]",
      "text/plain": [
       "<Figure size 640x480 with 2 Axes>"
      ]
     },
     "metadata": {},
     "output_type": "display_data"
    }
   ],
   "source": [
    "data4 = data2.drop(data2[(data2.tm < 23) | (data2.tm > 26)].index)\n",
    "data4.hist()\n",
    "data4.describe()"
   ]
  },
  {
   "attachments": {},
   "cell_type": "markdown",
   "id": "9aa9f07b",
   "metadata": {},
   "source": [
    "Я хотел увидеть иное, но ожидаемый результат. второй пик тоже соответсвует нейтральному pH. Вимо дело в самой природе белка. Мб в длине первичной структры."
   ]
  },
  {
   "cell_type": "code",
   "execution_count": null,
   "id": "a969f101-7529-4cee-8ef4-8ba30fe9baf6",
   "metadata": {
    "tags": []
   },
   "outputs": [
    {
     "data": {
      "text/plain": [
       "Index(['protein_sequence', 'pH', 'data_source', 'tm'], dtype='object')"
      ]
     },
     "execution_count": 34,
     "metadata": {},
     "output_type": "execute_result"
    }
   ],
   "source": [
    "data3.columns"
   ]
  },
  {
   "cell_type": "code",
   "execution_count": 39,
   "id": "453abbc1-c9b9-46f5-b281-1e985d7941b1",
   "metadata": {
    "tags": []
   },
   "outputs": [
    {
     "name": "stdout",
     "output_type": "stream",
     "text": [
      "First peak\n",
      "470.1429760138924\n",
      "666.8817348661418\n",
      "Second peak\n",
      "503.06369008535785\n",
      "2267.1511592722545\n"
     ]
    }
   ],
   "source": [
    "print('First peak')\n",
    "print(data3['protein_sequence'].str.len().mean())\n",
    "print(data3['protein_sequence'].str.len().std())\n",
    "print('Second peak')\n",
    "print(data4['protein_sequence'].str.len().mean())\n",
    "print(data4['protein_sequence'].str.len().std())"
   ]
  },
  {
   "attachments": {},
   "cell_type": "markdown",
   "id": "4fc7386b-f5c9-416f-b39d-50320e94a60f",
   "metadata": {},
   "source": [
    "Нет. дело не в длине. Внутри групп они совсем разные встречаются ._. \n",
    "Пропустим этот вопрос, он второстепенный"
   ]
  },
  {
   "attachments": {},
   "cell_type": "markdown",
   "id": "2a5c46ff",
   "metadata": {},
   "source": [
    "## Encoding amino acids\n",
    "Есть несколько вариантов представить последовательность мномеров в числовом виде.\n",
    " * “one-hot encoding”\n",
    " * the BLOck SUbstitution Matrix (BLOSUM)\n",
    " * the principal components score Vectors of Hydrophobic, Steric, and Electronic properties (VHSE8).\n",
    "И есть много статей по сравнению и новым предложениям. Среди пары пакетов на питон нашел [seqvec](https://pypi.org/project/seqvec/) выглядит убедительно с 94-мя звездами. Попробуем его. "
   ]
  },
  {
   "attachments": {},
   "cell_type": "markdown",
   "id": "039a8f5c",
   "metadata": {},
   "source": []
  },
  {
   "cell_type": "code",
   "execution_count": 40,
   "id": "46be74b3-fec9-4c70-b7af-08078a1ed92c",
   "metadata": {},
   "outputs": [
    {
     "name": "stdout",
     "output_type": "stream",
     "text": [
      "Collecting bio-embeddings\n",
      "  Using cached bio_embeddings-0.1.6-py3-none-any.whl (73 kB)\n",
      "Collecting appdirs<2.0.0,>=1.4.4 (from bio-embeddings)\n",
      "  Using cached appdirs-1.4.4-py2.py3-none-any.whl (9.6 kB)\n",
      "Collecting biopython<2.0,>=1.76 (from bio-embeddings)\n",
      "  Using cached biopython-1.81-cp310-cp310-manylinux_2_17_x86_64.manylinux2014_x86_64.whl (3.1 MB)\n",
      "Collecting gensim<4.0.0,>=3.8.2 (from bio-embeddings)\n",
      "  Using cached gensim-3.8.3.tar.gz (23.4 MB)\n",
      "  Preparing metadata (setup.py) ... \u001b[?25ldone\n",
      "\u001b[?25hCollecting h5py<3.0.0,>=2.10.0 (from bio-embeddings)\n",
      "  Using cached h5py-2.10.0.tar.gz (301 kB)\n",
      "  Preparing metadata (setup.py) ... \u001b[?25ldone\n",
      "\u001b[?25hCollecting importlib_metadata<2.0.0,>=1.7.0 (from bio-embeddings)\n",
      "  Using cached importlib_metadata-1.7.0-py2.py3-none-any.whl (31 kB)\n",
      "INFO: pip is looking at multiple versions of bio-embeddings to determine which version is compatible with other requirements. This could take a while.\n",
      "Collecting bio-embeddings\n",
      "  Using cached bio_embeddings-0.1.5-py3-none-any.whl (72 kB)\n",
      "  Using cached bio_embeddings-0.1.4-py3-none-any.whl (84 kB)\n",
      "Collecting lock<2019.0.0,>=2018.3.25 (from bio-embeddings)\n",
      "  Using cached lock-2018.3.25.2110.tar.gz (3.0 kB)\n",
      "  Preparing metadata (setup.py) ... \u001b[?25ldone\n",
      "\u001b[?25hRequirement already satisfied: matplotlib<4.0.0,>=3.2.1 in /home/codespace/.local/lib/python3.10/site-packages (from bio-embeddings) (3.7.1)\n",
      "Requirement already satisfied: numpy<2.0.0,>=1.18.3 in /home/codespace/.local/lib/python3.10/site-packages (from bio-embeddings) (1.24.3)\n",
      "Collecting pandas<2.0.0,>=1.0.3 (from bio-embeddings)\n",
      "  Using cached pandas-1.5.3-cp310-cp310-manylinux_2_17_x86_64.manylinux2014_x86_64.whl (12.1 MB)\n",
      "Collecting plotly<5.0.0,>=4.6.0 (from bio-embeddings)\n",
      "  Using cached plotly-4.14.3-py2.py3-none-any.whl (13.2 MB)\n",
      "Collecting ruamel.yaml<0.17.0,>=0.16.10 (from bio-embeddings)\n",
      "  Using cached ruamel.yaml-0.16.13-py2.py3-none-any.whl (111 kB)\n",
      "Collecting scikit-learn<0.23.0,>=0.22.2.post1 (from bio-embeddings)\n",
      "  Using cached scikit-learn-0.22.2.post1.tar.gz (6.9 MB)\n",
      "  Preparing metadata (setup.py) ... \u001b[?25ldone\n",
      "\u001b[?25hRequirement already satisfied: scipy<2.0.0,>=1.4.1 in /home/codespace/.local/lib/python3.10/site-packages (from bio-embeddings) (1.10.1)\n",
      "Collecting bio-embeddings\n",
      "  Using cached bio_embeddings-0.1.3-py3-none-any.whl (73 kB)\n",
      "Collecting allennlp<0.10.0,>=0.9.0 (from bio-embeddings)\n",
      "  Using cached allennlp-0.9.0-py3-none-any.whl (7.6 MB)\n",
      "Collecting torch<2.0.0,>=1.5.0 (from bio-embeddings)\n",
      "  Downloading torch-1.13.1-cp310-cp310-manylinux1_x86_64.whl (887.5 MB)\n",
      "\u001b[2K     \u001b[91m━━━━━━━━━━━━\u001b[0m\u001b[91m╸\u001b[0m\u001b[90m━━━━━━━━━━━━━━━━━━━━━━━━\u001b[0m \u001b[32m307.6/887.5 MB\u001b[0m \u001b[31m150.4 MB/s\u001b[0m eta \u001b[36m0:00:04\u001b[0m\u001b[31mERROR: Could not install packages due to an OSError: [Errno 28] No space left on device\n",
      "\u001b[0m\u001b[31m\n",
      "\u001b[2K     \u001b[91m━━━━━━━━━━━━\u001b[0m\u001b[91m╸\u001b[0m\u001b[90m━━━━━━━━━━━━━━━━━━━━━━━━\u001b[0m \u001b[32m307.6/887.5 MB\u001b[0m \u001b[31m150.4 MB/s\u001b[0m eta \u001b[36m0:00:04\u001b[0m\n",
      "\u001b[?25h"
     ]
    }
   ],
   "source": [
    "! pip install bio-embeddings"
   ]
  },
  {
   "cell_type": "code",
   "execution_count": 41,
   "id": "ca4ed0bf",
   "metadata": {},
   "outputs": [
    {
     "name": "stdout",
     "output_type": "stream",
     "text": [
      "ERROR: unknown command \"bio_embeddings\"\n",
      "Note: you may need to restart the kernel to use updated packages.\n"
     ]
    }
   ],
   "source": [
    "pip bio_embeddings "
   ]
  },
  {
   "cell_type": "code",
   "execution_count": 42,
   "id": "7cc83238",
   "metadata": {},
   "outputs": [
    {
     "ename": "ModuleNotFoundError",
     "evalue": "No module named 'bio_embeddings'",
     "output_type": "error",
     "traceback": [
      "\u001b[0;31m---------------------------------------------------------------------------\u001b[0m",
      "\u001b[0;31mModuleNotFoundError\u001b[0m                       Traceback (most recent call last)",
      "Cell \u001b[0;32mIn[42], line 1\u001b[0m\n\u001b[0;32m----> 1\u001b[0m \u001b[39mfrom\u001b[39;00m \u001b[39mbio_embeddings\u001b[39;00m\u001b[39m.\u001b[39;00m\u001b[39membed\u001b[39;00m \u001b[39mimport\u001b[39;00m SeqVecEmbedder\n\u001b[1;32m      3\u001b[0m embedder \u001b[39m=\u001b[39m SeqVecEmbedder()\n\u001b[1;32m      5\u001b[0m embedding \u001b[39m=\u001b[39m embedder\u001b[39m.\u001b[39membed(\u001b[39m\"\u001b[39m\u001b[39mSEQVENCE\u001b[39m\u001b[39m\"\u001b[39m)\n",
      "\u001b[0;31mModuleNotFoundError\u001b[0m: No module named 'bio_embeddings'"
     ]
    }
   ],
   "source": [
    "from bio_embeddings.embed import SeqVecEmbedder\n",
    "\n",
    "embedder = SeqVecEmbedder()\n",
    "\n",
    "embedding = embedder.embed(\"SEQVENCE\")"
   ]
  },
  {
   "cell_type": "code",
   "execution_count": null,
   "id": "94ce4248",
   "metadata": {},
   "outputs": [],
   "source": []
  },
  {
   "cell_type": "code",
   "execution_count": null,
   "id": "8f9bec70",
   "metadata": {},
   "outputs": [],
   "source": []
  },
  {
   "cell_type": "code",
   "execution_count": null,
   "id": "fcbca161",
   "metadata": {},
   "outputs": [],
   "source": []
  },
  {
   "cell_type": "code",
   "execution_count": null,
   "id": "255c46de",
   "metadata": {},
   "outputs": [],
   "source": []
  },
  {
   "cell_type": "code",
   "execution_count": null,
   "id": "2deb8455",
   "metadata": {},
   "outputs": [],
   "source": []
  },
  {
   "cell_type": "code",
   "execution_count": null,
   "id": "502ad432",
   "metadata": {},
   "outputs": [],
   "source": []
  },
  {
   "cell_type": "code",
   "execution_count": null,
   "id": "42acfc74",
   "metadata": {},
   "outputs": [],
   "source": []
  },
  {
   "cell_type": "code",
   "execution_count": null,
   "id": "27d13d55",
   "metadata": {},
   "outputs": [],
   "source": []
  },
  {
   "cell_type": "code",
   "execution_count": null,
   "id": "360a7da4",
   "metadata": {},
   "outputs": [],
   "source": []
  },
  {
   "cell_type": "code",
   "execution_count": null,
   "id": "027184be",
   "metadata": {},
   "outputs": [],
   "source": []
  },
  {
   "cell_type": "code",
   "execution_count": null,
   "id": "ffb6ca79",
   "metadata": {},
   "outputs": [],
   "source": []
  },
  {
   "cell_type": "code",
   "execution_count": null,
   "id": "63ea3fbd",
   "metadata": {},
   "outputs": [],
   "source": []
  }
 ],
 "metadata": {
  "kernelspec": {
   "display_name": "Python 3 (ipykernel)",
   "language": "python",
   "name": "python3"
  },
  "language_info": {
   "codemirror_mode": {
    "name": "ipython",
    "version": 3
   },
   "file_extension": ".py",
   "mimetype": "text/x-python",
   "name": "python",
   "nbconvert_exporter": "python",
   "pygments_lexer": "ipython3",
   "version": "3.10.4"
  }
 },
 "nbformat": 4,
 "nbformat_minor": 5
}
